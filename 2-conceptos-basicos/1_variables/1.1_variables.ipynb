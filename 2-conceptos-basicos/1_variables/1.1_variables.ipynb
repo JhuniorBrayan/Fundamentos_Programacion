{
 "cells": [
  {
   "cell_type": "markdown",
   "metadata": {},
   "source": [
    "### 2. Conceptos Básicos\n",
    "\n",
    "# **1.1 Variables**\n",
    "\n",
    "Las variables son un concepto fundamental en la programación. Permiten almacenar datos y manipularlos en el código.\n",
    "\n",
    "Aunque en este documento usaremos Python, los principios son aplicables a otros lenguajes, solo cambia la sintaxis.\n",
    "\n",
    "## ¿Qué es una variable? 🤔\n",
    "Una variable es un espacio en la memoria que almacena un valor y tiene un nombre para identificarlo."
   ]
  },
  {
   "cell_type": "code",
   "execution_count": null,
   "metadata": {},
   "outputs": [],
   "source": [
    "# Declaración e inicialización de variables en Python:\n",
    "nombre = \"Juan\"  # Variable de tipo string\n",
    "edad = 25  # Variable de tipo entero\n",
    "altura = 1.75  # Variable de tipo flotante\n",
    "es_estudiante = True  # Variable de tipo booleano\n",
    "\n",
    "# En otros lenguajes, la sintaxis puede cambiar:\n",
    "# Java: int edad = 25;\n",
    "# C++: int edad = 25;\n",
    "\n",
    "print(\"nombre:\", nombre)\n",
    "print(\"edad:\", edad)\n",
    "print(\"altura:\", altura)\n",
    "print(\"es_estudiante:\", es_estudiante)"
   ]
  },
  {
   "cell_type": "markdown",
   "metadata": {},
   "source": [
    "\n",
    "## Alcance (Scope) de las variables 🌍\n",
    "\n",
    "El alcance de una variable se refiere a la parte del programa donde esa variable puede ser utilizada. En Python, el alcance de una variable está determinado por el lugar donde se declara.\n",
    "\n",
    "-Variables locales: Se declaran dentro de una función y solo pueden ser utilizadas dentro de esa función.\n",
    "\n",
    "-Variables globales: Se declaran fuera de cualquier función y pueden ser utilizadas en cualquier parte del programa."
   ]
  },
  {
   "cell_type": "code",
   "execution_count": null,
   "metadata": {},
   "outputs": [],
   "source": [
    "variable_global = \"¡Hola desde afuera!\"  # Variable global\n",
    "\n",
    "def mi_funcion():\n",
    "  variable_local = \"¡Hola desde adentro!\"  # Variable local\n",
    "  print(\"desde la función:\", variable_global)  # ✅ Podemos acceder a la variable global desde aquí\n",
    "  print(\"desde la función\", variable_local)  # ✅ Podemos acceder a la variable local desde aquí\n",
    "\n",
    "mi_funcion()\n",
    "\n",
    "print(variable_global)  # ✅ Podemos acceder a la variable global desde aquí\n",
    "# print(variable_local)  # ❌ ¡Error! No podemos acceder a la variable local desde aquí"
   ]
  },
  {
   "cell_type": "markdown",
   "metadata": {},
   "source": [
    "## Buenas prácticas ✅\n",
    "\n",
    "1. Usa nombres descriptivos: nombre_usuario en lugar de x. Los nombres descriptivos hacen que tu código sea más fácil de leer y entender.\n",
    "\n",
    "2. Sigue una convención: En Python, la convención para nombrar variables es snake_case (palabras separadas por guiones bajos). Por ejemplo: nombre_de_usuario, edad_del_cliente.\n",
    "\n",
    "3. Evita variables globales innecesarias: Las variables globales pueden hacer que tu código sea más difícil de mantener y depurar. Es mejor usar variables locales siempre que sea posible.\n",
    "\n",
    "**Ejemplos de declaración según convenciones**"
   ]
  },
  {
   "cell_type": "code",
   "execution_count": null,
   "metadata": {},
   "outputs": [],
   "source": [
    "# Snake case (Python)\n",
    "nombre_usuario = \"Ana\"\n",
    "edad_del_cliente = 25\n",
    "direccion_de_envio = \"Calle Falsa, 123\"\n",
    "\n",
    "# Camel case (JavaScript, Java)\n",
    "nombreUsuario = \"Ana\"\n",
    "edadDelCliente = 25\n",
    "direccionDeEnvio = \"Calle Falsa, 123\"\n",
    "\n",
    "\"\"\"\n",
    "# Kebab case (HTML, CSS) Python no permite guiones en las declaración de variable, interpretara el '-' como una resta \n",
    "nombre-usuario = \"Ana\"\n",
    "edad-del-cliente = 25 \n",
    "direccion-de-envio = \"Calle Falsa, 123\"\n",
    "\n",
    "\"\"\""
   ]
  },
  {
   "cell_type": "markdown",
   "metadata": {},
   "source": [
    "## Conclusión 🎯\n",
    "- Las variables almacenan datos y son esenciales en cualquier lenguaje de programación.\n",
    "- Python no requiere declarar el tipo de variable explícitamente, pero otros lenguajes sí.\n",
    "- El alcance de las variables determina dónde pueden ser usadas.\n",
    "- Seguir buenas prácticas mejora la legibilidad y mantenibilidad del código."
   ]
  }
 ],
 "metadata": {
  "kernelspec": {
   "display_name": "venvc",
   "language": "python",
   "name": "python3"
  },
  "language_info": {
   "codemirror_mode": {
    "name": "ipython",
    "version": 3
   },
   "file_extension": ".py",
   "mimetype": "text/x-python",
   "name": "python",
   "nbconvert_exporter": "python",
   "pygments_lexer": "ipython3",
   "version": "3.12.8"
  }
 },
 "nbformat": 4,
 "nbformat_minor": 2
}
