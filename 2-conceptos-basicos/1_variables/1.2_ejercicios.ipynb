{
 "cells": [
  {
   "cell_type": "markdown",
   "metadata": {},
   "source": [
    "## Ejercicios: Conceptos Básicos y Variables\n",
    "### Nivel 1: Introducción (Fácil)\n",
    "\n",
    "1. ¡Hola, mundo!: Escribe un programa que imprima en la pantalla el mensaje \"¡Hola, mundo!\"."
   ]
  },
  {
   "cell_type": "code",
   "execution_count": null,
   "metadata": {},
   "outputs": [],
   "source": []
  },
  {
   "cell_type": "markdown",
   "metadata": {},
   "source": [
    "2. Variables básicas: Declara dos variables, una para guardar tu nombre y otra para guardar tu edad. Luego, imprime un mensaje que combine ambas variables, por ejemplo: \"Mi nombre es {nombre} y tengo {edad} años\"."
   ]
  },
  {
   "cell_type": "code",
   "execution_count": null,
   "metadata": {},
   "outputs": [],
   "source": []
  },
  {
   "cell_type": "markdown",
   "metadata": {},
   "source": [
    "### Nivel 2: Operaciones Simples (Medio)\n",
    "\n",
    "3. Suma y resta: Declara dos variables con valores numéricos. Calcula la suma y la resta de ambas variables y guarda los resultados en nuevas variables. Imprime los resultados."
   ]
  },
  {
   "cell_type": "code",
   "execution_count": null,
   "metadata": {},
   "outputs": [],
   "source": []
  },
  {
   "cell_type": "markdown",
   "metadata": {},
   "source": [
    "4. Área de un rectángulo: Declara dos variables para guardar la base y la altura de un rectángulo. Calcula el área del rectángulo y guarda el resultado en una nueva variable. Imprime el área"
   ]
  },
  {
   "cell_type": "code",
   "execution_count": null,
   "metadata": {},
   "outputs": [],
   "source": []
  },
  {
   "cell_type": "markdown",
   "metadata": {},
   "source": [
    "## Nivel 3: Conversión de Tipos (Medio)\n",
    "5. Edad en días: Declara una variable para guardar tu edad en años. Calcula cuántos días has vivido aproximadamente (sin contar años bisiestos) y guarda el resultado en una nueva variable. Imprime el resultado."
   ]
  },
  {
   "cell_type": "code",
   "execution_count": null,
   "metadata": {},
   "outputs": [],
   "source": [
    "\n"
   ]
  },
  {
   "cell_type": "markdown",
   "metadata": {},
   "source": [
    "6. De string a número: Declara una variable con un valor numérico en formato de cadena (por ejemplo, \"25\"). Convierte esa cadena a un número entero y guarda el resultado en una nueva variable. Imprime el resultado."
   ]
  },
  {
   "cell_type": "code",
   "execution_count": null,
   "metadata": {},
   "outputs": [],
   "source": [
    "\n"
   ]
  },
  {
   "cell_type": "markdown",
   "metadata": {},
   "source": [
    "### Nivel 4: Desafíos Lógicos (Más Difícil)\n",
    "7. Número par o impar: Declara una variable con un valor numérico. Utiliza operadores lógicos para determinar si el número es par o impar. Imprime un mensaje que indique si el número es par o impar.\n"
   ]
  },
  {
   "cell_type": "code",
   "execution_count": null,
   "metadata": {},
   "outputs": [],
   "source": []
  },
  {
   "cell_type": "markdown",
   "metadata": {},
   "source": [
    "8. Comparación de edades: Declara dos variables para guardar las edades de dos personas. Utiliza operadores lógicos para determinar si la primera persona es mayor que la segunda. Imprime un mensaje que indique si la primera persona es mayor o no."
   ]
  },
  {
   "cell_type": "code",
   "execution_count": null,
   "metadata": {},
   "outputs": [],
   "source": [
    "\n"
   ]
  },
  {
   "cell_type": "markdown",
   "metadata": {},
   "source": [
    "### Nivel 5: Problemas de Lógica (Aún Más Difícil)\n",
    "9. Intercambio de variables: Declara dos variables con valores diferentes. Intercambia los valores de ambas variables sin utilizar una variable auxiliar."
   ]
  },
  {
   "cell_type": "code",
   "execution_count": null,
   "metadata": {},
   "outputs": [],
   "source": [
    "\n"
   ]
  },
  {
   "cell_type": "markdown",
   "metadata": {},
   "source": [
    "10. Raíces de una ecuación cuadrática: Declara tres variables para guardar los coeficientes de una ecuación cuadrática (a, b, c). Calcula las raíces de la ecuación cuadrática utilizando la fórmula general. Imprime las raíces."
   ]
  },
  {
   "cell_type": "code",
   "execution_count": null,
   "metadata": {},
   "outputs": [],
   "source": [
    "\n"
   ]
  },
  {
   "cell_type": "markdown",
   "metadata": {},
   "source": [
    "### Consejos Adicionales\n",
    "- ¡No te rindas! Si te atascas en un ejercicio, intenta dividir el problema en partes más pequeñas y abordarlas una por una.\n",
    "- ¡Investiga! Si no estás seguro de cómo hacer algo, busca en internet o consulta la documentación de tu lenguaje de programación.\n",
    "- ¡Practica! La mejor forma de aprender a programar es practicando. ¡Cuanto más practiques, mejor serás!\n",
    "\n",
    "¡Espero que estos ejercicios te sean útiles! Recuerda que lo más importante es divertirte y disfrutar del proceso de aprendizaje.  Si tienes alguna duda, no dudes en preguntar. ¡Mucho éxito en tu camino como programador!"
   ]
  }
 ],
 "metadata": {
  "kernelspec": {
   "display_name": "venvc",
   "language": "python",
   "name": "python3"
  },
  "language_info": {
   "codemirror_mode": {
    "name": "ipython",
    "version": 3
   },
   "file_extension": ".py",
   "mimetype": "text/x-python",
   "name": "python",
   "nbconvert_exporter": "python",
   "pygments_lexer": "ipython3",
   "version": "3.12.8"
  }
 },
 "nbformat": 4,
 "nbformat_minor": 2
}
