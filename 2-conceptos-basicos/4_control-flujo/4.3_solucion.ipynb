{
 "cells": [
  {
   "cell_type": "markdown",
   "metadata": {},
   "source": [
    "## Ejercicios: Conceptos Básicos y Control de Flujo\n",
    "### Nivel 1: Introducción (Fácil)\n",
    "1. if básico: Pide al usuario que ingrese un número. Si el número es positivo, imprime \"El número es positivo\"."
   ]
  },
  {
   "cell_type": "code",
   "execution_count": null,
   "metadata": {},
   "outputs": [],
   "source": [
    "numero = int(input(\"Ingrese un número: \"))\n",
    "\n",
    "if numero > 0:\n",
    "  print(\"El número es positivo\")"
   ]
  },
  {
   "cell_type": "markdown",
   "metadata": {},
   "source": [
    "2. if-else: Pide al usuario que ingrese un número. Si el número es positivo, imprime \"El número es positivo\". Si no, imprime \"El número es negativo o cero\"."
   ]
  },
  {
   "cell_type": "code",
   "execution_count": null,
   "metadata": {},
   "outputs": [],
   "source": [
    "numero = int(input(\"Ingrese un número: \"))\n",
    "\n",
    "if numero > 0:\n",
    "  print(\"El número es positivo\")\n",
    "else:\n",
    "  print(\"El número es negativo o cero\")"
   ]
  },
  {
   "cell_type": "markdown",
   "metadata": {},
   "source": [
    "### Nivel 2: Bucles Simples (Medio)\n",
    "3. for básico: Imprime los números del 1 al 10 utilizando un bucle for."
   ]
  },
  {
   "cell_type": "code",
   "execution_count": null,
   "metadata": {},
   "outputs": [],
   "source": [
    "for i in range(1, 11):\n",
    "  print(i)"
   ]
  },
  {
   "cell_type": "markdown",
   "metadata": {},
   "source": [
    "4. while básico: Imprime los números del 1 al 10 utilizando un bucle while."
   ]
  },
  {
   "cell_type": "code",
   "execution_count": null,
   "metadata": {},
   "outputs": [],
   "source": [
    "i = 1\n",
    "while i <= 10:\n",
    "  print(i)\n",
    "  i += 1"
   ]
  },
  {
   "cell_type": "markdown",
   "metadata": {},
   "source": [
    "### Nivel 3: Condiciones Múltiples (Medio)\n",
    "5. if-elif-else: Pide al usuario que ingrese un número. Si el número es positivo, imprime \"El número es positivo\". Si el número es negativo, imprime \"El número es negativo\". Si el número es cero, imprime \"El número es cero\"."
   ]
  },
  {
   "cell_type": "code",
   "execution_count": null,
   "metadata": {},
   "outputs": [],
   "source": [
    "numero = int(input(\"Ingrese un número: \"))\n",
    "\n",
    "if numero > 0:\n",
    "  print(\"El número es positivo\")\n",
    "elif numero < 0:\n",
    "  print(\"El número es negativo\")\n",
    "else:\n",
    "  print(\"El número es cero\")"
   ]
  },
  {
   "cell_type": "markdown",
   "metadata": {},
   "source": [
    "6. for con if: Imprime los números pares del 1 al 20 utilizando un bucle for y una condición if."
   ]
  },
  {
   "cell_type": "code",
   "execution_count": null,
   "metadata": {},
   "outputs": [],
   "source": [
    "for i in range(1, 21):\n",
    "  if i % 2 == 0:\n",
    "    print(i)"
   ]
  },
  {
   "cell_type": "markdown",
   "metadata": {},
   "source": [
    "### Nivel 4: Bucles Anidados (Más Difícil)\n",
    "7. Bucles anidados: Imprime una tabla de multiplicar del 1 al 10 utilizando dos bucles for anidados."
   ]
  },
  {
   "cell_type": "code",
   "execution_count": null,
   "metadata": {},
   "outputs": [],
   "source": [
    "for i in range(1, 11):\n",
    "  for j in range(1, 11):\n",
    "    print(i * j, end=\"\\t\")\n",
    "  print()"
   ]
  },
  {
   "cell_type": "markdown",
   "metadata": {},
   "source": [
    "8. while con break: Pide al usuario que ingrese números hasta que ingrese un número negativo. Cuando ingrese un número negativo, detén el bucle while con la instrucción break."
   ]
  },
  {
   "cell_type": "code",
   "execution_count": null,
   "metadata": {},
   "outputs": [],
   "source": [
    "while True:\n",
    "  numero = int(input(\"Ingrese un número (negativo para detener): \"))\n",
    "  if numero < 0:\n",
    "    break\n",
    "  print(\"Número ingresado:\", numero)"
   ]
  },
  {
   "cell_type": "markdown",
   "metadata": {},
   "source": [
    "## Nivel 5: Problemas de Lógica (Aún Más Difícil)\n",
    "9. Juego de adivinanzas: Genera un número aleatorio entre 1 y 100. Pide al usuario que adivine el número. Si el usuario adivina el número, imprime \"¡Correcto!\". Si no, imprime \"Incorrecto, intenta de nuevo\". Repite hasta que el usuario adivine el número."
   ]
  },
  {
   "cell_type": "code",
   "execution_count": null,
   "metadata": {},
   "outputs": [],
   "source": [
    "import random\n",
    "\n",
    "numero_secreto = random.randint(1, 100)\n",
    "while True:\n",
    "  intento = int(input(\"Adivina el número (entre 1 y 100): \"))\n",
    "  if intento == numero_secreto:\n",
    "    print(\"¡Correcto!\")\n",
    "    break\n",
    "  else:\n",
    "    print(\"Incorrecto, intenta de nuevo\")"
   ]
  },
  {
   "cell_type": "markdown",
   "metadata": {},
   "source": [
    "10. Números primos: Imprime los números primos del 1 al 100. Un número primo es aquel que solo es divisible por 1 y por sí mismo."
   ]
  },
  {
   "cell_type": "code",
   "execution_count": null,
   "metadata": {},
   "outputs": [],
   "source": [
    "def es_primo(numero):\n",
    "  if numero <= 1:\n",
    "    return False\n",
    "  for i in range(2, int(numero**0.5) + 1):\n",
    "    if numero % i == 0:\n",
    "      return False\n",
    "  return True\n",
    "\n",
    "for i in range(1, 101):\n",
    "  if es_primo(i):\n",
    "    print(i)"
   ]
  },
  {
   "cell_type": "markdown",
   "metadata": {},
   "source": [
    "### Consejos Adicionales\n",
    "- ¡No te rindas! Si te atascas en un ejercicio, intenta dividir el problema en partes más pequeñas y abordarlas una por una.\n",
    "- ¡Investiga! Si no estás seguro de cómo hacer algo, busca en internet o consulta la documentación de tu lenguaje de programación.\n",
    "- ¡Practica! La mejor forma de aprender a programar es practicando. ¡Cuanto más practiques, mejor serás!\n",
    "\n",
    "¡Espero que estos ejercicios te sean útiles! Recuerda que lo más importante es divertirte y disfrutar del proceso de aprendizaje.  Si tienes alguna duda, no dudes en preguntar. ¡Mucho éxito en tu camino como programador!"
   ]
  }
 ],
 "metadata": {
  "language_info": {
   "name": "python"
  }
 },
 "nbformat": 4,
 "nbformat_minor": 2
}
