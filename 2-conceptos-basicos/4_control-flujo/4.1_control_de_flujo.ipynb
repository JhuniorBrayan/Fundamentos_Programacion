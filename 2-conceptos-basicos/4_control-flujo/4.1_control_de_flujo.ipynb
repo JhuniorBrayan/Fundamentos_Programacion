{
 "cells": [
  {
   "cell_type": "markdown",
   "metadata": {},
   "source": [
    "## Conceptos Básicos \n",
    "\n",
    "# **Control de Flujo** 🚀\n",
    "\n",
    "El control de flujo es fundamental en cualquier lenguaje de programación, ya que permite decidir qué instrucciones ejecutar y en qué orden. En Python, el control de flujo se maneja mediante **estructuras condicionales** y **bucles**.\n",
    "\n",
    "---\n",
    "\n",
    "## 1️⃣ Condicionales 🔀\n",
    "Las estructuras condicionales permiten ejecutar bloques de código según ciertas condiciones.\n",
    "\n",
    "##### `if`, `elif`, `else`\n",
    "\n",
    "| Estructura  | Descripción |\n",
    "|------------|------------|\n",
    "| `if`       | Evalúa una condición y ejecuta el bloque de código si es `True`. |\n",
    "| `elif`     | Permite agregar condiciones adicionales si `if` no se cumple. |\n",
    "| `else`     | Se ejecuta si ninguna de las condiciones anteriores es `True`. |\n",
    "\n",
    "📌 **Ejemplo:**"
   ]
  },
  {
   "cell_type": "code",
   "execution_count": null,
   "metadata": {},
   "outputs": [],
   "source": [
    "# Condicionales \n",
    "\n",
    "edad = 18\n",
    "if edad < 18:\n",
    "    print(\"Eres menor de edad\")\n",
    "elif edad == 18:\n",
    "    print(\"Tienes 18 años\")\n",
    "else:\n",
    "    print(\"Eres mayor de edad\")\n"
   ]
  },
  {
   "cell_type": "markdown",
   "metadata": {},
   "source": [
    "---\n",
    "\n",
    "## 2️⃣ Bucles 🔄\n",
    "Los bucles permiten ejecutar un bloque de código varias veces.\n",
    "\n",
    "#### `for` 🔁\n",
    "Se usa para iterar sobre una secuencia (listas, tuplas, cadenas, etc.).\n",
    "\n",
    "📌 **Ejemplo:**"
   ]
  },
  {
   "cell_type": "code",
   "execution_count": null,
   "metadata": {},
   "outputs": [],
   "source": [
    "for i in range(5): # Imprime los numeros anteriores a 5\n",
    "    print(f\"Número: {i}\")  "
   ]
  },
  {
   "cell_type": "markdown",
   "metadata": {},
   "source": [
    "#### `while` 🔄\n",
    "Se ejecuta mientras una condición sea `True`.\n",
    "\n",
    "📌 **Ejemplo:**"
   ]
  },
  {
   "cell_type": "code",
   "execution_count": null,
   "metadata": {},
   "outputs": [],
   "source": [
    "contador = 0\n",
    "while contador < 5:\n",
    "    print(f\"Contador: {contador}\")\n",
    "    contador += 1\n"
   ]
  },
  {
   "cell_type": "code",
   "execution_count": null,
   "metadata": {},
   "outputs": [],
   "source": [
    "# Fibonacci series:\n",
    "# la suma de dos elementos define el siguiente\n",
    "\n",
    "a, b = 0, 1 \n",
    "while a < 100000:\n",
    "    print(a)\n",
    "    a, b = b, a+b\n",
    "\n",
    "\"\"\"\n",
    "Vamos a desglosarlo paso a paso para que quede claro:\n",
    "\n",
    "Tenemos la asignación simultánea:\n",
    "\n",
    "Python\n",
    "\n",
    "a, b = b, a + b\n",
    "Inicialmente, los valores son:\n",
    "\n",
    "a = 0\n",
    "b = 1\n",
    "Paso 1: Evaluación de la parte derecha\n",
    "\n",
    "Primero, se evalúa la parte derecha de la asignación: b, a + b\n",
    "En este momento, b es 1 y a + b es 0 + 1 = 1\n",
    "La parte derecha se evalúa como una tupla: (1, 1)\n",
    "Paso 2: Asignación a la parte izquierda\n",
    "\n",
    "La tupla (1, 1) se asigna a las variables de la izquierda, a y b, en orden:\n",
    "El primer valor de la tupla (1) se asigna a a\n",
    "El segundo valor de la tupla (1) se asigna a b\n",
    "Resultado:\n",
    "\n",
    "a toma el valor 1\n",
    "b toma el valor 1\n",
    "En resumen, la asignación simultánea a, b = b, a + b funciona de la siguiente manera:\n",
    "\n",
    "Se evalúa la parte derecha (b, a + b) utilizando los valores actuales de a y b.\n",
    "Los valores resultantes se asignan a las variables de la izquierda (a y b) simultáneamente.\n",
    "Este ejemplo es perfecto para ilustrar este proceso:\n",
    "\n",
    "a, b = 1, 0 + 1  \n",
    "a, b = 1, 1  \n",
    "¡Exactamente! a toma el valor 1 y b toma el valor 1.\n",
    "\"\"\"\n"
   ]
  },
  {
   "cell_type": "markdown",
   "metadata": {},
   "source": [
    "### `break` y `continue` ⏭️\n",
    "\n",
    "| Palabra clave | Descripción |\n",
    "|--------------|------------|\n",
    "| `break`      | Detiene completamente el bucle. |\n",
    "| `continue`   | Salta a la siguiente iteración sin ejecutar el resto del código en la iteración actual. |\n",
    "\n",
    "📌 **Ejemplo:**"
   ]
  },
  {
   "cell_type": "code",
   "execution_count": null,
   "metadata": {},
   "outputs": [],
   "source": [
    "\n",
    "for num in range(10):\n",
    "    if num == 5:\n",
    "        break  # Sale del bucle cuando num es 5\n",
    "    print(num)\n",
    "\n",
    "print(\"\\t\")\n",
    "\n",
    "for num in range(10):\n",
    "    if num == 5:\n",
    "        continue  # Salta la impresión cuando num es 5\n",
    "    print(num)\n",
    "\n",
    "print(\"\\t\")\n",
    "\n",
    "for num in range(5):\n",
    "    print(num)\n",
    "    if num == 3:\n",
    "        print(\"num == 3 es verdad\") # no se ejecuta hasta que la condición sea verdad\n",
    "        continue  # Salta la impresión cuando num es 5\n",
    "    else:\n",
    "        print(\"aun 'num == 3 es falso'\")"
   ]
  },
  {
   "cell_type": "markdown",
   "metadata": {},
   "source": [
    "---\n",
    "\n",
    "## 🔚 Conclusión\n",
    "El control de flujo permite tomar decisiones y repetir acciones en el código. Comprender bien estas estructuras es clave para escribir programas eficientes y organizados. 🚀💡"
   ]
  }
 ],
 "metadata": {
  "kernelspec": {
   "display_name": "venvc",
   "language": "python",
   "name": "python3"
  },
  "language_info": {
   "codemirror_mode": {
    "name": "ipython",
    "version": 3
   },
   "file_extension": ".py",
   "mimetype": "text/x-python",
   "name": "python",
   "nbconvert_exporter": "python",
   "pygments_lexer": "ipython3",
   "version": "3.12.8"
  }
 },
 "nbformat": 4,
 "nbformat_minor": 2
}
