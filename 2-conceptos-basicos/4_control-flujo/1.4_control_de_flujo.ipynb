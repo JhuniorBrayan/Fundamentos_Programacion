{
 "cells": [
  {
   "cell_type": "markdown",
   "metadata": {},
   "source": [
    "## 2 Conceptos Básicos \n",
    "\n",
    "# **Control de Flujo** 🚀\n",
    "\n",
    "El control de flujo es fundamental en cualquier lenguaje de programación, ya que permite decidir qué instrucciones ejecutar y en qué orden. En Python, el control de flujo se maneja mediante **estructuras condicionales** y **bucles**.\n",
    "\n",
    "---\n",
    "\n",
    "### 1️⃣ Condicionales 🔀\n",
    "Las estructuras condicionales permiten ejecutar bloques de código según ciertas condiciones.\n",
    "\n",
    "#### `if`, `elif`, `else`\n",
    "\n",
    "| Estructura  | Descripción |\n",
    "|------------|------------|\n",
    "| `if`       | Evalúa una condición y ejecuta el bloque de código si es `True`. |\n",
    "| `elif`     | Permite agregar condiciones adicionales si `if` no se cumple. |\n",
    "| `else`     | Se ejecuta si ninguna de las condiciones anteriores es `True`. |\n",
    "\n",
    "📌 **Ejemplo:**"
   ]
  },
  {
   "cell_type": "code",
   "execution_count": null,
   "metadata": {},
   "outputs": [],
   "source": [
    "# Condicionales \n",
    "\n",
    "edad = 18\n",
    "if edad < 18:\n",
    "    print(\"Eres menor de edad\")\n",
    "elif edad == 18:\n",
    "    print(\"Tienes 18 años\")\n",
    "else:\n",
    "    print(\"Eres mayor de edad\")\n"
   ]
  },
  {
   "cell_type": "markdown",
   "metadata": {},
   "source": [
    "---\n",
    "\n",
    "### 2️⃣ Bucles 🔄\n",
    "Los bucles permiten ejecutar un bloque de código varias veces.\n",
    "\n",
    "#### `for` 🔁\n",
    "Se usa para iterar sobre una secuencia (listas, tuplas, cadenas, etc.).\n",
    "\n",
    "📌 **Ejemplo:**"
   ]
  },
  {
   "cell_type": "code",
   "execution_count": null,
   "metadata": {},
   "outputs": [
    {
     "name": "stdout",
     "output_type": "stream",
     "text": [
      "Número: 0\n",
      "Número: 1\n",
      "Número: 2\n",
      "Número: 3\n",
      "Número: 4\n"
     ]
    }
   ],
   "source": [
    "for i in range(5): # Imprime los numeros anteriores a 5\n",
    "    print(f\"Número: {i}\")  "
   ]
  },
  {
   "cell_type": "markdown",
   "metadata": {},
   "source": [
    "### `while` 🔄\n",
    "Se ejecuta mientras una condición sea `True`.\n",
    "\n",
    "📌 **Ejemplo:**"
   ]
  },
  {
   "cell_type": "code",
   "execution_count": 2,
   "metadata": {},
   "outputs": [
    {
     "name": "stdout",
     "output_type": "stream",
     "text": [
      "Contador: 0\n",
      "Contador: 1\n",
      "Contador: 2\n",
      "Contador: 3\n",
      "Contador: 4\n"
     ]
    }
   ],
   "source": [
    "contador = 0\n",
    "while contador < 5:\n",
    "    print(f\"Contador: {contador}\")\n",
    "    contador += 1\n"
   ]
  },
  {
   "cell_type": "markdown",
   "metadata": {},
   "source": [
    "### `break` y `continue` ⏭️\n",
    "\n",
    "| Palabra clave | Descripción |\n",
    "|--------------|------------|\n",
    "| `break`      | Detiene completamente el bucle. |\n",
    "| `continue`   | Salta a la siguiente iteración sin ejecutar el resto del código en la iteración actual. |\n",
    "\n",
    "📌 **Ejemplo:**"
   ]
  },
  {
   "cell_type": "code",
   "execution_count": 17,
   "metadata": {},
   "outputs": [
    {
     "name": "stdout",
     "output_type": "stream",
     "text": [
      "0\n",
      "1\n",
      "2\n",
      "3\n",
      "4\n",
      "\t\n",
      "0\n",
      "1\n",
      "2\n",
      "3\n",
      "4\n",
      "6\n",
      "7\n",
      "8\n",
      "9\n",
      "\t\n",
      "0\n",
      "llegamos al número 5\n",
      "1\n",
      "llegamos al número 5\n",
      "2\n",
      "llegamos al número 5\n",
      "3\n",
      "llegamos al número 5\n",
      "4\n",
      "llegamos al número 5\n",
      "5\n",
      "6\n",
      "llegamos al número 5\n",
      "7\n",
      "llegamos al número 5\n",
      "8\n",
      "llegamos al número 5\n",
      "9\n",
      "llegamos al número 5\n"
     ]
    }
   ],
   "source": [
    "\n",
    "for num in range(10):\n",
    "    if num == 5:\n",
    "        break  # Sale del bucle cuando num es 5\n",
    "    print(num)\n",
    "\n",
    "print(\"\\t\")\n",
    "\n",
    "for num in range(10):\n",
    "    if num == 5:\n",
    "        continue  # Salta la impresión cuando num es 5\n",
    "    print(num)\n",
    "\n",
    "print(\"\\t\")\n",
    "\n",
    "for num in range(10):\n",
    "    print(num)\n",
    "    if num == 5:\n",
    "        continue  # Salta la impresión cuando num es 5\n",
    "    print(\"llegamos al número 5\")"
   ]
  },
  {
   "cell_type": "markdown",
   "metadata": {},
   "source": [
    "---\n",
    "\n",
    "## 🔚 Conclusión\n",
    "El control de flujo permite tomar decisiones y repetir acciones en el código. Comprender bien estas estructuras es clave para escribir programas eficientes y organizados. 🚀💡"
   ]
  }
 ],
 "metadata": {
  "kernelspec": {
   "display_name": "venvc",
   "language": "python",
   "name": "python3"
  },
  "language_info": {
   "codemirror_mode": {
    "name": "ipython",
    "version": 3
   },
   "file_extension": ".py",
   "mimetype": "text/x-python",
   "name": "python",
   "nbconvert_exporter": "python",
   "pygments_lexer": "ipython3",
   "version": "3.12.8"
  }
 },
 "nbformat": 4,
 "nbformat_minor": 2
}
