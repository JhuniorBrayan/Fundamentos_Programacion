{
 "cells": [
  {
   "cell_type": "markdown",
   "metadata": {},
   "source": [
    "## Conceptos Básicos\n",
    "\n",
    "# **📌 Funciones en Python**\n",
    "\n",
    "Las **funciones** son bloques de código reutilizables que permiten organizar mejor un programa. Son esenciales para evitar la repetición de código y mejorar su legibilidad.\n",
    "\n",
    "---\n",
    "\n",
    "## 1️⃣ ¿Qué es una función? 🤔\n",
    "Una **función** es un conjunto de instrucciones que realiza una tarea específica. Se puede llamar en cualquier parte del código para ejecutar su lógica.\n",
    "\n",
    "### 🔹 Sintaxis básica de una función en Python:\n",
    "\n",
    "En Python, la estructura para crear una función es así:\n",
    "\n",
    "- **def:** Palabra clave para definir una función.\n",
    "- **nombre_de_la_funcion:** El nombre que le das a tu función (¡sé creativo!).\n",
    "- **parametros:** Datos que la función recibe (pueden ser ninguno, uno o varios).\n",
    "- **\"\"\"Documentación\"\"\":** Explicación de qué hace la función (¡muy recomendable!).\n",
    "- **# Código de la función:** Las instrucciones que la función ejecuta.'\n",
    "- **return:** El valor que la función devuelve (no siempre es necesario).\n",
    "\n",
    "**¡importante!** ==> los nombre de las funciones de definen con la primera letra en minúscula. "
   ]
  },
  {
   "cell_type": "code",
   "execution_count": null,
   "metadata": {},
   "outputs": [],
   "source": [
    "# Definir una función 📌\n",
    "def saludar():\n",
    "    print(\"¡Hola! Bienvenido a Python\")\n",
    "\n",
    "\n",
    "# Llamar a la función\n",
    "saludar()"
   ]
  },
  {
   "cell_type": "markdown",
   "metadata": {},
   "source": [
    "## 2️⃣ Parámetros y Argumentos 🎯\n",
    "Las funciones pueden recibir valores llamados **parámetros**, que permiten modificar su comportamiento.\n",
    "\n",
    "| Término       | Descripción |\n",
    "|--------------|------------|\n",
    "| **Parámetro**  | Variable definida en la función. |\n",
    "| **Argumento**  | Valor que se pasa a la función al llamarla. |\n",
    "\n",
    "**🔹📌 Ejemplo de función con parámetros:**\n",
    "`"
   ]
  },
  {
   "cell_type": "code",
   "execution_count": 40,
   "metadata": {},
   "outputs": [
    {
     "name": "stdout",
     "output_type": "stream",
     "text": [
      "¡Hola, Ana!\n"
     ]
    }
   ],
   "source": [
    "\n",
    "def saludar(nombre): # Parametro \"nombre\"\n",
    "    print(f\"¡Hola, {nombre}!\")\n",
    "\n",
    "saludar(\"Ana\") # Argumento \"Ana\"\n"
   ]
  },
  {
   "cell_type": "code",
   "execution_count": null,
   "metadata": {},
   "outputs": [],
   "source": [
    "# Fibonacci series:\n",
    "# la suma de dos elementos define el siguiente\n",
    "\n",
    "\n",
    "def fibo(rango): # Parámetro\n",
    "    \"\"\"\n",
    "    Genera la serie de Fibonacci hasta un número menor que rango.\n",
    "\n",
    "    Args:\n",
    "        rango: Un número entero que especifica el límite superior de la serie.\n",
    "\n",
    "    Raises:\n",
    "        TypeError: Si rango no es un número entero.\n",
    "    \"\"\"\n",
    "    if not isinstance(rango, int): # Si el Parámetro tiene un valor diferente de 'int' lsnza un error\n",
    "        raise TypeError(\"El rango debe ser un número entero.\")\n",
    "    a, b = 0, 1\n",
    "    while a < rango:\n",
    "        print(a)\n",
    "        a, b = b, a + b\n",
    "\n",
    "fibo(145900)  # Agumento \"145900\"\n",
    "\"\"\"\n",
    "a, b = b, a + b ==>  a, b = 1, 0 + 1 ==> a, b = 1, 1 ==> a = 1, b = 1\n",
    "a, b = 1, 1 + 1 ==>  a, b = 1, 1 + 1 ==> a, b = 1, 2 ==> a = 1, b = 2\n",
    "...\n",
    "\n",
    "\"\"\"\n",
    "\n",
    "# fibo(\"hola\")   # Esto lanza un error TypeError\n",
    "\n"
   ]
  },
  {
   "cell_type": "markdown",
   "metadata": {},
   "source": [
    "### 📍 Valores por defecto en parámetros\n",
    "Si no se proporciona un argumento, la función puede tener un **valor por defecto**:\n",
    "\n",
    "📌 **Ejemplo:**"
   ]
  },
  {
   "cell_type": "code",
   "execution_count": 41,
   "metadata": {},
   "outputs": [
    {
     "name": "stdout",
     "output_type": "stream",
     "text": [
      "¡Hola, Invitado!\n",
      "¡Hola, Carlos!\n"
     ]
    }
   ],
   "source": [
    "def saludar(nombre=\"Invitado\"):\n",
    "    print(f\"¡Hola, {nombre}!\")\n",
    "\n",
    "saludar()  # Usa el valor por defecto\n",
    "saludar(\"Carlos\")"
   ]
  },
  {
   "cell_type": "markdown",
   "metadata": {},
   "source": [
    "---\n",
    "\n",
    "## 3️⃣ Retorno de valores 🔄\n",
    "Las funciones pueden devolver valores usando `return`.\n",
    "\n",
    "### 🔹 Ejemplo de función con retorno:\n",
    "\n",
    "**📍 Se puede almacenar el valor devuelto en una variable para usarlo después.**"
   ]
  },
  {
   "cell_type": "code",
   "execution_count": 42,
   "metadata": {},
   "outputs": [
    {
     "name": "stdout",
     "output_type": "stream",
     "text": [
      "25\n"
     ]
    }
   ],
   "source": [
    "def cuadrado(numero):\n",
    "    return numero ** 2\n",
    "\n",
    "resultado = cuadrado(5)\n",
    "print(resultado)  # 25"
   ]
  },
  {
   "cell_type": "markdown",
   "metadata": {},
   "source": [
    "## 4️⃣ Alcance de Variables 🔍\n",
    "El **alcance** de una variable determina dónde puede ser usada.\n",
    "\n",
    "| Tipo        | Descripción |\n",
    "|------------|------------|\n",
    "| **Global** | Declarada fuera de una función, accesible desde cualquier parte del código. |\n",
    "| **Local**  | Declarada dentro de una función, solo accesible dentro de ella. |\n",
    "\n",
    "### 🔹📌 Ejemplo:\n",
    "\n",
    "🔹 La variable `x` dentro de la función no afecta la variable global `x`."
   ]
  },
  {
   "cell_type": "code",
   "execution_count": 43,
   "metadata": {},
   "outputs": [
    {
     "name": "stdout",
     "output_type": "stream",
     "text": [
      "Dentro de la función: 5\n",
      "Fuera de la función: 10\n"
     ]
    }
   ],
   "source": [
    "x = 10  # Variable global\n",
    "\n",
    "def mostrar():\n",
    "    x = 5  # Variable local\n",
    "    print(\"Dentro de la función:\", x)\n",
    "\n",
    "mostrar()\n",
    "print(\"Fuera de la función:\", x)"
   ]
  },
  {
   "cell_type": "markdown",
   "metadata": {},
   "source": [
    "---\n",
    "\n",
    "## 🔚 Conclusión\n",
    "Las funciones permiten dividir un programa en bloques reutilizables y más organizados. 💡\n",
    "\n",
    "✅ ¿Qué aprendimos?\n",
    "- Definir y llamar funciones.\n",
    "- Uso de parámetros y valores de retorno.\n",
    "- Alcance de variables.\n",
    "\n",
    "❓ **Pregunta para reflexionar:** ¿Cómo podrías usar funciones para mejorar la organización de un programa que escribiste antes? 🤔"
   ]
  }
 ],
 "metadata": {
  "kernelspec": {
   "display_name": "venvc",
   "language": "python",
   "name": "python3"
  },
  "language_info": {
   "codemirror_mode": {
    "name": "ipython",
    "version": 3
   },
   "file_extension": ".py",
   "mimetype": "text/x-python",
   "name": "python",
   "nbconvert_exporter": "python",
   "pygments_lexer": "ipython3",
   "version": "3.12.8"
  }
 },
 "nbformat": 4,
 "nbformat_minor": 2
}
