{
 "cells": [
  {
   "cell_type": "markdown",
   "metadata": {},
   "source": [
    "## Ejercicios: Conceptos Básicos y Funciones\n",
    "### Nivel 1: Introducción (Fácil)\n",
    "1. Función \"Hola, mundo\": Define una función que imprima el mensaje \"¡Hola, mundo!\" cuando se la llama."
   ]
  },
  {
   "cell_type": "code",
   "execution_count": null,
   "metadata": {},
   "outputs": [],
   "source": [
    "def hola_mundo():\n",
    "  print(\"¡Hola, mundo!\")\n",
    "\n",
    "hola_mundo()  # Llamamos a la función para que se ejecute"
   ]
  },
  {
   "cell_type": "markdown",
   "metadata": {},
   "source": [
    "2. Función con parámetros: Define una función que reciba dos números como parámetros y devuelva la suma de ambos."
   ]
  },
  {
   "cell_type": "code",
   "execution_count": null,
   "metadata": {},
   "outputs": [],
   "source": [
    "def suma(num1, num2):\n",
    "  return num1 + num2\n",
    "\n",
    "resultado = suma(5, 3)  # Llamamos a la función con los valores 5 y 3\n",
    "print(\"La suma es:\", resultado)"
   ]
  },
  {
   "cell_type": "markdown",
   "metadata": {},
   "source": [
    "### Nivel 2: Operaciones Simples (Medio)\n",
    "3. Función que calcula el área de un rectángulo: Define una función que reciba la base y la altura de un rectángulo como parámetros y devuelva su área."
   ]
  },
  {
   "cell_type": "code",
   "execution_count": null,
   "metadata": {},
   "outputs": [],
   "source": [
    "def calcular_area_rectangulo(base, altura):\n",
    "  return base * altura\n",
    "\n",
    "area = calcular_area_rectangulo(10, 5)\n",
    "print(\"El área del rectángulo es:\", area)"
   ]
  },
  {
   "cell_type": "markdown",
   "metadata": {},
   "source": [
    "4. Función que verifica si un número es par: Define una función que reciba un número como parámetro y devuelva True si el número es par, y False si es impar."
   ]
  },
  {
   "cell_type": "code",
   "execution_count": null,
   "metadata": {},
   "outputs": [],
   "source": [
    "def es_par(numero):\n",
    "  if numero % 2 == 0:\n",
    "    return True\n",
    "  else:\n",
    "    return False\n",
    "\n",
    "numero = 7\n",
    "if es_par(numero):\n",
    "  print(numero, \"es par\")\n",
    "else:\n",
    "  print(numero, \"es impar\")"
   ]
  },
  {
   "cell_type": "markdown",
   "metadata": {},
   "source": [
    "### Nivel 3: Bucles y Funciones (Medio)\n",
    "5. Función que imprime los números del 1 al N: Define una función que reciba un número entero N como parámetro e imprima los números del 1 al N utilizando un bucle for."
   ]
  },
  {
   "cell_type": "code",
   "execution_count": null,
   "metadata": {},
   "outputs": [],
   "source": [
    "def imprimir_numeros(n):\n",
    "  for i in range(1, n + 1):\n",
    "    print(i)\n",
    "\n",
    "imprimir_numeros(10)"
   ]
  },
  {
   "cell_type": "markdown",
   "metadata": {},
   "source": [
    "6. Función que calcula el factorial de un número: Define una función que reciba un número entero como parámetro y devuelva su factorial."
   ]
  },
  {
   "cell_type": "code",
   "execution_count": null,
   "metadata": {},
   "outputs": [],
   "source": [
    "def calcular_factorial(numero):\n",
    "  factorial = 1\n",
    "  for i in range(1, numero + 1):\n",
    "    factorial *= i\n",
    "  return factorial\n",
    "\n",
    "resultado = calcular_factorial(5)\n",
    "print(\"El factorial de 5 es:\", resultado)"
   ]
  },
  {
   "cell_type": "markdown",
   "metadata": {},
   "source": [
    "### Nivel 4: Recursión (Más Difícil)\n",
    "7. Función recursiva que calcula el factorial de un número: Define una función que calcule el factorial de un número utilizando recursión."
   ]
  },
  {
   "cell_type": "code",
   "execution_count": null,
   "metadata": {},
   "outputs": [],
   "source": [
    "def calcular_factorial_recursivo(numero):\n",
    "  if numero == 0:\n",
    "    return 1\n",
    "  else:\n",
    "    return numero * calcular_factorial_recursivo(numero - 1)\n",
    "\n",
    "resultado = calcular_factorial_recursivo(5)\n",
    "print(\"El factorial de 5 es:\", resultado)"
   ]
  },
  {
   "cell_type": "markdown",
   "metadata": {},
   "source": [
    "8. Función recursiva que imprime los números del 1 al N: Define una función que imprima los números del 1 al N utilizando recursión."
   ]
  },
  {
   "cell_type": "code",
   "execution_count": null,
   "metadata": {},
   "outputs": [],
   "source": [
    "def imprimir_numeros_recursivo(n):\n",
    "  if n == 0:\n",
    "    return\n",
    "  else:\n",
    "    imprimir_numeros_recursivo(n - 1)\n",
    "    print(n)\n",
    "\n",
    "imprimir_numeros_recursivo(10)"
   ]
  },
  {
   "cell_type": "markdown",
   "metadata": {},
   "source": [
    "### Nivel 5: Desafíos de Lógica (Aún Más Difícil)\n",
    "9. Función que verifica si una palabra es un palíndromo: Define una función que reciba una palabra como parámetro y devuelva True si la palabra es un palíndromo (se lee igual de izquierda a derecha que de derecha a izquierda), y False si no lo es."
   ]
  },
  {
   "cell_type": "code",
   "execution_count": null,
   "metadata": {},
   "outputs": [],
   "source": [
    "def es_palindromo(palabra):\n",
    "  palabra = palabra.lower()  # Convertimos la palabra a minúsculas para que sea insensible a mayúsculas y minúsculas\n",
    "  return palabra == palabra[::-1]  # Comparamos la palabra original con su versión invertida\n",
    "\n",
    "palabra = \"reconocer\"\n",
    "if es_palindromo(palabra):\n",
    "  print(palabra, \"es un palíndromo\")\n",
    "else:\n",
    "  print(palabra, \"no es un palíndromo\")"
   ]
  },
  {
   "cell_type": "markdown",
   "metadata": {},
   "source": [
    "10. Función que genera números primos hasta N: Define una función que reciba un número entero N como parámetro y devuelva una lista con todos los números primos menores o iguales a N."
   ]
  },
  {
   "cell_type": "code",
   "execution_count": null,
   "metadata": {},
   "outputs": [],
   "source": [
    "def generar_primos(n):\n",
    "  primos = []\n",
    "  for num in range(2, n + 1):\n",
    "    es_primo = True\n",
    "    for i in range(2, int(num**0.5) + 1):\n",
    "      if num % i == 0:\n",
    "        es_primo = False\n",
    "        break\n",
    "    if es_primo:\n",
    "      primos.append(num)\n",
    "  return primos\n",
    "\n",
    "primos = generar_primos(100)\n",
    "print(\"Números primos hasta 100:\", primos)"
   ]
  },
  {
   "cell_type": "markdown",
   "metadata": {},
   "source": [
    "### Consejos Adicionales\n",
    "- ¡No te rindas! Si te atascas en un ejercicio, intenta dividir el problema en partes más pequeñas y abordarlas una por una.\n",
    "- ¡Investiga! Si no estás seguro de cómo hacer algo, busca en internet o consulta la documentación de tu lenguaje de programación.\n",
    "- ¡Practica! La mejor forma de aprender a programar es practicando. ¡Cuanto más practiques, mejor serás!\n",
    "\n",
    "¡Espero que estos ejercicios te sean útiles! Recuerda que lo más importante es divertirte y disfrutar del proceso de aprendizaje.  Si tienes alguna duda, no dudes en preguntar. ¡Mucho éxito en tu camino como programador!"
   ]
  }
 ],
 "metadata": {
  "kernelspec": {
   "display_name": "venvc",
   "language": "python",
   "name": "python3"
  },
  "language_info": {
   "name": "python",
   "version": "3.12.8"
  }
 },
 "nbformat": 4,
 "nbformat_minor": 2
}
