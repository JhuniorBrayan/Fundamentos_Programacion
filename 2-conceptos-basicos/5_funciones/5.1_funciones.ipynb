{
 "cells": [
  {
   "cell_type": "markdown",
   "metadata": {},
   "source": [
    "## Conceptos Básicos\n",
    "\n",
    "# **📌 Funciones en Python**\n",
    "\n",
    "Las **funciones** son bloques de código reutilizables que permiten organizar mejor un programa. Son esenciales para evitar la repetición de código y mejorar su legibilidad.\n",
    "\n",
    "---\n",
    "\n",
    "## 1️⃣ ¿Qué es una función? 🤔\n",
    "Una **función** es un conjunto de instrucciones que realiza una tarea específica. Se puede llamar en cualquier parte del código para ejecutar su lógica.\n",
    "\n",
    "### 🔹 Sintaxis básica de una función en Python:\n",
    "\n",
    "En Python, la estructura para crear una función es así:\n",
    "\n",
    "- **def:** Palabra clave para definir una función.\n",
    "- **nombre_de_la_funcion:** El nombre que le das a tu función (¡sé creativo!).\n",
    "- **parametros:** Datos que la función recibe (pueden ser ninguno, uno o varios).\n",
    "- **\"\"\"Documentación\"\"\":** Explicación de qué hace la función (¡muy recomendable!).\n",
    "- **# Código de la función:** Las instrucciones que la función ejecuta.'\n",
    "- **return:** El valor que la función devuelve (no siempre es necesario).\n",
    "\n",
    "**¡importante!** ==> los nombre de las funciones de definen con la primera letra en minúscula. "
   ]
  },
  {
   "cell_type": "code",
   "execution_count": null,
   "metadata": {},
   "outputs": [],
   "source": [
    "# Definir una función 📌\n",
    "def saludar():\n",
    "    print(\"¡Hola! Bienvenido a Python\")\n",
    "\n",
    "\n",
    "# Llamar a la función\n",
    "saludar()"
   ]
  },
  {
   "cell_type": "markdown",
   "metadata": {},
   "source": [
    "## 2️⃣ Parámetros y Argumentos 🎯\n",
    "Las funciones pueden recibir valores llamados **parámetros**, que permiten modificar su comportamiento.\n",
    "\n",
    "| Término       | Descripción |\n",
    "|--------------|------------|\n",
    "| **Parámetro**  | Variable definida en la función. |\n",
    "| **Argumento**  | Valor que se pasa a la función al llamarla. |\n",
    "\n",
    "**🔹📌 Ejemplo de función con parámetros:**\n",
    "`"
   ]
  },
  {
   "cell_type": "code",
   "execution_count": 40,
   "metadata": {},
   "outputs": [
    {
     "name": "stdout",
     "output_type": "stream",
     "text": [
      "¡Hola, Ana!\n"
     ]
    }
   ],
   "source": [
    "\n",
    "def saludar(nombre): # Parametro \"nombre\"\n",
    "    print(f\"¡Hola, {nombre}!\")\n",
    "\n",
    "saludar(\"Ana\") # Argumento \"Ana\"\n"
   ]
  },
  {
   "cell_type": "code",
   "execution_count": null,
   "metadata": {},
   "outputs": [],
   "source": [
    "# Fibonacci series:\n",
    "# la suma de dos elementos define el siguiente\n",
    "\n",
    "\n",
    "def fibo(rango): # Parámetro\n",
    "    \"\"\"\n",
    "    Genera la serie de Fibonacci hasta un número menor que rango.\n",
    "\n",
    "    Args:\n",
    "        rango: Un número entero que especifica el límite superior de la serie.\n",
    "\n",
    "    Raises:\n",
    "        TypeError: Si rango no es un número entero.\n",
    "    \"\"\"\n",
    "    if not isinstance(rango, int): # Si el Parámetro tiene un valor diferente de 'int' lsnza un error\n",
    "        raise TypeError(\"El rango debe ser un número entero.\")\n",
    "    a, b = 0, 1\n",
    "    while a < rango:\n",
    "        print(a)\n",
    "        a, b = b, a + b\n",
    "\n",
    "fibo(145900)  # Agumento \"145900\"\n",
    "\"\"\"\n",
    "a, b = b, a + b ==>  a, b = 1, 0 + 1 ==> a, b = 1, 1 ==> a = 1, b = 1\n",
    "a, b = 1, 1 + 1 ==>  a, b = 1, 1 + 1 ==> a, b = 1, 2 ==> a = 1, b = 2\n",
    "...\n",
    "\n",
    "\"\"\"\n",
    "\n",
    "# fibo(\"hola\")   # Esto lanza un error TypeError\n",
    "\n"
   ]
  },
  {
   "cell_type": "code",
   "execution_count": 4,
   "metadata": {},
   "outputs": [
    {
     "name": "stdout",
     "output_type": "stream",
     "text": [
      "-5\n",
      "-3\n",
      "-1\n",
      "1\n",
      "3\n",
      "Help on class range in module builtins:\n",
      "\n",
      "class range(object)\n",
      " |  range(stop) -> range object\n",
      " |  range(start, stop[, step]) -> range object\n",
      " |\n",
      " |  Return an object that produces a sequence of integers from start (inclusive)\n",
      " |  to stop (exclusive) by step.  range(i, j) produces i, i+1, i+2, ..., j-1.\n",
      " |  start defaults to 0, and stop is omitted!  range(4) produces 0, 1, 2, 3.\n",
      " |  These are exactly the valid indices for a list of 4 elements.\n",
      " |  When step is given, it specifies the increment (or decrement).\n",
      " |\n",
      " |  Methods defined here:\n",
      " |\n",
      " |  __bool__(self, /)\n",
      " |      True if self else False\n",
      " |\n",
      " |  __contains__(self, key, /)\n",
      " |      Return bool(key in self).\n",
      " |\n",
      " |  __eq__(self, value, /)\n",
      " |      Return self==value.\n",
      " |\n",
      " |  __ge__(self, value, /)\n",
      " |      Return self>=value.\n",
      " |\n",
      " |  __getattribute__(self, name, /)\n",
      " |      Return getattr(self, name).\n",
      " |\n",
      " |  __getitem__(self, key, /)\n",
      " |      Return self[key].\n",
      " |\n",
      " |  __gt__(self, value, /)\n",
      " |      Return self>value.\n",
      " |\n",
      " |  __hash__(self, /)\n",
      " |      Return hash(self).\n",
      " |\n",
      " |  __iter__(self, /)\n",
      " |      Implement iter(self).\n",
      " |\n",
      " |  __le__(self, value, /)\n",
      " |      Return self<=value.\n",
      " |\n",
      " |  __len__(self, /)\n",
      " |      Return len(self).\n",
      " |\n",
      " |  __lt__(self, value, /)\n",
      " |      Return self<value.\n",
      " |\n",
      " |  __ne__(self, value, /)\n",
      " |      Return self!=value.\n",
      " |\n",
      " |  __reduce__(...)\n",
      " |      Helper for pickle.\n",
      " |\n",
      " |  __repr__(self, /)\n",
      " |      Return repr(self).\n",
      " |\n",
      " |  __reversed__(...)\n",
      " |      Return a reverse iterator.\n",
      " |\n",
      " |  count(...)\n",
      " |      rangeobject.count(value) -> integer -- return number of occurrences of value\n",
      " |\n",
      " |  index(...)\n",
      " |      rangeobject.index(value) -> integer -- return index of value.\n",
      " |      Raise ValueError if the value is not present.\n",
      " |\n",
      " |  ----------------------------------------------------------------------\n",
      " |  Static methods defined here:\n",
      " |\n",
      " |  __new__(*args, **kwargs)\n",
      " |      Create and return a new object.  See help(type) for accurate signature.\n",
      " |\n",
      " |  ----------------------------------------------------------------------\n",
      " |  Data descriptors defined here:\n",
      " |\n",
      " |  start\n",
      " |\n",
      " |  step\n",
      " |\n",
      " |  stop\n",
      "\n"
     ]
    }
   ],
   "source": [
    "for i in range(-5,5,2):\n",
    "    print(i)\n",
    "\n",
    "help(range)\n"
   ]
  },
  {
   "cell_type": "markdown",
   "metadata": {},
   "source": [
    "### 📍 Valores por defecto en parámetros\n",
    "Si no se proporciona un argumento, la función puede tener un **valor por defecto**:\n",
    "\n",
    "📌 **Ejemplo:**"
   ]
  },
  {
   "cell_type": "code",
   "execution_count": 41,
   "metadata": {},
   "outputs": [
    {
     "name": "stdout",
     "output_type": "stream",
     "text": [
      "¡Hola, Invitado!\n",
      "¡Hola, Carlos!\n"
     ]
    }
   ],
   "source": [
    "def saludar(nombre=\"Invitado\"):\n",
    "    print(f\"¡Hola, {nombre}!\")\n",
    "\n",
    "saludar()  # Usa el valor por defecto\n",
    "saludar(\"Carlos\")"
   ]
  },
  {
   "cell_type": "markdown",
   "metadata": {},
   "source": [
    "---\n",
    "\n",
    "## 3️⃣ Retorno de valores 🔄\n",
    "Las funciones pueden devolver valores usando `return`.\n",
    "\n",
    "### 🔹 Ejemplo de función con retorno:\n",
    "\n",
    "**📍 Se puede almacenar el valor devuelto en una variable para usarlo después.**"
   ]
  },
  {
   "cell_type": "code",
   "execution_count": 42,
   "metadata": {},
   "outputs": [
    {
     "name": "stdout",
     "output_type": "stream",
     "text": [
      "25\n"
     ]
    }
   ],
   "source": [
    "def cuadrado(numero):\n",
    "    return numero ** 2\n",
    "\n",
    "resultado = cuadrado(5)\n",
    "print(resultado)  # 25"
   ]
  },
  {
   "cell_type": "markdown",
   "metadata": {},
   "source": [
    "## 4️⃣ Alcance de Variables 🔍\n",
    "El **alcance** de una variable determina dónde puede ser usada.\n",
    "\n",
    "| Tipo        | Descripción |\n",
    "|------------|------------|\n",
    "| **Global** | Declarada fuera de una función, accesible desde cualquier parte del código. |\n",
    "| **Local**  | Declarada dentro de una función, solo accesible dentro de ella. |\n",
    "\n",
    "### 🔹📌 Ejemplo:\n",
    "\n",
    "🔹 La variable `x` dentro de la función no afecta la variable global `x`."
   ]
  },
  {
   "cell_type": "code",
   "execution_count": 43,
   "metadata": {},
   "outputs": [
    {
     "name": "stdout",
     "output_type": "stream",
     "text": [
      "Dentro de la función: 5\n",
      "Fuera de la función: 10\n"
     ]
    }
   ],
   "source": [
    "x = 10  # Variable global\n",
    "\n",
    "def mostrar():\n",
    "    x = 5  # Variable local\n",
    "    print(\"Dentro de la función:\", x)\n",
    "\n",
    "mostrar()\n",
    "print(\"Fuera de la función:\", x)"
   ]
  },
  {
   "cell_type": "markdown",
   "metadata": {},
   "source": [
    "---\n",
    "\n",
    "## 🔚 Conclusión\n",
    "Las funciones permiten dividir un programa en bloques reutilizables y más organizados. 💡\n",
    "\n",
    "✅ ¿Qué aprendimos?\n",
    "- Definir y llamar funciones.\n",
    "- Uso de parámetros y valores de retorno.\n",
    "- Alcance de variables.\n",
    "\n",
    "❓ **Pregunta para reflexionar:** ¿Cómo podrías usar funciones para mejorar la organización de un programa que escribiste antes? 🤔"
   ]
  }
 ],
 "metadata": {
  "kernelspec": {
   "display_name": "venvc",
   "language": "python",
   "name": "python3"
  },
  "language_info": {
   "codemirror_mode": {
    "name": "ipython",
    "version": 3
   },
   "file_extension": ".py",
   "mimetype": "text/x-python",
   "name": "python",
   "nbconvert_exporter": "python",
   "pygments_lexer": "ipython3",
   "version": "3.12.8"
  }
 },
 "nbformat": 4,
 "nbformat_minor": 2
}
