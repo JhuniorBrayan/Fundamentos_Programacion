{
 "cells": [
  {
   "cell_type": "markdown",
   "metadata": {},
   "source": [
    "## Ejercicios: Conceptos Básicos y Operadores\n",
    "### Nivel 1: Introducción (Fácil)\n",
    "1. Operadores aritméticos básicos: Declara dos variables numéricas y realiza operaciones de suma, resta, multiplicación y división con ellas. Imprime los resultados."
   ]
  },
  {
   "cell_type": "code",
   "execution_count": null,
   "metadata": {},
   "outputs": [],
   "source": [
    "num1 = 10\n",
    "num2 = 5\n",
    "\n",
    "suma = num1 + num2\n",
    "resta = num1 - num2\n",
    "multiplicacion = num1 * num2\n",
    "division = num1 / num2\n",
    "\n",
    "print(\"Suma:\", suma)\n",
    "print(\"Resta:\", resta)\n",
    "print(\"Multiplicación:\", multiplicacion)\n",
    "print(\"División:\", division)"
   ]
  },
  {
   "cell_type": "markdown",
   "metadata": {},
   "source": [
    "2. Operador módulo: Declara dos variables numéricas y utiliza el operador módulo (%) para obtener el resto de la división entre ellas. Imprime el resultado."
   ]
  },
  {
   "cell_type": "code",
   "execution_count": null,
   "metadata": {},
   "outputs": [],
   "source": [
    "num1 = 10\n",
    "num2 = 3\n",
    "\n",
    "resto = num1 % num2\n",
    "\n",
    "print(\"Resto:\", resto)"
   ]
  },
  {
   "cell_type": "markdown",
   "metadata": {},
   "source": [
    "### Nivel 2: Operaciones Combinadas (Medio)\n",
    "3. Expresiones aritméticas: Escribe una expresión aritmética que combine varias operaciones (suma, resta, multiplicación, división) y utiliza paréntesis para controlar el orden de ejecución. Imprime el resultado."
   ]
  },
  {
   "cell_type": "code",
   "execution_count": null,
   "metadata": {},
   "outputs": [],
   "source": [
    "resultado = (10 + 5) * 2 - 8 / 4\n",
    "\n",
    "print(\"Resultado:\", resultado)"
   ]
  },
  {
   "cell_type": "markdown",
   "metadata": {},
   "source": [
    "4. Operadores de asignación: Declara una variable y utiliza operadores de asignación (+=, -=, *=, /=) para modificar su valor. Imprime el valor final de la variable."
   ]
  },
  {
   "cell_type": "code",
   "execution_count": null,
   "metadata": {},
   "outputs": [],
   "source": [
    "variable = 10\n",
    "\n",
    "variable += 5  # Equivalente a variable = variable + 5\n",
    "variable -= 3  # Equivalente a variable = variable - 3\n",
    "variable *= 2  # Equivalente a variable = variable * 2\n",
    "variable /= 4  # Equivalente a variable = variable / 4\n",
    "\n",
    "print(\"Valor final:\", variable)"
   ]
  },
  {
   "cell_type": "markdown",
   "metadata": {},
   "source": [
    "### Nivel 3: Comparaciones y Lógica (Medio)\n",
    "5. Operadores de comparación: Declara dos variables y utiliza operadores de comparación (>, <, ==, !=, >=, <=) para comparar sus valores. Imprime los resultados (booleanos)."
   ]
  },
  {
   "cell_type": "code",
   "execution_count": null,
   "metadata": {},
   "outputs": [],
   "source": [
    "num1 = 10\n",
    "num2 = 5\n",
    "\n",
    "mayor = num1 > num2\n",
    "menor = num1 < num2\n",
    "igual = num1 == num2\n",
    "diferente = num1 != num2\n",
    "mayor_o_igual = num1 >= num2\n",
    "menor_o_igual = num1 <= num2\n",
    "\n",
    "print(\"Mayor:\", mayor)\n",
    "print(\"Menor:\", menor)\n",
    "print(\"Igual:\", igual)\n",
    "print(\"Diferente:\", diferente)\n",
    "print(\"Mayor o igual:\", mayor_o_igual)\n",
    "print(\"Menor o igual:\", menor_o_igual)"
   ]
  },
  {
   "cell_type": "markdown",
   "metadata": {},
   "source": [
    "6. Operadores lógicos: Escribe una expresión lógica que combine operadores AND, OR y NOT. Utiliza paréntesis para controlar el orden de evaluación. Imprime el resultado (booleano)."
   ]
  },
  {
   "cell_type": "code",
   "execution_count": null,
   "metadata": {},
   "outputs": [],
   "source": [
    "valor1 = True\n",
    "valor2 = False\n",
    "\n",
    "resultado = valor1 and (not valor2 or valor1)\n",
    "\n",
    "print(\"Resultado:\", resultado)"
   ]
  },
  {
   "cell_type": "markdown",
   "metadata": {},
   "source": [
    "### Nivel 4: Desafíos de Precedencia (Más Difícil)\n",
    "7. Precedencia de operadores: Escribe una expresión que combine operadores aritméticos, de comparación y lógicos. Predice el resultado antes de ejecutar el código y luego verifica tu respuesta."
   ]
  },
  {
   "cell_type": "code",
   "execution_count": null,
   "metadata": {},
   "outputs": [],
   "source": [
    "resultado = 10 + 5 * 2 > 15 and not False\n",
    "\n",
    "print(\"Resultado:\", resultado)"
   ]
  },
  {
   "cell_type": "markdown",
   "metadata": {},
   "source": [
    "8. Conversión y operaciones: Declara una variable de tipo cadena que contenga un número. Conviértela a tipo numérico y luego realiza operaciones aritméticas con ella. Imprime el resultado."
   ]
  },
  {
   "cell_type": "code",
   "execution_count": null,
   "metadata": {},
   "outputs": [],
   "source": [
    "cadena_numero = \"20\"\n",
    "\n",
    "numero = int(cadena_numero)\n",
    "resultado = numero * 3 + 10\n",
    "\n",
    "print(\"Resultado:\", resultado)"
   ]
  },
  {
   "cell_type": "markdown",
   "metadata": {},
   "source": [
    "### Nivel 5: Problemas de Lógica (Aún Más Difícil)\n",
    "9. Problema de lógica con operadores: Escribe un programa que determine si un número es divisible por 3 y por 5 al mismo tiempo. Utiliza operadores lógicos y de comparación."
   ]
  },
  {
   "cell_type": "code",
   "execution_count": null,
   "metadata": {},
   "outputs": [],
   "source": [
    "numero = 15\n",
    "\n",
    "es_divisible = (numero % 3 == 0) and (numero % 5 == 0)\n",
    "\n",
    "print(\"¿Es divisible por 3 y por 5?\", es_divisible)"
   ]
  },
  {
   "cell_type": "markdown",
   "metadata": {},
   "source": [
    "10. Cálculo de descuento: Pide al usuario el precio de un producto y su edad. Si el usuario es mayor de 65 años, aplica un descuento del 20%. Si no, aplica un descuento del 10% si el precio es mayor de 100. Imprime el precio final."
   ]
  },
  {
   "cell_type": "code",
   "execution_count": null,
   "metadata": {},
   "outputs": [],
   "source": [
    "precio = float(input(\"Ingrese el precio del producto: \"))\n",
    "edad = int(input(\"Ingrese su edad: \"))\n",
    "\n",
    "if edad > 65:\n",
    "  descuento = 0.20\n",
    "elif precio > 100:\n",
    "  descuento = 0.10\n",
    "else:\n",
    "  descuento = 0\n",
    "\n",
    "precio_final = precio * (1 - descuento)\n",
    "\n",
    "print(\"El precio final es:\", precio_final)"
   ]
  },
  {
   "cell_type": "markdown",
   "metadata": {},
   "source": [
    "### Consejos Adicionales\n",
    "- ¡No te rindas! Si te atascas en un ejercicio, intenta dividir el problema en partes más pequeñas y abordarlas una por una.\n",
    "- ¡Investiga! Si no estás seguro de cómo hacer algo, busca en internet o consulta la documentación de tu lenguaje de programación.\n",
    "- ¡Practica! La mejor forma de aprender a programar es practicando. ¡Cuanto más practiques, mejor serás!\n",
    "\n",
    "¡Espero que estos ejercicios te sean útiles! Recuerda que lo más importante es divertirte y disfrutar del proceso de aprendizaje.  Si tienes alguna duda, no dudes en preguntar. ¡Mucho éxito en tu camino como programador!"
   ]
  }
 ],
 "metadata": {
  "kernelspec": {
   "display_name": "venvc",
   "language": "python",
   "name": "python3"
  },
  "language_info": {
   "name": "python",
   "version": "3.12.8"
  }
 },
 "nbformat": 4,
 "nbformat_minor": 2
}
