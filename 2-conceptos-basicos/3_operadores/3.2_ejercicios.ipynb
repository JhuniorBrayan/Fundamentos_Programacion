{
 "cells": [
  {
   "cell_type": "markdown",
   "metadata": {},
   "source": [
    "## Ejercicios: Conceptos Básicos y Operadores\n",
    "### Nivel 1: Introducción (Fácil)\n",
    "1. Operadores aritméticos básicos: Declara dos variables numéricas y realiza operaciones de suma, resta, multiplicación y división con ellas. Imprime los resultados."
   ]
  },
  {
   "cell_type": "code",
   "execution_count": null,
   "metadata": {
    "vscode": {
     "languageId": "plaintext"
    }
   },
   "outputs": [],
   "source": []
  },
  {
   "cell_type": "markdown",
   "metadata": {},
   "source": [
    "2. Operador módulo: Declara dos variables numéricas y utiliza el operador módulo (%) para obtener el resto de la división entre ellas. Imprime el resultado."
   ]
  },
  {
   "cell_type": "code",
   "execution_count": null,
   "metadata": {
    "vscode": {
     "languageId": "plaintext"
    }
   },
   "outputs": [],
   "source": []
  },
  {
   "cell_type": "markdown",
   "metadata": {},
   "source": [
    "### Nivel 2: Operaciones Combinadas (Medio)\n",
    "3. Expresiones aritméticas: Escribe una expresión aritmética que combine varias operaciones (suma, resta, multiplicación, división) y utiliza paréntesis para controlar el orden de ejecución. Imprime el resultado."
   ]
  },
  {
   "cell_type": "code",
   "execution_count": null,
   "metadata": {
    "vscode": {
     "languageId": "plaintext"
    }
   },
   "outputs": [],
   "source": []
  },
  {
   "cell_type": "markdown",
   "metadata": {},
   "source": [
    "4. Operadores de asignación: Declara una variable y utiliza operadores de asignación (+=, -=, *=, /=) para modificar su valor. Imprime el valor final de la variable."
   ]
  },
  {
   "cell_type": "code",
   "execution_count": null,
   "metadata": {
    "vscode": {
     "languageId": "plaintext"
    }
   },
   "outputs": [],
   "source": []
  },
  {
   "cell_type": "markdown",
   "metadata": {},
   "source": [
    "### Nivel 3: Comparaciones y Lógica (Medio)\n",
    "5. Operadores de comparación: Declara dos variables y utiliza operadores de comparación (>, <, ==, !=, >=, <=) para comparar sus valores. Imprime los resultados (booleanos)."
   ]
  },
  {
   "cell_type": "code",
   "execution_count": null,
   "metadata": {
    "vscode": {
     "languageId": "plaintext"
    }
   },
   "outputs": [],
   "source": []
  },
  {
   "cell_type": "markdown",
   "metadata": {},
   "source": [
    "6. Operadores lógicos: Escribe una expresión lógica que combine operadores AND, OR y NOT. Utiliza paréntesis para controlar el orden de evaluación. Imprime el resultado (booleano)."
   ]
  },
  {
   "cell_type": "code",
   "execution_count": null,
   "metadata": {
    "vscode": {
     "languageId": "plaintext"
    }
   },
   "outputs": [],
   "source": []
  },
  {
   "cell_type": "markdown",
   "metadata": {},
   "source": [
    "### Nivel 4: Desafíos de Precedencia (Más Difícil)\n",
    "7. Precedencia de operadores: Escribe una expresión que combine operadores aritméticos, de comparación y lógicos. Predice el resultado antes de ejecutar el código y luego verifica tu respuesta."
   ]
  },
  {
   "cell_type": "code",
   "execution_count": null,
   "metadata": {
    "vscode": {
     "languageId": "plaintext"
    }
   },
   "outputs": [],
   "source": []
  },
  {
   "cell_type": "markdown",
   "metadata": {},
   "source": [
    "8. Conversión y operaciones: Declara una variable de tipo cadena que contenga un número. Conviértela a tipo numérico y luego realiza operaciones aritméticas con ella. Imprime el resultado."
   ]
  },
  {
   "cell_type": "code",
   "execution_count": null,
   "metadata": {
    "vscode": {
     "languageId": "plaintext"
    }
   },
   "outputs": [],
   "source": []
  },
  {
   "cell_type": "markdown",
   "metadata": {},
   "source": [
    "### Nivel 5: Problemas de Lógica (Aún Más Difícil)\n",
    "9. Problema de lógica con operadores: Escribe un programa que determine si un número es divisible por 3 y por 5 al mismo tiempo. Utiliza operadores lógicos y de comparación."
   ]
  },
  {
   "cell_type": "code",
   "execution_count": null,
   "metadata": {
    "vscode": {
     "languageId": "plaintext"
    }
   },
   "outputs": [],
   "source": []
  },
  {
   "cell_type": "markdown",
   "metadata": {},
   "source": [
    "10. Cálculo de descuento: Pide al usuario el precio de un producto y su edad. Si el usuario es mayor de 65 años, aplica un descuento del 20%. Si no, aplica un descuento del 10% si el precio es mayor de 100. Imprime el precio final."
   ]
  },
  {
   "cell_type": "code",
   "execution_count": null,
   "metadata": {
    "vscode": {
     "languageId": "plaintext"
    }
   },
   "outputs": [],
   "source": []
  },
  {
   "cell_type": "markdown",
   "metadata": {},
   "source": [
    "### Consejos Adicionales\n",
    "- ¡No te rindas! Si te atascas en un ejercicio, intenta dividir el problema en partes más pequeñas y abordarlas una por una.\n",
    "- ¡Investiga! Si no estás seguro de cómo hacer algo, busca en internet o consulta la documentación de tu lenguaje de programación.\n",
    "- ¡Practica! La mejor forma de aprender a programar es practicando. ¡Cuanto más practiques, mejor serás!\n",
    "\n",
    "¡Espero que estos ejercicios te sean útiles! Recuerda que lo más importante es divertirte y disfrutar del proceso de aprendizaje.  Si tienes alguna duda, no dudes en preguntar. ¡Mucho éxito en tu camino como programador!"
   ]
  }
 ],
 "metadata": {
  "language_info": {
   "name": "python"
  }
 },
 "nbformat": 4,
 "nbformat_minor": 2
}
