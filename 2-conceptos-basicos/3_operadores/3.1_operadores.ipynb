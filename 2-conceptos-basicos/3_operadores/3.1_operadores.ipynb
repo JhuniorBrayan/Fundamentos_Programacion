{
 "cells": [
  {
   "cell_type": "markdown",
   "metadata": {},
   "source": [
    "## Conceptos Básicos \n",
    "\n",
    "# **Operadores en Python 🐍**\n",
    "\n",
    "Los operadores son símbolos especiales que permiten realizar operaciones sobre valores y variables. En programación, los operadores son esenciales para realizar cálculos, comparaciones y tomar decisiones en el código. Para los ejemplos usaremos Python, pero no olvides que los operadores son los mismos cualquiera sea el lenguaje de tu elección, lo único cambiante es la sintaxis.\n",
    "\n",
    "---\n",
    "\n",
    "### 🔢 Tipos de Operadores en Python\n",
    "\n",
    "#### 1️⃣ Operadores Aritméticos\n",
    "Estos operadores se usan para realizar operaciones matemáticas básicas:\n",
    "\n",
    "| Operador | Nombre | Uso |\n",
    "|----------|--------|-----|\n",
    "| `+` | Suma | `a + b` |\n",
    "| `-` | Resta | `a - b` |\n",
    "| `*` | Multiplicación | `a * b` |\n",
    "| `/` | División | `a / b` |\n",
    "| `//` | División Entera | `a // b` |\n",
    "| `%` | Módulo (residuo) | `a % b` |\n",
    "| `**` | Exponente | `a ** b` |\n",
    "\n",
    "📌 **Ejemplo:**"
   ]
  },
  {
   "cell_type": "code",
   "execution_count": 8,
   "metadata": {},
   "outputs": [
    {
     "name": "stdout",
     "output_type": "stream",
     "text": [
      "13\n",
      "7\n",
      "30\n",
      "3.3333333333333335\n",
      "3\n",
      "1\n",
      "1000\n"
     ]
    }
   ],
   "source": [
    "# Operardores aritméticos \n",
    "\n",
    "x = 10\n",
    "y = 3\n",
    "print(x + y)  # 13\n",
    "print(x - y)  # 7\n",
    "print(x * y)  # 30\n",
    "print(x / y)  # 3.333...\n",
    "print(x // y) # 3\n",
    "print(x % y)  # 1\n",
    "print(x ** y) # 1000"
   ]
  },
  {
   "cell_type": "markdown",
   "metadata": {},
   "source": [
    "---\n",
    "\n",
    "#### 2️⃣ Operadores Relacionales (de Comparación)\n",
    "Estos operadores comparan valores y devuelven `True` o `False`.\n",
    "\n",
    "| Operador | Nombre | Uso |\n",
    "|----------|--------|-----|\n",
    "| `==` | Igualdad | `a == b` |\n",
    "| `!=` | Diferente | `a != b` |\n",
    "| `>` | Mayor que | `a > b` |\n",
    "| `<` | Menor que | `a < b` |\n",
    "| `>=` | Mayor o igual | `a >= b` |\n",
    "| `<=` | Menor o igual | `a <= b` |\n",
    "\n",
    "📌 **Ejemplo:**\n",
    "\n",
    "print(5 == 5)  # True\n",
    "print(5 != 3)  # True\n",
    "print(10 > 3)  # True\n",
    "print(3 < 7)   # True\n",
    "print(6 >= 6)  # True\n",
    "print(4 <= 2)  # False"
   ]
  },
  {
   "cell_type": "code",
   "execution_count": 1,
   "metadata": {},
   "outputs": [
    {
     "name": "stdout",
     "output_type": "stream",
     "text": [
      "True\n",
      "True\n",
      "True\n",
      "True\n",
      "True\n",
      "False\n"
     ]
    }
   ],
   "source": [
    "# Operadores Relacionales (de Comparación\n",
    "\n",
    "print(5 == 5)  # True\n",
    "print(5 != 3)  # True\n",
    "print(10 > 3)  # True\n",
    "print(3 < 7)   # True\n",
    "print(6 >= 6)  # True\n",
    "print(4 <= 2)  # False"
   ]
  },
  {
   "cell_type": "markdown",
   "metadata": {},
   "source": [
    "---\n",
    "\n",
    "#### 3️⃣ Operadores Lógicos\n",
    "Se utilizan para combinar expresiones booleanas (`True` o `False`).\n",
    "\n",
    "| Operador | Nombre | Uso |\n",
    "|----------|--------|-----|\n",
    "| `and` | Y lógico (and) | `a and b` |\n",
    "| `or` | O lógico (or) | `a or b` |\n",
    "| `not` | Negación lógica (not) | `not a` |\n",
    "\n",
    "📌 **Ejemplo:**"
   ]
  },
  {
   "cell_type": "code",
   "execution_count": 2,
   "metadata": {},
   "outputs": [
    {
     "name": "stdout",
     "output_type": "stream",
     "text": [
      "False\n",
      "True\n",
      "False\n"
     ]
    }
   ],
   "source": [
    "# Operadores Lógicos\n",
    "x = True\n",
    "y = False\n",
    "print(x and y)  # False\n",
    "print(x or y)   # True\n",
    "print(not x)    # False"
   ]
  },
  {
   "cell_type": "markdown",
   "metadata": {},
   "source": [
    "---\n",
    "\n",
    "#### 4️⃣ Operadores de Asignación\n",
    "Se usan para asignar valores a las variables.\n",
    "\n",
    "| Operador | Nombre | Uso |\n",
    "|----------|--------|-----|\n",
    "| `=` | Asignación | `a = 5` |\n",
    "| `+=` | Suma y asignación | `a += 3` (equivale a `a = a + 3`) |\n",
    "| `-=` | Resta y asignación | `a -= 3` (equivale a `a = a - 3`) |\n",
    "| `*=` | Multiplicación y asignación | `a *= 3` |\n",
    "| `/=` | División y asignación | `a /= 3` |\n",
    "| `//=` | División entera y asignación | `a //= 3` |\n",
    "| `%=` | Módulo y asignación | `a %= 3` |\n",
    "| `**=` | Exponente y asignación | `a **= 3` |\n",
    "\n",
    "📌 **Ejemplo:**"
   ]
  },
  {
   "cell_type": "code",
   "execution_count": 3,
   "metadata": {},
   "outputs": [
    {
     "name": "stdout",
     "output_type": "stream",
     "text": [
      "30\n"
     ]
    }
   ],
   "source": [
    "# Operadores de Asignación\n",
    "\n",
    "a = 10\n",
    "a += 5  # a ahora vale 15\n",
    "a *= 2  # a ahora vale 30\n",
    "print(a)"
   ]
  },
  {
   "cell_type": "markdown",
   "metadata": {},
   "source": [
    "---\n",
    "\n",
    "#### 5️⃣ Precedencia de Operadores ⚖️\n",
    "La precedencia de operadores define el orden en el que se evalúan las expresiones:\n",
    "\n",
    "1. `()`: Paréntesis\n",
    "2. `**`: Exponente\n",
    "3. `*, /, //, %`: Multiplicación y división\n",
    "4. `+, -`: Suma y resta\n",
    "5. `>, <, >=, <=`: Comparaciones\n",
    "6. `==, !=`: Igualdad\n",
    "7. `and, or, not`: Operadores lógicos\n",
    "\n",
    "📌 **Ejemplo:**"
   ]
  },
  {
   "cell_type": "code",
   "execution_count": 4,
   "metadata": {},
   "outputs": [
    {
     "name": "stdout",
     "output_type": "stream",
     "text": [
      "20\n",
      "107\n",
      "142.0\n"
     ]
    }
   ],
   "source": [
    "# Precedencia de Operadores\n",
    "\n",
    "resultado = 10 + 5 * 2  # 10 + (5*2) = 20\n",
    "print(resultado)\n",
    "\n",
    "resultado_1 = 10**2 + 5 + 2\n",
    "print(resultado_1)\n",
    "\n",
    "#resultado_2 = 2 + [10**2 * 2 + 40/2 - 100] + 20 # si reculves esta operacion en el papel es 142\n",
    "resultado_2 = 2 + [10**2 * 2 + 40/2 - 100][0] + 20  # [0] accede al primer elemento de la lista\n",
    "print(resultado_2)  # Imprime 142"
   ]
  },
  {
   "cell_type": "markdown",
   "metadata": {},
   "source": [
    "---\n",
    "\n",
    "### 6️⃣ Operadores Bit a Bit 🖥️\n",
    "Trabajan directamente con los bits de los números.\n",
    "\n",
    "| Operador | Nombre           | Ejemplo  | Resultado |\n",
    "|----------|-----------------|----------|-----------|\n",
    "| `&`      | AND bit a bit   | `5 & 3`  | `1`       |\n",
    "| `|`      | OR bit a bit    | `5 | 3`  | `7`       |\n",
    "| `^`      | XOR bit a bit   | `5 ^ 3`  | `6`       |\n",
    "| `~`      | NOT bit a bit   | `~5`     | `-6`      |\n",
    "| `<<`     | Desplazamiento izquierda | `5 << 1` | `10` |\n",
    "| `>>`     | Desplazamiento derecha   | `5 >> 1` | `2`  |\n",
    "\n",
    "📌 **Ejemplo:**\n"
   ]
  },
  {
   "cell_type": "code",
   "execution_count": 5,
   "metadata": {},
   "outputs": [
    {
     "name": "stdout",
     "output_type": "stream",
     "text": [
      "1\n",
      "7\n",
      "6\n",
      "-6\n",
      "10\n",
      "2\n"
     ]
    }
   ],
   "source": [
    "# Operadores Bit a Bit\n",
    "\n",
    "x = 5\n",
    "y = 3\n",
    "print(x & y)  # 1\n",
    "print(x | y)  # 7\n",
    "print(x ^ y)  # 6\n",
    "print(~x)     # -6\n",
    "print(x << 1) # 10\n",
    "print(x >> 1) # 2 "
   ]
  },
  {
   "cell_type": "markdown",
   "metadata": {},
   "source": [
    "---\n",
    "\n",
    "### 7️⃣ Operadores de Identidad 🆔\n",
    "Verifican si dos variables apuntan al mismo objeto en memoria.\n",
    "\n",
    "| Operador | Nombre   | Ejemplo      | Resultado |\n",
    "|----------|---------|-------------|-----------|\n",
    "| `is`     | Es      | `x is y`    | `True` o `False` |\n",
    "| `is not` | No es   | `x is not y` | `True` o `False` |\n",
    "\n",
    "📌 **Ejemplo:**"
   ]
  },
  {
   "cell_type": "code",
   "execution_count": 6,
   "metadata": {},
   "outputs": [
    {
     "name": "stdout",
     "output_type": "stream",
     "text": [
      "True\n",
      "True\n"
     ]
    }
   ],
   "source": [
    "# Operadores de Identidad\n",
    "\n",
    "x = [1, 2, 3]\n",
    "y = x\n",
    "z = [1, 2, 3]\n",
    "print(x is y)    # True\n",
    "print(x is not z) # True"
   ]
  },
  {
   "cell_type": "markdown",
   "metadata": {},
   "source": [
    "---\n",
    "\n",
    "### 8️⃣ Operadores de Membresía 🔍\n",
    "Verifican si un valor está presente en una secuencia.\n",
    "\n",
    "| Operador | Nombre   | Ejemplo         | Resultado |\n",
    "|----------|---------|-----------------|-----------|\n",
    "| `in`     | En      | `3 in [1,2,3]`  | `True`    |\n",
    "| `not in` | No en   | `5 not in [1,2,3]` | `True` |\n",
    "\n",
    "📌 **Ejemplo:**\n"
   ]
  },
  {
   "cell_type": "code",
   "execution_count": 7,
   "metadata": {},
   "outputs": [
    {
     "name": "stdout",
     "output_type": "stream",
     "text": [
      "True\n",
      "True\n"
     ]
    }
   ],
   "source": [
    "# Operadores de Membresía\n",
    "\n",
    "lista = [1, 2, 3, 4]\n",
    "print(3 in lista)  # True\n",
    "print(5 not in lista)  # True"
   ]
  },
  {
   "cell_type": "markdown",
   "metadata": {},
   "source": [
    "## 📌 Conclusión\n",
    "\n",
    "Los operadores son fundamentales en cualquier lenguaje de programación. Permiten realizar cálculos, comparaciones y tomar decisiones en nuestros programas. 👩‍💻👨‍💻"
   ]
  }
 ],
 "metadata": {
  "kernelspec": {
   "display_name": "venvc",
   "language": "python",
   "name": "python3"
  },
  "language_info": {
   "codemirror_mode": {
    "name": "ipython",
    "version": 3
   },
   "file_extension": ".py",
   "mimetype": "text/x-python",
   "name": "python",
   "nbconvert_exporter": "python",
   "pygments_lexer": "ipython3",
   "version": "3.12.8"
  }
 },
 "nbformat": 4,
 "nbformat_minor": 2
}
