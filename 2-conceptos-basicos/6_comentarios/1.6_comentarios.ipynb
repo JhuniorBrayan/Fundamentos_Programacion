{
 "cells": [
  {
   "cell_type": "markdown",
   "metadata": {},
   "source": [
    "## Conceptos Básicos \n",
    "\n",
    "# **📝 Comentarios en Python**\n",
    "\n",
    "Los comentarios son líneas de código que no se ejecutan y sirven para explicar o documentar el código. Son esenciales para mejorar la legibilidad y mantenimiento de los programas.\n",
    "\n",
    "---\n",
    "\n",
    "## 📌 Importancia de Comentar el Código\n",
    "\n",
    "Comentar el código es una práctica recomendada por varias razones:\n",
    "- ✅ Facilita la comprensión del código para otros desarrolladores (¡y para ti en el futuro!).\n",
    "- ✅ Ayuda a depurar y mantener el código más fácilmente.\n",
    "- ✅ Permite documentar funciones, clases y módulos.\n",
    "- ✅ Explica la intención detrás de fragmentos de código complejos.\n",
    "\n",
    "---\n",
    "\n",
    "## ✍️ Tipos de Comentarios\n",
    "\n",
    "### 1️⃣ Comentarios de una sola línea\n",
    "Se utilizan para hacer anotaciones breves en una sola línea. Se escriben con el símbolo `#`."
   ]
  },
  {
   "cell_type": "code",
   "execution_count": null,
   "metadata": {},
   "outputs": [],
   "source": [
    "# Esto es un comentario en una sola línea\n",
    "x = 10  # Definimos una variable con valor 10"
   ]
  },
  {
   "cell_type": "markdown",
   "metadata": {},
   "source": [
    "### 2️⃣ Comentarios multilínea\n",
    "Se usan cuando se necesita una explicación más detallada. Se pueden hacer de dos maneras:\n",
    "\n",
    "#### 🔹 Usando `#` en varias líneas:\n",
    "```python\n",
    "# Este es un comentario\n",
    "# de varias líneas\n",
    "# usando el símbolo # en cada línea\n",
    "```\n",
    "\n",
    "#### 🔹 Usando cadenas de texto de varias líneas (`\"\"\"` o `'''`):"
   ]
  },
  {
   "cell_type": "code",
   "execution_count": null,
   "metadata": {},
   "outputs": [],
   "source": [
    "\"\"\"\n",
    "Este es un comentario de varias líneas.\n",
    "Suele utilizarse para documentar módulos, funciones y clases.\n",
    "\"\"\"\n",
    "print(\"Hola, Python\")\n"
   ]
  },
  {
   "cell_type": "markdown",
   "metadata": {},
   "source": [
    "⚠️ **Nota:** Aunque las triples comillas (`\"\"\"` o `'''`) son técnicamente cadenas de texto, Python las ignora si no se asignan a una variable, por lo que suelen usarse como comentarios multilínea."
   ]
  },
  {
   "cell_type": "markdown",
   "metadata": {},
   "source": [
    "---\n",
    "\n",
    "## 📖 Uso de Comentarios para Documentación\n",
    "\n",
    "En Python, los comentarios se utilizan también para documentar funciones y clases mediante **docstrings**.\n",
    "\n",
    "### 1️⃣ Documentando funciones con `docstrings`\n",
    "\n",
    "Los `docstrings` permiten describir la funcionalidad de una función. Se colocan inmediatamente después de la definición de la función."
   ]
  },
  {
   "cell_type": "code",
   "execution_count": null,
   "metadata": {},
   "outputs": [],
   "source": [
    "def suma(a, b):\n",
    "    \"\"\"Esta función recibe dos números y devuelve su suma.\"\"\"\n",
    "    return a + b"
   ]
  },
  {
   "cell_type": "markdown",
   "metadata": {},
   "source": [
    "\n",
    "Puedes acceder a la documentación de una función con `help(nombre_funcion)`, por ejemplo:\n",
    "```python\n",
    "help(suma)\n",
    "```"
   ]
  },
  {
   "cell_type": "code",
   "execution_count": null,
   "metadata": {},
   "outputs": [],
   "source": [
    "print(suma(5, 3))  # 8\n",
    "\n",
    "help(suma)"
   ]
  },
  {
   "cell_type": "code",
   "execution_count": null,
   "metadata": {},
   "outputs": [],
   "source": [
    "# help(nombre_funcion)\n",
    "\n",
    "help(range) # documentación de la funcion range"
   ]
  },
  {
   "cell_type": "markdown",
   "metadata": {},
   "source": [
    "### 2️⃣ Documentando Clases\n",
    "También podemos usar `docstrings` en clases:"
   ]
  },
  {
   "cell_type": "code",
   "execution_count": null,
   "metadata": {},
   "outputs": [],
   "source": [
    "class Persona:\n",
    "    \"\"\"Clase que representa a una persona con nombre y edad.\"\"\"\n",
    "    \n",
    "    def __init__(self, nombre, edad):\n",
    "        \"\"\"Inicializa la persona con su nombre y edad.\"\"\"\n",
    "        self.nombre = nombre\n",
    "        self.edad = edad"
   ]
  },
  {
   "cell_type": "markdown",
   "metadata": {},
   "source": [
    "---\n",
    "\n",
    "## 🔚 Conclusión\n",
    "\n",
    "Los comentarios son esenciales para escribir código limpio y comprensible. Usar comentarios de manera efectiva facilita la colaboración y el mantenimiento del código. \n",
    "\n",
    "🎯 **Pregunta para reflexionar:** ¿Cuántas veces has tenido que descifrar un código sin comentarios? 😵\n",
    "\n",
    "¡Recuerda! Comentar correctamente tu código es un hábito que te convertirá en un mejor programador. 🚀"
   ]
  }
 ],
 "metadata": {
  "kernelspec": {
   "display_name": "venvc",
   "language": "python",
   "name": "python3"
  },
  "language_info": {
   "codemirror_mode": {
    "name": "ipython",
    "version": 3
   },
   "file_extension": ".py",
   "mimetype": "text/x-python",
   "name": "python",
   "nbconvert_exporter": "python",
   "pygments_lexer": "ipython3",
   "version": "3.12.8"
  }
 },
 "nbformat": 4,
 "nbformat_minor": 2
}
