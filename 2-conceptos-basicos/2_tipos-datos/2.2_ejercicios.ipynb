{
 "cells": [
  {
   "cell_type": "markdown",
   "metadata": {},
   "source": [
    "## Ejercicios: Conceptos Básicos y Tipos de Datos \n",
    "### Nivel 1: Introducción (Fácil)\n",
    "\n",
    "1. Tipos básicos: Declara una variable de cada tipo primitivo (entero, flotante, booleano y cadena) y asígnale un valor. Luego, imprime el valor y el tipo de cada variable utilizando la función type()."
   ]
  },
  {
   "cell_type": "code",
   "execution_count": null,
   "metadata": {},
   "outputs": [],
   "source": []
  },
  {
   "cell_type": "markdown",
   "metadata": {},
   "source": [
    "2. Concatenación: Declara dos variables de tipo cadena y concaténalas en una nueva variable. Imprime el resultado."
   ]
  },
  {
   "cell_type": "code",
   "execution_count": null,
   "metadata": {},
   "outputs": [],
   "source": []
  },
  {
   "cell_type": "markdown",
   "metadata": {},
   "source": [
    "### Nivel 2: Operaciones Simples (Medio)\n",
    "3. Operaciones aritméticas: Declara dos variables numéricas y realiza operaciones aritméticas básicas (suma, resta, multiplicación y división) con ellas. Imprime los resultados.\n",
    "\n"
   ]
  },
  {
   "cell_type": "code",
   "execution_count": null,
   "metadata": {},
   "outputs": [],
   "source": []
  },
  {
   "cell_type": "markdown",
   "metadata": {},
   "source": [
    "4. Conversión implícita: Declara una variable entera y una variable flotante. Suma ambas variables y guarda el resultado en una nueva variable. Imprime el tipo de la nueva variable. ¿Qué tipo de conversión se realizó?"
   ]
  },
  {
   "cell_type": "code",
   "execution_count": null,
   "metadata": {},
   "outputs": [],
   "source": []
  },
  {
   "cell_type": "markdown",
   "metadata": {},
   "source": [
    "### Nivel 3: Conversión Explícita (Medio)\n",
    "5. Conversión de tipos: Declara una variable de tipo cadena que contenga un número (por ejemplo, \"10\"). Conviértela a tipo entero y luego a tipo flotante. Imprime los resultados y sus tipos.\n"
   ]
  },
  {
   "cell_type": "code",
   "execution_count": null,
   "metadata": {},
   "outputs": [],
   "source": []
  },
  {
   "cell_type": "markdown",
   "metadata": {},
   "source": [
    "6. Booleanos y comparaciones: Declara dos variables numéricas y utiliza operadores de comparación (>, <, ==, !=) para obtener valores booleanos. Imprime los resultados."
   ]
  },
  {
   "cell_type": "code",
   "execution_count": null,
   "metadata": {},
   "outputs": [],
   "source": []
  },
  {
   "cell_type": "markdown",
   "metadata": {},
   "source": [
    "### Nivel 4: Desafíos Lógicos (Más Difícil)\n",
    "7. Verificación de tipo: Declara una variable y utiliza la función isinstance() para verificar si es de un tipo específico (por ejemplo, entero o cadena). Imprime el resultado."
   ]
  },
  {
   "cell_type": "code",
   "execution_count": null,
   "metadata": {},
   "outputs": [],
   "source": []
  },
  {
   "cell_type": "markdown",
   "metadata": {},
   "source": [
    "8. Tipos de datos en listas: Crea una lista que contenga elementos de diferentes tipos de datos (enteros, cadenas, booleanos, etc.). Imprime la lista y luego imprime el tipo de cada elemento."
   ]
  },
  {
   "cell_type": "code",
   "execution_count": null,
   "metadata": {},
   "outputs": [],
   "source": []
  },
  {
   "cell_type": "markdown",
   "metadata": {},
   "source": [
    "### Nivel 5: Problemas de Lógica (Aún Más Difícil)\n",
    "9. Conversión y operaciones: Declara una variable de tipo cadena que contenga un número (por ejemplo, \"3.14\"). Conviértela a tipo flotante y luego realiza una operación matemática con ella (por ejemplo, calcular el área de un círculo con ese radio). Imprime el resultado."
   ]
  },
  {
   "cell_type": "code",
   "execution_count": null,
   "metadata": {},
   "outputs": [],
   "source": []
  },
  {
   "cell_type": "markdown",
   "metadata": {},
   "source": [
    "10. Tipos de datos y estructuras de control: Crea un programa que pregunte al usuario su edad y la guarde en una variable. Luego, utiliza una estructura de control if para verificar si la edad es un número entero positivo. Si lo es, imprime un mensaje felicitando al usuario. Si no, imprime un mensaje indicando que la edad no es válida."
   ]
  },
  {
   "cell_type": "code",
   "execution_count": null,
   "metadata": {},
   "outputs": [],
   "source": []
  },
  {
   "cell_type": "markdown",
   "metadata": {},
   "source": [
    "### Consejos Adicionales\n",
    "- ¡No te rindas! Si te atascas en un ejercicio, intenta dividir el problema en partes más pequeñas y abordarlas una por una.\n",
    "- ¡Investiga! Si no estás seguro de cómo hacer algo, busca en internet o consulta la documentación de tu lenguaje de programación.\n",
    "- ¡Practica! La mejor forma de aprender a programar es practicando. ¡Cuanto más practiques, mejor serás!\n",
    "\n",
    "¡Espero que estos ejercicios te sean útiles! Recuerda que lo más importante es divertirte y disfrutar del proceso de aprendizaje.  Si tienes alguna duda, no dudes en preguntar. ¡Mucho éxito en tu camino como programador!"
   ]
  }
 ],
 "metadata": {
  "kernelspec": {
   "display_name": "venvc",
   "language": "python",
   "name": "python3"
  },
  "language_info": {
   "name": "python",
   "version": "3.12.8"
  }
 },
 "nbformat": 4,
 "nbformat_minor": 2
}
