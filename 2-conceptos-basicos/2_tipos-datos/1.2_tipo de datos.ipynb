{
 "cells": [
  {
   "cell_type": "markdown",
   "metadata": {},
   "source": [
    "### 2. Conceptos Básicos\n",
    "\n",
    "# **1.2 Tipo de datos**\n",
    "\n",
    "En programación, los tipos de datos son como las etiquetas que le ponemos a la información para que la computadora sepa cómo debe tratarla.  Es como si tuviéramos diferentes tipos de cajas  para guardar diferentes cosas: una caja para números , otra para letras  y así sucesivamente.\n",
    "\n",
    "## Tipos de datos primitivos\n",
    "\n",
    "Los tipos de datos primitivos son los más básicos y simples. En Python, los más comunes son:\n",
    "\n",
    "- Enteros (int): Números enteros, como 1, 10, -5, etc. Ejemplo: edad = 30\n",
    "\n",
    "- Flotantes (float): Números con decimales, como 3.14, 2.5, -0.01, etc. Ejemplo: altura = 1.75\n",
    "\n",
    "- Booleanos (bool): Valores verdadero (True) o falso (False). Ejemplo: es_estudiante = True\n",
    "\n",
    "- Caracteres (str): Letras, palabras y textos en general. Se escriben entre comillas simples (' ') o dobles (\" \"). Ejemplo: nombre = \"Juan\"\n",
    "\n",
    "- Complejos (complex): Números con una parte real y una parte imaginaria. Se utilizan en matemáticas y ciencias para representar cantidades complejas. Ejemplo: z = 3 + 4i\n"
   ]
  },
  {
   "cell_type": "markdown",
   "metadata": {},
   "source": [
    "**Jupyter no exige definirlo como una variable, Python lo infiere en tiempo de ejución. Sin embargo, hay situaciones en las que puede ser útil o necesario especificar o definir el tipo de una variable. Por ejemplo:**"
   ]
  },
  {
   "cell_type": "code",
   "execution_count": 4,
   "metadata": {},
   "outputs": [
    {
     "name": "stdout",
     "output_type": "stream",
     "text": [
      "4\n"
     ]
    }
   ],
   "source": [
    "# Enteros(int)\n",
    "# Jupyter no exige definirlo como una variable,  Python lo infiere en tiempo de ejución\n",
    "4 "
   ]
  },
  {
   "cell_type": "code",
   "execution_count": null,
   "metadata": {},
   "outputs": [],
   "source": [
    "# Asignamos variables a los numeros para poder manipularlos \n",
    "n = 4 \n",
    "m = 8\n",
    "print(n+m) "
   ]
  },
  {
   "cell_type": "code",
   "execution_count": null,
   "metadata": {},
   "outputs": [],
   "source": [
    "# Flotante o decimal(float)\n",
    "3.1416"
   ]
  },
  {
   "cell_type": "code",
   "execution_count": 1,
   "metadata": {},
   "outputs": [
    {
     "name": "stdout",
     "output_type": "stream",
     "text": [
      "3.0216\n"
     ]
    }
   ],
   "source": [
    "f = 3.1616\n",
    "d = -0.14\n",
    "print(f+d)"
   ]
  },
  {
   "cell_type": "code",
   "execution_count": 8,
   "metadata": {},
   "outputs": [
    {
     "data": {
      "text/plain": [
       "False"
      ]
     },
     "execution_count": 8,
     "metadata": {},
     "output_type": "execute_result"
    }
   ],
   "source": [
    "# Booleanos(bool)\n",
    "True\n",
    "False"
   ]
  },
  {
   "cell_type": "code",
   "execution_count": 5,
   "metadata": {},
   "outputs": [
    {
     "name": "stdout",
     "output_type": "stream",
     "text": [
      "1\n"
     ]
    }
   ],
   "source": [
    "true = True  \n",
    "false = False\n",
    "print(true*false)"
   ]
  },
  {
   "cell_type": "code",
   "execution_count": 7,
   "metadata": {},
   "outputs": [
    {
     "data": {
      "text/plain": [
       "4j"
      ]
     },
     "execution_count": 7,
     "metadata": {},
     "output_type": "execute_result"
    }
   ],
   "source": [
    "# Complejos(complex)\n",
    "4j"
   ]
  },
  {
   "cell_type": "code",
   "execution_count": 7,
   "metadata": {},
   "outputs": [
    {
     "name": "stdout",
     "output_type": "stream",
     "text": [
      "20j\n"
     ]
    }
   ],
   "source": [
    "c = 4j \n",
    "d = 5\n",
    "print(c*d)"
   ]
  },
  {
   "cell_type": "code",
   "execution_count": null,
   "metadata": {},
   "outputs": [],
   "source": [
    "# Caracteres(str)\n",
    "\"Hola mundo\""
   ]
  },
  {
   "cell_type": "markdown",
   "metadata": {},
   "source": [
    "### Reutilización\n",
    "Al crear una estructura de cálculos con variables, podemos fácilmente adaptar sus valores para hacer distintas comprobaciones."
   ]
  },
  {
   "cell_type": "code",
   "execution_count": 8,
   "metadata": {},
   "outputs": [
    {
     "data": {
      "text/plain": [
       "3.5"
      ]
     },
     "execution_count": 8,
     "metadata": {},
     "output_type": "execute_result"
    }
   ],
   "source": [
    "nota_1 = 2\n",
    "nota_2 = 5\n",
    "nota_media = (nota_1 + nota_2) / 2\n",
    "nota_media"
   ]
  },
  {
   "cell_type": "markdown",
   "metadata": {},
   "source": [
    "### Asignación múltiple\n",
    "También podemos realizar **asignación múltiple** En \"x\" se guardará el 1 y en \"y\" se guardará el 2. La instruccion  <div><br><b>x, y = 1, 2</b> sería igual que:  <br><b>x = 1 <br>\n",
    "    y = 2</b></div>"
   ]
  },
  {
   "cell_type": "code",
   "execution_count": 11,
   "metadata": {},
   "outputs": [
    {
     "data": {
      "text/plain": [
       "(1, 2)"
      ]
     },
     "execution_count": 11,
     "metadata": {},
     "output_type": "execute_result"
    }
   ],
   "source": [
    "x, y = 1, 2\n",
    "x, y"
   ]
  },
  {
   "cell_type": "markdown",
   "metadata": {},
   "source": [
    "## Conversión de tipos (casting)\n",
    "\n",
    "A veces, necesitamos cambiar el tipo de dato de una variable. Por ejemplo, si tenemos un número en formato de cadena (\"10\") y queremos usarlo como un número entero, necesitamos convertirlo. Esto se llama \"casting\".\n",
    "\n",
    "**Ejemplos:**"
   ]
  },
  {
   "cell_type": "code",
   "execution_count": 14,
   "metadata": {},
   "outputs": [],
   "source": [
    "edad_str = \"25\"  # Cadena\n",
    "edad_int = int(edad_str)  # Entero\n",
    "altura_float = float(\"1.75\")  # Flotante\n",
    "\n",
    "print(type(edad_str))  # Imprime <class 'str'>\n",
    "print(type(edad_int))  # Imprime <class 'int'>\n",
    "print(type(altura_float))  # Imprime <class 'float'>\n",
    "\n",
    "# Estas son funciones de Python que usamos para convertir o coocer el valor de las  varibles # \"int\", \"float\" y \"type\""
   ]
  },
  {
   "cell_type": "markdown",
   "metadata": {},
   "source": [
    "## Tipos de datos estructurados\n",
    "Los tipos de datos estructurados se construyen a partir de los tipos primitivos y permiten almacenar colecciones de datos. Los más comunes en Python son:\n",
    "\n",
    "- Cadenas (str): Secuencias de caracteres. Ya los mencionamos antes, pero vale la pena recordarlos. Ejemplo: mensaje = \"Hola, mundo\"\n",
    "\n",
    "- Listas (list): Colecciones ordenadas de elementos. Los elementos pueden ser de diferentes tipos y se pueden modificar. Ejemplo: numeros = [1, 2, 3, 4, 5]\n",
    "\n",
    "- Tuplas (tuple): Similar a las listas, pero los elementos no se pueden modificar una vez creada la tupla. Ejemplo: coordenadas = (10, 20)\n",
    "\n",
    "- Diccionarios (dict): Colecciones de pares clave-valor. Cada clave está asociada a un valor. Ejemplo: persona = {\"nombre\": \"Juan\", \"edad\": 30}"
   ]
  },
  {
   "cell_type": "code",
   "execution_count": 13,
   "metadata": {},
   "outputs": [
    {
     "data": {
      "text/plain": [
       "'Hola insecto¿otra vez aqui?'"
      ]
     },
     "execution_count": 13,
     "metadata": {},
     "output_type": "execute_result"
    }
   ],
   "source": [
    "# Cadenas(str)\n",
    "\"Hola insecto\" + \"¿otra vez aqui?\""
   ]
  },
  {
   "cell_type": "code",
   "execution_count": null,
   "metadata": {},
   "outputs": [],
   "source": [
    "# Listas ==> se usa '[]' \n",
    "\n",
    "lista = [0, 1, 2, 3, 4, 5, 6, 7, 8, 9]"
   ]
  },
  {
   "cell_type": "code",
   "execution_count": null,
   "metadata": {},
   "outputs": [],
   "source": [
    "# Tuplas ==> se usa '()' \n",
    "tuplas = (0, 1, 2, 3, 4, 5, 6, 7, 8, 9)"
   ]
  },
  {
   "cell_type": "code",
   "execution_count": 29,
   "metadata": {},
   "outputs": [
    {
     "name": "stdout",
     "output_type": "stream",
     "text": [
      "0, persona:{'nombre': 'Juan', 'edad': 25, 'ciudad': 'México'}\n",
      "1, persona:{'nombre': 'María', 'edad': 30, 'ciudad': 'España'}\n",
      "2, persona:{'nombre': 'Pedro', 'edad': 20, 'ciudad': 'Argentina'}\n",
      "12345678\n",
      "87654321\n",
      "98765432\n"
     ]
    }
   ],
   "source": [
    "# Diccionarios  ==> se usa '{}' \n",
    "dic = {\"nombre\": \"Juan\", \"edad\":26, \"estado\":\"activo\"} \n",
    "\n",
    "# Esto es una lista de dicionarios \n",
    "humanos = [\n",
    "    {\"nombre\": \"Juan\", \"edad\": 25, \"ciudad\": \"México\"},\n",
    "    {\"nombre\": \"María\", \"edad\": 30, \"ciudad\": \"España\"},\n",
    "    {\"nombre\": \"Pedro\", \"edad\": 20, \"ciudad\": \"Argentina\"}\n",
    "]\n",
    "\n",
    "for indice, persona in enumerate(humanos):\n",
    "    print(f\"indice:{indice}, persona:{persona}\")\n",
    "\n",
    "# Diccionario con identificadores unicos \n",
    "personas = {\n",
    "    \"12345678\": {\"nombre\": \"Juan\", \"edad\": 25, \"ciudad\": \"México\"},\n",
    "    \"87654321\": {\"nombre\": \"María\", \"edad\": 30, \"ciudad\": \"España\"},\n",
    "    \"98765432\": {\"nombre\": \"Pedro\", \"edad\": 20, \"ciudad\": \"Argentina\"}\n",
    "}\n",
    "\n",
    "for p in personas:\n",
    "    print(p)"
   ]
  },
  {
   "cell_type": "code",
   "execution_count": null,
   "metadata": {},
   "outputs": [],
   "source": [
    "# Esto es una lista de dicionarios \n",
    "humanos = [\n",
    "    {\"nombre\": \"Juan\", \"edad\": 25, \"ciudad\": \"México\"},\n",
    "    {\"nombre\": \"María\", \"edad\": 30, \"ciudad\": \"España\"},\n",
    "    {\"nombre\": \"Pedro\", \"edad\": 20, \"ciudad\": \"Argentina\"}\n",
    "]\n",
    "\n",
    "for indice, persona in enumerate(humanos):\n",
    "    print(f\"indice:{indice}, persona:{persona}\")\n",
    "\n",
    "# Diccionario con identificadores unicos \n",
    "personas = {\n",
    "    \"12345678\": {\"nombre\": \"Juan\", \"edad\": 25, \"ciudad\": \"México\"},\n",
    "    \"87654321\": {\"nombre\": \"María\", \"edad\": 30, \"ciudad\": \"España\"},\n",
    "    \"98765432\": {\"nombre\": \"Pedro\", \"edad\": 20, \"ciudad\": \"Argentina\"}\n",
    "}\n",
    "\n",
    "for p in personas:\n",
    "    print(p)"
   ]
  },
  {
   "cell_type": "markdown",
   "metadata": {},
   "source": [
    "## Conclusión 🎯\n",
    "\n",
    "Los tipos de datos son esenciales para trabajar con información en programación. Entenderlos y saber cómo convertirlos nos permite manipular los datos de manera efectiva y resolver problemas de manera más eficiente.\n",
    "\n",
    "## ¡Recuerda!\n",
    "\n",
    "Los conceptos de tipos de datos son universales en programación. La sintaxis para declararlos y convertirlos puede variar entre lenguajes, pero la idea principal es la misma.\n",
    "¡Experimenta con diferentes tipos de datos y conversiones! La práctica hace al maestro. ‍\n",
    "Espero que este material te sea útil. ¡No dudes en preguntar si tienes alguna duda!"
   ]
  }
 ],
 "metadata": {
  "kernelspec": {
   "display_name": "venvc",
   "language": "python",
   "name": "python3"
  },
  "language_info": {
   "codemirror_mode": {
    "name": "ipython",
    "version": 3
   },
   "file_extension": ".py",
   "mimetype": "text/x-python",
   "name": "python",
   "nbconvert_exporter": "python",
   "pygments_lexer": "ipython3",
   "version": "3.12.8"
  }
 },
 "nbformat": 4,
 "nbformat_minor": 2
}
