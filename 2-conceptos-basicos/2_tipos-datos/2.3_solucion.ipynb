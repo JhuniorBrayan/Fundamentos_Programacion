{
 "cells": [
  {
   "cell_type": "markdown",
   "metadata": {},
   "source": [
    "## Ejercicios: Conceptos Básicos y Tipos de Datos \n",
    "\n",
    "### Nivel 1: Introducción (Fácil)\n",
    "\n",
    "1. Tipos básicos: Declara una variable de cada tipo primitivo (entero, flotante, booleano y cadena) y asígnale un valor. Luego, imprime el valor y el tipo de cada variable utilizando la función type()."
   ]
  },
  {
   "cell_type": "code",
   "execution_count": null,
   "metadata": {},
   "outputs": [],
   "source": [
    "entero = 10\n",
    "flotante = 3.14\n",
    "booleano = True\n",
    "cadena = \"Hola, mundo\"\n",
    "\n",
    "print(\"Entero:\", entero, type(entero))\n",
    "print(\"Flotante:\", flotante, type(flotante))\n",
    "print(\"Booleano:\", booleano, type(booleano))\n",
    "print(\"Cadena:\", cadena, type(cadena))"
   ]
  },
  {
   "cell_type": "markdown",
   "metadata": {},
   "source": [
    "2. Concatenación: Declara dos variables de tipo cadena y concaténalas en una nueva variable. Imprime el resultado."
   ]
  },
  {
   "cell_type": "code",
   "execution_count": 1,
   "metadata": {},
   "outputs": [
    {
     "name": "stdout",
     "output_type": "stream",
     "text": [
      "Hola Mundo\n"
     ]
    }
   ],
   "source": [
    "cadena1 = \"Hola\"\n",
    "cadena2 = \"Mundo\"\n",
    "\n",
    "concatenacion = cadena1 + \" \" + cadena2\n",
    "\n",
    "print(concatenacion)"
   ]
  },
  {
   "cell_type": "markdown",
   "metadata": {},
   "source": [
    "### Nivel 2: Operaciones Simples (Medio)\n",
    "3. Operaciones aritméticas: Declara dos variables numéricas y realiza operaciones aritméticas básicas (suma, resta, multiplicación y división) con ellas. Imprime los resultados.\n",
    "\n"
   ]
  },
  {
   "cell_type": "code",
   "execution_count": null,
   "metadata": {},
   "outputs": [],
   "source": [
    "num1 = 10\n",
    "num2 = 5\n",
    "\n",
    "suma = num1 + num2\n",
    "resta = num1 - num2\n",
    "multiplicacion = num1 * num2\n",
    "division = num1 / num2\n",
    "\n",
    "print(\"Suma:\", suma)\n",
    "print(\"Resta:\", resta)\n",
    "print(\"Multiplicación:\", multiplicacion)\n",
    "print(\"División:\", division)"
   ]
  },
  {
   "cell_type": "markdown",
   "metadata": {},
   "source": [
    "4. Conversión implícita: Declara una variable entera y una variable flotante. Suma ambas variables y guarda el resultado en una nueva variable. Imprime el tipo de la nueva variable. ¿Qué tipo de conversión se realizó?"
   ]
  },
  {
   "cell_type": "code",
   "execution_count": null,
   "metadata": {},
   "outputs": [],
   "source": [
    "entero = 10\n",
    "flotante = 3.14\n",
    "\n",
    "suma = entero + flotante\n",
    "\n",
    "print(\"Suma:\", suma, type(suma))"
   ]
  },
  {
   "cell_type": "markdown",
   "metadata": {},
   "source": [
    "### Nivel 3: Conversión Explícita (Medio)\n",
    "5. Conversión de tipos: Declara una variable de tipo cadena que contenga un número (por ejemplo, \"10\"). Conviértela a tipo entero y luego a tipo flotante. Imprime los resultados y sus tipos.\n"
   ]
  },
  {
   "cell_type": "code",
   "execution_count": null,
   "metadata": {},
   "outputs": [],
   "source": [
    "num1 = 10\n",
    "num2 = 5\n",
    "\n",
    "mayor = num1 > num2\n",
    "menor = num1 < num2\n",
    "igual = num1 == num2\n",
    "diferente = num1 != num2\n",
    "\n",
    "print(\"Mayor:\", mayor)\n",
    "print(\"Menor:\", menor)\n",
    "print(\"Igual:\", igual)\n",
    "print(\"Diferente:\", diferente)"
   ]
  },
  {
   "cell_type": "markdown",
   "metadata": {},
   "source": [
    "6. Booleanos y comparaciones: Declara dos variables numéricas y utiliza operadores de comparación (>, <, ==, !=) para obtener valores booleanos. Imprime los resultados."
   ]
  },
  {
   "cell_type": "code",
   "execution_count": null,
   "metadata": {},
   "outputs": [],
   "source": [
    "num1 = 10\n",
    "num2 = 5\n",
    "\n",
    "mayor = num1 > num2\n",
    "menor = num1 < num2\n",
    "igual = num1 == num2\n",
    "diferente = num1 != num2\n",
    "\n",
    "print(\"Mayor:\", mayor)\n",
    "print(\"Menor:\", menor)\n",
    "print(\"Igual:\", igual)\n",
    "print(\"Diferente:\", diferente)"
   ]
  },
  {
   "cell_type": "markdown",
   "metadata": {},
   "source": [
    "### Nivel 4: Desafíos Lógicos (Más Difícil)\n",
    "7. Verificación de tipo: Declara una variable y utiliza la función isinstance() para verificar si es de un tipo específico (por ejemplo, entero o cadena). Imprime el resultado."
   ]
  },
  {
   "cell_type": "code",
   "execution_count": null,
   "metadata": {},
   "outputs": [],
   "source": [
    "variable = \"Hola\"\n",
    "\n",
    "es_entero = isinstance(variable, int)\n",
    "es_cadena = isinstance(variable, str)\n",
    "\n",
    "print(\"¿Es entero?\", es_entero)\n",
    "print(\"¿Es cadena?\", es_cadena)"
   ]
  },
  {
   "cell_type": "markdown",
   "metadata": {},
   "source": [
    "8. Tipos de datos en listas: Crea una lista que contenga elementos de diferentes tipos de datos (enteros, cadenas, booleanos, etc.). Imprime la lista y luego imprime el tipo de cada elemento."
   ]
  },
  {
   "cell_type": "code",
   "execution_count": null,
   "metadata": {},
   "outputs": [],
   "source": [
    "lista = [10, \"Hola\", True, 3.14]\n",
    "\n",
    "print(\"Lista:\", lista)\n",
    "\n",
    "for elemento in lista:\n",
    "  print(\"Elemento:\", elemento, type(elemento))"
   ]
  },
  {
   "cell_type": "markdown",
   "metadata": {},
   "source": [
    "### Nivel 5: Problemas de Lógica (Aún Más Difícil)\n",
    "9. Conversión y operaciones: Declara una variable de tipo cadena que contenga un número (por ejemplo, \"3.14\"). Conviértela a tipo flotante y luego realiza una operación matemática con ella (por ejemplo, calcular el área de un círculo con ese radio). Imprime el resultado."
   ]
  },
  {
   "cell_type": "code",
   "execution_count": null,
   "metadata": {},
   "outputs": [],
   "source": [
    "cadena_radio = \"3.14\"\n",
    "\n",
    "radio = float(cadena_radio)\n",
    "area = 3.14159 * radio**2\n",
    "\n",
    "print(\"Área:\", area)"
   ]
  },
  {
   "cell_type": "markdown",
   "metadata": {},
   "source": [
    "10. Tipos de datos y estructuras de control: Crea un programa que pregunte al usuario su edad y la guarde en una variable. Luego, utiliza una estructura de control if para verificar si la edad es un número entero positivo. Si lo es, imprime un mensaje felicitando al usuario. Si no, imprime un mensaje indicando que la edad no es válida."
   ]
  },
  {
   "cell_type": "code",
   "execution_count": null,
   "metadata": {},
   "outputs": [],
   "source": [
    "edad_str = input(\"Ingrese su edad: \")\n",
    "\n",
    "if edad_str.isdigit():\n",
    "  edad = int(edad_str)\n",
    "  if edad > 0:\n",
    "    print(\"¡Felicidades por cumplir\", edad, \"años!\")\n",
    "  else:\n",
    "    print(\"La edad debe ser un número positivo.\")\n",
    "else:\n",
    "  print(\"La edad debe ser un número entero.\")"
   ]
  },
  {
   "cell_type": "markdown",
   "metadata": {},
   "source": [
    "### Consejos Adicionales\n",
    "- ¡No te rindas! Si te atascas en un ejercicio, intenta dividir el problema en partes más pequeñas y abordarlas una por una.\n",
    "- ¡Investiga! Si no estás seguro de cómo hacer algo, busca en internet o consulta la documentación de tu lenguaje de programación.\n",
    "- ¡Practica! La mejor forma de aprender a programar es practicando. ¡Cuanto más practiques, mejor serás!\n",
    "\n",
    "¡Espero que estos ejercicios te sean útiles! Recuerda que lo más importante es divertirte y disfrutar del proceso de aprendizaje.  Si tienes alguna duda, no dudes en preguntar. ¡Mucho éxito en tu camino como programador!"
   ]
  }
 ],
 "metadata": {
  "kernelspec": {
   "display_name": "venvc",
   "language": "python",
   "name": "python3"
  },
  "language_info": {
   "codemirror_mode": {
    "name": "ipython",
    "version": 3
   },
   "file_extension": ".py",
   "mimetype": "text/x-python",
   "name": "python",
   "nbconvert_exporter": "python",
   "pygments_lexer": "ipython3",
   "version": "3.12.8"
  }
 },
 "nbformat": 4,
 "nbformat_minor": 2
}
