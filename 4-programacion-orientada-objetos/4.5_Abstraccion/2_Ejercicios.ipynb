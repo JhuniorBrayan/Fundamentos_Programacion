{
 "cells": [
  {
   "cell_type": "markdown",
   "metadata": {},
   "source": [
    "## Ejercicios: POO - Abstracción\n",
    "\n",
    "\n",
    "### Nivel 1: Introducción a la Abstracción\n",
    "1. Clase abstracta Animal y clases derivadas:\n",
    "\n",
    "    - Crea una clase abstracta llamada Animal con un método abstracto hacer_sonido().\n",
    "    - Crea clases concretas llamadas Perro y Gato que hereden de la clase Animal.\n",
    "    - Implementa el método hacer_sonido() en cada clase derivada para que imprima el sonido específico del animal (\"Guau!\" para Perro, \"Miau!\" para Gato).\n",
    "    - Crea objetos de las clases Perro y Gato y llama al método hacer_sonido() para cada objeto."
   ]
  },
  {
   "cell_type": "code",
   "execution_count": null,
   "metadata": {
    "vscode": {
     "languageId": "plaintext"
    }
   },
   "outputs": [],
   "source": []
  },
  {
   "cell_type": "markdown",
   "metadata": {},
   "source": [
    "2. Clase abstracta Forma y clases derivadas:\n",
    "\n",
    "    - Crea una clase abstracta llamada Forma con un método abstracto calcular_area().\n",
    "    - Crea clases concretas llamadas Rectangulo y Circulo que hereden de la clase Forma.\n",
    "    - Implementa el método calcular_area() en cada clase derivada para calcular el área correspondiente (lado * lado para Rectangulo, pi * radio * radio para Circulo).\n",
    "    - Crea objetos de las clases Rectangulo y Circulo y llama al método calcular_area() para cada objeto."
   ]
  },
  {
   "cell_type": "code",
   "execution_count": null,
   "metadata": {
    "vscode": {
     "languageId": "plaintext"
    }
   },
   "outputs": [],
   "source": []
  },
  {
   "cell_type": "markdown",
   "metadata": {},
   "source": [
    "### Nivel 2: Abstracción en el Mundo Real\n",
    "3. Clase abstracta Vehiculo y clases derivadas:\n",
    "\n",
    "    - Crea una clase abstracta llamada Vehiculo con métodos abstractos conducir() y cargar_combustible().\n",
    "    - Crea clases concretas llamadas Coche, Moto y Camion que hereden de la clase Vehiculo.\n",
    "    - Implementa los métodos abstractos en cada clase derivada para simular la conducción y carga de combustible del vehículo correspondiente.\n",
    "    - Crea objetos de las clases Coche, Moto y Camion y llama a los métodos conducir() y cargar_combustible() para cada objeto."
   ]
  },
  {
   "cell_type": "code",
   "execution_count": null,
   "metadata": {
    "vscode": {
     "languageId": "plaintext"
    }
   },
   "outputs": [],
   "source": []
  },
  {
   "cell_type": "markdown",
   "metadata": {},
   "source": [
    "### Nivel 3: Abstracción y Polimorfismo\n",
    "4. Clase abstracta InstrumentoMusical y clases derivadas:\n",
    "\n",
    "    - Crea una clase abstracta llamada InstrumentoMusical con un método abstracto tocar().\n",
    "    - Crea clases concretas llamadas Guitarra, Piano y Bateria que hereden de la clase InstrumentoMusical.\n",
    "    - Implementa el método tocar() en cada clase derivada para que simule el sonido del instrumento correspondiente.\n",
    "    - Crea una lista de objetos de tipo InstrumentoMusical (pueden ser tanto Guitarra como Piano o Bateria).\n",
    "    - Recorre la lista y llama al método tocar() para cada objeto. Observa cómo se ejecuta el método correcto según el tipo de objeto (polimorfismo)."
   ]
  },
  {
   "cell_type": "code",
   "execution_count": null,
   "metadata": {
    "vscode": {
     "languageId": "plaintext"
    }
   },
   "outputs": [],
   "source": []
  },
  {
   "cell_type": "markdown",
   "metadata": {},
   "source": [
    "### Nivel 4: Abstracción y Herencia\n",
    "5. Clase abstracta Empleado y clases derivadas:\n",
    "\n",
    "    - Crea una clase abstracta llamada Empleado con atributos nombre (cadena) y salario (flotante) y métodos abstractos calcular_salario() y mostrar_informacion().\n",
    "    - Crea clases concretas llamadas Gerente y Programador que hereden de la clase Empleado.\n",
    "    - Implementa los métodos abstractos en cada clase derivada para calcular el salario y mostrar la información del empleado (el salario de un gerente puede ser diferente al de un programador).\n",
    "    - Crea objetos de las clases Gerente y Programador y llama a los métodos calcular_salario() y mostrar_informacion() para cada objeto."
   ]
  },
  {
   "cell_type": "code",
   "execution_count": null,
   "metadata": {
    "vscode": {
     "languageId": "plaintext"
    }
   },
   "outputs": [],
   "source": []
  },
  {
   "cell_type": "markdown",
   "metadata": {},
   "source": [
    "### ¡No te rindas!\n",
    "Recuerda que la clave para dominar la abstracción está en la práctica constante. Intenta resolver los ejercicios por tu cuenta y, si te encuentras con alguna dificultad, no dudes en consultar la documentación de Python o buscar ejemplos en línea. ¡Mucho éxito en tu aprendizaje!"
   ]
  }
 ],
 "metadata": {
  "language_info": {
   "name": "python"
  }
 },
 "nbformat": 4,
 "nbformat_minor": 2
}
