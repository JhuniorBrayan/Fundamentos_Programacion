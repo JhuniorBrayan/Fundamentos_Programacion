{
 "cells": [
  {
   "cell_type": "markdown",
   "metadata": {},
   "source": [
    "## Ejercicios: POO - Abstracción\n",
    "\n",
    "\n",
    "### Nivel 1: Introducción a la Abstracción\n",
    "1. Clase abstracta Animal y clases derivadas:\n",
    "\n",
    "    - Crea una clase abstracta llamada Animal con un método abstracto hacer_sonido().\n",
    "    - Crea clases concretas llamadas Perro y Gato que hereden de la clase Animal.\n",
    "    - Implementa el método hacer_sonido() en cada clase derivada para que imprima el sonido específico del animal (\"Guau!\" para Perro, \"Miau!\" para Gato).\n",
    "    - Crea objetos de las clases Perro y Gato y llama al método hacer_sonido() para cada objeto."
   ]
  },
  {
   "cell_type": "code",
   "execution_count": null,
   "metadata": {
    "vscode": {
     "languageId": "plaintext"
    }
   },
   "outputs": [],
   "source": [
    "from abc import ABC, abstractmethod\n",
    "\n",
    "class Animal(ABC):  # Clase abstracta\n",
    "    @abstractmethod\n",
    "    def hacer_sonido(self):\n",
    "        pass  # Método abstracto\n",
    "\n",
    "class Perro(Animal):  # Clase concreta\n",
    "    def hacer_sonido(self):  # Implementación del método abstracto\n",
    "        print(\"Guau!\")\n",
    "\n",
    "class Gato(Animal):  # Clase concreta\n",
    "    def hacer_sonido(self):  # Implementación del método abstracto\n",
    "        print(\"Miau!\")\n",
    "\n",
    "mi_perro = Perro()\n",
    "mi_gato = Gato()\n",
    "\n",
    "mi_perro.hacer_sonido()  # Salida: Guau!\n",
    "mi_gato.hacer_sonido()  # Salida: Miau!"
   ]
  },
  {
   "cell_type": "markdown",
   "metadata": {},
   "source": [
    "2. Clase abstracta Forma y clases derivadas:\n",
    "\n",
    "    - Crea una clase abstracta llamada Forma con un método abstracto calcular_area().\n",
    "    - Crea clases concretas llamadas Rectangulo y Circulo que hereden de la clase Forma.\n",
    "    - Implementa el método calcular_area() en cada clase derivada para calcular el área correspondiente (lado * lado para Rectangulo, pi * radio * radio para Circulo).\n",
    "    - Crea objetos de las clases Rectangulo y Circulo y llama al método calcular_area() para cada objeto."
   ]
  },
  {
   "cell_type": "code",
   "execution_count": null,
   "metadata": {
    "vscode": {
     "languageId": "plaintext"
    }
   },
   "outputs": [],
   "source": [
    "from abc import ABC, abstractmethod\n",
    "\n",
    "class Forma(ABC):  # Clase abstracta\n",
    "    @abstractmethod\n",
    "    def calcular_area(self):\n",
    "        pass  # Método abstracto\n",
    "\n",
    "class Rectangulo(Forma):  # Clase concreta\n",
    "    def __init__(self, base, altura):\n",
    "        self.base = base\n",
    "        self.altura = altura\n",
    "\n",
    "    def calcular_area(self):  # Implementación del método abstracto\n",
    "        return self.base * self.altura\n",
    "\n",
    "class Circulo(Forma):  # Clase concreta\n",
    "    def __init__(self, radio):\n",
    "        self.radio = radio\n",
    "\n",
    "    def calcular_area(self):  # Implementación del método abstracto\n",
    "        import math\n",
    "        return math.pi * self.radio**2\n",
    "\n",
    "mi_rectangulo = Rectangulo(5, 10)\n",
    "mi_circulo = Circulo(5)\n",
    "\n",
    "print(mi_rectangulo.calcular_area())  # Salida: 50\n",
    "print(mi_circulo.calcular_area())  # Salida: 78.53981633974483"
   ]
  },
  {
   "cell_type": "markdown",
   "metadata": {},
   "source": [
    "### Nivel 2: Abstracción en el Mundo Real\n",
    "3. Clase abstracta Vehiculo y clases derivadas:\n",
    "\n",
    "    - Crea una clase abstracta llamada Vehiculo con métodos abstractos conducir() y cargar_combustible().\n",
    "    - Crea clases concretas llamadas Coche, Moto y Camion que hereden de la clase Vehiculo.\n",
    "    - Implementa los métodos abstractos en cada clase derivada para simular la conducción y carga de combustible del vehículo correspondiente.\n",
    "    - Crea objetos de las clases Coche, Moto y Camion y llama a los métodos conducir() y cargar_combustible() para cada objeto."
   ]
  },
  {
   "cell_type": "code",
   "execution_count": null,
   "metadata": {
    "vscode": {
     "languageId": "plaintext"
    }
   },
   "outputs": [],
   "source": [
    "from abc import ABC, abstractmethod\n",
    "\n",
    "class Vehiculo(ABC):  # Clase abstracta\n",
    "    @abstractmethod\n",
    "    def conducir(self):\n",
    "        pass  # Método abstracto\n",
    "\n",
    "    @abstractmethod\n",
    "    def cargar_combustible(self):\n",
    "        pass  # Método abstracto\n",
    "\n",
    "class Coche(Vehiculo):  # Clase concreta\n",
    "    def conducir(self):  # Implementación del método abstracto\n",
    "        print(\"Conduciendo un coche\")\n",
    "\n",
    "    def cargar_combustible(self):  # Implementación del método abstracto\n",
    "        print(\"Cargando gasolina\")\n",
    "\n",
    "class Moto(Vehiculo):  # Clase concreta\n",
    "    def conducir(self):  # Implementación del método abstracto\n",
    "        print(\"Conduciendo una moto\")\n",
    "\n",
    "    def cargar_combustible(self):  # Implementación del método abstracto\n",
    "        print(\"Cargando gasolina\")\n",
    "\n",
    "class Camion(Vehiculo):  # Clase concreta\n",
    "    def conducir(self):  # Implementación del método abstracto\n",
    "        print(\"Conduciendo un camión\")\n",
    "\n",
    "    def cargar_combustible(self):  # Implementación del método abstracto\n",
    "        print(\"Cargando diésel\")\n",
    "\n",
    "mi_coche = Coche()\n",
    "mi_moto = Moto()\n",
    "mi_camion = Camion()\n",
    "\n",
    "mi_coche.conducir()  # Salida: Conduciendo un coche\n",
    "mi_coche.cargar_combustible()  # Salida: Cargando gasolina\n",
    "\n",
    "mi_moto.conducir()  # Salida: Conduciendo una moto\n",
    "mi_moto.cargar_combustible()  # Salida: Cargando gasolina\n",
    "\n",
    "mi_camion.conducir()  # Salida: Conduciendo un camión\n",
    "mi_camion.cargar_combustible()  # Salida: Cargando diésel"
   ]
  },
  {
   "cell_type": "markdown",
   "metadata": {},
   "source": [
    "### Nivel 3: Abstracción y Polimorfismo\n",
    "4. Clase abstracta InstrumentoMusical y clases derivadas:\n",
    "\n",
    "    - Crea una clase abstracta llamada InstrumentoMusical con un método abstracto tocar().\n",
    "    - Crea clases concretas llamadas Guitarra, Piano y Bateria que hereden de la clase InstrumentoMusical.\n",
    "    - Implementa el método tocar() en cada clase derivada para que simule el sonido del instrumento correspondiente.\n",
    "    - Crea una lista de objetos de tipo InstrumentoMusical (pueden ser tanto Guitarra como Piano o Bateria).\n",
    "    - Recorre la lista y llama al método tocar() para cada objeto. Observa cómo se ejecuta el método correcto según el tipo de objeto (polimorfismo)."
   ]
  },
  {
   "cell_type": "code",
   "execution_count": null,
   "metadata": {
    "vscode": {
     "languageId": "plaintext"
    }
   },
   "outputs": [],
   "source": [
    "from abc import ABC, abstractmethod\n",
    "\n",
    "class InstrumentoMusical(ABC):  # Clase abstracta\n",
    "    @abstractmethod\n",
    "    def tocar(self):\n",
    "        pass  # Método abstracto\n",
    "\n",
    "class Guitarra(InstrumentoMusical):  # Clase concreta\n",
    "    def tocar(self):  # Implementación del método abstracto\n",
    "        print(\"Sonido de guitarra\")\n",
    "\n",
    "class Piano(InstrumentoMusical):  # Clase concreta\n",
    "    def tocar(self):  # Implementación del método abstracto\n",
    "        print(\"Sonido de piano\")\n",
    "\n",
    "class Bateria(InstrumentoMusical):  # Clase concreta\n",
    "    def tocar(self):  # Implementación del método abstracto\n",
    "        print(\"Sonido de batería\")\n",
    "\n",
    "instrumentos = [Guitarra(), Piano(), Bateria()]  # Lista de objetos InstrumentoMusical\n",
    "\n",
    "for instrumento in instrumentos:\n",
    "    instrumento.tocar()  # Polimorfismo: cada objeto ejecuta su método específico\n",
    "# Salida:\n",
    "# Sonido de guitarra\n",
    "# Sonido de piano\n",
    "# Sonido de batería"
   ]
  },
  {
   "cell_type": "markdown",
   "metadata": {},
   "source": [
    "### Nivel 4: Abstracción y Herencia\n",
    "5. Clase abstracta Empleado y clases derivadas:\n",
    "\n",
    "    - Crea una clase abstracta llamada Empleado con atributos nombre (cadena) y salario (flotante) y métodos abstractos calcular_salario() y mostrar_informacion().\n",
    "    - Crea clases concretas llamadas Gerente y Programador que hereden de la clase Empleado.\n",
    "    - Implementa los métodos abstractos en cada clase derivada para calcular el salario y mostrar la información del empleado (el salario de un gerente puede ser diferente al de un programador).\n",
    "    - Crea objetos de las clases Gerente y Programador y llama a los métodos calcular_salario() y mostrar_informacion() para cada objeto."
   ]
  },
  {
   "cell_type": "code",
   "execution_count": null,
   "metadata": {
    "vscode": {
     "languageId": "plaintext"
    }
   },
   "outputs": [],
   "source": [
    "from abc import ABC, abstractmethod\n",
    "\n",
    "class Empleado(ABC):  # Clase abstracta\n",
    "    def __init__(self, nombre, salario):\n",
    "        self.nombre = nombre\n",
    "        self.salario = salario\n",
    "\n",
    "    @abstractmethod\n",
    "    def calcular_salario(self):\n",
    "        pass  # Método abstracto\n",
    "\n",
    "    @abstractmethod\n",
    "    def mostrar_informacion(self):\n",
    "        pass  # Método abstracto\n",
    "\n",
    "class Gerente(Empleado):  # Clase concreta\n",
    "    def calcular_salario(self):  # Implementación del método abstracto\n",
    "        return self.salario * 1.1  # Salario con un aumento del 10%\n",
    "\n",
    "    def mostrar_informacion(self):  # Implementación del método abstracto\n",
    "        print(f\"Nombre: {self.nombre}\")\n",
    "        print(f\"Salario: {self.calcular_salario()}\")\n",
    "        print(\"Cargo: Gerente\")\n",
    "\n",
    "class Programador(Empleado):  # Clase concreta\n",
    "    def calcular_salario(self):  # Implementación del método abstracto\n",
    "        return self.salario + 5000  # Salario con un bono de 5000\n",
    "\n",
    "    def mostrar_informacion(self):  # Implementación del método abstracto\n",
    "        print(f\"Nombre: {self.nombre}\")\n",
    "        print(f\"Salario: {self.calcular_salario()}\")\n",
    "        print(\"Cargo: Programador\")\n",
    "\n",
    "mi_gerente = Gerente(\"Ana\", 100000)\n",
    "mi_programador = Programador(\"Carlos\", 80000)\n",
    "\n",
    "mi_gerente.mostrar_informacion()\n",
    "# Salida:\n",
    "# Nombre: Ana\n",
    "# Salario: 110000.0\n",
    "# Cargo: Gerente\n",
    "\n",
    "mi_programador.mostrar_informacion()\n",
    "# Salida:\n",
    "# Nombre: Carlos\n",
    "# Salario: 85000\n",
    "# Cargo: Programador"
   ]
  },
  {
   "cell_type": "markdown",
   "metadata": {},
   "source": [
    "### ¡No te rindas!\n",
    "Recuerda que la clave para dominar la abstracción está en la práctica constante. Intenta resolver los ejercicios por tu cuenta y, si te encuentras con alguna dificultad, no dudes en consultar la documentación de Python o buscar ejemplos en línea. ¡Mucho éxito en tu aprendizaje!"
   ]
  }
 ],
 "metadata": {
  "language_info": {
   "name": "python"
  }
 },
 "nbformat": 4,
 "nbformat_minor": 2
}
