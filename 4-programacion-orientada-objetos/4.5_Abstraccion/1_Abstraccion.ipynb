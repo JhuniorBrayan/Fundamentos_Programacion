{
 "cells": [
  {
   "cell_type": "markdown",
   "metadata": {},
   "source": [
    "## 4. Programación Orientada a Objetos\n",
    "\n",
    "# **📌 Abstracción**\n",
    "\n",
    "La **abstracción** es uno de los pilares fundamentales de la Programación Orientada a Objetos (POO). Permite simplificar la complejidad del código al ocultar detalles innecesarios y exponer solo lo esencial.\n",
    "\n",
    "### 📖 Contexto\n",
    "En el desarrollo de software, manejar grandes volúmenes de código sin una estructura adecuada puede ser complicado. La abstracción nos ayuda a centrarnos en lo importante, ocultando la implementación interna y mostrando solo lo necesario.\n",
    "\n",
    "### 🎯 Objetivo\n",
    "En esta sección, aprenderás:\n",
    "- Qué es la abstracción en POO.\n",
    "- Cómo se implementa en Python.\n",
    "- Sus ventajas y aplicaciones en el mundo real.\n",
    "\n",
    "---\n",
    "\n",
    "## 🔍 Concepto de Abstracción\n",
    "La abstracción se basa en la idea de **ocultar la implementación interna y exponer solo las funcionalidades necesarias**. Se logra mediante **clases abstractas** e **interfaces**.\n",
    "\n",
    "Ejemplo cotidiano: \n",
    "- Al usar un coche, simplemente presionamos el acelerador para avanzar. No necesitamos conocer los detalles internos del motor.\n",
    "\n",
    "En programación, aplicamos este mismo principio mediante **clases abstractas**.\n",
    "\n",
    "---\n",
    "\n",
    "## 🛠 Implementación en Python\n",
    "Python permite la abstracción mediante el módulo `abc` (Abstract Base Class).\n",
    "\n",
    "### 🔹 Creando una Clase Abstracta\n",
    "\n"
   ]
  },
  {
   "cell_type": "code",
   "execution_count": null,
   "metadata": {
    "vscode": {
     "languageId": "plaintext"
    }
   },
   "outputs": [],
   "source": [
    "from abc import ABC, abstractmethod\n",
    "\n",
    "class FiguraGeometrica(ABC):\n",
    "    @abstractmethod\n",
    "    def area(self):\n",
    "        pass\n",
    "    \n",
    "    @abstractmethod\n",
    "    def perimetro(self):\n",
    "        pass"
   ]
  },
  {
   "cell_type": "markdown",
   "metadata": {},
   "source": [
    "Aquí, `FiguraGeometrica` es una clase abstracta. No se puede instanciar directamente y obliga a las clases hijas a definir los métodos `area` y `perimetro`.\n",
    "\n",
    "### 🔹 Implementando una Clase Concreta"
   ]
  },
  {
   "cell_type": "code",
   "execution_count": null,
   "metadata": {
    "vscode": {
     "languageId": "plaintext"
    }
   },
   "outputs": [],
   "source": [
    "class Cuadrado(FiguraGeometrica):\n",
    "    def __init__(self, lado):\n",
    "        self.lado = lado\n",
    "    \n",
    "    def area(self):\n",
    "        return self.lado ** 2\n",
    "    \n",
    "    def perimetro(self):\n",
    "        return 4 * self.lado\n",
    "\n",
    "# Uso\n",
    "c = Cuadrado(5)\n",
    "print(\"Área:\", c.area())  # 25\n",
    "print(\"Perímetro:\", c.perimetro())  # 20\n"
   ]
  },
  {
   "cell_type": "markdown",
   "metadata": {},
   "source": [
    "Aquí, `Cuadrado` hereda de `FiguraGeometrica` e implementa los métodos abstractos obligatorios.\n",
    "\n",
    "---\n",
    "\n",
    "## 🚀 Beneficios de la Abstracción\n",
    "✅ **Facilita el mantenimiento:** Separar la interfaz de la implementación permite modificar partes del código sin afectar otras.\n",
    "\n",
    "✅ **Reduce la complejidad:** Se enfoca en la funcionalidad clave sin preocuparse por los detalles internos.\n",
    "\n",
    "✅ **Mejora la reutilización:** Permite definir estructuras generales que pueden ser reutilizadas por múltiples clases.\n",
    "\n",
    "---\n",
    "\n",
    "## 🏁 Conclusión\n",
    "La abstracción es una herramienta poderosa en POO que permite construir sistemas más organizados y fáciles de mantener. 🎯\n",
    "\n",
    "🔹 ¿Cómo aplicarías la abstracción en un sistema de gestión de empleados? ¡Piénsalo! 🤔"
   ]
  }
 ],
 "metadata": {
  "language_info": {
   "name": "python"
  }
 },
 "nbformat": 4,
 "nbformat_minor": 2
}
