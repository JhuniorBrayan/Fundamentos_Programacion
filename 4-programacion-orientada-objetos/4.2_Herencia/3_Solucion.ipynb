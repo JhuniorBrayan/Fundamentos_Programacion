{
 "cells": [
  {
   "cell_type": "markdown",
   "metadata": {},
   "source": [
    "## Ejercicios: POO - Clases y Objetos\n",
    "\n",
    "### Nivel 1: Introducción a la Herencia\n",
    "1. Clase Animal y clase Perro:\n",
    "\n",
    "    - Crea una clase llamada Animal con un atributo nombre (de tipo cadena) y un método hacer_sonido() que imprima \"Sonido genérico\".\n",
    "    - Crea una clase llamada Perro que herede de la clase Animal.\n",
    "    - La clase Perro debe sobrescribir el método hacer_sonido() para que imprima \"Guau!\".\n",
    "    - Crea un objeto de la clase Perro y llama a los métodos nombre y hacer_sonido()."
   ]
  },
  {
   "cell_type": "code",
   "execution_count": null,
   "metadata": {
    "vscode": {
     "languageId": "plaintext"
    }
   },
   "outputs": [],
   "source": [
    "class Animal:\n",
    "    def __init__(self, nombre):\n",
    "        self.nombre = nombre\n",
    "\n",
    "    def hacer_sonido(self):\n",
    "        print(\"Sonido genérico\")\n",
    "\n",
    "class Perro(Animal):  # Perro hereda de Animal\n",
    "    def hacer_sonido(self):  # Sobrescribe el método\n",
    "        print(\"Guau!\")\n",
    "\n",
    "mi_perro = Perro(\"Max\")\n",
    "print(mi_perro.nombre)  # Salida: Max (atributo heredado)\n",
    "mi_perro.hacer_sonido()  # Salida: Guau! (método sobrescrito)"
   ]
  },
  {
   "cell_type": "markdown",
   "metadata": {},
   "source": [
    "2. Clase Vehiculo y clases derivadas:\n",
    "\n",
    "    - Crea una clase llamada Vehiculo con los atributos marca (cadena) y velocidad_maxima (entero).\n",
    "    - Crea clases llamadas Coche y Moto que hereden de la clase Vehiculo.\n",
    "    - Añade atributos específicos a cada clase (por ejemplo, num_puertas para Coche y tiene_casco para Moto).\n",
    "    - Crea objetos de las clases Coche y Moto y muestra sus atributos."
   ]
  },
  {
   "cell_type": "code",
   "execution_count": null,
   "metadata": {
    "vscode": {
     "languageId": "plaintext"
    }
   },
   "outputs": [],
   "source": [
    "class Vehiculo:\n",
    "    def __init__(self, marca, velocidad_maxima):\n",
    "        self.marca = marca\n",
    "        self.velocidad_maxima = velocidad_maxima\n",
    "\n",
    "class Coche(Vehiculo):  # Coche hereda de Vehiculo\n",
    "    def __init__(self, marca, velocidad_maxima, num_puertas):\n",
    "        super().__init__(marca, velocidad_maxima)  # Llama al constructor de la clase padre\n",
    "        self.num_puertas = num_puertas\n",
    "\n",
    "class Moto(Vehiculo):  # Moto hereda de Vehiculo\n",
    "    def __init__(self, marca, velocidad_maxima, tiene_casco):\n",
    "        super().__init__(marca, velocidad_maxima)  # Llama al constructor de la clase padre\n",
    "        self.tiene_casco = tiene_casco\n",
    "\n",
    "mi_coche = Coche(\"Toyota\", 200, 4)\n",
    "mi_moto = Moto(\"Honda\", 150, True)\n",
    "\n",
    "print(mi_coche.marca, mi_coche.velocidad_maxima, mi_coche.num_puertas)  # Salida: Toyota 200 4\n",
    "print(mi_moto.marca, mi_moto.velocidad_maxima, mi_moto.tiene_casco)  # Salida: Honda 150 True"
   ]
  },
  {
   "cell_type": "markdown",
   "metadata": {},
   "source": [
    "### Nivel 2: Herencia Múltiple\n",
    "3. Clase Ave y clases derivadas con herencia múltiple:\n",
    "\n",
    "    - Crea una clase llamada Ave con un método volar() que imprima \"Puede volar\".\n",
    "    - Crea una clase llamada Nadador con un método nadar() que imprima \"Puede nadar\".\n",
    "    - Crea una clase llamada Pato que herede de ambas clases (Ave y Nadador).\n",
    "    - Crea un objeto de la clase Pato y llama a los métodos volar() y nadar()."
   ]
  },
  {
   "cell_type": "code",
   "execution_count": null,
   "metadata": {
    "vscode": {
     "languageId": "plaintext"
    }
   },
   "outputs": [],
   "source": [
    "class Ave:\n",
    "    def volar(self):\n",
    "        print(\"Puede volar\")\n",
    "\n",
    "class Nadador:\n",
    "    def nadar(self):\n",
    "        print(\"Puede nadar\")\n",
    "\n",
    "class Pato(Ave, Nadador):  # Pato hereda de Ave y Nadador\n",
    "    pass  # No necesita definir nuevos métodos\n",
    "\n",
    "mi_pato = Pato()\n",
    "mi_pato.volar()  # Salida: Puede volar\n",
    "mi_pato.nadar()  # Salida: Puede nadar"
   ]
  },
  {
   "cell_type": "markdown",
   "metadata": {},
   "source": [
    "### Nivel 3: Sobrescritura de Métodos\n",
    "4. Clase Forma y clases derivadas con métodos sobrescritos:\n",
    "\n",
    "    - Crea una clase llamada Forma con un método calcular_area() que lance una excepción (ya que no se puede calcular el área de una forma genérica).\n",
    "    - Crea clases llamadas Rectangulo y Circulo que hereden de la clase Forma.\n",
    "    - Sobrescribe el método calcular_area() en cada clase derivada para calcular el área correspondiente (lado * lado para Rectangulo, pi * radio * radio para Circulo).\n",
    "    - Crea objetos de las clases Rectangulo y Circulo y llama al método"
   ]
  },
  {
   "cell_type": "code",
   "execution_count": null,
   "metadata": {
    "vscode": {
     "languageId": "plaintext"
    }
   },
   "outputs": [],
   "source": [
    "class Forma:\n",
    "    def calcular_area(self):\n",
    "        raise NotImplementedError(\"Debes implementar calcular_area() en las clases derivadas\")  # Lanza una excepción si no se sobrescribe\n",
    "\n",
    "class Rectangulo(Forma):  # Rectangulo hereda de Forma\n",
    "    def __init__(self, lado1, lado2):\n",
    "        self.lado1 = lado1\n",
    "        self.lado2 = lado2\n",
    "\n",
    "    def calcular_area(self):  # Sobrescribe el método\n",
    "        return self.lado1 * self.lado2\n",
    "\n",
    "class Circulo(Forma):  # Circulo hereda de Forma\n",
    "    def __init__(self, radio):\n",
    "        self.radio = radio\n",
    "\n",
    "    def calcular_area(self):  # Sobrescribe el método\n",
    "        import math\n",
    "        return math.pi * self.radio**2\n",
    "\n",
    "mi_rectangulo = Rectangulo(5, 10)\n",
    "mi_circulo = Circulo(5)\n",
    "\n",
    "print(mi_rectangulo.calcular_area())  # Salida: 50\n",
    "print(mi_circulo.calcular_area())  # Salida: 78.53981633974483"
   ]
  },
  {
   "cell_type": "markdown",
   "metadata": {},
   "source": [
    "### Nivel 4: Aplicaciones\n",
    "5. Clase para representar empleados con herencia:\n",
    "\n",
    "    - Crea una clase llamada Empleado con los atributos nombre (cadena) y salario (flotante).\n",
    "    - Crea clases llamadas Gerente y Programador que hereden de la clase Empleado.\n",
    "    - Añade atributos y métodos específicos a cada clase (por ejemplo, departamento para Gerente y lenguaje_principal para Programador).\n",
    "    - Crea objetos de las clases Gerente y Programador y muestra sus atributos y métodos."
   ]
  },
  {
   "cell_type": "code",
   "execution_count": null,
   "metadata": {
    "vscode": {
     "languageId": "plaintext"
    }
   },
   "outputs": [],
   "source": [
    "class Empleado:\n",
    "    def __init__(self, nombre, salario):\n",
    "        self.nombre = nombre\n",
    "        self.salario = salario\n",
    "\n",
    "class Gerente(Empleado):  # Gerente hereda de Empleado\n",
    "    def __init__(self, nombre, salario, departamento):\n",
    "        super().__init__(nombre, salario)  # Llama al constructor de la clase padre\n",
    "        self.departamento = departamento\n",
    "\n",
    "class Programador(Empleado):  # Programador hereda de Empleado\n",
    "    def __init__(self, nombre, salario, lenguaje_principal):\n",
    "        super().__init__(nombre, salario)  # Llama al constructor de la clase padre\n",
    "        self.lenguaje_principal = lenguaje_principal\n",
    "\n",
    "mi_gerente = Gerente(\"Ana\", 100000, \"Ventas\")\n",
    "mi_programador = Programador(\"Carlos\", 80000, \"Python\")\n",
    "\n",
    "print(mi_gerente.nombre, mi_gerente.salario, mi_gerente.departamento)  # Salida: Ana 100000 Ventas\n",
    "print(mi_programador.nombre, mi_programador.salario, mi_programador.lenguaje_principal)  # Salida: Carlos 80000 Python"
   ]
  },
  {
   "cell_type": "markdown",
   "metadata": {},
   "source": [
    "### ¡No te rindas!\n",
    "Recuerda que la clave para dominar la herencia está en la práctica constante. Intenta resolver los ejercicios por tu cuenta y, si te encuentras con alguna dificultad, no dudes en consultar la documentación de Python o buscar ejemplos en línea. ¡Mucho éxito en tu aprendizaje!"
   ]
  }
 ],
 "metadata": {
  "kernelspec": {
   "display_name": "venvc",
   "language": "python",
   "name": "python3"
  },
  "language_info": {
   "codemirror_mode": {
    "name": "ipython",
    "version": 3
   },
   "file_extension": ".py",
   "mimetype": "text/x-python",
   "name": "python",
   "nbconvert_exporter": "python",
   "pygments_lexer": "ipython3",
   "version": "3.12.8"
  }
 },
 "nbformat": 4,
 "nbformat_minor": 2
}
