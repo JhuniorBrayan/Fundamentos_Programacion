{
 "cells": [
  {
   "cell_type": "markdown",
   "metadata": {},
   "source": [
    "## 4. Programación Orientada a Objetos\n",
    "\n",
    "# **📌 Herencia**\n",
    "En la Programación Orientada a Objetos (POO), la **herencia** es un pilar fundamental que permite reutilizar y extender el código. Gracias a ella, podemos crear nuevas clases a partir de otras ya existentes, evitando la repetición de código y facilitando la organización del software.\n",
    "\n",
    "---\n",
    "\n",
    "## 🎯 Objetivo\n",
    "\n",
    "En esta lección aprenderás:\n",
    "\n",
    "- Qué es la herencia en POO y por qué es importante.\n",
    "- Cómo crear clases que heredan de otras.\n",
    "- La diferencia entre herencia simple y múltiple.\n",
    "- Cómo sobrescribir métodos en clases hijas.\n",
    "\n",
    "---\n",
    "\n",
    "## 📌 ¿Qué es la Herencia?\n",
    "\n",
    "La **herencia** es un mecanismo que permite que una clase (llamada **clase hija**) adquiera los atributos y métodos de otra clase (llamada **clase padre**).\n",
    "\n",
    "🔹 **Ejemplo en la vida real:** Piensa en una familia. Un hijo hereda características de sus padres (como el color de ojos o el apellido), pero también puede tener atributos y comportamientos propios.\n",
    "\n",
    "🔹 **Ejemplo en Python:**"
   ]
  },
  {
   "cell_type": "code",
   "execution_count": null,
   "metadata": {},
   "outputs": [
    {
     "name": "stdout",
     "output_type": "stream",
     "text": [
      "Max\n",
      "Ladra\n"
     ]
    }
   ],
   "source": [
    "class Animal:\n",
    "    def __init__(self, nombre):\n",
    "        self.nombre = nombre\n",
    "    \n",
    "    def hacer_sonido(self):\n",
    "        return \"Hace un sonido\"\n",
    "\n",
    "class Perro(Animal):\n",
    "    def hacer_sonido(self):\n",
    "        return \"Ladra\"\n",
    "\n",
    "mi_perro = Perro(\"Max\")\n",
    "print(mi_perro.nombre)  # Salida: Max\n",
    "print(mi_perro.hacer_sonido())  # Salida: Ladra"
   ]
  },
  {
   "cell_type": "markdown",
   "metadata": {},
   "source": [
    "---\n",
    "\n",
    "## 📌 Herencia Simple y Múltiple\n",
    "\n",
    "### 1️⃣ **Herencia Simple**\n",
    "\n",
    "Ocurre cuando una clase hija hereda de una sola clase padre.\n",
    "\n",
    "🔹 **Ejemplo en Python:**"
   ]
  },
  {
   "cell_type": "code",
   "execution_count": null,
   "metadata": {},
   "outputs": [
    {
     "name": "stdout",
     "output_type": "stream",
     "text": [
      "Conduciendo\n",
      "Maletero abierto\n"
     ]
    }
   ],
   "source": [
    "class Vehiculo:\n",
    "    def __init__(self, marca):\n",
    "        self.marca = marca\n",
    "    \n",
    "    def conducir(self):\n",
    "        return \"Conduciendo\"\n",
    "\n",
    "class Coche(Vehiculo):\n",
    "    def abrir_maletero(self):\n",
    "        return \"Maletero abierto\"\n",
    "\n",
    "mi_coche = Coche(\"Toyota\")\n",
    "print(mi_coche.conducir())  # Salida: Conduciendo\n",
    "print(mi_coche.abrir_maletero())  # Salida: Maletero abierto"
   ]
  },
  {
   "cell_type": "markdown",
   "metadata": {},
   "source": [
    "\n",
    "### 2️⃣ **Herencia Múltiple**\n",
    "\n",
    "Se da cuando una clase hija hereda de varias clases padre.\n",
    "\n",
    "🔹 **Ejemplo en la vida real:** Un dispositivo móvil puede heredar características de un teléfono y de una computadora a la vez.\n",
    "\n",
    "🔹 **Ejemplo en Python:**"
   ]
  },
  {
   "cell_type": "code",
   "execution_count": null,
   "metadata": {},
   "outputs": [
    {
     "name": "stdout",
     "output_type": "stream",
     "text": [
      "Procesando datos\n",
      "Llamando\n",
      "Usando una aplicación\n"
     ]
    }
   ],
   "source": [
    "class Computadora:\n",
    "    def procesar_datos(self):\n",
    "        return \"Procesando datos\"\n",
    "\n",
    "class Teléfono:\n",
    "    def hacer_llamada(self):\n",
    "        return \"Llamando\"\n",
    "\n",
    "class Smartphone(Computadora, Teléfono):\n",
    "    def usar_app(self):\n",
    "        return \"Usando una aplicación\"\n",
    "\n",
    "mi_smartphone = Smartphone()\n",
    "print(mi_smartphone.procesar_datos())  # Salida: Procesando datos\n",
    "print(mi_smartphone.hacer_llamada())  # Salida: Llamando\n",
    "print(mi_smartphone.usar_app())  # Salida: Usando una aplicación"
   ]
  },
  {
   "cell_type": "markdown",
   "metadata": {},
   "source": [
    "---\n",
    "\n",
    "## 📌 Sobrescritura de Métodos\n",
    "\n",
    "Las clases hijas pueden redefinir los métodos de la clase padre si necesitan un comportamiento diferente.\n",
    "\n",
    "🔹 **Ejemplo en Python:**"
   ]
  },
  {
   "cell_type": "code",
   "execution_count": null,
   "metadata": {},
   "outputs": [
    {
     "name": "stdout",
     "output_type": "stream",
     "text": [
      "Algunas aves pueden volar\n",
      "Los pingüinos no pueden volar\n"
     ]
    }
   ],
   "source": [
    "class Ave:\n",
    "    def volar(self):\n",
    "        return \"Algunas aves pueden volar\"\n",
    "\n",
    "class Pingüino(Ave):\n",
    "    def volar(self):\n",
    "        return \"Los pingüinos no pueden volar\"\n",
    "\n",
    "mi_ave = Ave()\n",
    "mi_pingüino = Pingüino()\n",
    "print(mi_ave.volar())  # Salida: Algunas aves pueden volar\n",
    "print(mi_pingüino.volar())  # Salida: Los pingüinos no pueden volar"
   ]
  },
  {
   "cell_type": "markdown",
   "metadata": {},
   "source": [
    "---\n",
    "\n",
    "## 🏆 Aplicaciones Prácticas\n",
    "\n",
    "📌 **¿Dónde se usa la herencia?**\n",
    "\n",
    "- 🚗 **Sistemas de transporte**: Clases base para vehículos con diferentes tipos de transporte como coches, autobuses y bicicletas.\n",
    "- 👩‍⚕️ **Software médico**: Modelar diferentes tipos de pacientes y profesionales de la salud.\n",
    "- 🎮 **Desarrollo de videojuegos**: Crear personajes con características heredadas (jugadores, enemigos, NPCs).\n",
    "- 🛍️ **E-commerce**: Clases para productos, donde algunos pueden tener características especiales según su categoría.\n",
    "\n",
    "---\n",
    "\n",
    "## ✅ Conclusión\n",
    "\n",
    "- La **herencia** permite reutilizar y extender el código de manera eficiente.\n",
    "- Existen dos tipos principales: **herencia simple** (una sola clase padre) y **herencia múltiple** (varias clases padre).\n",
    "- Se puede sobrescribir métodos en las clases hijas para modificar su comportamiento.\n",
    "\n",
    "🔹 **Reflexión:** ¿En qué situaciones de tu vida cotidiana podrías identificar la herencia aplicada a objetos y sistemas? 🤔"
   ]
  }
 ],
 "metadata": {
  "language_info": {
   "name": "python"
  }
 },
 "nbformat": 4,
 "nbformat_minor": 2
}
