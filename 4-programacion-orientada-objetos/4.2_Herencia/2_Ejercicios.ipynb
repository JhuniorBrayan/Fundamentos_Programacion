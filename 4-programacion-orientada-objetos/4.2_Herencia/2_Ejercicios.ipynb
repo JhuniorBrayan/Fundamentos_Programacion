{
 "cells": [
  {
   "cell_type": "markdown",
   "metadata": {},
   "source": [
    "## Ejercicios: POO - Herencias\n",
    "\n",
    "### Nivel 1: Introducción a la Herencia\n",
    "1. Clase Animal y clase Perro:\n",
    "\n",
    "    - Crea una clase llamada Animal con un atributo nombre (de tipo cadena) y un método hacer_sonido() que imprima \"Sonido genérico\".\n",
    "    - Crea una clase llamada Perro que herede de la clase Animal.\n",
    "    - La clase Perro debe sobrescribir el método hacer_sonido() para que imprima \"Guau!\".\n",
    "    - Crea un objeto de la clase Perro y llama a los métodos nombre y hacer_sonido()."
   ]
  },
  {
   "cell_type": "code",
   "execution_count": null,
   "metadata": {
    "vscode": {
     "languageId": "plaintext"
    }
   },
   "outputs": [],
   "source": []
  },
  {
   "cell_type": "markdown",
   "metadata": {},
   "source": [
    "2. Clase Vehiculo y clases derivadas:\n",
    "\n",
    "    - Crea una clase llamada Vehiculo con los atributos marca (cadena) y velocidad_maxima (entero).\n",
    "    - Crea clases llamadas Coche y Moto que hereden de la clase Vehiculo.\n",
    "    - Añade atributos específicos a cada clase (por ejemplo, num_puertas para Coche y tiene_casco para Moto).\n",
    "    - Crea objetos de las clases Coche y Moto y muestra sus atributos."
   ]
  },
  {
   "cell_type": "code",
   "execution_count": null,
   "metadata": {
    "vscode": {
     "languageId": "plaintext"
    }
   },
   "outputs": [],
   "source": []
  },
  {
   "cell_type": "markdown",
   "metadata": {},
   "source": [
    "### Nivel 2: Herencia Múltiple\n",
    "3. Clase Ave y clases derivadas con herencia múltiple:\n",
    "\n",
    "    - Crea una clase llamada Ave con un método volar() que imprima \"Puede volar\".\n",
    "    - Crea una clase llamada Nadador con un método nadar() que imprima \"Puede nadar\".\n",
    "    - Crea una clase llamada Pato que herede de ambas clases (Ave y Nadador).\n",
    "    - Crea un objeto de la clase Pato y llama a los métodos volar() y nadar()."
   ]
  },
  {
   "cell_type": "code",
   "execution_count": null,
   "metadata": {
    "vscode": {
     "languageId": "plaintext"
    }
   },
   "outputs": [],
   "source": []
  },
  {
   "cell_type": "markdown",
   "metadata": {},
   "source": [
    "### Nivel 3: Sobrescritura de Métodos\n",
    "4. Clase Forma y clases derivadas con métodos sobrescritos:\n",
    "\n",
    "    - Crea una clase llamada Forma con un método calcular_area() que lance una excepción (ya que no se puede calcular el área de una forma genérica).\n",
    "    - Crea clases llamadas Rectangulo y Circulo que hereden de la clase Forma.\n",
    "    - Sobrescribe el método calcular_area() en cada clase derivada para calcular el área correspondiente (lado * lado para Rectangulo, pi * radio * radio para Circulo).\n",
    "    - Crea objetos de las clases Rectangulo y Circulo y llama al método"
   ]
  },
  {
   "cell_type": "code",
   "execution_count": null,
   "metadata": {
    "vscode": {
     "languageId": "plaintext"
    }
   },
   "outputs": [],
   "source": []
  },
  {
   "cell_type": "markdown",
   "metadata": {},
   "source": [
    "### Nivel 4: Aplicaciones\n",
    "5. Clase para representar empleados con herencia:\n",
    "\n",
    "    - Crea una clase llamada Empleado con los atributos nombre (cadena) y salario (flotante).\n",
    "    - Crea clases llamadas Gerente y Programador que hereden de la clase Empleado.\n",
    "    - Añade atributos y métodos específicos a cada clase (por ejemplo, departamento para Gerente y lenguaje_principal para Programador).\n",
    "    - Crea objetos de las clases Gerente y Programador y muestra sus atributos y métodos."
   ]
  },
  {
   "cell_type": "code",
   "execution_count": null,
   "metadata": {
    "vscode": {
     "languageId": "plaintext"
    }
   },
   "outputs": [],
   "source": []
  },
  {
   "cell_type": "markdown",
   "metadata": {},
   "source": [
    "### ¡No te rindas!\n",
    "Recuerda que la clave para dominar la herencia está en la práctica constante. Intenta resolver los ejercicios por tu cuenta y, si te encuentras con alguna dificultad, no dudes en consultar la documentación de Python o buscar ejemplos en línea. ¡Mucho éxito en tu aprendizaje!"
   ]
  }
 ],
 "metadata": {
  "language_info": {
   "name": "python"
  }
 },
 "nbformat": 4,
 "nbformat_minor": 2
}
