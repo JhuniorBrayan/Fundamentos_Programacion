{
 "cells": [
  {
   "cell_type": "markdown",
   "metadata": {},
   "source": [
    "## 4. Programación Orientada a Objetos\n",
    "\n",
    "# **📌 Clases y Objetos** \n",
    "\n",
    "En la programación orientada a objetos (POO), las **clases y objetos** son fundamentales para modelar el mundo real en el código. Permiten estructurar los programas de manera modular y reutilizable, facilitando el mantenimiento y escalabilidad del software.\n",
    "\n",
    "---\n",
    "\n",
    "## 🎯 Objetivo\n",
    "\n",
    "En esta lección aprenderás:\n",
    "\n",
    "- Qué son las clases y los objetos.\n",
    "- Cómo crear clases y generar instancias de ellas.\n",
    "- La importancia de los atributos y métodos en una clase.\n",
    "\n",
    "---\n",
    "\n",
    "## 📌 Clases y Objetos\n",
    "\n",
    "### 1️⃣ **¿Qué es una Clase?**\n",
    "\n",
    "Una **clase** es un molde o plantilla que define las características (**atributos**) y comportamientos (**métodos**) de un conjunto de objetos.\n",
    "\n",
    "🔹 **Ejemplo en la vida real:** Imagina que diseñas un plano para construir una casa. La clase es el plano, que define cuántas habitaciones tendrá y de qué color será la pintura.\n",
    "\n",
    "🔹 **Ejemplo en Python:**"
   ]
  },
  {
   "cell_type": "code",
   "execution_count": null,
   "metadata": {
    "vscode": {
     "languageId": "plaintext"
    }
   },
   "outputs": [],
   "source": [
    "class Persona:\n",
    "    def __init__(self, nombre, edad):\n",
    "        self.nombre = nombre  # Atributo\n",
    "        self.edad = edad      # Atributo\n",
    "    \n",
    "    def saludar(self):\n",
    "        return f\"Hola, mi nombre es {self.nombre} y tengo {self.edad} años.\""
   ]
  },
  {
   "cell_type": "markdown",
   "metadata": {},
   "source": [
    "---\n",
    "\n",
    "### 2️⃣ **¿Qué es un Objeto?**\n",
    "\n",
    "Un **objeto** es una instancia de una clase, es decir, una entidad creada a partir de esa plantilla.\n",
    "\n",
    "🔹 **Ejemplo en la vida real:** Si la clase es un plano de casa, un objeto es una casa construida basada en ese plano.\n",
    "\n",
    "🔹 **Ejemplo en Python:**"
   ]
  },
  {
   "cell_type": "code",
   "execution_count": null,
   "metadata": {
    "vscode": {
     "languageId": "plaintext"
    }
   },
   "outputs": [],
   "source": [
    "persona1 = Persona(\"Carlos\", 30)\n",
    "print(persona1.saludar())  # Salida: Hola, mi nombre es Carlos y tengo 30 años."
   ]
  },
  {
   "cell_type": "markdown",
   "metadata": {},
   "source": [
    "---\n",
    "\n",
    "### 3️⃣ **Atributos y Métodos**\n",
    "\n",
    "Los **atributos** son las características de un objeto y los **métodos** son las funciones que pueden ejecutar.\n",
    "\n",
    "📌 **Ejemplo de atributos:**\n",
    "- Un coche tiene **color**, **marca** y **velocidad**.\n",
    "- Un usuario de una aplicación tiene **nombre**, **correo** y **contraseña**.\n",
    "\n",
    "📌 **Ejemplo de métodos:**\n",
    "- Un coche puede **acelerar**, **frenar** y **tocar la bocina**.\n",
    "- Un usuario puede **iniciar sesión**, **enviar mensajes** y **subir fotos**.\n",
    "\n",
    "🔹 **Ejemplo en Python:**"
   ]
  },
  {
   "cell_type": "code",
   "execution_count": null,
   "metadata": {
    "vscode": {
     "languageId": "plaintext"
    }
   },
   "outputs": [],
   "source": [
    "class Coche:\n",
    "    def __init__(self, marca, color):\n",
    "        self.marca = marca  # Atributo\n",
    "        self.color = color  # Atributo\n",
    "    \n",
    "    def describir(self):\n",
    "        return f\"Este coche es un {self.marca} de color {self.color}.\"\n",
    "\n",
    "mi_coche = Coche(\"Toyota\", \"rojo\")\n",
    "print(mi_coche.describir())  # Salida: Este coche es un Toyota de color rojo."
   ]
  },
  {
   "cell_type": "markdown",
   "metadata": {},
   "source": [
    "---\n",
    "\n",
    "## 🏆 Aplicaciones Prácticas\n",
    "\n",
    "📌 **Dónde se usan las clases y objetos:**\n",
    "\n",
    "- 🏪 **Sistemas de gestión**: Modelar empleados, productos o clientes.\n",
    "- 🎮 **Videojuegos**: Crear personajes, enemigos y objetos interactivos.\n",
    "- 📱 **Aplicaciones móviles**: Modelar usuarios, publicaciones y comentarios.\n",
    "- 🚀 **Sistemas científicos**: Representar datos y simular procesos físicos.\n",
    "\n",
    "---\n",
    "\n",
    "## ✅ Conclusión\n",
    "\n",
    "- Las **clases** definen la estructura de los objetos y facilitan la organización del código.\n",
    "- Los **objetos** son instancias que permiten usar las propiedades y comportamientos de una clase.\n",
    "- Python permite una implementación sencilla y flexible de estos conceptos.\n",
    "\n",
    "🔹 **Reflexión:** ¿Puedes identificar objetos y clases en el software que usas a diario? 🤔"
   ]
  }
 ],
 "metadata": {
  "language_info": {
   "name": "python"
  }
 },
 "nbformat": 4,
 "nbformat_minor": 2
}
