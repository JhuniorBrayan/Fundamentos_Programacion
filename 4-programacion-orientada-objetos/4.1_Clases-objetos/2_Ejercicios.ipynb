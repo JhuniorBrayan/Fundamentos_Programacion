{
 "cells": [
  {
   "cell_type": "markdown",
   "metadata": {},
   "source": [
    "## Ejercicios: POO - Clases y Objetos\n",
    "\n",
    "### Nivel 1: Introducción a Clases y Objetos\n",
    "1. Creación de una clase sencilla:\n",
    "\n",
    "    - Crea una clase llamada Perro con un atributo nombre (de tipo cadena).\n",
    "    - Añade un método ladrar() que imprima \"Guau!\" en la consola.\n",
    "    - Crea un objeto de la clase Perro y llama al método ladrar()."
   ]
  },
  {
   "cell_type": "code",
   "execution_count": null,
   "metadata": {
    "vscode": {
     "languageId": "plaintext"
    }
   },
   "outputs": [],
   "source": []
  },
  {
   "cell_type": "markdown",
   "metadata": {},
   "source": [
    "2. Clase con atributos y métodos:\n",
    "\n",
    "    - Crea una clase llamada Coche con los atributos marca (de tipo cadena) y velocidad (de tipo entero).\n",
    "    - Añade un método acelerar() que incremente la velocidad en 10 unidades.\n",
    "    - Crea un objeto de la clase Coche y llama al método acelerar() dos veces. Imprime la velocidad actual."
   ]
  },
  {
   "cell_type": "code",
   "execution_count": null,
   "metadata": {
    "vscode": {
     "languageId": "plaintext"
    }
   },
   "outputs": [],
   "source": []
  },
  {
   "cell_type": "markdown",
   "metadata": {},
   "source": [
    "### Nivel 2: Uso de __init__\n",
    "3. Constructor __init__:\n",
    "\n",
    "    - Modifica la clase Perro del ejercicio 1 para que el atributo nombre se inicialice en el constructor __init__.\n",
    "    - Crea un objeto de la clase Perro y pasa el nombre como argumento al constructor."
   ]
  },
  {
   "cell_type": "code",
   "execution_count": null,
   "metadata": {
    "vscode": {
     "languageId": "plaintext"
    }
   },
   "outputs": [],
   "source": []
  },
  {
   "cell_type": "markdown",
   "metadata": {},
   "source": [
    "4. Clase con varios métodos:\n",
    "\n",
    "    - Crea una clase llamada Rectangulo con los atributos ancho y alto (de tipo entero).\n",
    "    - Añade métodos para calcular el área (calcular_area()) y el perímetro (calcular_perimetro()).\n",
    "    - Crea un objeto de la clase Rectangulo y llama a ambos métodos."
   ]
  },
  {
   "cell_type": "code",
   "execution_count": null,
   "metadata": {
    "vscode": {
     "languageId": "plaintext"
    }
   },
   "outputs": [],
   "source": []
  },
  {
   "cell_type": "markdown",
   "metadata": {},
   "source": [
    "### Nivel 3: Aplicaciones\n",
    "5. Clase para representar un libro:\n",
    "\n",
    "    - Crea una clase llamada Libro con los atributos titulo (cadena), autor (cadena) y paginas (entero).\n",
    "    - Añade un método mostrar_informacion() que imprima el título, autor y número de páginas del libro.\n",
    "    - Crea un objeto de la clase Libro y llama al método mostrar_informacion()."
   ]
  },
  {
   "cell_type": "code",
   "execution_count": null,
   "metadata": {
    "vscode": {
     "languageId": "plaintext"
    }
   },
   "outputs": [],
   "source": []
  },
  {
   "cell_type": "markdown",
   "metadata": {},
   "source": [
    "### ¡No te rindas!\n",
    "Recuerda que la clave para dominar las clases y objetos está en la práctica constante. Intenta resolver los ejercicios por tu cuenta y, si te encuentras con alguna dificultad, no dudes en consultar la documentación de Python o buscar ejemplos en línea. ¡Mucho éxito en tu aprendizaje!"
   ]
  }
 ],
 "metadata": {
  "language_info": {
   "name": "python"
  }
 },
 "nbformat": 4,
 "nbformat_minor": 2
}
