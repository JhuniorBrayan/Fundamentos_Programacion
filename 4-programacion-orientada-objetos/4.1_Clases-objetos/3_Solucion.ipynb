{
 "cells": [
  {
   "cell_type": "markdown",
   "metadata": {},
   "source": [
    "## Ejercicios: POO - Clases y Objetos\n",
    "\n",
    "### Nivel 1: Introducción a Clases y Objetos\n",
    "1. Creación de una clase sencilla:\n",
    "\n",
    "    - Crea una clase llamada Perro con un atributo nombre (de tipo cadena).\n",
    "    - Añade un método ladrar() que imprima \"Guau!\" en la consola.\n",
    "    - Crea un objeto de la clase Perro y llama al método ladrar()."
   ]
  },
  {
   "cell_type": "code",
   "execution_count": 1,
   "metadata": {},
   "outputs": [
    {
     "name": "stdout",
     "output_type": "stream",
     "text": [
      "Guau!\n"
     ]
    }
   ],
   "source": [
    "class Perro:\n",
    "    def __init__(self, nombre):\n",
    "        self.nombre = nombre\n",
    "\n",
    "    def ladrar(self):\n",
    "        print(\"Guau!\")\n",
    "\n",
    "mi_perro = Perro(\"Firulais\")\n",
    "mi_perro.ladrar()  # Salida: Guau!"
   ]
  },
  {
   "cell_type": "markdown",
   "metadata": {},
   "source": [
    "2. Clase con atributos y métodos:\n",
    "\n",
    "    - Crea una clase llamada Coche con los atributos marca (de tipo cadena) y velocidad (de tipo entero).\n",
    "    - Añade un método acelerar() que incremente la velocidad en 10 unidades.\n",
    "    - Crea un objeto de la clase Coche y llama al método acelerar() dos veces. Imprime la velocidad actual."
   ]
  },
  {
   "cell_type": "code",
   "execution_count": 2,
   "metadata": {},
   "outputs": [
    {
     "name": "stdout",
     "output_type": "stream",
     "text": [
      "20\n"
     ]
    }
   ],
   "source": [
    "class Coche:\n",
    "    def __init__(self, marca, velocidad):\n",
    "        self.marca = marca\n",
    "        self.velocidad = velocidad\n",
    "\n",
    "    def acelerar(self):\n",
    "        self.velocidad += 10\n",
    "\n",
    "mi_coche = Coche(\"Toyota\", 0)\n",
    "mi_coche.acelerar()\n",
    "mi_coche.acelerar()\n",
    "print(mi_coche.velocidad)  # Salida: 20"
   ]
  },
  {
   "cell_type": "markdown",
   "metadata": {},
   "source": [
    "### Nivel 2: Uso de __init__\n",
    "3. Constructor __init__:\n",
    "\n",
    "    - Modifica la clase Perro del ejercicio 1 para que el atributo nombre se inicialice en el constructor __init__.\n",
    "    - Crea un objeto de la clase Perro y pasa el nombre como argumento al constructor."
   ]
  },
  {
   "cell_type": "code",
   "execution_count": 3,
   "metadata": {},
   "outputs": [
    {
     "name": "stdout",
     "output_type": "stream",
     "text": [
      "Guau!\n",
      "Max\n"
     ]
    }
   ],
   "source": [
    "class Perro:\n",
    "    def __init__(self, nombre):\n",
    "        self.nombre = nombre\n",
    "\n",
    "    def ladrar(self):\n",
    "        print(\"Guau!\")\n",
    "\n",
    "mi_perro = Perro(\"Max\")\n",
    "mi_perro.ladrar()  # Salida: Guau!\n",
    "print(mi_perro.nombre)  # Salida: Max"
   ]
  },
  {
   "cell_type": "markdown",
   "metadata": {},
   "source": [
    "4. Clase con varios métodos:\n",
    "\n",
    "    - Crea una clase llamada Rectangulo con los atributos ancho y alto (de tipo entero).\n",
    "    - Añade métodos para calcular el área (calcular_area()) y el perímetro (calcular_perimetro()).\n",
    "    - Crea un objeto de la clase Rectangulo y llama a ambos métodos."
   ]
  },
  {
   "cell_type": "code",
   "execution_count": 4,
   "metadata": {},
   "outputs": [
    {
     "name": "stdout",
     "output_type": "stream",
     "text": [
      "50\n",
      "30\n"
     ]
    }
   ],
   "source": [
    "class Rectangulo:\n",
    "    def __init__(self, ancho, alto):\n",
    "        self.ancho = ancho\n",
    "        self.alto = alto\n",
    "\n",
    "    def calcular_area(self):\n",
    "        return self.ancho * self.alto\n",
    "\n",
    "    def calcular_perimetro(self):\n",
    "        return 2 * (self.ancho + self.alto)\n",
    "\n",
    "mi_rectangulo = Rectangulo(5, 10)\n",
    "print(mi_rectangulo.calcular_area())  # Salida: 50\n",
    "print(mi_rectangulo.calcular_perimetro())  # Salida: 30"
   ]
  },
  {
   "cell_type": "markdown",
   "metadata": {},
   "source": [
    "### Nivel 3: Aplicaciones\n",
    "5. Clase para representar un libro:\n",
    "\n",
    "    - Crea una clase llamada Libro con los atributos titulo (cadena), autor (cadena) y paginas (entero).\n",
    "    - Añade un método mostrar_informacion() que imprima el título, autor y número de páginas del libro.\n",
    "    - Crea un objeto de la clase Libro y llama al método mostrar_informacion()."
   ]
  },
  {
   "cell_type": "code",
   "execution_count": 5,
   "metadata": {},
   "outputs": [
    {
     "name": "stdout",
     "output_type": "stream",
     "text": [
      "Título: El Señor de los Anillos\n",
      "Autor: J.R.R. Tolkien\n",
      "Número de páginas: 1000\n"
     ]
    }
   ],
   "source": [
    "class Libro:\n",
    "    def __init__(self, titulo, autor, paginas):\n",
    "        self.titulo = titulo\n",
    "        self.autor = autor\n",
    "        self.paginas = paginas\n",
    "\n",
    "    def mostrar_informacion(self):\n",
    "        print(f\"Título: {self.titulo}\")\n",
    "        print(f\"Autor: {self.autor}\")\n",
    "        print(f\"Número de páginas: {self.paginas}\")\n",
    "\n",
    "mi_libro = Libro(\"El Señor de los Anillos\", \"J.R.R. Tolkien\", 1000)\n",
    "mi_libro.mostrar_informacion()\n",
    "# Salida:\n",
    "# Título: El Señor de los Anillos\n",
    "# Autor: J.R.R. Tolkien\n",
    "# Número de páginas: 1000"
   ]
  },
  {
   "cell_type": "markdown",
   "metadata": {},
   "source": [
    "### ¡No te rindas!\n",
    "Recuerda que la clave para dominar las clases y objetos está en la práctica constante. Intenta resolver los ejercicios por tu cuenta y, si te encuentras con alguna dificultad, no dudes en consultar la documentación de Python o buscar ejemplos en línea. ¡Mucho éxito en tu aprendizaje!"
   ]
  }
 ],
 "metadata": {
  "kernelspec": {
   "display_name": "venvc",
   "language": "python",
   "name": "python3"
  },
  "language_info": {
   "codemirror_mode": {
    "name": "ipython",
    "version": 3
   },
   "file_extension": ".py",
   "mimetype": "text/x-python",
   "name": "python",
   "nbconvert_exporter": "python",
   "pygments_lexer": "ipython3",
   "version": "3.12.8"
  }
 },
 "nbformat": 4,
 "nbformat_minor": 2
}
