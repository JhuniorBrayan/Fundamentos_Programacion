{
 "cells": [
  {
   "cell_type": "markdown",
   "metadata": {},
   "source": [
    "## Ejercicios: POO - Encapsulamiento\n",
    "\n",
    "### Nivel 1: Introducción al Encapsulamiento\n",
    "1. Clase Persona con atributos públicos y privados:\n",
    "\n",
    "    - Crea una clase llamada Persona con un atributo público nombre y un atributo privado __edad.\n",
    "    - Intenta acceder directamente al atributo privado __edad desde fuera de la clase. ¿Qué ocurre?\n",
    "    - Crea un método público llamado mostrar_edad() que devuelva el valor del atributo privado __edad.\n",
    "    - Crea un objeto de la clase Persona y muestra su nombre y edad utilizando los métodos correspondientes."
   ]
  },
  {
   "cell_type": "code",
   "execution_count": null,
   "metadata": {
    "vscode": {
     "languageId": "plaintext"
    }
   },
   "outputs": [],
   "source": [
    "class Persona:\n",
    "    def __init__(self, nombre, edad):\n",
    "        self.nombre = nombre  # Atributo público\n",
    "        self.__edad = edad  # Atributo privado\n",
    "\n",
    "    def mostrar_edad(self):  # Método público para acceder a la edad\n",
    "        return self.__edad\n",
    "\n",
    "persona = Persona(\"Ana\", 30)\n",
    "\n",
    "print(persona.nombre)  # Acceso permitido (atributo público)\n",
    "# print(persona.__edad)  # Error: no se puede acceder directamente al atributo privado\n",
    "\n",
    "print(persona.mostrar_edad())  # Acceso permitido a través del método (30)"
   ]
  },
  {
   "cell_type": "markdown",
   "metadata": {},
   "source": [
    "2. Clase Coche con atributos protegidos:\n",
    "\n",
    "    - Crea una clase llamada Coche con un atributo protegido _velocidad.\n",
    "    - Crea un método público llamado acelerar() que incremente la velocidad en 10 unidades.\n",
    "    - Crea un método público llamado frenar() que decremente la velocidad en 10 unidades, pero no permita que la velocidad sea inferior a 0.\n",
    "    - Crea un objeto de la clase Coche y prueba los métodos acelerar() y frenar()."
   ]
  },
  {
   "cell_type": "code",
   "execution_count": null,
   "metadata": {
    "vscode": {
     "languageId": "plaintext"
    }
   },
   "outputs": [],
   "source": [
    "class Coche:\n",
    "    def __init__(self, velocidad):\n",
    "        self._velocidad = velocidad  # Atributo protegido\n",
    "\n",
    "    def acelerar(self):\n",
    "        self._velocidad += 10\n",
    "\n",
    "    def frenar(self):\n",
    "        if self._velocidad >= 10:\n",
    "            self._velocidad -= 10\n",
    "        else:\n",
    "            self._velocidad = 0  # No permite velocidad negativa\n",
    "\n",
    "mi_coche = Coche(50)\n",
    "\n",
    "mi_coche.acelerar()\n",
    "print(mi_coche._velocidad)  # 60 (se accede directamente, pero no es lo recomendado)\n",
    "\n",
    "mi_coche.frenar()\n",
    "print(mi_coche._velocidad)  # 50\n",
    "\n",
    "mi_coche.frenar()\n",
    "mi_coche.frenar()\n",
    "mi_coche.frenar()\n",
    "mi_coche.frenar()\n",
    "mi_coche.frenar()\n",
    "print(mi_coche._velocidad)  # 0"
   ]
  },
  {
   "cell_type": "markdown",
   "metadata": {},
   "source": [
    "### Nivel 2: Métodos Getters y Setters\n",
    "3. Clase Libro con getters y setters:\n",
    "\n",
    "    - Crea una clase llamada Libro con atributos privados __titulo y __autor.\n",
    "    - Crea métodos \"getter\" (get_titulo(), get_autor()) para acceder a los atributos.\n",
    "    - Crea métodos \"setter\" (set_titulo(), set_autor()) para modificar los atributos, pero añade validaciones (por ejemplo, el título no puede estar vacío).\n",
    "    - Crea un objeto de la clase Libro y utiliza los getters y setters para acceder y modificar los atributos."
   ]
  },
  {
   "cell_type": "code",
   "execution_count": null,
   "metadata": {
    "vscode": {
     "languageId": "plaintext"
    }
   },
   "outputs": [],
   "source": [
    "class Libro:\n",
    "    def __init__(self, titulo, autor):\n",
    "        self.__titulo = titulo  # Atributos privados\n",
    "        self.__autor = autor\n",
    "\n",
    "    def get_titulo(self):  # Getter para titulo\n",
    "        return self.__titulo\n",
    "\n",
    "    def set_titulo(self, titulo):  # Setter para titulo\n",
    "        if titulo != \"\":  # Validación\n",
    "            self.__titulo = titulo\n",
    "        else:\n",
    "            print(\"El título no puede estar vacío.\")\n",
    "\n",
    "    def get_autor(self):  # Getter para autor\n",
    "        return self.__autor\n",
    "\n",
    "    def set_autor(self, autor):  # Setter para autor\n",
    "        if autor != \"\":  # Validación\n",
    "            self.__autor = autor\n",
    "        else:\n",
    "            print(\"El autor no puede estar vacío.\")\n",
    "\n",
    "mi_libro = Libro(\"El Señor de los Anillos\", \"J.R.R. Tolkien\")\n",
    "\n",
    "print(mi_libro.get_titulo())  # \"El Señor de los Anillos\"\n",
    "\n",
    "mi_libro.set_titulo(\"La Comunidad del Anillo\")\n",
    "print(mi_libro.get_titulo())  # \"La Comunidad del Anillo\"\n",
    "\n",
    "mi_libro.set_autor(\"\")  # \"El autor no puede estar vacío.\""
   ]
  },
  {
   "cell_type": "markdown",
   "metadata": {},
   "source": [
    "4. Clase CuentaBancaria con encapsulamiento:\n",
    "\n",
    "    - Crea una clase llamada CuentaBancaria con un atributo privado __saldo.\n",
    "    - Crea métodos públicos depositar() y retirar() para modificar el saldo.\n",
    "    - Añade validaciones en los métodos depositar() y retirar() (por ejemplo, no se puede depositar una cantidad negativa, no se puede retirar más saldo del disponible).\n",
    "    - Crea un método público consultar_saldo() para obtener el saldo actual.\n",
    "    - Crea un objeto de la clase CuentaBancaria y realiza operaciones de depósito y retiro."
   ]
  },
  {
   "cell_type": "code",
   "execution_count": null,
   "metadata": {
    "vscode": {
     "languageId": "plaintext"
    }
   },
   "outputs": [],
   "source": [
    "class CuentaBancaria:\n",
    "    def __init__(self, saldo):\n",
    "        self.__saldo = saldo  # Atributo privado\n",
    "\n",
    "    def depositar(self, cantidad):\n",
    "        if cantidad > 0:  # Validación\n",
    "            self.__saldo += cantidad\n",
    "        else:\n",
    "            print(\"No se puede depositar una cantidad negativa.\")\n",
    "\n",
    "    def retirar(self, cantidad):\n",
    "        if cantidad > 0 and cantidad <= self.__saldo:  # Validación\n",
    "            self.__saldo -= cantidad\n",
    "        else:\n",
    "            print(\"No se puede retirar esa cantidad.\")\n",
    "\n",
    "    def consultar_saldo(self):  # Para consultar el saldo\n",
    "        return self.__saldo\n",
    "\n",
    "mi_cuenta = CuentaBancaria(1000)\n",
    "\n",
    "mi_cuenta.depositar(500)\n",
    "print(mi_cuenta.consultar_saldo())  # 1500\n",
    "\n",
    "mi_cuenta.retirar(2000)  # \"No se puede retirar esa cantidad.\"\n",
    "print(mi_cuenta.consultar_saldo())  # 1500"
   ]
  },
  {
   "cell_type": "markdown",
   "metadata": {},
   "source": [
    "### Nivel 3: Aplicaciones\n",
    "5. Clase para representar un producto con encapsulamiento:\n",
    "\n",
    "    - Crea una clase llamada Producto con atributos privados __nombre, __precio y __stock.\n",
    "    - Crea getters y setters para acceder y modificar los atributos, pero añade validaciones (por ejemplo, el precio no puede ser negativo, el stock no puede ser inferior a 0).\n",
    "    - Añade un método mostrar_informacion() que muestre el nombre, precio y stock del producto.\n",
    "    - Crea un objeto de la clase Producto y realiza operaciones de modificación y consulta."
   ]
  },
  {
   "cell_type": "code",
   "execution_count": null,
   "metadata": {
    "vscode": {
     "languageId": "plaintext"
    }
   },
   "outputs": [],
   "source": [
    "class Producto:\n",
    "    def __init__(self, nombre, precio, stock):\n",
    "        self.__nombre = nombre  # Atributos privados\n",
    "        self.__precio = precio\n",
    "        self.__stock = stock\n",
    "\n",
    "    # Getters\n",
    "    def get_nombre(self):\n",
    "        return self.__nombre\n",
    "\n",
    "    def get_precio(self):\n",
    "        return self.__precio\n",
    "\n",
    "    def get_stock(self):\n",
    "        return self.__stock\n",
    "\n",
    "    # Setters\n",
    "    def set_nombre(self, nombre):\n",
    "        self.__nombre = nombre\n",
    "\n",
    "    def set_precio(self, precio):\n",
    "        if precio >= 0:  # Validación\n",
    "            self.__precio = precio\n",
    "        else:\n",
    "            print(\"El precio no puede ser negativo.\")\n",
    "\n",
    "    def set_stock(self, stock):\n",
    "        if stock >= 0:  # Validación\n",
    "            self.__stock = stock\n",
    "        else:\n",
    "            print(\"El stock no puede ser negativo.\")\n",
    "\n",
    "    def mostrar_informacion(self):\n",
    "        print(f\"Nombre: {self.__nombre}\")\n",
    "        print(f\"Precio: {self.__precio}\")\n",
    "        print(f\"Stock: {self.__stock}\")\n",
    "\n",
    "mi_producto = Producto(\"Camiseta\", 20, 100)\n",
    "\n",
    "mi_producto.mostrar_informacion()\n",
    "# Nombre: Camiseta\n",
    "# Precio: 20\n",
    "# Stock: 100\n",
    "\n",
    "mi_producto.set_precio(-10)  # \"El precio no puede ser negativo.\""
   ]
  },
  {
   "cell_type": "markdown",
   "metadata": {},
   "source": [
    "### ¡No te rindas!\n",
    "Recuerda que la clave para dominar el encapsulamiento está en la práctica constante. Intenta resolver los ejercicios por tu cuenta y, si te encuentras con alguna dificultad, no dudes en consultar la documentación de Python o buscar ejemplos en línea. ¡Mucho éxito en tu aprendizaje!"
   ]
  }
 ],
 "metadata": {
  "kernelspec": {
   "display_name": "venvc",
   "language": "python",
   "name": "python3"
  },
  "language_info": {
   "codemirror_mode": {
    "name": "ipython",
    "version": 3
   },
   "file_extension": ".py",
   "mimetype": "text/x-python",
   "name": "python",
   "nbconvert_exporter": "python",
   "pygments_lexer": "ipython3",
   "version": "3.12.8"
  }
 },
 "nbformat": 4,
 "nbformat_minor": 2
}
