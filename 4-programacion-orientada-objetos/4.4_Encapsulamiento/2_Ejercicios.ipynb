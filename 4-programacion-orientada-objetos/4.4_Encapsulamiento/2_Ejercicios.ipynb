{
 "cells": [
  {
   "cell_type": "markdown",
   "metadata": {},
   "source": [
    "## Ejercicios: POO - Polimorfismo\n",
    "\n",
    "### Nivel 1: Introducción al Encapsulamiento\n",
    "1. Clase Persona con atributos públicos y privados:\n",
    "\n",
    "    - Crea una clase llamada Persona con un atributo público nombre y un atributo privado __edad.\n",
    "    - Intenta acceder directamente al atributo privado __edad desde fuera de la clase. ¿Qué ocurre?\n",
    "    - Crea un método público llamado mostrar_edad() que devuelva el valor del atributo privado __edad.\n",
    "    - Crea un objeto de la clase Persona y muestra su nombre y edad utilizando los métodos correspondientes."
   ]
  },
  {
   "cell_type": "code",
   "execution_count": null,
   "metadata": {
    "vscode": {
     "languageId": "plaintext"
    }
   },
   "outputs": [],
   "source": []
  },
  {
   "cell_type": "markdown",
   "metadata": {},
   "source": [
    "2. Clase Coche con atributos protegidos:\n",
    "\n",
    "    - Crea una clase llamada Coche con un atributo protegido _velocidad.\n",
    "    - Crea un método público llamado acelerar() que incremente la velocidad en 10 unidades.\n",
    "    - Crea un método público llamado frenar() que decremente la velocidad en 10 unidades, pero no permita que la velocidad sea inferior a 0.\n",
    "    - Crea un objeto de la clase Coche y prueba los métodos acelerar() y frenar()."
   ]
  },
  {
   "cell_type": "code",
   "execution_count": null,
   "metadata": {
    "vscode": {
     "languageId": "plaintext"
    }
   },
   "outputs": [],
   "source": []
  },
  {
   "cell_type": "markdown",
   "metadata": {},
   "source": [
    "### Nivel 2: Métodos Getters y Setters\n",
    "3. Clase Libro con getters y setters:\n",
    "\n",
    "- Crea una clase llamada Libro con atributos privados __titulo y __autor.\n",
    "- Crea métodos \"getter\" (get_titulo(), get_autor()) para acceder a los atributos.\n",
    "- Crea métodos \"setter\" (set_titulo(), set_autor()) para modificar los atributos, pero añade validaciones (por ejemplo, el título no puede estar vacío).\n",
    "- Crea un objeto de la clase Libro y utiliza los getters y setters para acceder y modificar los atributos."
   ]
  },
  {
   "cell_type": "code",
   "execution_count": null,
   "metadata": {
    "vscode": {
     "languageId": "plaintext"
    }
   },
   "outputs": [],
   "source": []
  },
  {
   "cell_type": "markdown",
   "metadata": {},
   "source": [
    "4. Clase CuentaBancaria con encapsulamiento:\n",
    "\n",
    "    - Crea una clase llamada CuentaBancaria con un atributo privado __saldo.\n",
    "    - Crea métodos públicos depositar() y retirar() para modificar el saldo.\n",
    "    - Añade validaciones en los métodos depositar() y retirar() (por ejemplo, no se puede depositar una cantidad negativa, no se puede retirar más saldo del disponible).\n",
    "    - Crea un método público consultar_saldo() para obtener el saldo actual.\n",
    "    - Crea un objeto de la clase CuentaBancaria y realiza operaciones de depósito y retiro."
   ]
  },
  {
   "cell_type": "code",
   "execution_count": null,
   "metadata": {
    "vscode": {
     "languageId": "plaintext"
    }
   },
   "outputs": [],
   "source": []
  },
  {
   "cell_type": "markdown",
   "metadata": {},
   "source": [
    "### Nivel 3: Aplicaciones\n",
    "5. Clase para representar un producto con encapsulamiento:\n",
    "\n",
    "    - Crea una clase llamada Producto con atributos privados __nombre, __precio y __stock.\n",
    "    - Crea getters y setters para acceder y modificar los atributos, pero añade validaciones (por ejemplo, el precio no puede ser negativo, el stock no puede ser inferior a 0).\n",
    "    - Añade un método mostrar_informacion() que muestre el nombre, precio y stock del producto.\n",
    "    - Crea un objeto de la clase Producto y realiza operaciones de modificación y consulta."
   ]
  },
  {
   "cell_type": "code",
   "execution_count": null,
   "metadata": {
    "vscode": {
     "languageId": "plaintext"
    }
   },
   "outputs": [],
   "source": []
  },
  {
   "cell_type": "markdown",
   "metadata": {},
   "source": [
    "### ¡No te rindas!\n",
    "Recuerda que la clave para dominar el encapsulamiento está en la práctica constante. Intenta resolver los ejercicios por tu cuenta y, si te encuentras con alguna dificultad, no dudes en consultar la documentación de Python o buscar ejemplos en línea. ¡Mucho éxito en tu aprendizaje!"
   ]
  }
 ],
 "metadata": {
  "language_info": {
   "name": "python"
  }
 },
 "nbformat": 4,
 "nbformat_minor": 2
}
