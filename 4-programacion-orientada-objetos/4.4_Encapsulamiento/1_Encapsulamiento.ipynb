{
 "cells": [
  {
   "cell_type": "markdown",
   "metadata": {},
   "source": [
    "## 4. Programación Orientada a Objetos\n",
    "\n",
    "# **📌 Encapsulamiento**\n",
    "\n",
    "El **encapsulamiento** es uno de los pilares fundamentales de la Programación Orientada a Objetos (POO). Su objetivo es **ocultar la implementación interna** de un objeto y **controlar el acceso** a sus datos, permitiendo una mejor organización y seguridad en el código.\n",
    "\n",
    "---\n",
    "\n",
    "## 🎯 Objetivo\n",
    "\n",
    "En esta lección aprenderás:\n",
    "\n",
    "- Qué es el encapsulamiento y por qué es importante.\n",
    "- Cómo ocultar el estado interno de un objeto.\n",
    "- Modificadores de acceso en Python.\n",
    "- Uso de métodos para acceder y modificar datos.\n",
    "- Implementación de **getters** y **setters**.\n",
    "\n",
    "---\n",
    "\n",
    "## 📌 ¿Qué es el Encapsulamiento?\n",
    "\n",
    "El **encapsulamiento** es el mecanismo que restringe el acceso directo a los datos de un objeto y solo permite modificarlos a través de métodos controlados.\n",
    "\n",
    "🔹 **Ejemplo en la vida real:**\n",
    "\n",
    "Imagina una caja fuerte. Su contenido está protegido y solo puede accederse a él mediante una combinación secreta. De la misma manera, los atributos de un objeto están protegidos y solo pueden modificarse a través de ciertos métodos.\n",
    "\n",
    "🔹 **Ejemplo en Python:**"
   ]
  },
  {
   "cell_type": "code",
   "execution_count": 2,
   "metadata": {},
   "outputs": [
    {
     "name": "stdout",
     "output_type": "stream",
     "text": [
      "1000\n"
     ]
    }
   ],
   "source": [
    "class CuentaBancaria:\n",
    "    def __init__(self, titular, saldo):\n",
    "        self.titular = titular  # Atributo público\n",
    "        self.__saldo = saldo    # Atributo privado\n",
    "    \n",
    "    def depositar(self, cantidad):\n",
    "        if cantidad > 0:\n",
    "            self.__saldo += cantidad\n",
    "    \n",
    "    def retirar(self, cantidad):\n",
    "        if 0 < cantidad <= self.__saldo:\n",
    "            self.__saldo -= cantidad\n",
    "        else:\n",
    "            print(\"Fondos insuficientes\")\n",
    "    \n",
    "    def obtener_saldo(self):\n",
    "        return self.__saldo\n",
    "\n",
    "# Uso de la clase\n",
    "cuenta = CuentaBancaria(\"Carlos\", 1000)\n",
    "print(cuenta.obtener_saldo())  # Accede de manera controlada"
   ]
  },
  {
   "cell_type": "markdown",
   "metadata": {},
   "source": [
    "---\n",
    "\n",
    "## 🔐 Modificadores de Acceso\n",
    "\n",
    "En Python, los atributos pueden tener distintos niveles de acceso:\n",
    "\n",
    "| Modificador | Notación | Descripción |\n",
    "|------------|-----------|-------------|\n",
    "| **Público** | `variable` | Se puede acceder y modificar libremente desde cualquier parte. |\n",
    "| **Protegido** | `_variable` | Se puede acceder dentro de la clase y sus subclases, pero su uso externo no es recomendado. |\n",
    "| **Privado** | `__variable` | Solo es accesible dentro de la propia clase. |\n",
    "\n",
    "🔹 **Ejemplo de modificadores:**"
   ]
  },
  {
   "cell_type": "code",
   "execution_count": 3,
   "metadata": {},
   "outputs": [
    {
     "name": "stdout",
     "output_type": "stream",
     "text": [
      "Ana\n",
      "30\n",
      "12345678X\n"
     ]
    }
   ],
   "source": [
    "class Persona:\n",
    "    def __init__(self, nombre, edad):\n",
    "        self.nombre = nombre  # Público\n",
    "        self._edad = edad     # Protegido\n",
    "        self.__dni = \"12345678X\"  # Privado\n",
    "    \n",
    "    def mostrar_dni(self):\n",
    "        return self.__dni  # Se accede desde dentro de la clase\n",
    "\n",
    "persona = Persona(\"Ana\", 30)\n",
    "print(persona.nombre)  # Acceso permitido\n",
    "print(persona._edad)   # Acceso permitido pero no recomendado\n",
    "print(persona.mostrar_dni())  # Acceso permitido mediante un método"
   ]
  },
  {
   "cell_type": "markdown",
   "metadata": {},
   "source": [
    "🚨 **Nota:** En Python, los atributos privados pueden seguir siendo accesibles usando `objeto._Clase__atributo`, pero esto se considera una mala práctica.\n",
    "\n",
    "---\n",
    "\n",
    "## 🛠️ Getters y Setters\n",
    "Los **getters** y **setters** son métodos especiales que permiten acceder y modificar atributos privados de manera controlada.\n",
    "\n",
    "### ¿Por qué usar Getters y Setters?\n",
    "- **Control de acceso**: Evita la modificación directa de atributos sensibles.\n",
    "- **Validación de datos**: Permite verificar valores antes de asignarlos.\n",
    "- **Mantenimiento del código**: Facilita la modificación de la implementación sin afectar otras partes del programa.\n",
    "\n",
    "### Implementación en Python\n",
    "En Python, los getters y setters se pueden definir manualmente o mediante el decorador `@property`.\n",
    "\n",
    "#### Método Tradicional"
   ]
  },
  {
   "cell_type": "code",
   "execution_count": null,
   "metadata": {},
   "outputs": [],
   "source": [
    "class Persona:\n",
    "    def __init__(self, nombre, edad):\n",
    "        self.__nombre = nombre  # Atributo privado\n",
    "        self.__edad = edad  # Atributo privado\n",
    "\n",
    "    def get_nombre(self):\n",
    "        return self.__nombre\n",
    "\n",
    "    def set_nombre(self, nuevo_nombre):\n",
    "        if isinstance(nuevo_nombre, str) and nuevo_nombre.strip():\n",
    "            self.__nombre = nuevo_nombre\n",
    "        else:\n",
    "            raise ValueError(\"El nombre debe ser una cadena no vacía\")\n",
    "\n",
    "    def get_edad(self):\n",
    "        return self.__edad\n",
    "\n",
    "    def set_edad(self, nueva_edad):\n",
    "        if isinstance(nueva_edad, int) and nueva_edad > 0:\n",
    "            self.__edad = nueva_edad\n",
    "        else:\n",
    "            raise ValueError(\"La edad debe ser un número entero positivo\")\n",
    "\n",
    "# Uso\n",
    "p = Persona(\"Juan\", 30)\n",
    "print(p.get_nombre())  # Juan\n",
    "p.set_edad(35)\n",
    "print(p.get_edad())  # 35"
   ]
  },
  {
   "cell_type": "markdown",
   "metadata": {},
   "source": [
    "#### Uso de `@property`\n",
    "El decorador `@property` permite definir getters y setters de forma más elegante y Pythonic."
   ]
  },
  {
   "cell_type": "code",
   "execution_count": null,
   "metadata": {},
   "outputs": [],
   "source": [
    "class Persona:\n",
    "    def __init__(self, nombre, edad):\n",
    "        self.__nombre = nombre\n",
    "        self.__edad = edad\n",
    "\n",
    "    @property\n",
    "    def nombre(self):\n",
    "        return self.__nombre\n",
    "\n",
    "    @nombre.setter\n",
    "    def nombre(self, nuevo_nombre):\n",
    "        if isinstance(nuevo_nombre, str) and nuevo_nombre.strip():\n",
    "            self.__nombre = nuevo_nombre\n",
    "        else:\n",
    "            raise ValueError(\"El nombre debe ser una cadena no vacía\")\n",
    "\n",
    "    @property\n",
    "    def edad(self):\n",
    "        return self.__edad\n",
    "\n",
    "    @edad.setter\n",
    "    def edad(self, nueva_edad):\n",
    "        if isinstance(nueva_edad, int) and nueva_edad > 0:\n",
    "            self.__edad = nueva_edad\n",
    "        else:\n",
    "            raise ValueError(\"La edad debe ser un número entero positivo\")\n",
    "\n",
    "# Uso\n",
    "p = Persona(\"Ana\", 28)\n",
    "print(p.nombre)  # Ana\n",
    "p.nombre = \"Carlos\"\n",
    "print(p.nombre)  # Carlos"
   ]
  },
  {
   "cell_type": "markdown",
   "metadata": {},
   "source": [
    "✅ **Ventajas del uso de `@property`**:\n",
    "- Hace el código más limpio y legible.\n",
    "- Evita llamar explícitamente los métodos `get_` y `set_`.\n",
    "\n",
    "---\n",
    "\n",
    "## 🎯 Beneficios del Encapsulamiento\n",
    "\n",
    "✅ Protege la integridad de los datos evitando modificaciones indebidas.\n",
    "✅ Mejora la seguridad del código al limitar el acceso directo a los atributos.\n",
    "✅ Permite un mayor control sobre los valores internos de los objetos.\n",
    "\n",
    "---\n",
    "\n",
    "## 🏆 Aplicaciones Prácticas\n",
    "\n",
    "📌 **Dónde se usa el encapsulamiento:**\n",
    "\n",
    "- 🔐 **Sistemas bancarios:** Protección de información financiera.\n",
    "- 📱 **Aplicaciones web:** Control de acceso a datos de usuario.\n",
    "- 🎮 **Videojuegos:** Mantener la integridad de las estadísticas de personajes.\n",
    "\n",
    "---\n",
    "\n",
    "## ✅ Conclusión\n",
    "\n",
    "- El **encapsulamiento** es clave para proteger y organizar los datos dentro de una clase.\n",
    "- Python permite definir atributos **públicos, protegidos y privados**.\n",
    "- Se accede a los datos privados mediante **métodos públicos** para garantizar un control adecuado.\n",
    "\n",
    "🔹 **Reflexión:** ¿Puedes pensar en un caso en el que ocultar datos dentro de una clase sea esencial? 🤔"
   ]
  }
 ],
 "metadata": {
  "kernelspec": {
   "display_name": "venvc",
   "language": "python",
   "name": "python3"
  },
  "language_info": {
   "codemirror_mode": {
    "name": "ipython",
    "version": 3
   },
   "file_extension": ".py",
   "mimetype": "text/x-python",
   "name": "python",
   "nbconvert_exporter": "python",
   "pygments_lexer": "ipython3",
   "version": "3.12.8"
  }
 },
 "nbformat": 4,
 "nbformat_minor": 2
}
