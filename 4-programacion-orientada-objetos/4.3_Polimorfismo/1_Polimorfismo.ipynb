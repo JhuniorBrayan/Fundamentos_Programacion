{
 "cells": [
  {
   "cell_type": "markdown",
   "metadata": {},
   "source": [
    "## 4. Programación Orientada a Objetos\n",
    "\n",
    "# **📌 Polimorfismo**\n",
    "\n",
    "En la Programación Orientada a Objetos (POO), el **polimorfismo** es uno de los pilares fundamentales. Se refiere a la capacidad de un mismo método o función de comportarse de manera diferente según el contexto en el que se usa. Esto permite escribir código más flexible, reutilizable y mantenible.\n",
    "\n",
    "---\n",
    "\n",
    "## 🎯 Objetivo\n",
    "\n",
    "En esta lección aprenderás:\n",
    "\n",
    "- El concepto de **polimorfismo** y su importancia en la POO.\n",
    "- Tipos de polimorfismo: **de subtipo y paramétrico**.\n",
    "- Uso de **interfaces** y **clases abstractas** para implementar polimorfismo.\n",
    "\n",
    "---\n",
    "\n",
    "## 📌 Polimorfismo en POO\n",
    "\n",
    "### 1️⃣ **¿Qué es el Polimorfismo?**\n",
    "\n",
    "El polimorfismo permite que un mismo método tenga diferentes comportamientos según el objeto que lo implemente.\n",
    "\n",
    "🔹 **Ejemplo en la vida real:** Imagina que tienes un botón de \"Pagar\" en una aplicación de compras. Dependiendo del método de pago elegido (tarjeta, PayPal o criptomonedas), la acción será diferente, pero el botón sigue siendo el mismo.\n",
    "\n",
    "🔹 **Ejemplo en Python:**"
   ]
  },
  {
   "cell_type": "code",
   "execution_count": null,
   "metadata": {
    "vscode": {
     "languageId": "plaintext"
    }
   },
   "outputs": [],
   "source": [
    "class Animal:\n",
    "    def hacer_sonido(self):\n",
    "        pass  # Método que será sobreescrito por las clases hijas\n",
    "\n",
    "class Perro(Animal):\n",
    "    def hacer_sonido(self):\n",
    "        return \"Guau!\"\n",
    "\n",
    "class Gato(Animal):\n",
    "    def hacer_sonido(self):\n",
    "        return \"Miau!\"\n",
    "\n",
    "# Uso del polimorfismo\n",
    "animales = [Perro(), Gato()]\n",
    "for animal in animales:\n",
    "    print(animal.hacer_sonido())  # Salida: \"Guau!\" \"Miau!\""
   ]
  },
  {
   "cell_type": "markdown",
   "metadata": {},
   "source": [
    "---\n",
    "\n",
    "### 2️⃣ **Tipos de Polimorfismo**\n",
    "\n",
    "📌 **Polimorfismo de Subtipo (Herencia)**\n",
    "- Se basa en la relación **padre-hijo**. Una clase hija puede redefinir los métodos de su clase padre.\n",
    "\n",
    "🔹 **Ejemplo:**"
   ]
  },
  {
   "cell_type": "code",
   "execution_count": null,
   "metadata": {
    "vscode": {
     "languageId": "plaintext"
    }
   },
   "outputs": [],
   "source": [
    "class Vehiculo:\n",
    "    def moverse(self):\n",
    "        return \"Me estoy moviendo\"\n",
    "\n",
    "class Coche(Vehiculo):\n",
    "    def moverse(self):\n",
    "        return \"El coche está conduciendo\"\n",
    "\n",
    "class Avion(Vehiculo):\n",
    "    def moverse(self):\n",
    "        return \"El avión está volando\"\n",
    "\n",
    "vehiculos = [Coche(), Avion()]\n",
    "for v in vehiculos:\n",
    "    print(v.moverse())"
   ]
  },
  {
   "cell_type": "markdown",
   "metadata": {},
   "source": [
    "📌 **Polimorfismo Paramétrico (Sobrecarga de Métodos)**\n",
    "- Un mismo método puede aceptar diferentes tipos de datos y comportarse adecuadamente.\n",
    "\n",
    "🔹 **Ejemplo:**"
   ]
  },
  {
   "cell_type": "code",
   "execution_count": null,
   "metadata": {
    "vscode": {
     "languageId": "plaintext"
    }
   },
   "outputs": [],
   "source": [
    "def sumar(a, b, c=0):\n",
    "    return a + b + c\n",
    "\n",
    "print(sumar(2, 3))       # Salida: 5\n",
    "print(sumar(2, 3, 4))    # Salida: 9"
   ]
  },
  {
   "cell_type": "markdown",
   "metadata": {},
   "source": [
    "---\n",
    "\n",
    "### 3️⃣ **Interfaces y Clases Abstractas**\n",
    "\n",
    "📌 **Clases abstractas:**\n",
    "- Son clases que no pueden instanciarse directamente y sirven como base para otras clases.\n",
    "\n",
    "🔹 **Ejemplo:**"
   ]
  },
  {
   "cell_type": "code",
   "execution_count": null,
   "metadata": {
    "vscode": {
     "languageId": "plaintext"
    }
   },
   "outputs": [],
   "source": [
    "from abc import ABC, abstractmethod\n",
    "\n",
    "class Figura(ABC):\n",
    "    @abstractmethod\n",
    "    def calcular_area(self):\n",
    "        pass\n",
    "\n",
    "class Circulo(Figura):\n",
    "    def __init__(self, radio):\n",
    "        self.radio = radio\n",
    "    \n",
    "    def calcular_area(self):\n",
    "        return 3.14 * self.radio ** 2\n",
    "\n",
    "mi_circulo = Circulo(5)\n",
    "print(mi_circulo.calcular_area())  # Salida: 78.5"
   ]
  },
  {
   "cell_type": "markdown",
   "metadata": {},
   "source": [
    "---\n",
    "\n",
    "## 🏆 Aplicaciones Prácticas\n",
    "\n",
    "📌 **El polimorfismo se usa en:**\n",
    "\n",
    "- 🔄 **Sistemas de pago:** Un mismo método puede manejar pagos con tarjeta, PayPal o cripto.\n",
    "- 🎮 **Videojuegos:** Diferentes tipos de personajes pueden compartir un mismo método \"atacar\", pero con implementaciones distintas.\n",
    "- 📊 **Procesamiento de datos:** Funciones que procesan listas, conjuntos o diccionarios sin necesidad de cambiar su implementación.\n",
    "\n",
    "---\n",
    "\n",
    "## ✅ Conclusión\n",
    "\n",
    "- El **polimorfismo** permite que un mismo método o función tenga diferentes comportamientos.\n",
    "- Existen **dos tipos principales**: de subtipo (herencia) y paramétrico.\n",
    "- Se implementa mediante **herencia, sobrecarga de métodos e interfaces**.\n",
    "\n",
    "🔹 **Reflexión:** ¿Cómo podrías aplicar polimorfismo en un proyecto real? 🤔"
   ]
  }
 ],
 "metadata": {
  "language_info": {
   "name": "python"
  }
 },
 "nbformat": 4,
 "nbformat_minor": 2
}
