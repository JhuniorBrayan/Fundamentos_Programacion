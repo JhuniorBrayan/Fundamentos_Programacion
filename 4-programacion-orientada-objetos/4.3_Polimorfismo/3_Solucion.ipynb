{
 "cells": [
  {
   "cell_type": "markdown",
   "metadata": {},
   "source": [
    "## Ejercicios: POO - Polimorfismo\n",
    "\n",
    "### Nivel 1: Introducción al Polimorfismo\n",
    "1. Clase Animal y clases derivadas con polimorfismo:\n",
    "\n",
    "    - Crea una clase llamada Animal con un método hacer_sonido() que imprima \"Sonido genérico\".\n",
    "    - Crea clases llamadas Perro y Gato que hereden de la clase Animal.\n",
    "    - Sobrescribe el método hacer_sonido() en cada clase derivada para que imprima el sonido específico del animal (\"Guau!\" para Perro, \"Miau!\" para Gato).\n",
    "    - Crea una lista de objetos de tipo Animal (pueden ser tanto Perro como Gato).\n",
    "    - Recorre la lista y llama al método hacer_sonido() para cada objeto. Observa cómo se ejecuta el método correcto según el tipo de objeto (polimorfismo)."
   ]
  },
  {
   "cell_type": "code",
   "execution_count": null,
   "metadata": {},
   "outputs": [
    {
     "name": "stdout",
     "output_type": "stream",
     "text": [
      "Guau!\n",
      "Miau!\n"
     ]
    }
   ],
   "source": [
    "class Animal:\n",
    "    def hacer_sonido(self):\n",
    "        print(\"Sonido genérico\")\n",
    "\n",
    "class Perro(Animal):\n",
    "    def hacer_sonido(self):\n",
    "        print(\"Guau!\")\n",
    "\n",
    "class Gato(Animal):\n",
    "    def hacer_sonido(self):\n",
    "        print(\"Miau!\")\n",
    "\n",
    "animales = [Perro(), Gato()]  # Lista de objetos Animal (polimorfismo)\n",
    "\n",
    "for animal in animales:\n",
    "    animal.hacer_sonido()  # El método se llama según el tipo de objeto\n",
    "# Salida:\n",
    "# Guau!\n",
    "# Miau!"
   ]
  },
  {
   "cell_type": "markdown",
   "metadata": {},
   "source": [
    "2. Clase Forma y clases derivadas con polimorfismo:\n",
    "\n",
    "    - Crea una clase abstracta llamada Forma con un método abstracto calcular_area().\n",
    "    - Crea clases llamadas Rectangulo y Circulo que hereden de la clase Forma.\n",
    "    - Implementa el método calcular_area() en cada clase derivada para calcular el área correspondiente.\n",
    "    - Crea una lista de objetos de tipo Forma (pueden ser tanto Rectangulo como Circulo).\n",
    "    - Recorre la lista y llama al método calcular_area() para cada objeto."
   ]
  },
  {
   "cell_type": "code",
   "execution_count": null,
   "metadata": {},
   "outputs": [
    {
     "name": "stdout",
     "output_type": "stream",
     "text": [
      "50\n",
      "78.53981633974483\n"
     ]
    }
   ],
   "source": [
    "from abc import ABC, abstractmethod  # Importamos ABC y abstractmethod\n",
    "\n",
    "class Forma(ABC):  # Clase abstracta\n",
    "    @abstractmethod\n",
    "    def calcular_area(self):\n",
    "        pass  # Método abstracto\n",
    "\n",
    "class Rectangulo(Forma):\n",
    "    def __init__(self, base, altura):\n",
    "        self.base = base\n",
    "        self.altura = altura\n",
    "\n",
    "    def calcular_area(self):  # Implementación del método abstracto\n",
    "        return self.base * self.altura\n",
    "\n",
    "class Circulo(Forma):\n",
    "    def __init__(self, radio):\n",
    "        self.radio = radio\n",
    "\n",
    "    def calcular_area(self):  # Implementación del método abstracto\n",
    "        import math\n",
    "        return math.pi * self.radio**2\n",
    "\n",
    "formas = [Rectangulo(5, 10), Circulo(5)]  # Lista de objetos Forma\n",
    "\n",
    "for forma in formas:\n",
    "    print(forma.calcular_area())  # El método se llama según el tipo de objeto\n",
    "# Salida:\n",
    "# 50\n",
    "# 78.53981633974483"
   ]
  },
  {
   "cell_type": "markdown",
   "metadata": {},
   "source": [
    "### Nivel 2: Polimorfismo Paramétrico\n",
    "3. Función sumar con polimorfismo paramétrico:\n",
    "\n",
    "    - Crea una función llamada sumar que acepte dos argumentos (pueden ser tanto números enteros como cadenas).\n",
    "    - Si los argumentos son números, la función debe devolver la suma.\n",
    "    - Si los argumentos son cadenas, la función debe concatenarlas.\n",
    "    - Llama a la función sumar con diferentes tipos de argumentos y observa el comportamiento (polimorfismo paramétrico)."
   ]
  },
  {
   "cell_type": "code",
   "execution_count": null,
   "metadata": {},
   "outputs": [
    {
     "name": "stdout",
     "output_type": "stream",
     "text": [
      "5\n",
      "holamundo\n",
      "Tipos de datos no compatibles\n"
     ]
    }
   ],
   "source": [
    "def sumar(a, b):  # No necesitamos el parámetro c=0\n",
    "    if isinstance(a, (int, float)) and isinstance(b, (int, float)):  # Verificamos el tipo\n",
    "        return a + b\n",
    "    elif isinstance(a, str) and isinstance(b, str):\n",
    "        return a + b  # Concatenación de cadenas\n",
    "    else:\n",
    "        return \"Tipos de datos no compatibles\"\n",
    "\n",
    "print(sumar(2, 3))  # Salida: 5\n",
    "print(sumar(\"hola\", \"mundo\"))  # Salida: holamundo\n",
    "print(sumar(2, \"hola\"))  # Salida: Tipos de datos no compatibles"
   ]
  },
  {
   "cell_type": "markdown",
   "metadata": {},
   "source": [
    "### Nivel 3: Interfaces (Duck Typing)\n",
    "4. \"Duck typing\" con clases Pato y Persona:\n",
    "\n",
    "    - Crea una clase llamada Pato con un método cuac() que imprima \"Cuac!\".\n",
    "    - Crea una clase llamada Persona con un método cuac() que imprima \"Soy una persona que imita a un pato!\".\n",
    "    - Crea una función llamada hacer_cuac que acepte un objeto como argumento y llame a su método cuac().\n",
    "    - Llama a la función hacer_cuac con objetos de tipo Pato y Persona. Observa cómo funciona el \"duck typing\" (si tiene el método cuac(), entonces es un \"pato\")."
   ]
  },
  {
   "cell_type": "code",
   "execution_count": null,
   "metadata": {},
   "outputs": [
    {
     "name": "stdout",
     "output_type": "stream",
     "text": [
      "Cuac!\n",
      "Soy una persona que imita a un pato!\n"
     ]
    }
   ],
   "source": [
    "class Pato:\n",
    "    def cuac(self):\n",
    "        print(\"Cuac!\")\n",
    "\n",
    "class Persona:\n",
    "    def cuac(self):\n",
    "        print(\"Soy una persona que imita a un pato!\")\n",
    "\n",
    "def hacer_cuac(pato):  # No especificamos el tipo, solo que tenga el método cuac()\n",
    "    pato.cuac()\n",
    "\n",
    "pato = Pato()\n",
    "persona = Persona()\n",
    "\n",
    "hacer_cuac(pato)  # Salida: Cuac!\n",
    "hacer_cuac(persona)  # Salida: Soy una persona que imita a un pato!"
   ]
  },
  {
   "cell_type": "markdown",
   "metadata": {},
   "source": [
    "### Nivel 4: Aplicaciones\n",
    "5. Clase para representar diferentes tipos de vehículos con polimorfismo:\n",
    "\n",
    "    - Crea una clase abstracta llamada Vehiculo con un método abstracto conducir().\n",
    "    - Crea clases llamadas Coche, Moto y Bicicleta que hereden de la clase Vehiculo.\n",
    "    - Implementa el método conducir() en cada clase derivada para simular la conducción del vehículo correspondiente.\n",
    "    - Crea una lista de objetos de tipo Vehiculo y simula la conducción de cada vehículo."
   ]
  },
  {
   "cell_type": "code",
   "execution_count": null,
   "metadata": {},
   "outputs": [
    {
     "name": "stdout",
     "output_type": "stream",
     "text": [
      "Conduciendo un coche\n",
      "Conduciendo una moto\n",
      "Montando en bicicleta\n"
     ]
    }
   ],
   "source": [
    "from abc import ABC, abstractmethod\n",
    "\n",
    "class Vehiculo(ABC):\n",
    "    @abstractmethod\n",
    "    def conducir(self):\n",
    "        pass\n",
    "\n",
    "class Coche(Vehiculo):\n",
    "    def conducir(self):\n",
    "        print(\"Conduciendo un coche\")\n",
    "\n",
    "class Moto(Vehiculo):\n",
    "    def conducir(self):\n",
    "        print(\"Conduciendo una moto\")\n",
    "\n",
    "class Bicicleta(Vehiculo):\n",
    "    def conducir(self):\n",
    "        print(\"Montando en bicicleta\")\n",
    "\n",
    "vehiculos = [Coche(), Moto(), Bicicleta()]  # Lista de objetos Vehiculo\n",
    "\n",
    "for vehiculo in vehiculos:\n",
    "    vehiculo.conducir()  # Polimorfismo: cada objeto ejecuta su método específico\n",
    "# Salida:\n",
    "# Conduciendo un coche\n",
    "# Conduciendo una moto\n",
    "# Montando en bicicleta"
   ]
  },
  {
   "cell_type": "markdown",
   "metadata": {},
   "source": [
    "### ¡No te rindas!\n",
    "Recuerda que la clave para dominar el polimorfismo está en la práctica constante. Intenta resolver los ejercicios por tu cuenta y, si te encuentras con alguna dificultad, no dudes en consultar la documentación de Python o buscar ejemplos en línea. ¡Mucho éxito en tu aprendizaje!"
   ]
  }
 ],
 "metadata": {
  "language_info": {
   "name": "python"
  }
 },
 "nbformat": 4,
 "nbformat_minor": 2
}
