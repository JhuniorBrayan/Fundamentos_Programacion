{
 "cells": [
  {
   "cell_type": "markdown",
   "metadata": {},
   "source": [
    "## Ejercicios: POO - Polimorfismo\n",
    "\n",
    "### Nivel 1: Introducción al Polimorfismo\n",
    "1. Clase Animal y clases derivadas con polimorfismo:\n",
    "\n",
    "    - Crea una clase llamada Animal con un método hacer_sonido() que imprima \"Sonido genérico\".\n",
    "    - Crea clases llamadas Perro y Gato que hereden de la clase Animal.\n",
    "    - Sobrescribe el método hacer_sonido() en cada clase derivada para que imprima el sonido específico del animal (\"Guau!\" para Perro, \"Miau!\" para Gato).\n",
    "    - Crea una lista de objetos de tipo Animal (pueden ser tanto Perro como Gato).\n",
    "    - Recorre la lista y llama al método hacer_sonido() para cada objeto. Observa cómo se ejecuta el método correcto según el tipo de objeto (polimorfismo)."
   ]
  },
  {
   "cell_type": "code",
   "execution_count": null,
   "metadata": {},
   "outputs": [],
   "source": []
  },
  {
   "cell_type": "markdown",
   "metadata": {},
   "source": [
    "2. Clase Forma y clases derivadas con polimorfismo:\n",
    "\n",
    "    - Crea una clase abstracta llamada Forma con un método abstracto calcular_area().\n",
    "    - Crea clases llamadas Rectangulo y Circulo que hereden de la clase Forma.\n",
    "    - Implementa el método calcular_area() en cada clase derivada para calcular el área correspondiente.\n",
    "    - Crea una lista de objetos de tipo Forma (pueden ser tanto Rectangulo como Circulo).\n",
    "    - Recorre la lista y llama al método calcular_area() para cada objeto."
   ]
  },
  {
   "cell_type": "code",
   "execution_count": null,
   "metadata": {},
   "outputs": [],
   "source": []
  },
  {
   "cell_type": "markdown",
   "metadata": {},
   "source": [
    "### Nivel 2: Polimorfismo Paramétrico\n",
    "3. Función sumar con polimorfismo paramétrico:\n",
    "\n",
    "    - Crea una función llamada sumar que acepte dos argumentos (pueden ser tanto números enteros como cadenas).\n",
    "    - Si los argumentos son números, la función debe devolver la suma.\n",
    "    - Si los argumentos son cadenas, la función debe concatenarlas.\n",
    "    - Llama a la función sumar con diferentes tipos de argumentos y observa el comportamiento (polimorfismo paramétrico)."
   ]
  },
  {
   "cell_type": "code",
   "execution_count": null,
   "metadata": {},
   "outputs": [],
   "source": []
  },
  {
   "cell_type": "markdown",
   "metadata": {},
   "source": [
    "### Nivel 3: Interfaces (Duck Typing)\n",
    "4. \"Duck typing\" con clases Pato y Persona:\n",
    "\n",
    "    - Crea una clase llamada Pato con un método cuac() que imprima \"Cuac!\".\n",
    "    - Crea una clase llamada Persona con un método cuac() que imprima \"Soy una persona que imita a un pato!\".\n",
    "    - Crea una función llamada hacer_cuac que acepte un objeto como argumento y llame a su método cuac().\n",
    "    - Llama a la función hacer_cuac con objetos de tipo Pato y Persona. Observa cómo funciona el \"duck typing\" (si tiene el método cuac(), entonces es un \"pato\")."
   ]
  },
  {
   "cell_type": "code",
   "execution_count": null,
   "metadata": {},
   "outputs": [],
   "source": []
  },
  {
   "cell_type": "markdown",
   "metadata": {},
   "source": [
    "### Nivel 4: Aplicaciones\n",
    "5. Clase para representar diferentes tipos de vehículos con polimorfismo:\n",
    "\n",
    "    - Crea una clase abstracta llamada Vehiculo con un método abstracto conducir().\n",
    "    - Crea clases llamadas Coche, Moto y Bicicleta que hereden de la clase Vehiculo.\n",
    "    - Implementa el método conducir() en cada clase derivada para simular la conducción del vehículo correspondiente.\n",
    "    - Crea una lista de objetos de tipo Vehiculo y simula la conducción de cada vehículo."
   ]
  },
  {
   "cell_type": "code",
   "execution_count": null,
   "metadata": {},
   "outputs": [],
   "source": []
  },
  {
   "cell_type": "markdown",
   "metadata": {},
   "source": [
    "### ¡No te rindas!\n",
    "Recuerda que la clave para dominar el polimorfismo está en la práctica constante. Intenta resolver los ejercicios por tu cuenta y, si te encuentras con alguna dificultad, no dudes en consultar la documentación de Python o buscar ejemplos en línea. ¡Mucho éxito en tu aprendizaje!"
   ]
  }
 ],
 "metadata": {
  "kernelspec": {
   "display_name": "venvc",
   "language": "python",
   "name": "python3"
  },
  "language_info": {
   "codemirror_mode": {
    "name": "ipython",
    "version": 3
   },
   "file_extension": ".py",
   "mimetype": "text/x-python",
   "name": "python",
   "nbconvert_exporter": "python",
   "pygments_lexer": "ipython3",
   "version": "3.12.8"
  }
 },
 "nbformat": 4,
 "nbformat_minor": 2
}
