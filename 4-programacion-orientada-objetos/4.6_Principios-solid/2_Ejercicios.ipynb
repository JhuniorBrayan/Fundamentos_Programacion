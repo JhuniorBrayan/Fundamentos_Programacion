{
 "cells": [
  {
   "cell_type": "markdown",
   "metadata": {},
   "source": [
    "## Ejercicios: POO - Principios SOLID\n",
    "\n",
    "### Nivel 1: Introducción a SOLID\n",
    "1. Single Responsibility Principle (SRP):\n",
    "\n",
    "    - Crea una clase llamada Factura con atributos como cliente, productos y total.\n",
    "    - Añade métodos para calcular el total de la factura, generar un reporte en formato de texto y enviar la factura por correo electrónico.\n",
    "    - ¿Cumple esta clase con el principio SRP? Justifica tu respuesta.\n",
    "    - Si no cumple con SRP, divide la clase en clases separadas, cada una con una única responsabilidad."
   ]
  },
  {
   "cell_type": "code",
   "execution_count": null,
   "metadata": {
    "vscode": {
     "languageId": "plaintext"
    }
   },
   "outputs": [],
   "source": []
  },
  {
   "cell_type": "markdown",
   "metadata": {},
   "source": [
    "2. Open/Closed Principle (OCP):\n",
    "\n",
    "    - Crea una clase abstracta llamada Forma con un método abstracto calcular_area().\n",
    "    - Crea clases concretas llamadas Rectangulo, Circulo y Triangulo que hereden de la clase Forma.\n",
    "    - Implementa el método calcular_area() en cada clase derivada para calcular el área correspondiente.\n",
    "    - Crea una función llamada calcular_areas que acepte una lista de objetos de tipo Forma y calcule el área de cada forma.\n",
    "    - ¿Cómo podrías añadir nuevas formas sin modificar la función calcular_areas?"
   ]
  },
  {
   "cell_type": "code",
   "execution_count": null,
   "metadata": {
    "vscode": {
     "languageId": "plaintext"
    }
   },
   "outputs": [],
   "source": []
  },
  {
   "cell_type": "markdown",
   "metadata": {},
   "source": [
    "### Nivel 2: Aplicación de SOLID\n",
    "3. Liskov Substitution Principle (LSP):\n",
    "\n",
    "    - Crea una clase llamada Ave con un método volar().\n",
    "    - Crea una clase llamada Pato que herede de la clase Ave.\n",
    "    - Crea una clase llamada Pinguino que herede de la clase Ave.\n",
    "    - ¿Qué ocurre si intentas llamar al método volar() en un objeto de tipo Pinguino?\n",
    "    - ¿Cómo podrías rediseñar las clases para cumplir con el principio LSP?"
   ]
  },
  {
   "cell_type": "code",
   "execution_count": null,
   "metadata": {
    "vscode": {
     "languageId": "plaintext"
    }
   },
   "outputs": [],
   "source": []
  },
  {
   "cell_type": "markdown",
   "metadata": {},
   "source": [
    "4. Interface Segregation Principle (ISP):\n",
    "\n",
    "    - Crea una interfaz llamada Impresora con métodos como imprimir_documento(), imprimir_foto() y escanear().\n",
    "    - Crea una clase llamada ImpresoraMultifuncion que implemente la interfaz Impresora.\n",
    "    - Crea una clase llamada ImpresoraSoloTexto que solo pueda imprimir documentos de texto.\n",
    "    - ¿Cómo podrías rediseñar las interfaces para cumplir con el principio ISP?"
   ]
  },
  {
   "cell_type": "code",
   "execution_count": null,
   "metadata": {
    "vscode": {
     "languageId": "plaintext"
    }
   },
   "outputs": [],
   "source": []
  },
  {
   "cell_type": "markdown",
   "metadata": {},
   "source": [
    "\n",
    "### Nivel 3: SOLID en el Mundo Real\n",
    "5. Dependency Inversion Principle (DIP):\n",
    "\n",
    "    - Crea una clase llamada Controlador que depende de una clase llamada BaseDatos para guardar datos.\n",
    "    - ¿Qué ocurre si quieres cambiar la implementación de la base de datos (por ejemplo, de MySQL a MongoDB)?\n",
    "    - ¿Cómo podrías aplicar el principio DIP para que la clase Controlador no dependa de una implementación concreta de la base de datos?\n",
    "\n"
   ]
  },
  {
   "cell_type": "code",
   "execution_count": null,
   "metadata": {
    "vscode": {
     "languageId": "plaintext"
    }
   },
   "outputs": [],
   "source": []
  },
  {
   "cell_type": "markdown",
   "metadata": {},
   "source": [
    "### ¡No te rindas!\n",
    "Recuerda que la clave para dominar los principios SOLID está en la práctica constante. Intenta resolver los ejercicios por tu cuenta y, si te encuentras con alguna dificultad, no dudes en consultar la documentación de Python o buscar ejemplos en línea. ¡Mucho éxito en tu aprendizaje!"
   ]
  }
 ],
 "metadata": {
  "language_info": {
   "name": "python"
  }
 },
 "nbformat": 4,
 "nbformat_minor": 2
}
