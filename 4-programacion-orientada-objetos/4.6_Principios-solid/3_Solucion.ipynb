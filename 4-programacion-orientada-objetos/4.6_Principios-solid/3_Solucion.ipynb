{
 "cells": [
  {
   "cell_type": "markdown",
   "metadata": {},
   "source": [
    "## Ejercicios: POO - Principios SOLID\n",
    "\n",
    "### Nivel 1: Introducción a SOLID\n",
    "1. Single Responsibility Principle (SRP):\n",
    "\n",
    "    - Crea una clase llamada Factura con atributos como cliente, productos y total.\n",
    "    - Añade métodos para calcular el total de la factura, generar un reporte en formato de texto y enviar la factura por correo electrónico.\n",
    "    - ¿Cumple esta clase con el principio SRP? Justifica tu respuesta.\n",
    "    - Si no cumple con SRP, divide la clase en clases separadas, cada una con una única responsabilidad."
   ]
  },
  {
   "cell_type": "code",
   "execution_count": null,
   "metadata": {
    "vscode": {
     "languageId": "plaintext"
    }
   },
   "outputs": [],
   "source": [
    "class Factura:\n",
    "    def __init__(self, cliente, productos):\n",
    "        self.cliente = cliente\n",
    "        self.productos = productos\n",
    "\n",
    "    def calcular_total(self):\n",
    "        total = 0\n",
    "        for producto in self.productos:\n",
    "            total += producto.precio * producto.cantidad\n",
    "        return total\n",
    "\n",
    "class ReporteadorFactura:\n",
    "    def generar_reporte(self, factura):\n",
    "        # Lógica para generar el reporte en formato de texto\n",
    "        pass\n",
    "\n",
    "class EnviadorCorreo:\n",
    "    def enviar_factura(self, factura, correo):\n",
    "        # Lógica para enviar la factura por correo electrónico\n",
    "        pass"
   ]
  },
  {
   "cell_type": "markdown",
   "metadata": {},
   "source": [
    "- La clase **Factura** se encarga únicamente de la lógica relacionada con la factura (calcular el total).\n",
    "- Las clases **eporteadorFactura** y **EnviadorCorreo** se encargan de generar el reporte y enviar la factura, respectivamente."
   ]
  },
  {
   "cell_type": "markdown",
   "metadata": {},
   "source": [
    "2. Open/Closed Principle (OCP):\n",
    "\n",
    "    - Crea una clase abstracta llamada Forma con un método abstracto calcular_area().\n",
    "    - Crea clases concretas llamadas Rectangulo, Circulo y Triangulo que hereden de la clase Forma.\n",
    "    - Implementa el método calcular_area() en cada clase derivada para calcular el área correspondiente.\n",
    "    - Crea una función llamada calcular_areas que acepte una lista de objetos de tipo Forma y calcule el área de cada forma.\n",
    "    - ¿Cómo podrías añadir nuevas formas sin modificar la función calcular_areas?"
   ]
  },
  {
   "cell_type": "code",
   "execution_count": null,
   "metadata": {
    "vscode": {
     "languageId": "plaintext"
    }
   },
   "outputs": [],
   "source": [
    "from abc import ABC, abstractmethod\n",
    "\n",
    "class Forma(ABC):\n",
    "    @abstractmethod\n",
    "    def calcular_area(self):\n",
    "        pass\n",
    "\n",
    "class Rectangulo(Forma):\n",
    "    def __init__(self, base, altura):\n",
    "        self.base = base\n",
    "        self.altura = altura\n",
    "\n",
    "    def calcular_area(self):\n",
    "        return self.base * self.altura\n",
    "\n",
    "class Circulo(Forma):\n",
    "    def __init__(self, radio):\n",
    "        self.radio = radio\n",
    "\n",
    "    def calcular_area(self):\n",
    "        import math\n",
    "        return math.pi * self.radio**2\n",
    "\n",
    "class Triangulo(Forma):\n",
    "    def __init__(self, base, altura):\n",
    "        self.base = base\n",
    "        self.altura = altura\n",
    "\n",
    "    def calcular_area(self):\n",
    "        return (self.base * self.altura) / 2\n",
    "\n",
    "def calcular_areas(formas):\n",
    "    for forma in formas:\n",
    "        print(f\"Área: {forma.calcular_area()}\")\n",
    "\n",
    "formas = [Rectangulo(5, 10), Circulo(5), Triangulo(4, 6)]\n",
    "calcular_areas(formas)"
   ]
  },
  {
   "cell_type": "markdown",
   "metadata": {},
   "source": [
    "- Para añadir nuevas formas, simplemente se crean nuevas clases que hereden de **Forma** e implementen el método **calcular_area()**.\n",
    "- La función **calcular_areas** no necesita ser modificada."
   ]
  },
  {
   "cell_type": "markdown",
   "metadata": {},
   "source": [
    "### Nivel 2: Aplicación de SOLID\n",
    "3. Liskov Substitution Principle (LSP):\n",
    "\n",
    "    - Crea una clase llamada Ave con un método volar().\n",
    "    - Crea una clase llamada Pato que herede de la clase Ave.\n",
    "    - Crea una clase llamada Pinguino que herede de la clase Ave.\n",
    "    - ¿Qué ocurre si intentas llamar al método volar() en un objeto de tipo Pinguino?\n",
    "    - ¿Cómo podrías rediseñar las clases para cumplir con el principio LSP?"
   ]
  },
  {
   "cell_type": "code",
   "execution_count": null,
   "metadata": {
    "vscode": {
     "languageId": "plaintext"
    }
   },
   "outputs": [],
   "source": [
    "class Ave:\n",
    "    def hacer_sonido(self):\n",
    "        print(\"Sonido de ave\")\n",
    "\n",
    "class Pato(Ave):\n",
    "    def hacer_sonido(self):\n",
    "        print(\"Cuac\")\n",
    "\n",
    "class Pinguino(Ave):\n",
    "    def hacer_sonido(self):\n",
    "        print(\"Graznido\")\n",
    "\n",
    "    def nadar(self):\n",
    "        print(\"Nadando\")\n",
    "\n",
    "aves = [Pato(), Pinguino()]\n",
    "\n",
    "for ave in aves:\n",
    "    ave.hacer_sonido()  # Comportamiento esperado\n",
    "    if isinstance(ave, Pinguino):\n",
    "        ave.nadar()  # Pinguino tiene un método adicional"
   ]
  },
  {
   "cell_type": "markdown",
   "metadata": {},
   "source": [
    "- El problema original era que **Pinguino** no podía volar, lo que violaba el principio LSP.\n",
    "- La solución es separar el comportamiento de volar en una interfaz o clase abstracta diferente."
   ]
  },
  {
   "cell_type": "markdown",
   "metadata": {},
   "source": [
    "4. Interface Segregation Principle (ISP):\n",
    "\n",
    "    - Crea una interfaz llamada Impresora con métodos como imprimir_documento(), imprimir_foto() y escanear().\n",
    "    - Crea una clase llamada ImpresoraMultifuncion que implemente la interfaz Impresora.\n",
    "    - Crea una clase llamada ImpresoraSoloTexto que solo pueda imprimir documentos de texto.\n",
    "    - ¿Cómo podrías rediseñar las interfaces para cumplir con el principio ISP?"
   ]
  },
  {
   "cell_type": "code",
   "execution_count": null,
   "metadata": {
    "vscode": {
     "languageId": "plaintext"
    }
   },
   "outputs": [],
   "source": [
    "class Impresora:\n",
    "    def imprimir_documento(self):\n",
    "        pass\n",
    "\n",
    "    def imprimir_foto(self):\n",
    "        pass\n",
    "\n",
    "    def escanear(self):\n",
    "        pass\n",
    "\n",
    "class ImpresoraSoloTexto:\n",
    "    def imprimir_documento(self):\n",
    "        # Lógica para imprimir documento de texto\n",
    "        pass\n",
    "\n",
    "class ImpresoraMultifuncion(Impresora):\n",
    "    def imprimir_documento(self):\n",
    "        # Lógica para imprimir documento\n",
    "        pass\n",
    "\n",
    "    def imprimir_foto(self):\n",
    "        # Lógica para imprimir foto\n",
    "        pass\n",
    "\n",
    "    def escanear(self):\n",
    "        # Lógica para escanear\n",
    "        pass"
   ]
  },
  {
   "cell_type": "markdown",
   "metadata": {},
   "source": [
    "- La interfaz **Impresora** original violaba el principio ISP porque obligaba a las clases a implementar métodos que no necesitaban.\n",
    "- La solución es separar la interfaz en interfaces más pequeñas (**ImpresoraSoloTexto**, **ImpresoraMultifuncion**)."
   ]
  },
  {
   "cell_type": "markdown",
   "metadata": {},
   "source": [
    "\n",
    "### Nivel 3: SOLID en el Mundo Real\n",
    "5. Dependency Inversion Principle (DIP):\n",
    "\n",
    "    - Crea una clase llamada Controlador que depende de una clase llamada BaseDatos para guardar datos.\n",
    "    - ¿Qué ocurre si quieres cambiar la implementación de la base de datos (por ejemplo, de MySQL a MongoDB)?\n",
    "    - ¿Cómo podrías aplicar el principio DIP para que la clase Controlador no dependa de una implementación concreta de la base de datos?\n",
    "\n"
   ]
  },
  {
   "cell_type": "code",
   "execution_count": null,
   "metadata": {
    "vscode": {
     "languageId": "plaintext"
    }
   },
   "outputs": [],
   "source": [
    "from abc import ABC, abstractmethod\n",
    "\n",
    "class IBaseDatos(ABC):\n",
    "    @abstractmethod\n",
    "    def guardar_dato(self, dato):\n",
    "        pass\n",
    "\n",
    "class MySQL(IBaseDatos):\n",
    "    def guardar_dato(self, dato):\n",
    "        # Lógica para guardar dato en MySQL\n",
    "        pass\n",
    "\n",
    "class MongoDB(IBaseDatos):\n",
    "    def guardar_dato(self, dato):\n",
    "        # Lógica para guardar dato en MongoDB\n",
    "        pass\n",
    "\n",
    "class Controlador:\n",
    "    def __init__(self, base_datos: IBaseDatos):\n",
    "        self.base_datos = base_datos\n",
    "\n",
    "    def guardar_dato(self, dato):\n",
    "        self.base_datos.guardar_dato(dato)\n",
    "\n",
    "# Ejemplo de uso con MySQL\n",
    "mysql = MySQL()\n",
    "controlador = Controlador(mysql)\n",
    "controlador.guardar_dato(\"dato importante\")\n",
    "\n",
    "# Ejemplo de uso con MongoDB\n",
    "mongodb = MongoDB()\n",
    "controlador = Controlador(mongodb)\n",
    "controlador.guardar_dato(\"dato importante\")"
   ]
  },
  {
   "cell_type": "markdown",
   "metadata": {},
   "source": [
    "- La clase **Controlador** original dependía de una implementación concreta de la base de datos (**BaseDatos**).\n",
    "- La solución es crear una interfaz (**IBaseDatos**) y hacer que **Controlador** dependa de la interfaz, no de la implementación concreta."
   ]
  },
  {
   "cell_type": "markdown",
   "metadata": {},
   "source": [
    "### ¡No te rindas!\n",
    "Recuerda que la clave para dominar los principios SOLID está en la práctica constante. Intenta resolver los ejercicios por tu cuenta y, si te encuentras con alguna dificultad, no dudes en consultar la documentación de Python o buscar ejemplos en línea. ¡Mucho éxito en tu aprendizaje!"
   ]
  }
 ],
 "metadata": {
  "language_info": {
   "name": "python"
  }
 },
 "nbformat": 4,
 "nbformat_minor": 2
}
