{
 "cells": [
  {
   "cell_type": "markdown",
   "metadata": {},
   "source": [
    "## 4. Programación Orientada a Objetos\n",
    "\n",
    "# **📌 Principios SOLID**\n",
    "\n",
    "\n",
    "Los principios SOLID son un conjunto de reglas diseñadas para mejorar la calidad del código en la Programación Orientada a Objetos (POO). Ayudan a escribir software más mantenible, escalable y flexible, evitando problemas comunes como la rigidez y el acoplamiento excesivo.\n",
    "\n",
    "En este documento, exploraremos cada uno de los cinco principios SOLID con ejemplos en Python, aunque pueden aplicarse a cualquier lenguaje orientado a objetos con sólo cambiar la sintaxis.\n",
    "\n",
    "## 💡 Objetivo\n",
    "Al finalizar este documento, el lector deberá comprender:\n",
    "- La importancia de los principios SOLID en el diseño de software.\n",
    "- Cómo aplicar cada principio en Python con ejemplos prácticos.\n",
    "- Beneficios de seguir estos principios para mejorar la calidad del código.\n",
    "\n",
    "---\n",
    "\n",
    "## 🌐 Desarrollo\n",
    "\n",
    "### 1️⃣ Single Responsibility Principle (SRP) 📓\n",
    "**\"Una clase debe tener una sola razón para cambiar\"**\n",
    "\n",
    "Cada clase debe encargarse de una única responsabilidad. Si una clase tiene múltiples razones para cambiar, debe dividirse en varias clases.\n",
    "\n",
    "**Ejemplo incorrecto:**"
   ]
  },
  {
   "cell_type": "code",
   "execution_count": null,
   "metadata": {
    "vscode": {
     "languageId": "plaintext"
    }
   },
   "outputs": [],
   "source": [
    "class Reporte:\n",
    "    def generar_reporte(self):\n",
    "        print(\"Generando reporte...\")\n",
    "    \n",
    "    def guardar_en_pdf(self):\n",
    "        print(\"Guardando en PDF...\")"
   ]
  },
  {
   "cell_type": "markdown",
   "metadata": {},
   "source": [
    "**Ejemplo correcto:**"
   ]
  },
  {
   "cell_type": "code",
   "execution_count": null,
   "metadata": {
    "vscode": {
     "languageId": "plaintext"
    }
   },
   "outputs": [],
   "source": [
    "class Reporte:\n",
    "    def generar_reporte(self):\n",
    "        print(\"Generando reporte...\")\n",
    "\n",
    "class ExportadorPDF:\n",
    "    def guardar_en_pdf(self, reporte):\n",
    "        print(\"Guardando reporte en PDF...\")"
   ]
  },
  {
   "cell_type": "markdown",
   "metadata": {},
   "source": [
    "---\n",
    "\n",
    "### 2️⃣ Open/Closed Principle (OCP) 🌟\n",
    "**\"Las clases deben estar abiertas para extensión, pero cerradas para modificación\"**\n",
    "\n",
    "Esto significa que debemos poder agregar funcionalidades sin modificar el código existente.\n",
    "\n",
    "**Ejemplo incorrecto:**"
   ]
  },
  {
   "cell_type": "code",
   "execution_count": null,
   "metadata": {
    "vscode": {
     "languageId": "plaintext"
    }
   },
   "outputs": [],
   "source": [
    "class Calculadora:\n",
    "    def calcular(self, operacion, a, b):\n",
    "        if operacion == \"suma\":\n",
    "            return a + b\n",
    "        elif operacion == \"resta\":\n",
    "            return a - b"
   ]
  },
  {
   "cell_type": "markdown",
   "metadata": {},
   "source": [
    "**Ejemplo correcto usando polimorfismo:**"
   ]
  },
  {
   "cell_type": "code",
   "execution_count": null,
   "metadata": {
    "vscode": {
     "languageId": "plaintext"
    }
   },
   "outputs": [],
   "source": [
    "from abc import ABC, abstractmethod\n",
    "\n",
    "class Operacion(ABC):\n",
    "    @abstractmethod\n",
    "    def calcular(self, a, b):\n",
    "        pass\n",
    "\n",
    "class Suma(Operacion):\n",
    "    def calcular(self, a, b):\n",
    "        return a + b\n",
    "\n",
    "class Resta(Operacion):\n",
    "    def calcular(self, a, b):\n",
    "        return a - b"
   ]
  },
  {
   "cell_type": "markdown",
   "metadata": {},
   "source": [
    "---\n",
    "\n",
    "### 3️⃣ Liskov Substitution Principle (LSP) 📝\n",
    "**\"Los subtipos deben ser sustituibles por sus tipos base\"**\n",
    "\n",
    "Si una clase hija reemplaza a su clase base, no debe alterar su comportamiento esperado.\n",
    "\n",
    "**Ejemplo incorrecto:**"
   ]
  },
  {
   "cell_type": "code",
   "execution_count": null,
   "metadata": {
    "vscode": {
     "languageId": "plaintext"
    }
   },
   "outputs": [],
   "source": [
    "class Pato:\n",
    "    def volar(self):\n",
    "        print(\"El pato vuela\")\n",
    "\n",
    "class PatoDeGoma(Pato):\n",
    "    def volar(self):\n",
    "        raise Exception(\"Los patos de goma no pueden volar\")"
   ]
  },
  {
   "cell_type": "markdown",
   "metadata": {},
   "source": [
    "**Ejemplo correcto:**"
   ]
  },
  {
   "cell_type": "code",
   "execution_count": null,
   "metadata": {
    "vscode": {
     "languageId": "plaintext"
    }
   },
   "outputs": [],
   "source": [
    "class Pato:\n",
    "    def hacer_sonido(self):\n",
    "        print(\"Cuac Cuac\")\n",
    "\n",
    "class PatoDeGoma(Pato):\n",
    "    def hacer_sonido(self):\n",
    "        print(\"Squeak!\")"
   ]
  },
  {
   "cell_type": "markdown",
   "metadata": {},
   "source": [
    "---\n",
    "\n",
    "### 4️⃣ Interface Segregation Principle (ISP) 🎡\n",
    "**\"Una clase no debe ser forzada a implementar interfaces que no usa\"**\n",
    "\n",
    "Es mejor crear interfaces específicas en lugar de interfaces enormes.\n",
    "\n",
    "**Ejemplo incorrecto:**"
   ]
  },
  {
   "cell_type": "code",
   "execution_count": null,
   "metadata": {
    "vscode": {
     "languageId": "plaintext"
    }
   },
   "outputs": [],
   "source": [
    "class Trabajador:\n",
    "    def trabajar(self):\n",
    "        pass\n",
    "    def comer(self):\n",
    "        pass"
   ]
  },
  {
   "cell_type": "markdown",
   "metadata": {},
   "source": [
    "**Ejemplo correcto:**"
   ]
  },
  {
   "cell_type": "code",
   "execution_count": null,
   "metadata": {
    "vscode": {
     "languageId": "plaintext"
    }
   },
   "outputs": [],
   "source": [
    "class Trabajador:\n",
    "    def trabajar(self):\n",
    "        pass\n",
    "\n",
    "class Comedor:\n",
    "    def comer(self):\n",
    "        pass"
   ]
  },
  {
   "cell_type": "markdown",
   "metadata": {},
   "source": [
    "---\n",
    "\n",
    "### 5️⃣ Dependency Inversion Principle (DIP) 🔄\n",
    "**\"Depender de abstracciones, no de implementaciones\"**\n",
    "\n",
    "Las clases deben depender de interfaces o clases abstractas, no de implementaciones concretas.\n",
    "\n",
    "**Ejemplo incorrecto:**"
   ]
  },
  {
   "cell_type": "code",
   "execution_count": null,
   "metadata": {
    "vscode": {
     "languageId": "plaintext"
    }
   },
   "outputs": [],
   "source": [
    "class Motor:\n",
    "    def encender(self):\n",
    "        print(\"Motor encendido\")\n",
    "\n",
    "class Coche:\n",
    "    def __init__(self):\n",
    "        self.motor = Motor()"
   ]
  },
  {
   "cell_type": "markdown",
   "metadata": {},
   "source": [
    "**Ejemplo correcto:**"
   ]
  },
  {
   "cell_type": "code",
   "execution_count": null,
   "metadata": {
    "vscode": {
     "languageId": "plaintext"
    }
   },
   "outputs": [],
   "source": [
    "class IMotor:\n",
    "    def encender(self):\n",
    "        pass\n",
    "\n",
    "class Motor(IMotor):\n",
    "    def encender(self):\n",
    "        print(\"Motor encendido\")\n",
    "\n",
    "class Coche:\n",
    "    def __init__(self, motor: IMotor):\n",
    "        self.motor = motor"
   ]
  },
  {
   "cell_type": "markdown",
   "metadata": {},
   "source": [
    "---\n",
    "\n",
    "## 📅 Aplicaciones Prácticas\n",
    "Los principios SOLID son ampliamente usados en el desarrollo de software para mejorar la arquitectura del código. Algunas aplicaciones incluyen:\n",
    "- **Desarrollo de microservicios**: Se aplica SRP y OCP para separar lógicas y hacer que los sistemas sean escalables.\n",
    "- **Diseño de frameworks**: Se usa DIP para reducir el acoplamiento y mejorar la flexibilidad.\n",
    "- **Programación de videojuegos**: Se usa ISP para separar diferentes responsabilidades como gráficos, física y entrada del usuario.\n",
    "\n",
    "---\n",
    "\n",
    "## 🎉 Conclusión\n",
    "Los principios SOLID ayudan a escribir código más estructurado, mantenible y flexible. Aplicarlos correctamente puede hacer la diferencia entre un proyecto con buena arquitectura y uno propenso a errores y cambios costosos.\n",
    "\n",
    "💡 **Reflexión final**:\n",
    "- ¿Cuál de estos principios consideras más importante?\n",
    "- ¿Has encontrado problemas en tu código que podrían resolverse aplicando estos principios?"
   ]
  }
 ],
 "metadata": {
  "language_info": {
   "name": "python"
  }
 },
 "nbformat": 4,
 "nbformat_minor": 2
}
