{
 "cells": [
  {
   "cell_type": "markdown",
   "metadata": {},
   "source": [
    "# Algoritmos de Búsqueda 🔍\n",
    "\n",
    "## Introducción 📌\n",
    "\n",
    "Los **algoritmos de búsqueda** son fundamentales en la informática, ya que permiten localizar elementos en una colección de datos. Son ampliamente utilizados en estructuras de datos como listas, árboles y grafos.\n",
    "\n",
    "### Objetivo 🎯\n",
    "\n",
    "Comprender los distintos tipos de algoritmos de búsqueda, su funcionamiento, ventajas, desventajas y cómo implementarlos con **Python**. Aunque los ejemplos se desarrollan en Python, los conceptos pueden aplicarse a otros lenguajes cambiando la sintaxis.\n",
    "\n",
    "---\n",
    "\n",
    "## 🔑 Algoritmos de Búsqueda\n",
    "\n",
    "### 1. Búsqueda Lineal 🔍\n",
    "\n",
    "La búsqueda lineal consiste en recorrer la lista desde el principio hasta encontrar el elemento buscado o llegar al final.\n",
    "\n",
    "#### Código en Python\n",
    "\n",
    "\n"
   ]
  },
  {
   "cell_type": "code",
   "execution_count": null,
   "metadata": {
    "vscode": {
     "languageId": "plaintext"
    }
   },
   "outputs": [],
   "source": [
    "def busqueda_lineal(lista, objetivo):\n",
    "    for i in range(len(lista)):\n",
    "        if lista[i] == objetivo:\n",
    "            return i\n",
    "    return -1"
   ]
  },
  {
   "cell_type": "markdown",
   "metadata": {},
   "source": [
    "#### Ventajas:\n",
    "\n",
    "- Fácil de implementar.\n",
    "- No requiere que la lista esté ordenada.\n",
    "\n",
    "#### Desventajas:\n",
    "\n",
    "- Ineficiente para listas grandes (O(n)).\n",
    "\n",
    "---\n",
    "\n",
    "### 2. Búsqueda Binaria ⚡\n",
    "\n",
    "La búsqueda binaria solo funciona con listas **ordenadas**. Divide la lista por la mitad y compara el elemento buscado con el valor central.\n",
    "\n",
    "#### Código en Python"
   ]
  },
  {
   "cell_type": "code",
   "execution_count": null,
   "metadata": {
    "vscode": {
     "languageId": "plaintext"
    }
   },
   "outputs": [],
   "source": [
    "def busqueda_binaria(lista, objetivo):\n",
    "    izquierda, derecha = 0, len(lista) - 1\n",
    "    while izquierda <= derecha:\n",
    "        medio = (izquierda + derecha) // 2\n",
    "        if lista[medio] == objetivo:\n",
    "            return medio\n",
    "        elif lista[medio] < objetivo:\n",
    "            izquierda = medio + 1\n",
    "        else:\n",
    "            derecha = medio - 1\n",
    "    return -1"
   ]
  },
  {
   "cell_type": "markdown",
   "metadata": {},
   "source": [
    "#### Ventajas:\n",
    "\n",
    "- Más eficiente que la búsqueda lineal (O(log n)).\n",
    "- Ideal para listas grandes.\n",
    "\n",
    "#### Desventajas:\n",
    "\n",
    "- Solo funciona con listas ordenadas.\n",
    "\n",
    "---\n",
    "\n",
    "### 3. Búsqueda por Interpolación 📈\n",
    "\n",
    "Es una mejora de la búsqueda binaria para datos **uniformemente distribuidos**. Estima la posición del elemento en función de su valor.\n",
    "\n",
    "#### Código en Python"
   ]
  },
  {
   "cell_type": "code",
   "execution_count": null,
   "metadata": {
    "vscode": {
     "languageId": "plaintext"
    }
   },
   "outputs": [],
   "source": [
    "def busqueda_interpolacion(lista, objetivo):\n",
    "    izquierda, derecha = 0, len(lista) - 1\n",
    "    while izquierda <= derecha and objetivo >= lista[izquierda] and objetivo <= lista[derecha]:\n",
    "        posicion = izquierda + ((objetivo - lista[izquierda]) * (derecha - izquierda) // (lista[derecha] - lista[izquierda]))\n",
    "        if lista[posicion] == objetivo:\n",
    "            return posicion\n",
    "        if lista[posicion] < objetivo:\n",
    "            izquierda = posicion + 1\n",
    "        else:\n",
    "            derecha = posicion - 1\n",
    "    return -1"
   ]
  },
  {
   "cell_type": "markdown",
   "metadata": {},
   "source": [
    "#### Ventajas:\n",
    "\n",
    "- Más rápida que la búsqueda binaria para datos distribuidos uniformemente.\n",
    "\n",
    "#### Desventajas:\n",
    "\n",
    "- Ineficiente para datos no uniformes.\n",
    "\n",
    "---\n",
    "\n",
    "### 4. Búsqueda por Salto 🚀\n",
    "\n",
    "Divide la lista en bloques y salta de bloque en bloque hasta encontrar el elemento o el rango adecuado.\n",
    "\n",
    "#### Código en Python"
   ]
  },
  {
   "cell_type": "code",
   "execution_count": null,
   "metadata": {
    "vscode": {
     "languageId": "plaintext"
    }
   },
   "outputs": [],
   "source": [
    "import math\n",
    "\n",
    "def busqueda_salto(lista, objetivo):\n",
    "    n = len(lista)\n",
    "    paso = int(math.sqrt(n))\n",
    "    anterior = 0\n",
    "\n",
    "    while lista[min(paso, n) - 1] < objetivo:\n",
    "        anterior = paso\n",
    "        paso += int(math.sqrt(n))\n",
    "        if anterior >= n:\n",
    "            return -1\n",
    "\n",
    "    for i in range(anterior, min(paso, n)):\n",
    "        if lista[i] == objetivo:\n",
    "            return i\n",
    "    return -1"
   ]
  },
  {
   "cell_type": "markdown",
   "metadata": {},
   "source": [
    "#### Ventajas:\n",
    "\n",
    "- Más rápida que la búsqueda lineal para listas grandes.\n",
    "\n",
    "#### Desventajas:\n",
    "\n",
    "- Solo funciona con listas ordenadas.\n",
    "\n",
    "---\n",
    "\n",
    "### 5. Búsqueda Exponencial 🔥\n",
    "\n",
    "Comienza buscando en potencias de 2 hasta encontrar un rango donde pueda aplicar búsqueda binaria.\n",
    "\n",
    "#### Código en Python"
   ]
  },
  {
   "cell_type": "code",
   "execution_count": null,
   "metadata": {
    "vscode": {
     "languageId": "plaintext"
    }
   },
   "outputs": [],
   "source": [
    "def busqueda_exponencial(lista, objetivo):\n",
    "    if lista[0] == objetivo:\n",
    "        return 0\n",
    "    i = 1\n",
    "    while i < len(lista) and lista[i] <= objetivo:\n",
    "        i *= 2\n",
    "    return busqueda_binaria(lista[:min(i, len(lista))], objetivo)"
   ]
  },
  {
   "cell_type": "markdown",
   "metadata": {},
   "source": [
    "#### Ventajas:\n",
    "\n",
    "- Muy eficiente para listas grandes.\n",
    "\n",
    "#### Desventajas:\n",
    "\n",
    "- Solo funciona con listas ordenadas.\n",
    "\n",
    "---\n",
    "\n",
    "### 6. Búsqueda en Tablas Hash 🔑\n",
    "\n",
    "Almacena datos en una estructura de tipo diccionario, donde la clave permite acceder al valor directamente.\n",
    "\n",
    "#### Código en Python"
   ]
  },
  {
   "cell_type": "code",
   "execution_count": null,
   "metadata": {
    "vscode": {
     "languageId": "plaintext"
    }
   },
   "outputs": [],
   "source": [
    "tabla_hash = {\"nombre\": \"Juan\", \"edad\": 25, \"ciudad\": \"Madrid\"}\n",
    "print(tabla_hash.get(\"edad\"))"
   ]
  },
  {
   "cell_type": "markdown",
   "metadata": {},
   "source": [
    "#### Ventajas:\n",
    "\n",
    "- Tiempo constante O(1).\n",
    "- Eficiente para grandes volúmenes de datos.\n",
    "\n",
    "#### Desventajas:\n",
    "\n",
    "- Mayor consumo de memoria.\n",
    "\n",
    "---\n",
    "\n",
    "### 7. Algoritmos de Búsqueda en Grafos 🌐\n",
    "\n",
    "#### Búsqueda en Profundidad (DFS)\n",
    "\n",
    "Explora lo más profundo posible antes de retroceder."
   ]
  },
  {
   "cell_type": "code",
   "execution_count": null,
   "metadata": {
    "vscode": {
     "languageId": "plaintext"
    }
   },
   "outputs": [],
   "source": [
    "def dfs(grafo, nodo, visitado=set()):\n",
    "    if nodo not in visitado:\n",
    "        print(nodo)\n",
    "        visitado.add(nodo)\n",
    "        for vecino in grafo[nodo]:\n",
    "            dfs(grafo, vecino, visitado)"
   ]
  },
  {
   "cell_type": "markdown",
   "metadata": {},
   "source": [
    "#### Búsqueda en Anchura (BFS)\n",
    "\n",
    "Explora los nodos vecinos antes de pasar a los siguientes niveles."
   ]
  },
  {
   "cell_type": "code",
   "execution_count": null,
   "metadata": {
    "vscode": {
     "languageId": "plaintext"
    }
   },
   "outputs": [],
   "source": [
    "from collections import deque\n",
    "\n",
    "def bfs(grafo, nodo):\n",
    "    visitado = set()\n",
    "    cola = deque([nodo])\n",
    "    while cola:\n",
    "        actual = cola.popleft()\n",
    "        if actual not in visitado:\n",
    "            print(actual)\n",
    "            visitado.add(actual)\n",
    "            cola.extend(grafo[actual])"
   ]
  },
  {
   "cell_type": "markdown",
   "metadata": {},
   "source": [
    "---\n",
    "\n",
    "## Conclusión 🏁\n",
    "\n",
    "Los algoritmos de búsqueda son esenciales para la resolución de problemas en programación. Elegir el algoritmo adecuado depende del tipo de datos y la eficiencia requerida.\n",
    "\n",
    "### Reflexión Final 🔥\n",
    "\n",
    "¿Qué algoritmo de búsqueda crees que se adapta mejor a tus necesidades? 🤔"
   ]
  }
 ],
 "metadata": {
  "kernelspec": {
   "display_name": "venvc",
   "language": "python",
   "name": "python3"
  },
  "language_info": {
   "codemirror_mode": {
    "name": "ipython",
    "version": 3
   },
   "file_extension": ".py",
   "mimetype": "text/x-python",
   "name": "python",
   "nbconvert_exporter": "python",
   "pygments_lexer": "ipython3",
   "version": "3.12.8"
  }
 },
 "nbformat": 4,
 "nbformat_minor": 2
}
