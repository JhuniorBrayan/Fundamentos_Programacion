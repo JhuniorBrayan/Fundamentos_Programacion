{
 "cells": [
  {
   "cell_type": "markdown",
   "metadata": {},
   "source": [
    "## **Ejercicios: Algoritmos de Búsqueda**\n",
    "\n",
    "## 1. Búsqueda lineal: Encontrar un producto en un inventario\n",
    "\n",
    "* Tienes una lista de diccionarios, donde cada diccionario representa un producto con su nombre y precio.\n",
    "* Implementa una función que use búsqueda lineal para encontrar un producto por su nombre y devuelva su precio.\n"
   ]
  },
  {
   "cell_type": "code",
   "execution_count": null,
   "metadata": {},
   "outputs": [
    {
     "ename": "TypeError",
     "evalue": "busqueda_lineal_producto() takes 2 positional arguments but 3 were given",
     "output_type": "error",
     "traceback": [
      "\u001b[0;31m---------------------------------------------------------------------------\u001b[0m",
      "\u001b[0;31mTypeError\u001b[0m                                 Traceback (most recent call last)",
      "Cell \u001b[0;32mIn[33], line 15\u001b[0m\n\u001b[1;32m      6\u001b[0m     \u001b[38;5;28;01mreturn\u001b[39;00m \u001b[38;5;28;01mNone\u001b[39;00m\n\u001b[1;32m      8\u001b[0m inventario \u001b[38;5;241m=\u001b[39m [\n\u001b[1;32m      9\u001b[0m     {\u001b[38;5;124m'\u001b[39m\u001b[38;5;124mnombre\u001b[39m\u001b[38;5;124m'\u001b[39m: \u001b[38;5;124m'\u001b[39m\u001b[38;5;124mCamiseta\u001b[39m\u001b[38;5;124m'\u001b[39m, \u001b[38;5;124m'\u001b[39m\u001b[38;5;124mprecio\u001b[39m\u001b[38;5;124m'\u001b[39m: \u001b[38;5;241m20\u001b[39m}, \n\u001b[1;32m     10\u001b[0m     {\u001b[38;5;124m'\u001b[39m\u001b[38;5;124mnombre\u001b[39m\u001b[38;5;124m'\u001b[39m: \u001b[38;5;124m'\u001b[39m\u001b[38;5;124mPantalón\u001b[39m\u001b[38;5;124m'\u001b[39m, \u001b[38;5;124m'\u001b[39m\u001b[38;5;124mprecio\u001b[39m\u001b[38;5;124m'\u001b[39m: \u001b[38;5;241m30\u001b[39m}, \n\u001b[1;32m     11\u001b[0m     {\u001b[38;5;124m'\u001b[39m\u001b[38;5;124mnombre\u001b[39m\u001b[38;5;124m'\u001b[39m: \u001b[38;5;124m'\u001b[39m\u001b[38;5;124mZapatos\u001b[39m\u001b[38;5;124m'\u001b[39m, \u001b[38;5;124m'\u001b[39m\u001b[38;5;124mprecio\u001b[39m\u001b[38;5;124m'\u001b[39m: \u001b[38;5;241m50\u001b[39m},\n\u001b[1;32m     12\u001b[0m     {\u001b[38;5;124m'\u001b[39m\u001b[38;5;124mnombre\u001b[39m\u001b[38;5;124m'\u001b[39m: \u001b[38;5;124m'\u001b[39m\u001b[38;5;124mZapatillas\u001b[39m\u001b[38;5;124m'\u001b[39m, \u001b[38;5;124m'\u001b[39m\u001b[38;5;124mprecio\u001b[39m\u001b[38;5;124m'\u001b[39m:\u001b[38;5;241m90\u001b[39m}\n\u001b[1;32m     13\u001b[0m     ]\n\u001b[0;32m---> 15\u001b[0m \u001b[38;5;28mprint\u001b[39m(busqueda_lineal_producto(inventario, \u001b[38;5;124m'\u001b[39m\u001b[38;5;124mPantalón\u001b[39m\u001b[38;5;124m'\u001b[39m, \u001b[38;5;124m'\u001b[39m\u001b[38;5;124mZapatillas\u001b[39m\u001b[38;5;124m'\u001b[39m))\n",
      "\u001b[0;31mTypeError\u001b[0m: busqueda_lineal_producto() takes 2 positional arguments but 3 were given"
     ]
    }
   ],
   "source": [
    "# 1. Búsqueda lineal: Encontrar un producto en un inventario\n",
    "def busqueda_lineal_producto(inventario, nombre_producto):\n",
    "    for producto in inventario:\n",
    "        if producto['nombre'] == nombre_producto:\n",
    "            return producto['precio']\n",
    "    return None\n",
    "\n",
    "inventario = [\n",
    "    {'nombre': 'Camiseta', 'precio': 20}, \n",
    "    {'nombre': 'Pantalón', 'precio': 30}, \n",
    "    {'nombre': 'Zapatos', 'precio': 50},\n",
    "    {'nombre': 'Zapatillas', 'precio':90}\n",
    "    ]\n",
    "\n",
    "print(busqueda_lineal_producto(inventario, 'Pantalón'))  # Salida: 30"
   ]
  },
  {
   "cell_type": "markdown",
   "metadata": {},
   "source": [
    "## 2. Búsqueda binaria: Buscar un libro en una biblioteca\n",
    "\n",
    "* Tienes una lista ordenada de títulos de libros.\n",
    "* Implementa una función que use búsqueda binaria para encontrar la posición de un libro en la lista dado su título."
   ]
  },
  {
   "cell_type": "code",
   "execution_count": 13,
   "metadata": {},
   "outputs": [
    {
     "name": "stdout",
     "output_type": "stream",
     "text": [
      "1\n"
     ]
    }
   ],
   "source": [
    "# 2. Búsqueda binaria: Buscar un libro en una biblioteca\n",
    "def busqueda_binaria_libro(libros, titulo_libro):\n",
    "    izquierda, derecha = 0, len(libros) - 1\n",
    "    while izquierda <= derecha:\n",
    "        medio = (izquierda + derecha) // 2\n",
    "        if libros[medio] == titulo_libro:\n",
    "            return medio\n",
    "        elif libros[medio] < titulo_libro:\n",
    "            izquierda = medio + 1\n",
    "        else:\n",
    "            derecha = medio - 1\n",
    "    return -1\n",
    "\n",
    "libros = ['Cien años de soledad', 'Don Quijote', 'El Señor de los Anillos', 'Harry Potter']\n",
    "print(busqueda_binaria_libro(libros, 'Don Quijote'))  # Salida: 1"
   ]
  },
  {
   "cell_type": "markdown",
   "metadata": {},
   "source": [
    "## 3. Búsqueda por interpolación: Buscar un estudiante por su ID\n",
    "\n",
    "* Tienes una lista ordenada de estudiantes, donde cada estudiante tiene un ID numérico.\n",
    "* Implementa una función que use búsqueda por interpolación para encontrar un estudiante por su ID."
   ]
  },
  {
   "cell_type": "code",
   "execution_count": 14,
   "metadata": {},
   "outputs": [
    {
     "name": "stdout",
     "output_type": "stream",
     "text": [
      "1\n"
     ]
    }
   ],
   "source": [
    "# 3. Búsqueda por interpolación: Buscar un estudiante por su ID\n",
    "def busqueda_interpolacion_estudiante(estudiantes, id_estudiante):\n",
    "    izquierda, derecha = 0, len(estudiantes) - 1\n",
    "    while izquierda <= derecha and id_estudiante >= estudiantes[izquierda]['id'] and id_estudiante <= estudiantes[derecha]['id']:\n",
    "        posicion = izquierda + ((id_estudiante - estudiantes[izquierda]['id']) * (derecha - izquierda)) // (estudiantes[derecha]['id'] - estudiantes[izquierda]['id'])\n",
    "        if estudiantes[posicion]['id'] == id_estudiante:\n",
    "            return posicion\n",
    "        if estudiantes[posicion]['id'] < id_estudiante:\n",
    "            izquierda = posicion + 1\n",
    "        else:\n",
    "            derecha = posicion - 1\n",
    "    return -1\n",
    "\n",
    "estudiantes = [{'id': 1, 'nombre': 'Ana'}, {'id': 3, 'nombre': 'Carlos'}, {'id': 5, 'nombre': 'Elena'}]\n",
    "print(busqueda_interpolacion_estudiante(estudiantes, 3))  # Salida: 1\n",
    "\n"
   ]
  },
  {
   "cell_type": "markdown",
   "metadata": {},
   "source": [
    "## 4. Búsqueda por salto: Buscar un número en una lista grande\n",
    "\n",
    "* Tienes una lista ordenada de números enteros.\n",
    "* Implementa una función que use búsqueda por salto para encontrar un número dado en la lista."
   ]
  },
  {
   "cell_type": "code",
   "execution_count": 15,
   "metadata": {},
   "outputs": [
    {
     "name": "stdout",
     "output_type": "stream",
     "text": [
      "510\n"
     ]
    }
   ],
   "source": [
    "# 4. Búsqueda por salto: Buscar un número en una lista grande\n",
    "import random\n",
    "import math\n",
    "\n",
    "def busqueda_salto_numero(numeros, numero_buscado):\n",
    "    n = len(numeros)\n",
    "    paso = int(math.sqrt(n))\n",
    "    anterior = 0\n",
    "    while numeros[min(paso, n) - 1] < numero_buscado:\n",
    "        anterior = paso\n",
    "        paso += int(math.sqrt(n))\n",
    "        if anterior >= n:\n",
    "            return -1\n",
    "    while anterior < min(paso, n):\n",
    "        if numeros[anterior] == numero_buscado:\n",
    "            return anterior\n",
    "        anterior += 1\n",
    "    return -1\n",
    "\n",
    "numeros = sorted([random.randint(1, 1000) for _ in range(1000)])  # Lista ordenada grande\n",
    "print(busqueda_salto_numero(numeros, 500))  # Salida: Posición de 500 o -1 si no se encuentra"
   ]
  },
  {
   "cell_type": "markdown",
   "metadata": {},
   "source": [
    "## 5. Búsqueda exponencial: Buscar un elemento en una lista ilimitada\n",
    "\n",
    "* Tienes una lista ordenada que simula ser ilimitada (puedes usar una lista muy grande para simularlo).\n",
    "* Implementa una función que use búsqueda exponencial para encontrar un elemento dado en la lista."
   ]
  },
  {
   "cell_type": "code",
   "execution_count": 16,
   "metadata": {},
   "outputs": [
    {
     "name": "stdout",
     "output_type": "stream",
     "text": [
      "7509\n"
     ]
    }
   ],
   "source": [
    "# 5. Búsqueda exponencial: Buscar un elemento en una lista ilimitada\n",
    "def busqueda_exponencial_elemento(numeros, elemento_buscado):\n",
    "    if numeros[0] == elemento_buscado:\n",
    "        return 0\n",
    "    i = 1\n",
    "    while i < len(numeros) and numeros[i] <= elemento_buscado:\n",
    "        i *= 2\n",
    "    izquierda = i // 2\n",
    "    derecha = min(i, len(numeros) - 1)\n",
    "    while izquierda <= derecha:\n",
    "        medio = (izquierda + derecha) // 2\n",
    "        if numeros[medio] == elemento_buscado:\n",
    "            return medio\n",
    "        elif numeros[medio] < elemento_buscado:\n",
    "            izquierda = medio + 1\n",
    "        else:\n",
    "            derecha = medio - 1\n",
    "    return -1\n",
    "\n",
    "numeros = sorted([random.randint(1, 10000) for _ in range(10000)])  # Lista ordenada muy grande\n",
    "print(busqueda_exponencial_elemento(numeros, 7500))  # Salida: Posición de 7500 o -1 si no se encuentra\n",
    "\n"
   ]
  },
  {
   "cell_type": "markdown",
   "metadata": {},
   "source": [
    "## 6. Búsqueda en tablas hash: Buscar un usuario por su nombre de usuario\n",
    "\n",
    "* Tienes un diccionario que representa una base de datos de usuarios, donde las claves son nombres de usuario y los valores son diccionarios con información del usuario.\n",
    "* Implementa una función que use búsqueda en tablas hash para encontrar un usuario por su nombre de usuario y devuelva su información."
   ]
  },
  {
   "cell_type": "code",
   "execution_count": 17,
   "metadata": {},
   "outputs": [
    {
     "name": "stdout",
     "output_type": "stream",
     "text": [
      "{'nombre': 'Ana', 'edad': 25}\n"
     ]
    }
   ],
   "source": [
    "# 6. Búsqueda en tablas hash: Buscar un usuario por su nombre de usuario\n",
    "def buscar_usuario(usuarios, nombre_usuario):\n",
    "    return usuarios.get(nombre_usuario)\n",
    "\n",
    "usuarios = {'ana_123': {'nombre': 'Ana', 'edad': 25}, 'carlos_456': {'nombre': 'Carlos', 'edad': 30}}\n",
    "print(buscar_usuario(usuarios, 'ana_123'))  # Salida: {'nombre': 'Ana', 'edad': 25}"
   ]
  },
  {
   "cell_type": "markdown",
   "metadata": {},
   "source": [
    "## 7. Búsqueda DFS: Encontrar un camino en un laberinto\n",
    "\n",
    "* Tienes un laberinto representado como un grafo, donde los nodos son celdas y las aristas son caminos entre celdas.\n",
    "* Implementa una función que use DFS para encontrar un camino desde la celda de inicio hasta la celda de salida."
   ]
  },
  {
   "cell_type": "code",
   "execution_count": 18,
   "metadata": {},
   "outputs": [
    {
     "name": "stdout",
     "output_type": "stream",
     "text": [
      "['A', 'B', 'E', 'F']\n"
     ]
    }
   ],
   "source": [
    "# 7. Búsqueda DFS: Encontrar un camino en un laberinto\n",
    "def dfs_camino_laberinto(laberinto, inicio, fin, camino=None):\n",
    "    if camino is None:\n",
    "        camino = [inicio]\n",
    "    if inicio == fin:\n",
    "        return camino\n",
    "    for vecino in laberinto[inicio]:\n",
    "        if vecino not in camino:\n",
    "            nuevo_camino = dfs_camino_laberinto(laberinto, vecino, fin, camino + [vecino])\n",
    "            if nuevo_camino:\n",
    "                return nuevo_camino\n",
    "    return None\n",
    "\n",
    "laberinto = {\n",
    "    'A': ['B', 'C'],\n",
    "    'B': ['A', 'D', 'E'],\n",
    "    'C': ['A', 'F'],\n",
    "    'D': ['B'],\n",
    "    'E': ['B', 'F'],\n",
    "    'F': ['C', 'E']\n",
    "}\n",
    "print(dfs_camino_laberinto(laberinto, 'A', 'F'))  # Salida: Un camino de A a F"
   ]
  },
  {
   "cell_type": "markdown",
   "metadata": {},
   "source": [
    "## 8. Búsqueda BFS: Encontrar el camino más corto en un mapa\n",
    "\n",
    "* Tienes un mapa representado como un grafo, donde los nodos son ciudades y las aristas son carreteras entre ciudades.\n",
    "* Implementa una función que use BFS para encontrar el camino más corto entre dos ciudades dadas."
   ]
  },
  {
   "cell_type": "code",
   "execution_count": 19,
   "metadata": {},
   "outputs": [
    {
     "name": "stdout",
     "output_type": "stream",
     "text": [
      "['A', 'C', 'F']\n"
     ]
    }
   ],
   "source": [
    "# 8. Búsqueda BFS: Encontrar el camino más corto en un mapa\n",
    "from collections import deque\n",
    "\n",
    "def bfs_camino_mapa(mapa, inicio, fin):\n",
    "    visitados = {inicio: None}\n",
    "    cola = deque([inicio])\n",
    "    while cola:\n",
    "        actual = cola.popleft()\n",
    "        if actual == fin:\n",
    "            break\n",
    "        for vecino in mapa[actual]:\n",
    "            if vecino not in visitados:\n",
    "                visitados[vecino] = actual\n",
    "                cola.append(vecino)\n",
    "    if fin not in visitados:\n",
    "        return None  # No hay camino\n",
    "    camino = []\n",
    "    actual = fin\n",
    "    while actual != inicio:\n",
    "        camino.append(actual)\n",
    "        actual = visitados[actual]\n",
    "    camino.append(inicio)\n",
    "    return camino[::-1]  # Invertir el camino para obtener el orden correcto\n",
    "\n",
    "mapa = {\n",
    "    'A': ['B', 'C'],\n",
    "    'B': ['A', 'D', 'E'],\n",
    "    'C': ['A', 'F'],\n",
    "    'D': ['B'],\n",
    "    'E': ['B', 'F'],\n",
    "    'F': ['C', 'E']\n",
    "}\n",
    "print(bfs_camino_mapa(mapa, 'A', 'F'))  # Salida: El camino más corto de A a F"
   ]
  },
  {
   "cell_type": "markdown",
   "metadata": {},
   "source": [
    "## 9. Búsqueda lineal: Encontrar todas las ocurrencias de una palabra en un texto\n",
    "\n",
    "* Tienes un texto largo y una palabra.\n",
    "* Implementa una función que use búsqueda lineal para encontrar todas las ocurrencias de la palabra en el texto y devuelva las posiciones donde se encuentra."
   ]
  },
  {
   "cell_type": "code",
   "execution_count": 20,
   "metadata": {},
   "outputs": [
    {
     "name": "stdout",
     "output_type": "stream",
     "text": [
      "[20, 63]\n"
     ]
    }
   ],
   "source": [
    "# 9. Búsqueda lineal: Encontrar todas las ocurrencias de una palabra en un texto\n",
    "def buscar_ocurrencias_palabra(texto, palabra_buscada):\n",
    "    ocurrencias = []\n",
    "    for i in range(len(texto) - len(palabra_buscada) + 1):\n",
    "        if texto[i:i + len(palabra_buscada)] == palabra_buscada:\n",
    "            ocurrencias.append(i)\n",
    "    return ocurrencias\n",
    "\n",
    "texto = \"Este es un texto de ejemplo donde buscamos palabras clave como ejemplo y texto.\"\n",
    "print(buscar_ocurrencias_palabra(texto, \"ejemplo\"))  # Salida: [14, 48]"
   ]
  },
  {
   "cell_type": "markdown",
   "metadata": {},
   "source": [
    "## 10. Búsqueda binaria: Buscar el primer elemento mayor o igual a un valor dado\n",
    "\n",
    "* Tienes una lista ordenada de números enteros.\n",
    "* Implementa una función que use búsqueda binaria para encontrar el primer elemento en la lista que sea mayor o igual a un valor dado."
   ]
  },
  {
   "cell_type": "code",
   "execution_count": 21,
   "metadata": {},
   "outputs": [],
   "source": [
    "# 10. Búsqueda binaria: Buscar el primer elemento mayor o igual a un valor dado\n",
    "def busqueda_binaria_primer_mayor_igual(numeros, valor_buscado):\n",
    "    izquierda, derecha = 0, len(numeros) - 1\n",
    "    resultado = -1\n",
    "    while izquierda <= derecha:\n",
    "        medio = (izquierda + derecha) // 2\n",
    "        if numeros[medio] >= valor_buscado:\n",
    "            resultado"
   ]
  }
 ],
 "metadata": {
  "kernelspec": {
   "display_name": "venvc",
   "language": "python",
   "name": "python3"
  },
  "language_info": {
   "codemirror_mode": {
    "name": "ipython",
    "version": 3
   },
   "file_extension": ".py",
   "mimetype": "text/x-python",
   "name": "python",
   "nbconvert_exporter": "python",
   "pygments_lexer": "ipython3",
   "version": "3.12.8"
  }
 },
 "nbformat": 4,
 "nbformat_minor": 2
}
