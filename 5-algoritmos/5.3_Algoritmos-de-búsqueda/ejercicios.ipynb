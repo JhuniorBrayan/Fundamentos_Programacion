{
 "cells": [
  {
   "cell_type": "markdown",
   "metadata": {},
   "source": [
    "## **Ejercicios: Algoritmos de Búsqueda**\n",
    "\n",
    "## 1. Búsqueda lineal: Encontrar un producto en un inventario\n",
    "\n",
    "* Tienes una lista de diccionarios, donde cada diccionario representa un producto con su nombre y precio.\n",
    "* Implementa una función que use búsqueda lineal para encontrar un producto por su nombre y devuelva su precio.\n"
   ]
  },
  {
   "cell_type": "code",
   "execution_count": null,
   "metadata": {
    "vscode": {
     "languageId": "plaintext"
    }
   },
   "outputs": [],
   "source": []
  },
  {
   "cell_type": "markdown",
   "metadata": {},
   "source": [
    "## 2. Búsqueda binaria: Buscar un libro en una biblioteca\n",
    "\n",
    "* Tienes una lista ordenada de títulos de libros.\n",
    "* Implementa una función que use búsqueda binaria para encontrar la posición de un libro en la lista dado su título."
   ]
  },
  {
   "cell_type": "code",
   "execution_count": null,
   "metadata": {
    "vscode": {
     "languageId": "plaintext"
    }
   },
   "outputs": [],
   "source": []
  },
  {
   "cell_type": "markdown",
   "metadata": {},
   "source": [
    "## 3. Búsqueda por interpolación: Buscar un estudiante por su ID\n",
    "\n",
    "* Tienes una lista ordenada de estudiantes, donde cada estudiante tiene un ID numérico.\n",
    "* Implementa una función que use búsqueda por interpolación para encontrar un estudiante por su ID."
   ]
  },
  {
   "cell_type": "code",
   "execution_count": null,
   "metadata": {
    "vscode": {
     "languageId": "plaintext"
    }
   },
   "outputs": [],
   "source": []
  },
  {
   "cell_type": "markdown",
   "metadata": {},
   "source": [
    "## 4. Búsqueda por salto: Buscar un número en una lista grande\n",
    "\n",
    "* Tienes una lista ordenada de números enteros.\n",
    "* Implementa una función que use búsqueda por salto para encontrar un número dado en la lista."
   ]
  },
  {
   "cell_type": "code",
   "execution_count": null,
   "metadata": {
    "vscode": {
     "languageId": "plaintext"
    }
   },
   "outputs": [],
   "source": []
  },
  {
   "cell_type": "markdown",
   "metadata": {},
   "source": [
    "## 5. Búsqueda exponencial: Buscar un elemento en una lista ilimitada\n",
    "\n",
    "* Tienes una lista ordenada que simula ser ilimitada (puedes usar una lista muy grande para simularlo).\n",
    "* Implementa una función que use búsqueda exponencial para encontrar un elemento dado en la lista."
   ]
  },
  {
   "cell_type": "code",
   "execution_count": null,
   "metadata": {
    "vscode": {
     "languageId": "plaintext"
    }
   },
   "outputs": [],
   "source": []
  },
  {
   "cell_type": "markdown",
   "metadata": {},
   "source": [
    "## 6. Búsqueda en tablas hash: Buscar un usuario por su nombre de usuario\n",
    "\n",
    "* Tienes un diccionario que representa una base de datos de usuarios, donde las claves son nombres de usuario y los valores son diccionarios con información del usuario.\n",
    "* Implementa una función que use búsqueda en tablas hash para encontrar un usuario por su nombre de usuario y devuelva su información."
   ]
  },
  {
   "cell_type": "code",
   "execution_count": null,
   "metadata": {
    "vscode": {
     "languageId": "plaintext"
    }
   },
   "outputs": [],
   "source": []
  },
  {
   "cell_type": "markdown",
   "metadata": {},
   "source": [
    "## 7. Búsqueda DFS: Encontrar un camino en un laberinto\n",
    "\n",
    "* Tienes un laberinto representado como un grafo, donde los nodos son celdas y las aristas son caminos entre celdas.\n",
    "* Implementa una función que use DFS para encontrar un camino desde la celda de inicio hasta la celda de salida."
   ]
  },
  {
   "cell_type": "code",
   "execution_count": null,
   "metadata": {
    "vscode": {
     "languageId": "plaintext"
    }
   },
   "outputs": [],
   "source": []
  },
  {
   "cell_type": "markdown",
   "metadata": {},
   "source": [
    "## 8. Búsqueda BFS: Encontrar el camino más corto en un mapa\n",
    "\n",
    "* Tienes un mapa representado como un grafo, donde los nodos son ciudades y las aristas son carreteras entre ciudades.\n",
    "* Implementa una función que use BFS para encontrar el camino más corto entre dos ciudades dadas."
   ]
  },
  {
   "cell_type": "code",
   "execution_count": null,
   "metadata": {
    "vscode": {
     "languageId": "plaintext"
    }
   },
   "outputs": [],
   "source": []
  },
  {
   "cell_type": "markdown",
   "metadata": {},
   "source": [
    "## 9. Búsqueda lineal: Encontrar todas las ocurrencias de una palabra en un texto\n",
    "\n",
    "* Tienes un texto largo y una palabra.\n",
    "* Implementa una función que use búsqueda lineal para encontrar todas las ocurrencias de la palabra en el texto y devuelva las posiciones donde se encuentra."
   ]
  },
  {
   "cell_type": "code",
   "execution_count": null,
   "metadata": {
    "vscode": {
     "languageId": "plaintext"
    }
   },
   "outputs": [],
   "source": []
  },
  {
   "cell_type": "markdown",
   "metadata": {},
   "source": [
    "## 10. Búsqueda binaria: Buscar el primer elemento mayor o igual a un valor dado\n",
    "\n",
    "* Tienes una lista ordenada de números enteros.\n",
    "* Implementa una función que use búsqueda binaria para encontrar el primer elemento en la lista que sea mayor o igual a un valor dado."
   ]
  },
  {
   "cell_type": "code",
   "execution_count": null,
   "metadata": {
    "vscode": {
     "languageId": "plaintext"
    }
   },
   "outputs": [],
   "source": []
  }
 ],
 "metadata": {
  "language_info": {
   "name": "python"
  }
 },
 "nbformat": 4,
 "nbformat_minor": 2
}
