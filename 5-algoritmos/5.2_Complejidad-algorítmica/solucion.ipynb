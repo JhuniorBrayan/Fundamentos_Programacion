{
 "cells": [
  {
   "cell_type": "markdown",
   "metadata": {},
   "source": [
    "## **Ejercicios: Algoritmos**\n",
    "\n",
    "## Nivel 1: Introducción a la Complejidad\n",
    "\n",
    "1.  **Búsqueda en un registro (O(n)):**\n",
    "\n",
    "    *   Tienes un registro de clientes con información básica (nombre, ID, etc.).\n",
    "    *   Implementa una función para buscar un cliente por su ID.\n",
    "    *   ¿Cuál es la complejidad temporal de esta búsqueda?\n",
    "\n",
    "\n",
    "\n",
    "\n",
    "\n",
    "\n"
   ]
  },
  {
   "cell_type": "code",
   "execution_count": null,
   "metadata": {
    "vscode": {
     "languageId": "plaintext"
    }
   },
   "outputs": [],
   "source": [
    "def buscar_cliente(registro, id_cliente):\n",
    "    for cliente in registro:\n",
    "        if cliente[\"id\"] == id_cliente:\n",
    "            return cliente\n",
    "    return None  # Cliente no encontrado\n",
    "\n",
    "# Ejemplo de uso\n",
    "registro = [\n",
    "    {\"nombre\": \"Ana\", \"id\": 123},\n",
    "    {\"nombre\": \"Juan\", \"id\": 456},\n",
    "    {\"nombre\": \"Maria\", \"id\": 789},\n",
    "]\n",
    "\n",
    "cliente = buscar_cliente(registro, 456)\n",
    "print(cliente)  # Salida: {'nombre': 'Juan', 'id': 456}"
   ]
  },
  {
   "cell_type": "markdown",
   "metadata": {},
   "source": [
    "*   La función `buscar_cliente` recorre el registro de clientes uno por uno hasta encontrar el cliente con el ID especificado.\n",
    "*   En el peor caso (el cliente no está en el registro o está al final), la función debe recorrer todo el registro.\n",
    "*   Por lo tanto, la complejidad temporal es lineal, O(n), donde n es el número de clientes en el registro."
   ]
  },
  {
   "cell_type": "markdown",
   "metadata": {},
   "source": [
    "2.  **Cálculo de promedio de notas (O(n)):**\n",
    "\n",
    "    *   Tienes una lista de estudiantes con sus notas en un examen.\n",
    "    *   Implementa una función para calcular el promedio de las notas.\n",
    "    *   ¿Cuál es la complejidad temporal de este cálculo?"
   ]
  },
  {
   "cell_type": "code",
   "execution_count": null,
   "metadata": {
    "vscode": {
     "languageId": "plaintext"
    }
   },
   "outputs": [],
   "source": [
    "def calcular_promedio(notas):\n",
    "    suma = 0\n",
    "    for nota in notas:\n",
    "        suma += nota\n",
    "    return suma / len(notas)\n",
    "\n",
    "# Ejemplo de uso\n",
    "notas = [8, 9, 7, 10, 6]\n",
    "promedio = calcular_promedio(notas)\n",
    "print(promedio)  # Salida: 8.0"
   ]
  },
  {
   "cell_type": "markdown",
   "metadata": {},
   "source": [
    "*   La función `calcular_promedio` recorre la lista de notas una vez para calcular la suma total.\n",
    "*   Luego, divide la suma por el número de notas para obtener el promedio.\n",
    "*   La complejidad temporal es lineal, O(n), donde n es el número de notas en la lista."
   ]
  },
  {
   "cell_type": "markdown",
   "metadata": {},
   "source": [
    "## Nivel 2: Complejidad Logarítmica\n",
    "\n",
    "3.  **Búsqueda en un diccionario (O(1) en promedio):**\n",
    "\n",
    "    *   Tienes un diccionario donde las claves son IDs de productos y los valores son los nombres.\n",
    "    *   Implementa una función para buscar el nombre de un producto por su ID.\n",
    "    *   ¿Cuál es la complejidad temporal de esta búsqueda en promedio? ¿Y en el peor caso?"
   ]
  },
  {
   "cell_type": "code",
   "execution_count": null,
   "metadata": {
    "vscode": {
     "languageId": "plaintext"
    }
   },
   "outputs": [],
   "source": [
    "def buscar_producto(productos, id_producto):\n",
    "    return productos.get(id_producto)\n",
    "\n",
    "# Ejemplo de uso\n",
    "productos = {\n",
    "    1: \"Camiseta\",\n",
    "    2: \"Pantalón\",\n",
    "    3: \"Zapatos\",\n",
    "}\n",
    "\n",
    "nombre_producto = buscar_producto(productos, 2)\n",
    "print(nombre_producto)  # Salida: Pantalón"
   ]
  },
  {
   "cell_type": "markdown",
   "metadata": {},
   "source": [
    "*   La función `buscar_producto` utiliza el método `get` de los diccionarios para buscar el valor asociado a una clave (ID de producto).\n",
    "*   En promedio, la búsqueda en un diccionario tiene una complejidad temporal constante, O(1), ya que los diccionarios utilizan tablas hash para acceder a los elementos de manera eficiente.\n",
    "*   En el peor caso (colisiones en la tabla hash), la complejidad puede ser lineal, O(n), pero esto es poco común en la práctica."
   ]
  },
  {
   "cell_type": "markdown",
   "metadata": {},
   "source": [
    "4.  **Búsqueda binaria en un catálogo (O(log n)):**\n",
    "\n",
    "    *   Tienes un catálogo de libros ordenado alfabéticamente por título.\n",
    "    *   Implementa una función para buscar un libro por su título utilizando búsqueda binaria.\n",
    "    *   ¿Cuál es la complejidad temporal de esta búsqueda?"
   ]
  },
  {
   "cell_type": "code",
   "execution_count": null,
   "metadata": {
    "vscode": {
     "languageId": "plaintext"
    }
   },
   "outputs": [],
   "source": [
    "def buscar_libro(catalogo, titulo):\n",
    "    izquierda, derecha = 0, len(catalogo) - 1\n",
    "    while izquierda <= derecha:\n",
    "        medio = (izquierda + derecha) // 2\n",
    "        if catalogo[medio] == titulo:\n",
    "            return medio\n",
    "        elif catalogo[medio] < titulo:\n",
    "            izquierda = medio + 1\n",
    "        else:\n",
    "            derecha = medio - 1\n",
    "    return -1  # Libro no encontrado\n",
    "\n",
    "# Ejemplo de uso\n",
    "catalogo = [\"El Señor de los Anillos\", \"Harry Potter\", \"Orgullo y Prejuicio\"]\n",
    "posicion = buscar_libro(catalogo, \"Harry Potter\")\n",
    "print(posicion)  # Salida: 1"
   ]
  },
  {
   "cell_type": "markdown",
   "metadata": {},
   "source": [
    "*   La función `buscar_libro` utiliza el algoritmo de búsqueda binaria para buscar un libro por su título en un catálogo ordenado alfabéticamente.\n",
    "*   La búsqueda binaria divide el espacio de búsqueda a la mitad en cada iteración.\n",
    "*   Por lo tanto, la complejidad temporal es logarítmica, O(log n), donde n es el número de libros en el catálogo."
   ]
  },
  {
   "cell_type": "markdown",
   "metadata": {},
   "source": [
    "## Nivel 3: Complejidad Cuadrática\n",
    "\n",
    "5.  **Encontrar duplicados en una lista (O(n²)):**\n",
    "\n",
    "    *   Tienes una lista de números enteros.\n",
    "    *   Implementa una función para encontrar todos los números duplicados en la lista.\n",
    "    *   ¿Cuál es la complejidad temporal de esta función?"
   ]
  },
  {
   "cell_type": "code",
   "execution_count": null,
   "metadata": {
    "vscode": {
     "languageId": "plaintext"
    }
   },
   "outputs": [],
   "source": [
    "def encontrar_duplicados(lista):\n",
    "    duplicados = []\n",
    "    for i in range(len(lista)):\n",
    "        for j in range(i + 1, len(lista)):\n",
    "            if lista[i] == lista[j]:\n",
    "                duplicados.append(lista[i])\n",
    "    return duplicados\n",
    "\n",
    "# Ejemplo de uso\n",
    "numeros = [1, 2, 3, 2, 4, 1, 5]\n",
    "duplicados = encontrar_duplicados(numeros)\n",
    "print(duplicados)  # Salida: [1, 2]"
   ]
  },
  {
   "cell_type": "markdown",
   "metadata": {},
   "source": [
    "\n",
    "*   La función `encontrar_duplicados` utiliza dos bucles anidados para comparar cada elemento de la lista con todos los demás elementos.\n",
    "*   La complejidad temporal es cuadrática, O(n²), donde n es el número de elementos en la lista."
   ]
  },
  {
   "cell_type": "markdown",
   "metadata": {},
   "source": [
    "6.  **Comparación de todas las combinaciones de productos (O(n²)):**\n",
    "\n",
    "    *   Tienes una lista de productos con sus precios.\n",
    "    *   Implementa una función para calcular la diferencia de precio entre todos los pares posibles de productos.\n",
    "    *   ¿Cuál es la complejidad temporal de esta función?"
   ]
  },
  {
   "cell_type": "code",
   "execution_count": null,
   "metadata": {
    "vscode": {
     "languageId": "plaintext"
    }
   },
   "outputs": [],
   "source": [
    "def comparar_productos(productos):\n",
    "    diferencias = []\n",
    "    for i in range(len(productos)):\n",
    "        for j in range(i + 1, len(productos)):\n",
    "            diferencia = abs(productos[i][\"precio\"] - productos[j][\"precio\"])\n",
    "            diferencias.append((productos[i][\"nombre\"], productos[j][\"nombre\"], diferencia))\n",
    "    return diferencias\n",
    "\n",
    "# Ejemplo de uso\n",
    "productos = [\n",
    "    {\"nombre\": \"Camiseta\", \"precio\": 20},\n",
    "    {\"nombre\": \"Pantalón\", \"precio\": 30},\n",
    "    {\"nombre\": \"Zapatos\", \"precio\": 50},\n",
    "]\n",
    "\n",
    "diferencias = comparar_productos(productos)\n",
    "print(diferencias)\n",
    "# Salida:\n",
    "# [('Camiseta', 'Pantalón', 10), ('Camiseta', 'Zapatos', 30), ('Pantalón', 'Zapatos', 20)]"
   ]
  },
  {
   "cell_type": "markdown",
   "metadata": {},
   "source": [
    "*   La función `comparar_productos` utiliza dos bucles anidados para comparar el precio de cada producto con el precio de todos los demás productos.\n",
    "*   La complejidad temporal es cuadrática, O(n²), donde n es el número de productos en la lista."
   ]
  },
  {
   "cell_type": "markdown",
   "metadata": {},
   "source": [
    "## Nivel 4: Complejidad Lineal-Logarítmica\n",
    "\n",
    "7.  **Ordenamiento de una lista de tareas (O(n log n)):**\n",
    "\n",
    "    *   Tienes una lista de tareas con sus fechas de vencimiento.\n",
    "    *   Implementa una función para ordenar la lista de tareas por fecha de vencimiento utilizando un algoritmo eficiente (por ejemplo, merge sort).\n",
    "    *   ¿Cuál es la complejidad temporal de este ordenamiento?"
   ]
  },
  {
   "cell_type": "code",
   "execution_count": null,
   "metadata": {
    "vscode": {
     "languageId": "plaintext"
    }
   },
   "outputs": [],
   "source": [
    "def ordenar_tareas(tareas):\n",
    "    tareas.sort(key=lambda tarea: tarea[\"fecha_vencimiento\"])\n",
    "    return tareas\n",
    "\n",
    "# Ejemplo de uso\n",
    "tareas = [\n",
    "    {\"nombre\": \"Tarea 1\", \"fecha_vencimiento\": \"2023-12-15\"},\n",
    "    {\"nombre\": \"Tarea 2\", \"fecha_vencimiento\": \"2023-12-10\"},\n",
    "    {\"nombre\": \"Tarea 3\", \"fecha_vencimiento\": \"2023-12-20\"},\n",
    "]\n",
    "\n",
    "tareas_ordenadas = ordenar_tareas(tareas)\n",
    "print(tareas_ordenadas)\n",
    "# Salida:\n",
    "# [{'nombre': 'Tarea 2', 'fecha_vencimiento': '2023-12-10'},\n",
    "#  {'nombre': 'Tarea 1', 'fecha_vencimiento': '2023-12-15'},\n",
    "#  {'nombre': 'Tarea 3', 'fecha_vencimiento': '2023-12-20'}]"
   ]
  },
  {
   "cell_type": "markdown",
   "metadata": {},
   "source": [
    "*   La función `ordenar_tareas` utiliza el método `sort` de las listas en Python, que tiene una complejidad temporal promedio de O(n log n).\n",
    "*   Este algoritmo de ordenamiento es eficiente para listas grandes."
   ]
  },
  {
   "cell_type": "markdown",
   "metadata": {},
   "source": [
    "8.  **Búsqueda de palabras clave en un texto (O(n log n)):**\n",
    "\n",
    "    *   Tienes un texto largo y una lista de palabras clave.\n",
    "    *   Implementa una función para encontrar todas las ocurrencias de las palabras clave en el texto.\n",
    "    *   ¿Cuál es la complejidad temporal de esta búsqueda?"
   ]
  },
  {
   "cell_type": "code",
   "execution_count": null,
   "metadata": {
    "vscode": {
     "languageId": "plaintext"
    }
   },
   "outputs": [],
   "source": [
    "def buscar_palabras_clave(texto, palabras_clave):\n",
    "    ocurrencias = {}\n",
    "    for palabra_clave in palabras_clave:\n",
    "        for i in range(len(texto) - len(palabra_clave) + 1):\n",
    "            if texto[i:i + len(palabra_clave)] == palabra_clave:\n",
    "                if palabra_clave in ocurrencias:\n",
    "                    ocurrencias[palabra_clave].append(i)\n",
    "                else:\n",
    "                    ocurrencias[palabra_clave] = [i]\n",
    "    return ocurrencias\n",
    "\n",
    "# Ejemplo de uso\n",
    "texto = \"Este es un texto de ejemplo donde buscamos palabras clave como ejemplo y texto.\"\n",
    "palabras_clave = [\"ejemplo\", \"texto\"]\n",
    "\n",
    "ocurrencias = buscar_palabras_clave(texto, palabras_clave)\n",
    "print(ocurrencias)\n",
    "# Salida:\n",
    "# {'ejemplo': [14, 48], 'texto': [8, 55]}"
   ]
  },
  {
   "cell_type": "markdown",
   "metadata": {},
   "source": [
    "* La función `buscar_palabras_clave` busca cada palabra clave en el texto utilizando bucles anidados.\n",
    "* El bucle externo itera sobre las palabras clave (m veces) y el bucle interno itera sobre el texto (n veces).\n",
    "* La complejidad temporal es O(m*n), que en el peor caso (m ≈ n) se aproxima a O(n^2)."
   ]
  },
  {
   "cell_type": "markdown",
   "metadata": {},
   "source": [
    "## Nivel 5: Optimización y Análisis\n",
    "\n",
    "9.  **Optimización de búsqueda de duplicados (O(n)):**\n",
    "\n",
    "    *   Revisa la función del ejercicio 5 para encontrar duplicados en una lista.\n",
    "    *   ¿Puedes optimizarla para que tenga una complejidad temporal lineal (O(n))?"
   ]
  },
  {
   "cell_type": "code",
   "execution_count": null,
   "metadata": {
    "vscode": {
     "languageId": "plaintext"
    }
   },
   "outputs": [],
   "source": [
    "def encontrar_duplicados(lista):\n",
    "    vistos = set()\n",
    "    duplicados = []\n",
    "    for elemento in lista:\n",
    "        if elemento in vistos:\n",
    "            duplicados.append(elemento)\n",
    "        else:\n",
    "            vistos.add(elemento)\n",
    "    return duplicados\n",
    "\n",
    "# Ejemplo de uso\n",
    "numeros = [1, 2, 3, 2, 4, 1, 5]\n",
    "duplicados = encontrar_duplicados(numeros)\n",
    "print(duplicados)  # Salida: [1, 2]"
   ]
  },
  {
   "cell_type": "markdown",
   "metadata": {},
   "source": [
    "* La función `encontrar_duplicados` utiliza un conjunto (`set`) para almacenar los elementos vistos.\n",
    "* Los conjuntos permiten verificar si un elemento ya ha sido visto en tiempo constante (O(1)).\n",
    "* La complejidad temporal es lineal, O(n), ya que solo se recorre la lista una vez."
   ]
  },
  {
   "cell_type": "markdown",
   "metadata": {},
   "source": [
    "10. **Análisis de complejidad de un algoritmo de recomendación:**\n",
    "\n",
    "    *   Tienes un sistema de recomendación de películas que utiliza un algoritmo complejo para sugerir películas a los usuarios.\n",
    "    *   Analiza el algoritmo e identifica la complejidad temporal de las principales operaciones.\n",
    "    *   ¿Cómo podrías optimizar el algoritmo para mejorar su rendimiento?"
   ]
  },
  {
   "cell_type": "markdown",
   "metadata": {},
   "source": [
    "### Descripción del problema\n",
    "\n",
    "Tienes un sistema de recomendación de películas que utiliza un algoritmo complejo para sugerir películas a los usuarios. Este algoritmo podría incluir operaciones como:\n",
    "\n",
    "*   Calcular la similitud entre usuarios o películas (basándose en las preferencias de los usuarios, características de las películas, etc.).\n",
    "*   Ordenar las películas según su puntuación de recomendación.\n",
    "*   Filtrar las películas no deseadas por el usuario (por ejemplo, películas ya vistas o de géneros no preferidos).\n",
    "\n",
    "Tu tarea es analizar el algoritmo e identificar la complejidad temporal de las principales operaciones. Luego, propone ideas para optimizar el algoritmo y mejorar su rendimiento.\n",
    "\n",
    "### Solución\n",
    "\n",
    "A continuación, te presento un ejemplo de un algoritmo de recomendación simplificado y su análisis de complejidad:"
   ]
  },
  {
   "cell_type": "code",
   "execution_count": null,
   "metadata": {
    "vscode": {
     "languageId": "plaintext"
    }
   },
   "outputs": [],
   "source": [
    "def recomendar_peliculas(usuario, peliculas, usuarios):\n",
    "    # 1. Calcular la similitud entre el usuario actual y otros usuarios\n",
    "    similitudes = {}\n",
    "    for otro_usuario in usuarios:\n",
    "        similitud = calcular_similitud(usuario, otro_usuario)  # Función no implementada\n",
    "        similitudes[otro_usuario] = similitud\n",
    "\n",
    "    # 2. Seleccionar los usuarios más similares\n",
    "    usuarios_similares = seleccionar_usuarios_similares(similitudes, 10)  # Función no implementada\n",
    "\n",
    "    # 3. Obtener las películas que han gustado a los usuarios similares\n",
    "    peliculas_similares = []\n",
    "    for otro_usuario in usuarios_similares:\n",
    "        peliculas_gustadas = obtener_peliculas_gustadas(otro_usuario)  # Función no implementada\n",
    "        peliculas_similares.extend(peliculas_gustadas)\n",
    "\n",
    "    # 4. Calcular una puntuación de recomendación para cada película\n",
    "    puntuaciones = {}\n",
    "    for pelicula in peliculas_similares:\n",
    "        puntuacion = calcular_puntuacion(pelicula, usuarios_similares)  # Función no implementada\n",
    "        puntuaciones[pelicula] = puntuacion\n",
    "\n",
    "    # 5. Ordenar las películas por puntuación de recomendación\n",
    "    peliculas_recomendadas = sorted(puntuaciones.items(), key=lambda item: item[1], reverse=True)\n",
    "    \n",
    "    # 6. Filtrar las películas ya vistas por el usuario actual\n",
    "    peliculas_recomendadas = filtrar_peliculas_vistas(peliculas_recomendadas, usuario)  # Función no implementada\n",
    "\n",
    "    # 7. Devolver las 10 mejores recomendaciones\n",
    "    return peliculas_recomendadas[:10]\n"
   ]
  },
  {
   "cell_type": "markdown",
   "metadata": {},
   "source": [
    "### Análisis de complejidad\n",
    "\n",
    "*   **Paso 1: Calcular la similitud entre usuarios:**\n",
    "    *   La función `calcular_similitud` (no implementada) podría tener una complejidad de O(n) o O(n^2) dependiendo del algoritmo utilizado (por ejemplo, distancia euclidiana, coseno, etc.).\n",
    "    *   Este paso se realiza para cada usuario en la base de datos, por lo que la complejidad total es O(n\\*m) o O(n^2\\*m), donde n es el número de usuarios y m es la complejidad de `calcular_similitud`.\n",
    "*   **Paso 2: Seleccionar los usuarios más similares:**\n",
    "    *   La función `seleccionar_usuarios_similares` (no implementada) podría tener una complejidad de O(n) si utiliza un algoritmo de selección lineal o O(n log n) si utiliza un algoritmo de ordenamiento.\n",
    "*   **Paso 3: Obtener las películas que han gustado a los usuarios similares:**\n",
    "    *   La función `obtener_peliculas_gustadas` (no implementada) podría tener una complejidad de O(k), donde k es el número de películas que ha visto un usuario.\n",
    "    *   Este paso se realiza para cada usuario similar, por lo que la complejidad total es O(n\\*k).\n",
    "*   **Paso 4: Calcular una puntuación de recomendación para cada película:**\n",
    "    *   La función `calcular_puntuacion` (no implementada) podría tener una complejidad de O(n) o superior dependiendo del algoritmo utilizado.\n",
    "    *   Este paso se realiza para cada película similar, por lo que la complejidad total es O(p\\*m), donde p es el número de películas similares y m es la complejidad de `calcular_puntuacion`.\n",
    "*   **Paso 5: Ordenar las películas por puntuación de recomendación:**\n",
    "    *   El ordenamiento de una lista de tamaño p tiene una complejidad de O(p log p).\n",
    "*   **Paso 6: Filtrar las películas ya vistas por el usuario actual:**\n",
    "    *   La función `filtrar_peliculas_vistas` (no implementada) podría tener una complejidad de O(p) si utiliza una búsqueda lineal o O(p log k) si utiliza una búsqueda binaria (donde k es el número de películas ya vistas por el usuario).\n",
    "*   **Paso 7: Devolver las 10 mejores recomendaciones:**\n",
    "    *   Este paso tiene una complejidad constante, O(1).\n",
    "\n",
    "### Complejidad total\n",
    "\n",
    "La complejidad total del algoritmo dependerá de la implementación específica de las funciones no implementadas. Sin embargo, podemos identificar los siguientes cuellos de botella:\n",
    "\n",
    "*   El cálculo de similitud entre usuarios (paso 1) es probablemente la operación más costosa, especialmente si se utiliza un algoritmo de complejidad cuadrática.\n",
    "*   El cálculo de la puntuación de recomendación para cada película (paso 4) también puede ser costoso dependiendo del algoritmo utilizado.\n",
    "\n",
    "### Ideas para optimizar el algoritmo\n",
    "\n",
    "*   **Cálculo de similitud:**\n",
    "    *   Utilizar algoritmos de similitud más eficientes, como la similitud del coseno o la distancia de Manhattan.\n",
    "    *   Indexar los datos de los usuarios y películas para acelerar los cálculos de similitud.\n",
    "    *   Utilizar técnicas de \"hashing\" o \"clustering\" para reducir el número de comparaciones necesarias.\n",
    "*   **Cálculo de la puntuación de recomendación:**\n",
    "    *   Utilizar algoritmos de recomendación más eficientes, como el filtrado colaborativo basado en modelos o el filtrado basado en contenido.\n",
    "    *   Precalcular las puntuaciones de recomendación para las películas más populares o para los usuarios más activos.\n",
    "*   **Filtrado de películas:**\n",
    "    *   Utilizar estructuras de datos eficientes (como conjuntos o diccionarios) para almacenar las películas ya vistas por el usuario y agilizar el proceso de filtrado.\n",
    "\n",
    "### Conclusión\n",
    "\n",
    "El análisis de la complejidad algorítmica es fundamental para identificar los cuellos de botella en un algoritmo y proponer ideas para optimizarlo. En el caso de un algoritmo de recomendación, es importante prestar especial atención al cálculo de similitud y a la puntuación de recomendación, ya que suelen ser las operaciones más costosas.\n",
    "\n",
    "Espero que esta solución detallada te sea útil. Si tienes alguna otra pregunta, no dudes en consultarme.\n"
   ]
  },
  {
   "cell_type": "markdown",
   "metadata": {},
   "source": [
    "## ¡No te rindas!\n",
    "\n",
    "Recuerda que la clave para dominar la complejidad algorítmica está en la práctica constante. Intenta resolver los ejercicios por tu cuenta y, si te encuentras con alguna dificultad, no dudes en consultar la documentación de Python o buscar ejemplos en línea. ¡Mucho éxito en tu aprendizaje!"
   ]
  }
 ],
 "metadata": {
  "language_info": {
   "name": "python"
  }
 },
 "nbformat": 4,
 "nbformat_minor": 2
}
