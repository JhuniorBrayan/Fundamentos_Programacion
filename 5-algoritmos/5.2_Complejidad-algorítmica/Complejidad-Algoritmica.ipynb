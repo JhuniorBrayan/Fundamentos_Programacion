{
 "cells": [
  {
   "cell_type": "markdown",
   "metadata": {},
   "source": [
    "# Complejidad Algorítmica en Python 🚀\n",
    "\n",
    "## Introducción 📌\n",
    "La complejidad algorítmica es fundamental para evaluar el rendimiento de un algoritmo. Nos ayuda a entender cuán eficiente es un algoritmo en términos de **tiempo de ejecución** y **uso de memoria** a medida que la entrada crece. \n",
    "\n",
    "En este documento, exploraremos los conceptos clave de la **complejidad temporal y espacial**, centrándonos en la notación **Big O**.\n",
    "\n",
    "## Objetivo 🎯\n",
    "Comprender qué es la **complejidad algorítmica**, cómo se mide y cómo analizarla con la notación **Big O** mediante ejemplos prácticos en **Python**.\n",
    "\n",
    "---\n",
    "\n",
    "## 📊 Notación Big O\n",
    "La notación **Big O** describe el comportamiento asintótico de un algoritmo, es decir, cómo crece su tiempo de ejecución o uso de memoria en función del tamaño de la entrada (**n**). \n",
    "\n",
    "### Principales Clases de Complejidad 📈\n",
    "\n",
    "| Notación Big O | Tipo de Complejidad | Descripción |\n",
    "|--------------|----------------|-------------|\n",
    "| O(1) | **Tiempo constante** | No importa el tamaño de la entrada, siempre tarda lo mismo. |\n",
    "| O(log n) | **Tiempo logarítmico** | Crece lentamente en comparación con la entrada. |\n",
    "| O(n) | **Tiempo lineal** | Aumenta proporcionalmente al tamaño de la entrada. |\n",
    "| O(n log n) | **Tiempo lineal-logarítmico** | Usado en algoritmos eficientes de ordenación. |\n",
    "| O(n²) | **Tiempo cuadrático** | Se vuelve lento con entradas grandes. |\n",
    "| O(2ⁿ) | **Tiempo exponencial** | Crece muy rápido y no es práctico para valores grandes de n. |\n",
    "| O(n!) | **Factorial** | Crece extremadamente rápido, usado en problemas combinatorios. |\n",
    "\n",
    "![Notación Big O](https://www.undefinedworld.com/assets/images/articles/media/5-grafica-tipos-de-complejidad.jpg)\n",
    "\n",
    "---\n",
    "\n",
    "## 🔍 Análisis de Complejidad con Ejemplos en Python\n",
    "\n",
    "### **O(1) - Complejidad Constante** 🚀"
   ]
  },
  {
   "cell_type": "code",
   "execution_count": 7,
   "metadata": {},
   "outputs": [],
   "source": [
    "def acceso_constante(lista):\n",
    "    return lista[0]  # Accede al primer elemento en tiempo constante"
   ]
  },
  {
   "cell_type": "markdown",
   "metadata": {},
   "source": [
    "🔹 **Ejemplo**: Acceder al primer elemento de una lista.\n",
    "\n",
    "---\n",
    "\n",
    "### **O(log n) - Complejidad Logarítmica** 🔍"
   ]
  },
  {
   "cell_type": "code",
   "execution_count": 1,
   "metadata": {},
   "outputs": [],
   "source": [
    "import math\n",
    "\n",
    "def busqueda_binaria(lista, objetivo):\n",
    "    izquierda, derecha = 0, len(lista) - 1\n",
    "    while izquierda <= derecha:\n",
    "        medio = (izquierda + derecha) // 2\n",
    "        if lista[medio] == objetivo:\n",
    "            return medio\n",
    "        elif lista[medio] < objetivo:\n",
    "            izquierda = medio + 1\n",
    "        else:\n",
    "            derecha = medio - 1\n",
    "    return -1  # No encontrado"
   ]
  },
  {
   "cell_type": "markdown",
   "metadata": {},
   "source": [
    "🔹 **Ejemplo**: Búsqueda binaria en una lista ordenada.\n",
    "\n",
    "---\n",
    "\n",
    "### **O(n) - Complejidad Lineal** 📊"
   ]
  },
  {
   "cell_type": "code",
   "execution_count": 2,
   "metadata": {},
   "outputs": [],
   "source": [
    "def suma_lista(lista):\n",
    "    suma = 0\n",
    "    for num in lista:\n",
    "        suma += num  # Se recorre toda la lista\n",
    "    return suma"
   ]
  },
  {
   "cell_type": "markdown",
   "metadata": {},
   "source": [
    "🔹 **Ejemplo**: Sumar todos los elementos de una lista.\n",
    "\n",
    "---\n",
    "\n",
    "### **O(n log n) - Complejidad Lineal-Logarítmica** 🔥"
   ]
  },
  {
   "cell_type": "code",
   "execution_count": 3,
   "metadata": {},
   "outputs": [],
   "source": [
    "def ordenamiento_merge_sort(lista):\n",
    "    if len(lista) <= 1:\n",
    "        return lista\n",
    "    medio = len(lista) // 2\n",
    "    izquierda = ordenamiento_merge_sort(lista[:medio])\n",
    "    derecha = ordenamiento_merge_sort(lista[medio:])\n",
    "    return merge(izquierda, derecha)\n",
    "\n",
    "def merge(izquierda, derecha):\n",
    "    resultado = []\n",
    "    while izquierda and derecha:\n",
    "        if izquierda[0] < derecha[0]:\n",
    "            resultado.append(izquierda.pop(0))\n",
    "        else:\n",
    "            resultado.append(derecha.pop(0))\n",
    "    return resultado + izquierda + derecha"
   ]
  },
  {
   "cell_type": "markdown",
   "metadata": {},
   "source": [
    "🔹 **Ejemplo**: Merge Sort, un algoritmo eficiente de ordenación.\n",
    "\n",
    "---\n",
    "\n",
    "### **O(n²) - Complejidad Cuadrática** ⏳"
   ]
  },
  {
   "cell_type": "code",
   "execution_count": 4,
   "metadata": {},
   "outputs": [],
   "source": [
    "def burbuja(lista):\n",
    "    n = len(lista)\n",
    "    for i in range(n):\n",
    "        for j in range(0, n-i-1):\n",
    "            if lista[j] > lista[j+1]:\n",
    "                lista[j], lista[j+1] = lista[j+1], lista[j]  # Intercambio\n",
    "    return lista"
   ]
  },
  {
   "cell_type": "markdown",
   "metadata": {},
   "source": [
    "🔹 **Ejemplo**: Algoritmo de ordenamiento burbuja.\n",
    "\n",
    "---\n",
    "\n",
    "### **O(2ⁿ) - Complejidad Exponencial** ⚠️"
   ]
  },
  {
   "cell_type": "code",
   "execution_count": 5,
   "metadata": {},
   "outputs": [],
   "source": [
    "def fibonacci(n):\n",
    "    if n <= 1:\n",
    "        return n\n",
    "    return fibonacci(n-1) + fibonacci(n-2)"
   ]
  },
  {
   "cell_type": "markdown",
   "metadata": {},
   "source": [
    "🔹 **Ejemplo**: Cálculo de números de Fibonacci con recursión.\n",
    "\n",
    "---\n",
    "\n",
    "### **O(n!) - Complejidad Factorial** 🚨"
   ]
  },
  {
   "cell_type": "code",
   "execution_count": 6,
   "metadata": {},
   "outputs": [],
   "source": [
    "def permutaciones(lista):\n",
    "    if len(lista) == 0:\n",
    "        return [[]]\n",
    "    resultado = []\n",
    "    for i in range(len(lista)):\n",
    "        resto = lista[:i] + lista[i+1:]\n",
    "        for p in permutaciones(resto):\n",
    "            resultado.append([lista[i]] + p)\n",
    "    return resultado"
   ]
  },
  {
   "cell_type": "markdown",
   "metadata": {},
   "source": [
    "🔹 **Ejemplo**: Generación de todas las permutaciones de una lista.\n",
    "\n",
    "---\n",
    "\n",
    "## 🏁 Conclusión\n",
    "\n",
    "📌 La **complejidad algorítmica** es clave para evaluar la eficiencia de un algoritmo.\n",
    "📌 La **notación Big O** nos permite comparar algoritmos y optimizar código.\n",
    "📌 **Ejemplos prácticos** nos ayudan a identificar la eficiencia de distintas implementaciones.\n",
    "\n",
    "### 🔥 Reflexión final\n",
    "¿Qué tipo de complejidad has enfrentado en tus proyectos? ¿Cómo podrías optimizar tus algoritmos? 🤔💡"
   ]
  }
 ],
 "metadata": {
  "kernelspec": {
   "display_name": "venvc",
   "language": "python",
   "name": "python3"
  },
  "language_info": {
   "codemirror_mode": {
    "name": "ipython",
    "version": 3
   },
   "file_extension": ".py",
   "mimetype": "text/x-python",
   "name": "python",
   "nbconvert_exporter": "python",
   "pygments_lexer": "ipython3",
   "version": "3.12.8"
  }
 },
 "nbformat": 4,
 "nbformat_minor": 2
}
