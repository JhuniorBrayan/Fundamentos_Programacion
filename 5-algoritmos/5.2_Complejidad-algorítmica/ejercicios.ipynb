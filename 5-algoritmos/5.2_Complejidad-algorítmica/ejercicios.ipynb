{
 "cells": [
  {
   "cell_type": "markdown",
   "metadata": {},
   "source": [
    "## **Ejercicios: Algoritmos**\n",
    "\n",
    "## Nivel 1: Introducción a la Complejidad\n",
    "\n",
    "1.  **Búsqueda en un registro (O(n)):**\n",
    "\n",
    "    *   Tienes un registro de clientes con información básica (nombre, ID, etc.).\n",
    "    *   Implementa una función para buscar un cliente por su ID.\n",
    "    *   ¿Cuál es la complejidad temporal de esta búsqueda?\n",
    "\n",
    "\n",
    "\n",
    "\n",
    "\n",
    "\n"
   ]
  },
  {
   "cell_type": "code",
   "execution_count": null,
   "metadata": {
    "vscode": {
     "languageId": "plaintext"
    }
   },
   "outputs": [],
   "source": []
  },
  {
   "cell_type": "markdown",
   "metadata": {},
   "source": [
    "2.  **Cálculo de promedio de notas (O(n)):**\n",
    "\n",
    "    *   Tienes una lista de estudiantes con sus notas en un examen.\n",
    "    *   Implementa una función para calcular el promedio de las notas.\n",
    "    *   ¿Cuál es la complejidad temporal de este cálculo?"
   ]
  },
  {
   "cell_type": "code",
   "execution_count": null,
   "metadata": {
    "vscode": {
     "languageId": "plaintext"
    }
   },
   "outputs": [],
   "source": []
  },
  {
   "cell_type": "markdown",
   "metadata": {},
   "source": [
    "## Nivel 2: Complejidad Logarítmica\n",
    "\n",
    "3.  **Búsqueda en un diccionario (O(1) en promedio):**\n",
    "\n",
    "    *   Tienes un diccionario donde las claves son IDs de productos y los valores son los nombres.\n",
    "    *   Implementa una función para buscar el nombre de un producto por su ID.\n",
    "    *   ¿Cuál es la complejidad temporal de esta búsqueda en promedio? ¿Y en el peor caso?"
   ]
  },
  {
   "cell_type": "code",
   "execution_count": null,
   "metadata": {
    "vscode": {
     "languageId": "plaintext"
    }
   },
   "outputs": [],
   "source": []
  },
  {
   "cell_type": "markdown",
   "metadata": {},
   "source": [
    "4.  **Búsqueda binaria en un catálogo (O(log n)):**\n",
    "\n",
    "    *   Tienes un catálogo de libros ordenado alfabéticamente por título.\n",
    "    *   Implementa una función para buscar un libro por su título utilizando búsqueda binaria.\n",
    "    *   ¿Cuál es la complejidad temporal de esta búsqueda?"
   ]
  },
  {
   "cell_type": "code",
   "execution_count": null,
   "metadata": {
    "vscode": {
     "languageId": "plaintext"
    }
   },
   "outputs": [],
   "source": []
  },
  {
   "cell_type": "markdown",
   "metadata": {},
   "source": [
    "## Nivel 3: Complejidad Cuadrática\n",
    "\n",
    "5.  **Encontrar duplicados en una lista (O(n²)):**\n",
    "\n",
    "    *   Tienes una lista de números enteros.\n",
    "    *   Implementa una función para encontrar todos los números duplicados en la lista.\n",
    "    *   ¿Cuál es la complejidad temporal de esta función?"
   ]
  },
  {
   "cell_type": "code",
   "execution_count": null,
   "metadata": {
    "vscode": {
     "languageId": "plaintext"
    }
   },
   "outputs": [],
   "source": []
  },
  {
   "cell_type": "markdown",
   "metadata": {},
   "source": [
    "6.  **Comparación de todas las combinaciones de productos (O(n²)):**\n",
    "\n",
    "    *   Tienes una lista de productos con sus precios.\n",
    "    *   Implementa una función para calcular la diferencia de precio entre todos los pares posibles de productos.\n",
    "    *   ¿Cuál es la complejidad temporal de esta función?"
   ]
  },
  {
   "cell_type": "code",
   "execution_count": null,
   "metadata": {
    "vscode": {
     "languageId": "plaintext"
    }
   },
   "outputs": [],
   "source": []
  },
  {
   "cell_type": "markdown",
   "metadata": {},
   "source": [
    "## Nivel 4: Complejidad Lineal-Logarítmica\n",
    "\n",
    "7.  **Ordenamiento de una lista de tareas (O(n log n)):**\n",
    "\n",
    "    *   Tienes una lista de tareas con sus fechas de vencimiento.\n",
    "    *   Implementa una función para ordenar la lista de tareas por fecha de vencimiento utilizando un algoritmo eficiente (por ejemplo, merge sort).\n",
    "    *   ¿Cuál es la complejidad temporal de este ordenamiento?"
   ]
  },
  {
   "cell_type": "code",
   "execution_count": null,
   "metadata": {
    "vscode": {
     "languageId": "plaintext"
    }
   },
   "outputs": [],
   "source": []
  },
  {
   "cell_type": "markdown",
   "metadata": {},
   "source": [
    "8.  **Búsqueda de palabras clave en un texto (O(n log n)):**\n",
    "\n",
    "    *   Tienes un texto largo y una lista de palabras clave.\n",
    "    *   Implementa una función para encontrar todas las ocurrencias de las palabras clave en el texto.\n",
    "    *   ¿Cuál es la complejidad temporal de esta búsqueda?"
   ]
  },
  {
   "cell_type": "code",
   "execution_count": null,
   "metadata": {
    "vscode": {
     "languageId": "plaintext"
    }
   },
   "outputs": [],
   "source": []
  },
  {
   "cell_type": "markdown",
   "metadata": {},
   "source": [
    "## Nivel 5: Optimización y Análisis\n",
    "\n",
    "9.  **Optimización de búsqueda de duplicados (O(n)):**\n",
    "\n",
    "    *   Revisa la función del ejercicio 5 para encontrar duplicados en una lista.\n",
    "    *   ¿Puedes optimizarla para que tenga una complejidad temporal lineal (O(n))?"
   ]
  },
  {
   "cell_type": "code",
   "execution_count": null,
   "metadata": {
    "vscode": {
     "languageId": "plaintext"
    }
   },
   "outputs": [],
   "source": []
  },
  {
   "cell_type": "markdown",
   "metadata": {},
   "source": [
    "10. **Análisis de complejidad de un algoritmo de recomendación:**\n",
    "\n",
    "    *   Tienes un sistema de recomendación de películas que utiliza un algoritmo complejo para sugerir películas a los usuarios.\n",
    "    *   Analiza el algoritmo e identifica la complejidad temporal de las principales operaciones.\n",
    "    *   ¿Cómo podrías optimizar el algoritmo para mejorar su rendimiento?"
   ]
  },
  {
   "cell_type": "code",
   "execution_count": null,
   "metadata": {
    "vscode": {
     "languageId": "plaintext"
    }
   },
   "outputs": [],
   "source": []
  },
  {
   "cell_type": "markdown",
   "metadata": {},
   "source": [
    "## ¡No te rindas!\n",
    "\n",
    "Recuerda que la clave para dominar la complejidad algorítmica está en la práctica constante. Intenta resolver los ejercicios por tu cuenta y, si te encuentras con alguna dificultad, no dudes en consultar la documentación de Python o buscar ejemplos en línea. ¡Mucho éxito en tu aprendizaje!"
   ]
  }
 ],
 "metadata": {
  "language_info": {
   "name": "python"
  }
 },
 "nbformat": 4,
 "nbformat_minor": 2
}
