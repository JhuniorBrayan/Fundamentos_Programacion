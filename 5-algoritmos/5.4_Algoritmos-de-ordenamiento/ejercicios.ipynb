{
 "cells": [
  {
   "cell_type": "markdown",
   "metadata": {},
   "source": [
    "## **Ejercicios Prácticos de Algoritmos de Ordenamiento**\n",
    "\n",
    "### 1.  **Ordenar una lista de estudiantes por su calificación:**\n",
    "        \n",
    "* Crea una lista de diccionarios, donde cada diccionario representa a un estudiante con su nombre y calificación.\n",
    "* Utiliza un algoritmo de ordenamiento para ordenar la lista en función de las calificaciones de los estudiantes.\n",
    "* Esto es útil para generar un ranking de estudiantes.\n"
   ]
  },
  {
   "cell_type": "code",
   "execution_count": null,
   "metadata": {
    "vscode": {
     "languageId": "plaintext"
    }
   },
   "outputs": [],
   "source": []
  },
  {
   "cell_type": "markdown",
   "metadata": {},
   "source": [
    "### 2.  **Ordenar un registro de transacciones financieras por fecha:**\n",
    "* Crea una lista de diccionarios, donde cada diccionario representa una transacción con su fecha y monto.\n",
    "* Implementa un algoritmo de ordenamiento para ordenar las transacciones por fecha, de la más antigua a la más reciente.\n",
    "* Este caso es muy útil para generar informes financieros."
   ]
  },
  {
   "cell_type": "code",
   "execution_count": null,
   "metadata": {
    "vscode": {
     "languageId": "plaintext"
    }
   },
   "outputs": [],
   "source": []
  },
  {
   "cell_type": "markdown",
   "metadata": {},
   "source": [
    "### 3.  **Ordenar una lista de palabras alfabéticamente:**\n",
    "* Crea una lista de cadenas de texto (palabras).\n",
    "* Aplica un algoritmo de ordenamiento para ordenar las palabras alfabéticamente.\n",
    "* Esto es util para generar indices alfabéticos."
   ]
  },
  {
   "cell_type": "code",
   "execution_count": null,
   "metadata": {
    "vscode": {
     "languageId": "plaintext"
    }
   },
   "outputs": [],
   "source": []
  },
  {
   "cell_type": "markdown",
   "metadata": {},
   "source": [
    "### 4.  **Ordenar un registro de productos por precio:**\n",
    "\n",
    "* Crea una lista de diccionarios, donde cada diccionario representa un producto con su nombre y precio.\n",
    "* Utiliza un algoritmo de ordenamiento para ordenar los productos por precio, de menor a mayor.\n",
    "* Esto es muy útil en tiendas online.\n"
   ]
  },
  {
   "cell_type": "code",
   "execution_count": null,
   "metadata": {
    "vscode": {
     "languageId": "plaintext"
    }
   },
   "outputs": [],
   "source": []
  },
  {
   "cell_type": "markdown",
   "metadata": {},
   "source": [
    "### 5.  **Ordenar una lista de números de teléfono por código de área:**\n",
    "* Crea una lista de cadenas de texto, donde cada cadena representa un número de teléfono.\n",
    "* Extrae el código de area de cada número.\n",
    "* Utiliza un algoritmo de ordenamiento para ordenar los números de teléfono por código de área.\n",
    "* Esto es útil para generar listados telefónicos por región."
   ]
  },
  {
   "cell_type": "code",
   "execution_count": null,
   "metadata": {
    "vscode": {
     "languageId": "plaintext"
    }
   },
   "outputs": [],
   "source": []
  },
  {
   "cell_type": "markdown",
   "metadata": {},
   "source": [
    "### 6.  **Ordenar una lista de archivos por tamaño:**\n",
    "* Utiliza la biblioteca `os` de Python para obtener una lista de archivos en un directorio.\n",
    "* Obtén el tamaño de cada archivo.\n",
    "* Aplica un algoritmo de ordenamiento para ordenar los archivos por tamaño, de menor a mayor.\n",
    "* Esto es util para optimizar el espacio en disco."
   ]
  },
  {
   "cell_type": "code",
   "execution_count": null,
   "metadata": {
    "vscode": {
     "languageId": "plaintext"
    }
   },
   "outputs": [],
   "source": []
  },
  {
   "cell_type": "markdown",
   "metadata": {},
   "source": [
    "### 7.  **Ordenar una lista de resultados de búsqueda por relevancia:**\n",
    "* Crea una lista de diccionarios, donde cada diccionario representa un resultado de búsqueda con su título y puntuación de relevancia.\n",
    "* Implementa un algoritmo de ordenamiento para ordenar los resultados por puntuación de relevancia, de mayor a menor.\n",
    "* Esto es la base de los motores de búsqueda."
   ]
  },
  {
   "cell_type": "code",
   "execution_count": null,
   "metadata": {
    "vscode": {
     "languageId": "plaintext"
    }
   },
   "outputs": [],
   "source": []
  },
  {
   "cell_type": "markdown",
   "metadata": {},
   "source": [
    "### 8.  **Ordenar una lista de coordenadas geográficas por latitud:**\n",
    "* Crea una lista de tuplas, donde cada tupla representa una coordenada geográfica (latitud, longitud).\n",
    "* Utiliza un algoritmo de ordenamiento para ordenar las coordenadas por latitud.\n",
    "* Esto es muy útil en aplicaciones de mapas."
   ]
  },
  {
   "cell_type": "code",
   "execution_count": null,
   "metadata": {
    "vscode": {
     "languageId": "plaintext"
    }
   },
   "outputs": [],
   "source": []
  },
  {
   "cell_type": "markdown",
   "metadata": {},
   "source": [
    "### 9.  **Ordenar un registro de empleados por antigüedad:**\n",
    "* Crea una lista de diccionarios, donde cada diccionario representa un empleado con su nombre y fecha de contratación.\n",
    "* Implementa un algoritmo de ordenamiento para ordenar los empleados por antigüedad, de los más antiguos a los más recientes.\n",
    "* Esto es util para gestionar recursos humanos."
   ]
  },
  {
   "cell_type": "code",
   "execution_count": null,
   "metadata": {
    "vscode": {
     "languageId": "plaintext"
    }
   },
   "outputs": [],
   "source": []
  },
  {
   "cell_type": "markdown",
   "metadata": {},
   "source": [
    "### 10. **Ordenar una lista de canciones por duración:**\n",
    "* Crea una lista de diccionarios, donde cada diccionario representa una canción con su titulo y duración.\n",
    "* Implementa un algoritmo para ordenar las canciones por duración.\n",
    "* Esto es útil en aplicaciones de música."
   ]
  },
  {
   "cell_type": "code",
   "execution_count": null,
   "metadata": {
    "vscode": {
     "languageId": "plaintext"
    }
   },
   "outputs": [],
   "source": []
  }
 ],
 "metadata": {
  "language_info": {
   "name": "python"
  }
 },
 "nbformat": 4,
 "nbformat_minor": 2
}
