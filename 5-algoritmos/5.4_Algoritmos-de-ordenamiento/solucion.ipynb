{
 "cells": [
  {
   "cell_type": "markdown",
   "metadata": {},
   "source": [
    "## **Ejercicios Prácticos de Algoritmos de Ordenamiento**\n",
    "\n",
    "### 1.  **Ordenar una lista de estudiantes por su calificación:**\n",
    "        \n",
    "* Crea una lista de diccionarios, donde cada diccionario representa a un estudiante con su nombre y calificación.\n",
    "* Utiliza un algoritmo de ordenamiento para ordenar la lista en función de las calificaciones de los estudiantes.\n",
    "* Esto es útil para generar un ranking de estudiantes.\n"
   ]
  },
  {
   "cell_type": "code",
   "execution_count": null,
   "metadata": {},
   "outputs": [],
   "source": [
    "estudiantes = [\n",
    "    {\"nombre\": \"Ana\", \"calificación\": 90},\n",
    "    {\"nombre\": \"Luis\", \"calificación\": 85},\n",
    "    {\"nombre\": \"María\", \"calificación\": 95},\n",
    "    {\"nombre\": \"Pedro\", \"calificación\": 78},\n",
    "    {\"nombre\": \"Sofía\", \"calificación\": 92}\n",
    "]\n",
    "\n",
    "def ordenar_por_calificacion(lista):\n",
    "    n = len(lista)\n",
    "    for i in range(n):\n",
    "        for j in range(0, n-i-1):\n",
    "            if lista[j][\"calificación\"] > lista[j+1][\"calificación\"]:\n",
    "                lista[j], lista[j+1] = lista[j+1], lista[j]\n",
    "    return lista\n",
    "\n",
    "estudiantes_ordenados = ordenar_por_calificacion(estudiantes)\n",
    "print(estudiantes_ordenados)"
   ]
  },
  {
   "cell_type": "markdown",
   "metadata": {},
   "source": [
    "### 2.  **Ordenar un registro de transacciones financieras por fecha:**\n",
    "* Crea una lista de diccionarios, donde cada diccionario representa una transacción con su fecha y monto.\n",
    "* Implementa un algoritmo de ordenamiento para ordenar las transacciones por fecha, de la más antigua a la más reciente.\n",
    "* Este caso es muy útil para generar informes financieros."
   ]
  },
  {
   "cell_type": "code",
   "execution_count": null,
   "metadata": {},
   "outputs": [],
   "source": [
    "estudiantes = [\n",
    "    {\"nombre\": \"Ana\", \"calificación\": 90},\n",
    "    {\"nombre\": \"Luis\", \"calificación\": 85},\n",
    "    {\"nombre\": \"María\", \"calificación\": 95},\n",
    "    {\"nombre\": \"Pedro\", \"calificación\": 78},\n",
    "    {\"nombre\": \"Sofía\", \"calificación\": 92}\n",
    "]\n",
    "\n",
    "def ordenar_por_calificacion(lista):\n",
    "    n = len(lista)\n",
    "    for i in range(n):\n",
    "        for j in range(0, n-i-1):\n",
    "            if lista[j][\"calificación\"] > lista[j+1][\"calificación\"]:\n",
    "                lista[j], lista[j+1] = lista[j+1], lista[j]\n",
    "    return lista\n",
    "\n",
    "estudiantes_ordenados = ordenar_por_calificacion(estudiantes)\n",
    "print(estudiantes_ordenados)"
   ]
  },
  {
   "cell_type": "markdown",
   "metadata": {},
   "source": [
    "### 3.  **Ordenar una lista de palabras alfabéticamente:**\n",
    "* Crea una lista de cadenas de texto (palabras).\n",
    "* Aplica un algoritmo de ordenamiento para ordenar las palabras alfabéticamente.\n",
    "* Esto es util para generar indices alfabéticos."
   ]
  },
  {
   "cell_type": "code",
   "execution_count": null,
   "metadata": {},
   "outputs": [],
   "source": [
    "palabras = [\"manzana\", \"banana\", \"cereza\", \"dátil\"]\n",
    "\n",
    "def ordenar_palabras(lista):\n",
    "    n = len(lista)\n",
    "    for i in range(n):\n",
    "        for j in range(0, n-i-1):\n",
    "            if lista[j] > lista[j+1]:\n",
    "                lista[j], lista[j+1] = lista[j+1], lista[j]\n",
    "    return lista\n",
    "\n",
    "palabras_ordenadas = ordenar_palabras(palabras)\n",
    "print(palabras_ordenadas)"
   ]
  },
  {
   "cell_type": "markdown",
   "metadata": {},
   "source": [
    "### 4.  **Ordenar un registro de productos por precio:**\n",
    "\n",
    "* Crea una lista de diccionarios, donde cada diccionario representa un producto con su nombre y precio.\n",
    "* Utiliza un algoritmo de ordenamiento para ordenar los productos por precio, de menor a mayor.\n",
    "* Esto es muy útil en tiendas online.\n"
   ]
  },
  {
   "cell_type": "code",
   "execution_count": null,
   "metadata": {},
   "outputs": [],
   "source": [
    "productos = [\n",
    "    {\"nombre\": \"Laptop\", \"precio\": 1200},\n",
    "    {\"nombre\": \"Teléfono\", \"precio\": 800},\n",
    "    {\"nombre\": \"Tablet\", \"precio\": 500}\n",
    "]\n",
    "\n",
    "def ordenar_por_precio(lista):\n",
    "    n = len(lista)\n",
    "    for i in range(n):\n",
    "        for j in range(0, n-i-1):\n",
    "            if lista[j][\"precio\"] > lista[j+1][\"precio\"]:\n",
    "                lista[j], lista[j+1] = lista[j+1], lista[j]\n",
    "    return lista\n",
    "\n",
    "productos_ordenados = ordenar_por_precio(productos)\n",
    "print(productos_ordenados)"
   ]
  },
  {
   "cell_type": "markdown",
   "metadata": {},
   "source": [
    "### 5.  **Ordenar una lista de números de teléfono por código de área:**\n",
    "* Crea una lista de cadenas de texto, donde cada cadena representa un número de teléfono.\n",
    "* Extrae el código de area de cada número.\n",
    "* Utiliza un algoritmo de ordenamiento para ordenar los números de teléfono por código de área.\n",
    "* Esto es útil para generar listados telefónicos por región."
   ]
  },
  {
   "cell_type": "code",
   "execution_count": null,
   "metadata": {},
   "outputs": [],
   "source": [
    "telefonos = [\"+1-212-555-1212\", \"+1-650-555-1212\", \"+1-415-555-1212\"]\n",
    "\n",
    "def ordenar_telefonos_por_codigo_area(lista):\n",
    "    n = len(lista)\n",
    "    for i in range(n):\n",
    "        for j in range(0, n-i-1):\n",
    "            if lista[j][3:6] > lista[j+1][3:6]:\n",
    "                lista[j], lista[j+1] = lista[j+1], lista[j]\n",
    "    return lista\n",
    "\n",
    "telefonos_ordenados = ordenar_telefonos_por_codigo_area(telefonos)\n",
    "print(telefonos_ordenados)"
   ]
  },
  {
   "cell_type": "markdown",
   "metadata": {},
   "source": [
    "### 6.  **Ordenar una lista de archivos por tamaño:**\n",
    "* Utiliza la biblioteca `os` de Python para obtener una lista de archivos en un directorio.\n",
    "* Obtén el tamaño de cada archivo.\n",
    "* Aplica un algoritmo de ordenamiento para ordenar los archivos por tamaño, de menor a mayor.\n",
    "* Esto es util para optimizar el espacio en disco."
   ]
  },
  {
   "cell_type": "code",
   "execution_count": null,
   "metadata": {},
   "outputs": [],
   "source": [
    "import os\n",
    "\n",
    "archivos = os.listdir(\".\")  # Obtiene la lista de archivos en el directorio actual\n",
    "\n",
    "def ordenar_archivos_por_tamano(lista):\n",
    "    return sorted(lista, key=lambda archivo: os.path.getsize(archivo))\n",
    "\n",
    "archivos_ordenados = ordenar_archivos_por_tamano(archivos)\n",
    "print(archivos_ordenados)"
   ]
  },
  {
   "cell_type": "markdown",
   "metadata": {},
   "source": [
    "### 7.  **Ordenar una lista de resultados de búsqueda por relevancia:**\n",
    "* Crea una lista de diccionarios, donde cada diccionario representa un resultado de búsqueda con su título y puntuación de relevancia.\n",
    "* Implementa un algoritmo de ordenamiento para ordenar los resultados por puntuación de relevancia, de mayor a menor.\n",
    "* Esto es la base de los motores de búsqueda."
   ]
  },
  {
   "cell_type": "code",
   "execution_count": null,
   "metadata": {},
   "outputs": [],
   "source": [
    "resultados = [\n",
    "    {\"titulo\": \"Python para principiantes\", \"relevancia\": 0.9},\n",
    "    {\"titulo\": \"Aprende algoritmos de ordenamiento\", \"relevancia\": 0.8},\n",
    "    {\"titulo\": \"Desarrollo web con Django\", \"relevancia\": 0.7}\n",
    "]\n",
    "\n",
    "def ordenar_resultados_por_relevancia(lista):\n",
    "    return sorted(lista, key=lambda resultado: resultado[\"relevancia\"], reverse=True)\n",
    "\n",
    "resultados_ordenados = ordenar_resultados_por_relevancia(resultados)\n",
    "print(resultados_ordenados)"
   ]
  },
  {
   "cell_type": "markdown",
   "metadata": {},
   "source": [
    "### 8.  **Ordenar una lista de coordenadas geográficas por latitud:**\n",
    "* Crea una lista de tuplas, donde cada tupla representa una coordenada geográfica (latitud, longitud).\n",
    "* Utiliza un algoritmo de ordenamiento para ordenar las coordenadas por latitud.\n",
    "* Esto es muy útil en aplicaciones de mapas."
   ]
  },
  {
   "cell_type": "code",
   "execution_count": null,
   "metadata": {},
   "outputs": [],
   "source": [
    "coordenadas = [(40.7128, -74.0060), (34.0522, -118.2437), (35.6895, 139.6917)]\n",
    "\n",
    "def ordenar_coordenadas_por_latitud(lista):\n",
    "    return sorted(lista, key=lambda coordenada: coordenada[0])\n",
    "\n",
    "coordenadas_ordenadas = ordenar_coordenadas_por_latitud(coordenadas)\n",
    "print(coordenadas_ordenadas)"
   ]
  },
  {
   "cell_type": "markdown",
   "metadata": {},
   "source": [
    "### 9.  **Ordenar un registro de empleados por antigüedad:**\n",
    "* Crea una lista de diccionarios, donde cada diccionario representa un empleado con su nombre y fecha de contratación.\n",
    "* Implementa un algoritmo de ordenamiento para ordenar los empleados por antigüedad, de los más antiguos a los más recientes.\n",
    "* Esto es util para gestionar recursos humanos."
   ]
  },
  {
   "cell_type": "code",
   "execution_count": null,
   "metadata": {},
   "outputs": [],
   "source": [
    "from datetime import date\n",
    "\n",
    "empleados = [\n",
    "    {\"nombre\": \"Ana\", \"fecha_contratacion\": date(2020, 1, 15)},\n",
    "    {\"nombre\": \"Luis\", \"fecha_contratacion\": date(2018, 5, 10)},\n",
    "    {\"nombre\": \"María\", \"fecha_contratacion\": date(2022, 3, 1)}\n",
    "]\n",
    "\n",
    "def ordenar_empleados_por_antiguedad(lista):\n",
    "    return sorted(lista, key=lambda empleado: empleado[\"fecha_contratacion\"])\n",
    "\n",
    "empleados_ordenados = ordenar_empleados_por_antiguedad(empleados)\n",
    "print(empleados_ordenados)"
   ]
  },
  {
   "cell_type": "markdown",
   "metadata": {},
   "source": [
    "### 10. **Ordenar una lista de canciones por duración:**\n",
    "* Crea una lista de diccionarios, donde cada diccionario representa una canción con su titulo y duración.\n",
    "* Implementa un algoritmo para ordenar las canciones por duración.\n",
    "* Esto es útil en aplicaciones de música."
   ]
  },
  {
   "cell_type": "code",
   "execution_count": null,
   "metadata": {},
   "outputs": [],
   "source": [
    "canciones = [\n",
    "    {\"titulo\": \"Bohemian Rhapsody\", \"duracion\": 355},\n",
    "    {\"titulo\": \"Stairway to Heaven\", \"duracion\": 482},\n",
    "    {\"titulo\": \"Hotel California\", \"duracion\": 391}\n",
    "]\n",
    "\n",
    "def ordenar_canciones_por_duracion(lista):\n",
    "    return sorted(lista, key=lambda cancion: cancion[\"duracion\"])\n",
    "\n",
    "canciones_ordenadas = ordenar_canciones_por_duracion(canciones)\n",
    "print(canciones_ordenadas)"
   ]
  }
 ],
 "metadata": {
  "kernelspec": {
   "display_name": "venvc",
   "language": "python",
   "name": "python3"
  },
  "language_info": {
   "codemirror_mode": {
    "name": "ipython",
    "version": 3
   },
   "file_extension": ".py",
   "mimetype": "text/x-python",
   "name": "python",
   "nbconvert_exporter": "python",
   "pygments_lexer": "ipython3",
   "version": "3.12.8"
  }
 },
 "nbformat": 4,
 "nbformat_minor": 2
}
