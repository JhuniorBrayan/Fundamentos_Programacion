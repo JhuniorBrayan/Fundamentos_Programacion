{
 "cells": [
  {
   "cell_type": "markdown",
   "metadata": {},
   "source": [
    "# Algoritmos de Ordenamiento 🔢\n",
    "\n",
    "## Introducción 📌\n",
    "\n",
    "Los **algoritmos de ordenamiento** son fundamentales en la informática, ya que permiten organizar datos de manera eficiente para facilitar su búsqueda, análisis o visualización. Son utilizados en una amplia variedad de aplicaciones, desde bases de datos hasta inteligencia artificial.\n",
    "\n",
    "### Objetivo 🎯\n",
    "\n",
    "Comprender los distintos tipos de algoritmos de ordenamiento, cómo funcionan, sus ventajas, desventajas y cómo implementarlos con **Python**. Aunque los ejemplos se desarrollan en Python, estos conceptos pueden aplicarse a otros lenguajes con solo cambiar la sintaxis.\n",
    "\n",
    "---\n",
    "\n",
    "## 🔑 Algoritmos de Ordenamiento\n",
    "\n",
    "### 1. Bubble Sort (Ordenamiento Burbuja) 💧\n",
    "\n",
    "Este algoritmo compara elementos adyacentes y los intercambia si están en el orden incorrecto.\n",
    "\n",
    "#### Código en Python\n",
    "\n"
   ]
  },
  {
   "cell_type": "code",
   "execution_count": null,
   "metadata": {
    "vscode": {
     "languageId": "plaintext"
    }
   },
   "outputs": [],
   "source": [
    "def bubble_sort(lista):\n",
    "    n = len(lista)\n",
    "    for i in range(n):\n",
    "        for j in range(0, n-i-1):\n",
    "            if lista[j] > lista[j+1]:\n",
    "                lista[j], lista[j+1] = lista[j+1], lista[j]\n",
    "    return lista"
   ]
  },
  {
   "cell_type": "markdown",
   "metadata": {},
   "source": [
    "#### Ventajas:\n",
    "- Fácil de implementar.\n",
    "- Adecuado para listas pequeñas.\n",
    "\n",
    "#### Desventajas:\n",
    "- Ineficiente para listas grandes (O(n²)).\n",
    "\n",
    "---\n",
    "\n",
    "### 2. Selection Sort (Ordenamiento por Selección) ✅\n",
    "\n",
    "Selecciona el elemento más pequeño y lo coloca en la posición correcta.\n",
    "\n",
    "#### Código en Python"
   ]
  },
  {
   "cell_type": "code",
   "execution_count": null,
   "metadata": {
    "vscode": {
     "languageId": "plaintext"
    }
   },
   "outputs": [],
   "source": [
    "def selection_sort(lista):\n",
    "    n = len(lista)\n",
    "    for i in range(n):\n",
    "        minimo = i\n",
    "        for j in range(i+1, n):\n",
    "            if lista[j] < lista[minimo]:\n",
    "                minimo = j\n",
    "        lista[i], lista[minimo] = lista[minimo], lista[i]\n",
    "    return lista"
   ]
  },
  {
   "cell_type": "markdown",
   "metadata": {},
   "source": [
    "#### Ventajas:\n",
    "- Fácil de entender.\n",
    "- No requiere memoria adicional.\n",
    "\n",
    "#### Desventajas:\n",
    "- Ineficiente para listas grandes (O(n²)).\n",
    "\n",
    "---\n",
    "\n",
    "### 3. Insertion Sort (Ordenamiento por Inserción) ✏️\n",
    "\n",
    "Construye la lista ordenada uno por uno insertando cada elemento en su lugar correcto.\n",
    "\n",
    "#### Código en Python"
   ]
  },
  {
   "cell_type": "code",
   "execution_count": null,
   "metadata": {
    "vscode": {
     "languageId": "plaintext"
    }
   },
   "outputs": [],
   "source": [
    "def insertion_sort(lista):\n",
    "    for i in range(1, len(lista)):\n",
    "        clave = lista[i]\n",
    "        j = i - 1\n",
    "        while j >= 0 and clave < lista[j]:\n",
    "            lista[j + 1] = lista[j]\n",
    "            j -= 1\n",
    "        lista[j + 1] = clave\n",
    "    return lista"
   ]
  },
  {
   "cell_type": "markdown",
   "metadata": {},
   "source": [
    "#### Ventajas:\n",
    "- Eficiente para listas pequeñas.\n",
    "- Fácil de implementar.\n",
    "\n",
    "#### Desventajas:\n",
    "- Ineficiente para listas grandes (O(n²)).\n",
    "\n",
    "---\n",
    "\n",
    "### 4. Merge Sort (Ordenamiento por Mezcla) 🔥\n",
    "\n",
    "Divide la lista en mitades, las ordena por separado y luego las combina.\n",
    "\n",
    "#### Código en Python"
   ]
  },
  {
   "cell_type": "code",
   "execution_count": null,
   "metadata": {
    "vscode": {
     "languageId": "plaintext"
    }
   },
   "outputs": [],
   "source": [
    "def merge_sort(lista):\n",
    "    if len(lista) > 1:\n",
    "        medio = len(lista) // 2\n",
    "        izquierda = lista[:medio]\n",
    "        derecha = lista[medio:]\n",
    "        merge_sort(izquierda)\n",
    "        merge_sort(derecha)\n",
    "        i = j = k = 0\n",
    "        while i < len(izquierda) and j < len(derecha):\n",
    "            if izquierda[i] < derecha[j]:\n",
    "                lista[k] = izquierda[i]\n",
    "                i += 1\n",
    "            else:\n",
    "                lista[k] = derecha[j]\n",
    "                j += 1\n",
    "            k += 1\n",
    "        while i < len(izquierda):\n",
    "            lista[k] = izquierda[i]\n",
    "            i += 1\n",
    "            k += 1\n",
    "        while j < len(derecha):\n",
    "            lista[k] = derecha[j]\n",
    "            j += 1\n",
    "            k += 1\n",
    "    return lista"
   ]
  },
  {
   "cell_type": "markdown",
   "metadata": {},
   "source": [
    "#### Ventajas:\n",
    "- Eficiente para listas grandes (O(n log n)).\n",
    "- Estable (mantiene el orden relativo de los elementos iguales).\n",
    "\n",
    "#### Desventajas:\n",
    "- Requiere memoria adicional.\n",
    "\n",
    "---\n",
    "\n",
    "### 5. Quick Sort (Ordenamiento Rápido) ⚡\n",
    "\n",
    "Selecciona un elemento como pivote y reorganiza la lista para colocar los elementos menores a la izquierda y los mayores a la derecha.\n",
    "\n",
    "#### Código en Python"
   ]
  },
  {
   "cell_type": "code",
   "execution_count": null,
   "metadata": {
    "vscode": {
     "languageId": "plaintext"
    }
   },
   "outputs": [],
   "source": [
    "def quick_sort(lista):\n",
    "    if len(lista) <= 1:\n",
    "        return lista\n",
    "    pivote = lista[len(lista) // 2]\n",
    "    izquierda = [x for x in lista if x < pivote]\n",
    "    centro = [x for x in lista if x == pivote]\n",
    "    derecha = [x for x in lista if x > pivote]\n",
    "    return quick_sort(izquierda) + centro + quick_sort(derecha)"
   ]
  },
  {
   "cell_type": "markdown",
   "metadata": {},
   "source": [
    "#### Ventajas:\n",
    "- Muy eficiente para listas grandes (O(n log n)).\n",
    "- No requiere memoria adicional.\n",
    "\n",
    "#### Desventajas:\n",
    "- En el peor caso, puede tener una complejidad O(n²).\n",
    "\n",
    "---\n",
    "\n",
    "## Conclusión 🏁\n",
    "\n",
    "Los algoritmos de ordenamiento son herramientas esenciales para organizar datos de manera eficiente. Cada algoritmo tiene sus propias ventajas y desventajas, por lo que elegir el más adecuado depende del tamaño de la lista, la eficiencia deseada y las restricciones de memoria.\n",
    "\n",
    "### Reflexión Final 🔥\n",
    "\n",
    "¿Qué algoritmo de ordenamiento crees que se adapta mejor a tu proyecto? 🤔"
   ]
  }
 ],
 "metadata": {
  "language_info": {
   "name": "python"
  }
 },
 "nbformat": 4,
 "nbformat_minor": 2
}
