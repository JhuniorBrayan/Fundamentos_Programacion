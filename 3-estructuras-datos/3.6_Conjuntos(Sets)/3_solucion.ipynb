{
 "cells": [
  {
   "cell_type": "markdown",
   "metadata": {},
   "source": [
    "## Ejercicios: Estructura de Datos - Conjuntos \n",
    "\n",
    "### Nivel 1: Introducción a Conjuntos\n",
    "1. Creación y elementos:\n",
    "\n",
    "    - Crea un conjunto llamado frutas con las siguientes frutas: \"manzana\", \"banana\", \"naranja\".\n",
    "    - Imprime el conjunto frutas.\n",
    "    - Intenta agregar la fruta \"manzana\" de nuevo. ¿Qué pasa? Imprime el conjunto actualizado."
   ]
  },
  {
   "cell_type": "code",
   "execution_count": null,
   "metadata": {
    "vscode": {
     "languageId": "plaintext"
    }
   },
   "outputs": [],
   "source": [
    "frutas = {\"manzana\", \"banana\", \"naranja\"}\n",
    "print(frutas)  # Salida: {'manzana', 'banana', 'naranja'} (el orden puede variar)\n",
    "\n",
    "frutas.add(\"manzana\")  # No se añade porque ya existe\n",
    "print(frutas)  # Salida: {'manzana', 'banana', 'naranja'} (no cambia)"
   ]
  },
  {
   "cell_type": "markdown",
   "metadata": {},
   "source": [
    "2. Operaciones básicas:\n",
    "\n",
    "    - Crea dos conjuntos: conjunto1 con los números 1, 2, 3 y conjunto2 con los números 3, 4, 5.\n",
    "    - Imprime la unión, intersección y diferencia de estos conjuntos."
   ]
  },
  {
   "cell_type": "code",
   "execution_count": null,
   "metadata": {
    "vscode": {
     "languageId": "plaintext"
    }
   },
   "outputs": [],
   "source": [
    "conjunto1 = {1, 2, 3}\n",
    "conjunto2 = {3, 4, 5}\n",
    "\n",
    "union = conjunto1 | conjunto2  # o conjunto1.union(conjunto2)\n",
    "interseccion = conjunto1 & conjunto2  # o conjunto1.intersection(conjunto2)\n",
    "diferencia = conjunto1 - conjunto2  # o conjunto1.difference(conjunto2)\n",
    "\n",
    "print(f\"Unión: {union}\")  # Salida: Unión: {1, 2, 3, 4, 5}\n",
    "print(f\"Intersección: {interseccion}\")  # Salida: Intersección: {3}\n",
    "print(f\"Diferencia: {diferencia}\")  # Salida: Diferencia: {1, 2}"
   ]
  },
  {
   "cell_type": "markdown",
   "metadata": {},
   "source": [
    "### Nivel 2: Modificación de Conjuntos\n",
    "3. Agregar y eliminar:\n",
    "\n",
    "    - Crea un conjunto llamado numeros con los números del 1 al 5.\n",
    "    - Agrega el número 6 al conjunto.\n",
    "    - Elimina el número 3 del conjunto.\n",
    "    - Imprime el conjunto actualizado."
   ]
  },
  {
   "cell_type": "code",
   "execution_count": null,
   "metadata": {
    "vscode": {
     "languageId": "plaintext"
    }
   },
   "outputs": [],
   "source": [
    "numeros = {1, 2, 3, 4, 5}\n",
    "\n",
    "numeros.add(6)\n",
    "numeros.remove(3)\n",
    "\n",
    "print(numeros)  # Salida: {1, 2, 4, 5, 6}"
   ]
  },
  {
   "cell_type": "markdown",
   "metadata": {},
   "source": [
    "4. Métodos discard y pop:\n",
    "\n",
    "    - Utiliza el conjunto numeros del ejercicio anterior.\n",
    "    - Intenta eliminar el número 7 (que no existe) usando discard. ¿Ocurre un error?\n",
    "    - Intenta eliminar un elemento usando pop. ¿Qué elemento se elimina?\n",
    "    - Imprime el conjunto después de estas operaciones."
   ]
  },
  {
   "cell_type": "code",
   "execution_count": null,
   "metadata": {
    "vscode": {
     "languageId": "plaintext"
    }
   },
   "outputs": [],
   "source": [
    "numeros = {1, 2, 4, 5, 6}  # Usamos el conjunto del ejercicio anterior\n",
    "\n",
    "numeros.discard(7)  # No hace nada porque 7 no existe (no hay error)\n",
    "print(numeros)  # Salida: {1, 2, 4, 5, 6}\n",
    "\n",
    "elemento_eliminado = numeros.pop()  # Elimina un elemento arbitrario (el primero en algunas versiones de Python)\n",
    "print(f\"Elemento eliminado: {elemento_eliminado}\")  # Salida: (un número del conjunto)\n",
    "print(numeros)  # Salida: (el conjunto sin el elemento eliminado)"
   ]
  },
  {
   "cell_type": "markdown",
   "metadata": {},
   "source": [
    "### Nivel 3: Aplicaciones Básicas\n",
    "5. Eliminar duplicados de una lista:\n",
    "\n",
    "    - Crea una lista con elementos repetidos (por ejemplo, [1, 2, 2, 3, 4, 4, 5]).\n",
    "    - Utiliza un conjunto para eliminar los duplicados de la lista.\n",
    "    - Imprime la lista sin duplicados."
   ]
  },
  {
   "cell_type": "code",
   "execution_count": null,
   "metadata": {
    "vscode": {
     "languageId": "plaintext"
    }
   },
   "outputs": [],
   "source": [
    "lista_con_duplicados = [1, 2, 2, 3, 4, 4, 5]\n",
    "\n",
    "lista_sin_duplicados = list(set(lista_con_duplicados))  # Convertir a conjunto y luego a lista\n",
    "\n",
    "print(lista_sin_duplicados)  # Salida: [1, 2, 3, 4, 5]"
   ]
  },
  {
   "cell_type": "markdown",
   "metadata": {},
   "source": [
    "6. Verificar si dos conjuntos son iguales:\n",
    "\n",
    "    - Crea dos conjuntos con los mismos elementos pero en diferente orden.\n",
    "    - Compara si los dos conjuntos son iguales. ¿El orden importa?"
   ]
  },
  {
   "cell_type": "code",
   "execution_count": null,
   "metadata": {
    "vscode": {
     "languageId": "plaintext"
    }
   },
   "outputs": [],
   "source": [
    "conjunto_a = {1, 2, 3}\n",
    "conjunto_b = {3, 2, 1}\n",
    "\n",
    "son_iguales = conjunto_a == conjunto_b  # El orden no importa en los conjuntos\n",
    "\n",
    "print(f\"¿Los conjuntos son iguales?: {son_iguales}\")  # Salida: ¿Los conjuntos son iguales?: True"
   ]
  },
  {
   "cell_type": "markdown",
   "metadata": {},
   "source": [
    "### Nivel 4: Desafíos con Conjuntos\n",
    "7. Encontrar elementos comunes en múltiples conjuntos:\n",
    "\n",
    "    - Crea tres conjuntos con números diferentes.\n",
    "    - Encuentra los elementos que están presentes en los tres conjuntos.\n"
   ]
  },
  {
   "cell_type": "code",
   "execution_count": null,
   "metadata": {
    "vscode": {
     "languageId": "plaintext"
    }
   },
   "outputs": [],
   "source": [
    "conjunto1 = {1, 2, 3, 4}\n",
    "conjunto2 = {3, 4, 5, 6}\n",
    "conjunto3 = {2, 4, 6, 8}\n",
    "\n",
    "elementos_comunes = conjunto1 & conjunto2 & conjunto3  # Intersección de los tres conjuntos\n",
    "\n",
    "print(f\"Elementos comunes: {elementos_comunes}\")  # Salida: Elementos comunes: {4}"
   ]
  },
  {
   "cell_type": "markdown",
   "metadata": {},
   "source": [
    "8. Implementar la diferencia simétrica:\n",
    "\n",
    "    - La diferencia simétrica de dos conjuntos es el conjunto de elementos que están en uno u otro conjunto, pero no en ambos.\n",
    "    - Implementa la diferencia simétrica utilizando operaciones de conjuntos básicas."
   ]
  },
  {
   "cell_type": "code",
   "execution_count": null,
   "metadata": {
    "vscode": {
     "languageId": "plaintext"
    }
   },
   "outputs": [],
   "source": [
    "conjunto_a = {1, 2, 3, 4}\n",
    "conjunto_b = {3, 4, 5, 6}\n",
    "\n",
    "diferencia_simetrica = (conjunto_a - conjunto_b) | (conjunto_b - conjunto_a)  # Unión de las diferencias\n",
    "\n",
    "print(f\"Diferencia simétrica: {diferencia_simetrica}\")  # Salida: Diferencia simétrica: {1, 2, 5, 6}"
   ]
  },
  {
   "cell_type": "markdown",
   "metadata": {},
   "source": [
    "### Nivel 5: Conjuntos y Otras Estructuras\n",
    "9. Convertir un diccionario a un conjunto:\n",
    "\n",
    "    - Crea un diccionario con claves y valores.\n",
    "    - Convierte las claves del diccionario a un conjunto."
   ]
  },
  {
   "cell_type": "code",
   "execution_count": null,
   "metadata": {
    "vscode": {
     "languageId": "plaintext"
    }
   },
   "outputs": [],
   "source": [
    "diccionario = {\"a\": 1, \"b\": 2, \"c\": 3}\n",
    "\n",
    "conjunto_claves = set(diccionario.keys())  # Convertir las claves a un conjunto\n",
    "\n",
    "print(f\"Conjunto de claves: {conjunto_claves}\")  # Salida: Conjunto de claves: {'a', 'b', 'c'}"
   ]
  },
  {
   "cell_type": "markdown",
   "metadata": {},
   "source": [
    "10. Utilizar conjuntos para filtrar elementos de una lista:\n",
    "\n",
    "    - Crea una lista de palabras.\n",
    "    - Crea un conjunto con palabras prohibidas.\n",
    "    - Filtra la lista para obtener solo las palabras que no están en el conjunto de palabras prohibidas."
   ]
  },
  {
   "cell_type": "code",
   "execution_count": null,
   "metadata": {
    "vscode": {
     "languageId": "plaintext"
    }
   },
   "outputs": [],
   "source": [
    "lista_palabras = [\"hola\", \"mundo\", \"python\", \"hola\", \"programacion\"]\n",
    "palabras_prohibidas = {\"hola\", \"python\"}\n",
    "\n",
    "lista_filtrada = [palabra for palabra in lista_palabras if palabra not in palabras_prohibidas]\n",
    "\n",
    "print(f\"Lista filtrada: {lista_filtrada}\")  # Salida: Lista filtrada: ['mundo', 'programacion']"
   ]
  },
  {
   "cell_type": "markdown",
   "metadata": {},
   "source": [
    "### ¡No te rindas!\n",
    "Recuerda que la clave para dominar los conjuntos está en la práctica constante. Intenta resolver los ejercicios por tu cuenta y, si te encuentras con alguna dificultad, no dudes en consultar la documentación de Python o buscar ejemplos en línea. ¡Mucho éxito en tu aprendizaje!"
   ]
  }
 ],
 "metadata": {
  "language_info": {
   "name": "python"
  }
 },
 "nbformat": 4,
 "nbformat_minor": 2
}
