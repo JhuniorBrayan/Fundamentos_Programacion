{
 "cells": [
  {
   "cell_type": "markdown",
   "metadata": {},
   "source": [
    "## 3. Conceptos Básicos \n",
    "\n",
    "# **📌 Conjuntos (Sets)**\n",
    "\n",
    "Los **conjuntos (sets)** son estructuras de datos que almacenan colecciones de elementos **únicos**, es decir, no permiten duplicados. Se utilizan en informática para manejar agrupaciones de datos donde la unicidad es fundamental, como eliminar valores repetidos de una lista o realizar operaciones matemáticas de conjuntos.\n",
    "\n",
    "---\n",
    "\n",
    "## 🎯 Objetivo\n",
    "\n",
    "En esta lección aprenderás:\n",
    "\n",
    "- Qué son los conjuntos y cómo funcionan.\n",
    "- Operaciones principales: **unión, intersección y diferencia**.\n",
    "- Cómo implementar conjuntos en Python.\n",
    "- Aplicaciones prácticas de los conjuntos.\n",
    "\n",
    "---\n",
    "\n",
    "## 📌 Concepto de Conjuntos\n",
    "\n",
    "Un conjunto es una colección **desordenada** de elementos **únicos**. A diferencia de las listas o tuplas, los elementos en un conjunto no tienen un índice.\n",
    "\n",
    "🔹 **Ejemplo gráfico de un conjunto:**\n",
    "\n",
    "```\n",
    "{🍎, 🍌, 🍊, 🍇}  # Un conjunto de frutas\n",
    "```\n",
    "\n",
    "🔹 **Propiedad clave:** No hay elementos repetidos. Si intentas agregar `🍎` nuevamente, el conjunto no cambiará.\n",
    "\n",
    "---\n",
    "\n",
    "## 🔄 Operaciones con Conjuntos\n",
    "\n",
    "### 1️⃣ **Crear un conjunto**\n",
    "\n"
   ]
  },
  {
   "cell_type": "code",
   "execution_count": 13,
   "metadata": {},
   "outputs": [
    {
     "name": "stdout",
     "output_type": "stream",
     "text": [
      "{'banana', 'manzana', 'naranja'}\n"
     ]
    }
   ],
   "source": [
    "frutas = {\"manzana\", \"banana\", \"naranja\"}\n",
    "print(frutas)  # Salida: {'manzana', 'banana', 'naranja'}"
   ]
  },
  {
   "cell_type": "markdown",
   "metadata": {},
   "source": [
    "### 2️⃣ **Agregar elementos**"
   ]
  },
  {
   "cell_type": "code",
   "execution_count": 14,
   "metadata": {},
   "outputs": [
    {
     "name": "stdout",
     "output_type": "stream",
     "text": [
      "{'uva', 'banana', 'manzana', 'naranja'}\n"
     ]
    }
   ],
   "source": [
    "\n",
    "frutas.add(\"uva\")\n",
    "print(frutas)  # Salida: {'manzana', 'banana', 'naranja', 'uva'}"
   ]
  },
  {
   "cell_type": "markdown",
   "metadata": {},
   "source": [
    "### 3️⃣ **Eliminar elementos**"
   ]
  },
  {
   "cell_type": "code",
   "execution_count": 15,
   "metadata": {},
   "outputs": [
    {
     "name": "stdout",
     "output_type": "stream",
     "text": [
      "{'uva', 'manzana', 'naranja'}\n"
     ]
    }
   ],
   "source": [
    "frutas.remove(\"banana\")  # Si el elemento no existe, lanza un error\n",
    "print(frutas)  # Salida: {'manzana', 'naranja', 'uva'}"
   ]
  },
  {
   "cell_type": "markdown",
   "metadata": {},
   "source": [
    "🔹 **Alternativa sin error: discard()**"
   ]
  },
  {
   "cell_type": "code",
   "execution_count": 16,
   "metadata": {},
   "outputs": [],
   "source": [
    "frutas.discard(\"banana\")  # No lanza error si no existe"
   ]
  },
  {
   "cell_type": "markdown",
   "metadata": {},
   "source": [
    "**pop(): Elimina y devuelve un elemento arbitrario del conjunto. Si el conjunto está vacío, lanza un error KeyError.**"
   ]
  },
  {
   "cell_type": "code",
   "execution_count": 17,
   "metadata": {},
   "outputs": [
    {
     "name": "stdout",
     "output_type": "stream",
     "text": [
      "Elemento eliminado: 1\n",
      "{2, 3}\n"
     ]
    }
   ],
   "source": [
    "conjunto = {1, 2, 3}\n",
    "elemento = conjunto.pop()\n",
    "print(f\"Elemento eliminado: {elemento}\")  # Output: Elemento eliminado: 1 (o cualquier otro elemento)\n",
    "print(conjunto)  # Output: {2, 3} (o el conjunto sin el elemento eliminado)"
   ]
  },
  {
   "cell_type": "markdown",
   "metadata": {},
   "source": [
    "**clear(): Elimina todos los elementos del conjunto.**"
   ]
  },
  {
   "cell_type": "code",
   "execution_count": 18,
   "metadata": {},
   "outputs": [
    {
     "name": "stdout",
     "output_type": "stream",
     "text": [
      "set()\n"
     ]
    }
   ],
   "source": [
    "conjunto = {1, 2, 3}\n",
    "conjunto.clear()\n",
    "print(conjunto)  # Output: set() (conjunto vacío)"
   ]
  },
  {
   "cell_type": "markdown",
   "metadata": {},
   "source": [
    "\n",
    "### 4️⃣ **Unión de conjuntos**"
   ]
  },
  {
   "cell_type": "code",
   "execution_count": 19,
   "metadata": {},
   "outputs": [
    {
     "name": "stdout",
     "output_type": "stream",
     "text": [
      "{1, 2, 3, 4, 5}\n"
     ]
    }
   ],
   "source": [
    "A = {1, 2, 3}\n",
    "B = {3, 4, 5}\n",
    "print(A | B)  # Salida: {1, 2, 3, 4, 5}"
   ]
  },
  {
   "cell_type": "markdown",
   "metadata": {},
   "source": [
    "### 5️⃣ **Intersección de conjuntos**"
   ]
  },
  {
   "cell_type": "code",
   "execution_count": 20,
   "metadata": {},
   "outputs": [
    {
     "name": "stdout",
     "output_type": "stream",
     "text": [
      "{3}\n"
     ]
    }
   ],
   "source": [
    "print(A & B)  # Salida: {3}"
   ]
  },
  {
   "cell_type": "markdown",
   "metadata": {},
   "source": [
    "### 6️⃣ **Diferencia de conjuntos**\n"
   ]
  },
  {
   "cell_type": "code",
   "execution_count": 21,
   "metadata": {},
   "outputs": [
    {
     "name": "stdout",
     "output_type": "stream",
     "text": [
      "{1, 2}\n"
     ]
    }
   ],
   "source": [
    "print(A - B)  # Salida: {1, 2} (elementos en A pero no en B)"
   ]
  },
  {
   "cell_type": "markdown",
   "metadata": {},
   "source": [
    "### 7️⃣ **Recorrer un conjunto**\n",
    "Puedes recorrer un conjunto utilizando un bucle for:"
   ]
  },
  {
   "cell_type": "code",
   "execution_count": 22,
   "metadata": {},
   "outputs": [
    {
     "name": "stdout",
     "output_type": "stream",
     "text": [
      "1\n",
      "2\n",
      "3\n"
     ]
    }
   ],
   "source": [
    "conjunto = {1, 2, 3}\n",
    "for elemento in conjunto:\n",
    "    print(elemento)\n",
    "    "
   ]
  },
  {
   "cell_type": "markdown",
   "metadata": {},
   "source": [
    "### 8️⃣ **Buscar elementos**\n",
    "\n",
    "Puedes verificar si un elemento pertenece a un conjunto utilizando el operador `in`:\n",
    "\n"
   ]
  },
  {
   "cell_type": "code",
   "execution_count": 23,
   "metadata": {},
   "outputs": [
    {
     "name": "stdout",
     "output_type": "stream",
     "text": [
      "El elemento 2 está en el conjunto\n"
     ]
    }
   ],
   "source": [
    "conjunto = {1, 2, 3}\n",
    "if 2 in conjunto:\n",
    "    print(\"El elemento 2 está en el conjunto\")"
   ]
  },
  {
   "cell_type": "markdown",
   "metadata": {},
   "source": [
    "---\n",
    "\n",
    "## 🏆 Aplicaciones de los Conjuntos\n",
    "\n",
    "📌 **Algunas aplicaciones prácticas:**\n",
    "\n",
    "- 🚀 **Eliminación de duplicados en listas:**"
   ]
  },
  {
   "cell_type": "code",
   "execution_count": 24,
   "metadata": {},
   "outputs": [
    {
     "name": "stdout",
     "output_type": "stream",
     "text": [
      "{1, 2, 3, 4, 5}\n"
     ]
    }
   ],
   "source": [
    "lista = [1, 2, 2, 3, 4, 4, 5]\n",
    "sin_duplicados = set(lista)\n",
    "print(sin_duplicados)  # Salida: {1, 2, 3, 4, 5}"
   ]
  },
  {
   "cell_type": "markdown",
   "metadata": {},
   "source": [
    "- 📧 **Filtrado de palabras prohibidas en un chat.**\n",
    "- 📊 **Comparación rápida entre grandes volúmenes de datos.**\n",
    "\n",
    "---\n",
    "\n",
    "## ✅ Conclusión\n",
    "\n",
    "- Los **conjuntos** almacenan elementos únicos y no tienen orden.\n",
    "- Permiten realizar operaciones matemáticas como **unión, intersección y diferencia**.\n",
    "- Son útiles en la eliminación de duplicados y filtrado de datos.\n",
    "\n",
    "🔹 **Reflexión:** ¿En qué situación podrías utilizar un conjunto en tu propio código? 🤔"
   ]
  }
 ],
 "metadata": {
  "kernelspec": {
   "display_name": "venvc",
   "language": "python",
   "name": "python3"
  },
  "language_info": {
   "codemirror_mode": {
    "name": "ipython",
    "version": 3
   },
   "file_extension": ".py",
   "mimetype": "text/x-python",
   "name": "python",
   "nbconvert_exporter": "python",
   "pygments_lexer": "ipython3",
   "version": "3.12.8"
  }
 },
 "nbformat": 4,
 "nbformat_minor": 2
}
