{
 "cells": [
  {
   "cell_type": "markdown",
   "metadata": {},
   "source": [
    "## Ejercicios: Estructura de Datos - Conjuntos \n",
    "\n",
    "### Nivel 1: Introducción a Conjuntos\n",
    "1. Creación y elementos:\n",
    "\n",
    "    - Crea un conjunto llamado frutas con las siguientes frutas: \"manzana\", \"banana\", \"naranja\".\n",
    "    - Imprime el conjunto frutas.\n",
    "    - Intenta agregar la fruta \"manzana\" de nuevo. ¿Qué pasa? Imprime el conjunto actualizado."
   ]
  },
  {
   "cell_type": "code",
   "execution_count": null,
   "metadata": {
    "vscode": {
     "languageId": "plaintext"
    }
   },
   "outputs": [],
   "source": []
  },
  {
   "cell_type": "markdown",
   "metadata": {},
   "source": [
    "2. Operaciones básicas:\n",
    "\n",
    "    - Crea dos conjuntos: conjunto1 con los números 1, 2, 3 y conjunto2 con los números 3, 4, 5.\n",
    "    - Imprime la unión, intersección y diferencia de estos conjuntos."
   ]
  },
  {
   "cell_type": "code",
   "execution_count": null,
   "metadata": {
    "vscode": {
     "languageId": "plaintext"
    }
   },
   "outputs": [],
   "source": []
  },
  {
   "cell_type": "markdown",
   "metadata": {},
   "source": [
    "### Nivel 2: Modificación de Conjuntos\n",
    "3. Agregar y eliminar:\n",
    "\n",
    "    - Crea un conjunto llamado numeros con los números del 1 al 5.\n",
    "    - Agrega el número 6 al conjunto.\n",
    "    - Elimina el número 3 del conjunto.\n",
    "    - Imprime el conjunto actualizado."
   ]
  },
  {
   "cell_type": "code",
   "execution_count": null,
   "metadata": {
    "vscode": {
     "languageId": "plaintext"
    }
   },
   "outputs": [],
   "source": []
  },
  {
   "cell_type": "markdown",
   "metadata": {},
   "source": [
    "4. Métodos discard y pop:\n",
    "\n",
    "    - Utiliza el conjunto numeros del ejercicio anterior.\n",
    "    - Intenta eliminar el número 7 (que no existe) usando discard. ¿Ocurre un error?\n",
    "    - Intenta eliminar un elemento usando pop. ¿Qué elemento se elimina?\n",
    "    - Imprime el conjunto después de estas operaciones."
   ]
  },
  {
   "cell_type": "code",
   "execution_count": null,
   "metadata": {
    "vscode": {
     "languageId": "plaintext"
    }
   },
   "outputs": [],
   "source": []
  },
  {
   "cell_type": "markdown",
   "metadata": {},
   "source": [
    "### Nivel 3: Aplicaciones Básicas\n",
    "5. Eliminar duplicados de una lista:\n",
    "\n",
    "    - Crea una lista con elementos repetidos (por ejemplo, [1, 2, 2, 3, 4, 4, 5]).\n",
    "    - Utiliza un conjunto para eliminar los duplicados de la lista.\n",
    "    - Imprime la lista sin duplicados."
   ]
  },
  {
   "cell_type": "code",
   "execution_count": null,
   "metadata": {
    "vscode": {
     "languageId": "plaintext"
    }
   },
   "outputs": [],
   "source": []
  },
  {
   "cell_type": "markdown",
   "metadata": {},
   "source": [
    "6. Verificar si dos conjuntos son iguales:\n",
    "\n",
    "    - Crea dos conjuntos con los mismos elementos pero en diferente orden.\n",
    "    - Compara si los dos conjuntos son iguales. ¿El orden importa?"
   ]
  },
  {
   "cell_type": "code",
   "execution_count": null,
   "metadata": {
    "vscode": {
     "languageId": "plaintext"
    }
   },
   "outputs": [],
   "source": []
  },
  {
   "cell_type": "markdown",
   "metadata": {},
   "source": [
    "### Nivel 4: Desafíos con Conjuntos\n",
    "7. Encontrar elementos comunes en múltiples conjuntos:\n",
    "\n",
    "    - Crea tres conjuntos con números diferentes.\n",
    "    - Encuentra los elementos que están presentes en los tres conjuntos.\n"
   ]
  },
  {
   "cell_type": "code",
   "execution_count": null,
   "metadata": {
    "vscode": {
     "languageId": "plaintext"
    }
   },
   "outputs": [],
   "source": []
  },
  {
   "cell_type": "markdown",
   "metadata": {},
   "source": [
    "8. Implementar la diferencia simétrica:\n",
    "\n",
    "    - La diferencia simétrica de dos conjuntos es el conjunto de elementos que están en uno u otro conjunto, pero no en ambos.\n",
    "    - Implementa la diferencia simétrica utilizando operaciones de conjuntos básicas."
   ]
  },
  {
   "cell_type": "code",
   "execution_count": null,
   "metadata": {
    "vscode": {
     "languageId": "plaintext"
    }
   },
   "outputs": [],
   "source": []
  },
  {
   "cell_type": "markdown",
   "metadata": {},
   "source": [
    "### Nivel 5: Conjuntos y Otras Estructuras\n",
    "9. Convertir un diccionario a un conjunto:\n",
    "\n",
    "    - Crea un diccionario con claves y valores.\n",
    "    - Convierte las claves del diccionario a un conjunto."
   ]
  },
  {
   "cell_type": "code",
   "execution_count": null,
   "metadata": {
    "vscode": {
     "languageId": "plaintext"
    }
   },
   "outputs": [],
   "source": []
  },
  {
   "cell_type": "markdown",
   "metadata": {},
   "source": [
    "10. Utilizar conjuntos para filtrar elementos de una lista:\n",
    "\n",
    "    - Crea una lista de palabras.\n",
    "    - Crea un conjunto con palabras prohibidas.\n",
    "    - Filtra la lista para obtener solo las palabras que no están en el conjunto de palabras prohibidas."
   ]
  },
  {
   "cell_type": "code",
   "execution_count": null,
   "metadata": {
    "vscode": {
     "languageId": "plaintext"
    }
   },
   "outputs": [],
   "source": []
  },
  {
   "cell_type": "markdown",
   "metadata": {},
   "source": [
    "### ¡No te rindas!\n",
    "Recuerda que la clave para dominar los conjuntos está en la práctica constante. Intenta resolver los ejercicios por tu cuenta y, si te encuentras con alguna dificultad, no dudes en consultar la documentación de Python o buscar ejemplos en línea. ¡Mucho éxito en tu aprendizaje!"
   ]
  }
 ],
 "metadata": {
  "language_info": {
   "name": "python"
  }
 },
 "nbformat": 4,
 "nbformat_minor": 2
}
