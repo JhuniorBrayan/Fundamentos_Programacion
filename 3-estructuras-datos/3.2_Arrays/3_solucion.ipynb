{
 "cells": [
  {
   "cell_type": "markdown",
   "metadata": {},
   "source": [
    "## Ejercicios: Estructura de Datos - Arrays \n",
    "\n",
    "### Nivel 1: Introducción a Arrays con el módulo array\n",
    "1. Creación y acceso:\n",
    "\n",
    "    - Crea un array de tipo 'i' (entero) con los números del 1 al 5.\n",
    "    - Imprime el array completo.\n",
    "    - Accede e imprime el tercer elemento del array.\n",
    "    - Accede e imprime el último elemento del array utilizando un índice negativo."
   ]
  },
  {
   "cell_type": "code",
   "execution_count": null,
   "metadata": {
    "vscode": {
     "languageId": "plaintext"
    }
   },
   "outputs": [],
   "source": [
    "import array\n",
    "\n",
    "# Crear un array de enteros\n",
    "a = array.array('i', [1, 2, 3, 4, 5])\n",
    "print(a)  # Salida: array('i', [1, 2, 3, 4, 5])\n",
    "\n",
    "# Acceder e imprimir el tercer elemento\n",
    "print(a[2])  # Salida: 3\n",
    "\n",
    "# Acceder e imprimir el último elemento (índice negativo)\n",
    "print(a[-1])  # Salida: 5"
   ]
  },
  {
   "cell_type": "markdown",
   "metadata": {},
   "source": [
    "2. Operaciones básicas:\n",
    "\n",
    "    - Crea un array de tipo 'f' (flotante) con los números 2.5, 3.7, 1.1 y 4.9.\n",
    "    - Agrega el número 5.2 al final del array.\n",
    "    - Inserta el número 3.0 en la segunda posición del array.\n",
    "    - Elimina el primer elemento del array.\n",
    "    - Imprime el array modificado."
   ]
  },
  {
   "cell_type": "code",
   "execution_count": null,
   "metadata": {
    "vscode": {
     "languageId": "plaintext"
    }
   },
   "outputs": [],
   "source": [
    "import array\n",
    "\n",
    "# Crear un array de flotantes\n",
    "a = array.array('f', [2.5, 3.7, 1.1, 4.9])\n",
    "\n",
    "# Agregar al final\n",
    "a.append(5.2)\n",
    "\n",
    "# Insertar en la segunda posición (índice 1)\n",
    "a.insert(1, 3.0)\n",
    "\n",
    "# Eliminar el primer elemento\n",
    "a.pop(0)  # También se puede usar a.remove(2.5)\n",
    "\n",
    "print(a)  # Salida: array('f', [3.0, 3.7, 1.1, 4.9, 5.2])"
   ]
  },
  {
   "cell_type": "markdown",
   "metadata": {},
   "source": [
    "### Nivel 2: Arrays Multidimensionales con NumPy\n",
    "3. Creación y acceso:\n",
    "\n",
    "    - Crea un array bidimensional (matriz) de 3x3 con los números del 1 al 9.\n",
    "    - Imprime la matriz completa.\n",
    "    - Accede e imprime el elemento que está en la segunda fila y tercera columna.\n",
    "    - Accede e imprime la primera fila completa."
   ]
  },
  {
   "cell_type": "code",
   "execution_count": null,
   "metadata": {
    "vscode": {
     "languageId": "plaintext"
    }
   },
   "outputs": [],
   "source": [
    "import numpy as np\n",
    "\n",
    "# Crear una matriz 3x3\n",
    "matriz = np.array([[1, 2, 3], [4, 5, 6], [7, 8, 9]])\n",
    "print(matriz)\n",
    "# [[1 2 3]\n",
    "#  [4 5 6]\n",
    "#  [7 8 9]]\n",
    "\n",
    "# Acceder a un elemento específico (fila 1, columna 2)\n",
    "print(matriz[1, 2])  # Salida: 6\n",
    "\n",
    "# Acceder a la primera fila completa\n",
    "print(matriz[0, :])  # Salida: [1 2 3]"
   ]
  },
  {
   "cell_type": "markdown",
   "metadata": {},
   "source": [
    "4. Operaciones con NumPy:\n",
    "\n",
    "    - Crea un array unidimensional con los números del 10 al 20.\n",
    "    - Calcula la suma de todos los elementos del array.\n",
    "    - Calcula el promedio de los elementos del array.\n",
    "    - Encuentra el valor máximo y el valor mínimo del array."
   ]
  },
  {
   "cell_type": "code",
   "execution_count": null,
   "metadata": {
    "vscode": {
     "languageId": "plaintext"
    }
   },
   "outputs": [],
   "source": [
    "import numpy as np\n",
    "\n",
    "# Crear un array unidimensional\n",
    "array_uni = np.array([10, 11, 12, 13, 14, 15, 16, 17, 18, 19, 20])\n",
    "\n",
    "# Suma de elementos\n",
    "suma = np.sum(array_uni)\n",
    "print(f\"Suma: {suma}\")  # Salida: Suma: 165\n",
    "\n",
    "# Promedio de elementos\n",
    "promedio = np.mean(array_uni)\n",
    "print(f\"Promedio: {promedio}\")  # Salida: Promedio: 15.0\n",
    "\n",
    "# Valor máximo y mínimo\n",
    "maximo = np.max(array_uni)\n",
    "minimo = np.min(array_uni)\n",
    "print(f\"Máximo: {maximo}, Mínimo: {minimo}\")  # Salida: Máximo: 20, Mínimo: 10"
   ]
  },
  {
   "cell_type": "markdown",
   "metadata": {},
   "source": [
    "### Nivel 3: Desafío con Arrays\n",
    "5. Búsqueda y filtrado:\n",
    "\n",
    "    - Crea un array con números aleatorios (puedes usar np.random.randint()).\n",
    "    - Escribe una función que reciba el array y un número como argumento.\n",
    "    - La función debe retornar una nueva lista con todos los elementos del array que sean mayores que el número dado.\n",
    "    - Adicionalmente, la función debe imprimir la posición (índice) de cada elemento encontrado."
   ]
  },
  {
   "cell_type": "code",
   "execution_count": null,
   "metadata": {
    "vscode": {
     "languageId": "plaintext"
    }
   },
   "outputs": [],
   "source": [
    "import numpy as np\n",
    "\n",
    "def buscar_y_filtrar(array, numero):\n",
    "    mayores = []\n",
    "    for i, elemento in enumerate(array):\n",
    "        if elemento > numero:\n",
    "            mayores.append(elemento)\n",
    "            print(f\"Elemento {elemento} encontrado en la posición {i}\")\n",
    "    return mayores\n",
    "\n",
    "# Ejemplo de uso\n",
    "mi_array = np.random.randint(0, 100, 20)  # Array de 20 números entre 0 y 99\n",
    "numero_busqueda = 50\n",
    "resultado = buscar_y_filtrar(mi_array, numero_busqueda)\n",
    "print(f\"Elementos mayores que {numero_busqueda}: {resultado}\")"
   ]
  },
  {
   "cell_type": "markdown",
   "metadata": {},
   "source": [
    "#### ¡No te rindas!\n",
    "Recuerda que la clave para dominar los arrays está en la práctica constante. Intenta resolver los ejercicios por tu cuenta y, si te encuentras con alguna dificultad, no dudes en consultar la documentación de Python o buscar ejemplos en línea. ¡Mucho éxito en tu aprendizaje!"
   ]
  }
 ],
 "metadata": {
  "language_info": {
   "name": "python"
  }
 },
 "nbformat": 4,
 "nbformat_minor": 2
}
