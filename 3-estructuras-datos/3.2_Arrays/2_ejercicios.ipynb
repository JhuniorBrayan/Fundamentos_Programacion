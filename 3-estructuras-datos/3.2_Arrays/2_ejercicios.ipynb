{
 "cells": [
  {
   "cell_type": "markdown",
   "metadata": {},
   "source": [
    "## Ejercicios: Estructura de Datos - Arrays \n",
    "\n",
    "### Nivel 1: Introducción a Arrays con el módulo array\n",
    "1. Creación y acceso:\n",
    "\n",
    "    - Crea un array de tipo 'i' (entero) con los números del 1 al 5.\n",
    "    - Imprime el array completo.\n",
    "    - Accede e imprime el tercer elemento del array.\n",
    "    - Accede e imprime el último elemento del array utilizando un índice negativo."
   ]
  },
  {
   "cell_type": "markdown",
   "metadata": {},
   "source": [
    "## Ejercicios: Estructura de Datos - Arrays \n",
    "\n",
    "### Nivel 1: Introducción a Arrays con el módulo array\n",
    "1. Creación y acceso:\n",
    "\n",
    "    - Crea un array de tipo 'i' (entero) con los números del 1 al 5.\n",
    "    - Imprime el array completo.\n",
    "    - Accede e imprime el tercer elemento del array.\n",
    "    - Accede e imprime el último elemento del array utilizando un índice negativo."
   ]
  },
  {
   "cell_type": "code",
   "execution_count": null,
   "metadata": {
    "vscode": {
     "languageId": "plaintext"
    }
   },
   "outputs": [],
   "source": [
    "import array\n",
    "\n",
    "# Tu código aquí"
   ]
  },
  {
   "cell_type": "markdown",
   "metadata": {},
   "source": [
    "2. Operaciones básicas:\n",
    "\n",
    "    - Crea un array de tipo 'f' (flotante) con los números 2.5, 3.7, 1.1 y 4.9.\n",
    "    - Agrega el número 5.2 al final del array.\n",
    "    - Inserta el número 3.0 en la segunda posición del array.\n",
    "    - Elimina el primer elemento del array.\n",
    "    - Imprime el array modificado."
   ]
  },
  {
   "cell_type": "code",
   "execution_count": null,
   "metadata": {
    "vscode": {
     "languageId": "plaintext"
    }
   },
   "outputs": [],
   "source": [
    "import array\n",
    "\n",
    "# Tu código aquí"
   ]
  },
  {
   "cell_type": "markdown",
   "metadata": {},
   "source": [
    "### Nivel 2: Arrays Multidimensionales con NumPy\n",
    "3. Creación y acceso:\n",
    "\n",
    "    - Crea un array bidimensional (matriz) de 3x3 con los números del 1 al 9.\n",
    "    - Imprime la matriz completa.\n",
    "    - Accede e imprime el elemento que está en la segunda fila y tercera columna.\n",
    "    - Accede e imprime la primera fila completa."
   ]
  },
  {
   "cell_type": "code",
   "execution_count": null,
   "metadata": {
    "vscode": {
     "languageId": "plaintext"
    }
   },
   "outputs": [],
   "source": [
    "import numpy as np\n",
    "\n",
    "# Tu código aquí"
   ]
  },
  {
   "cell_type": "markdown",
   "metadata": {},
   "source": [
    "4. Operaciones con NumPy:\n",
    "\n",
    "    - Crea un array unidimensional con los números del 10 al 20.\n",
    "    - Calcula la suma de todos los elementos del array.\n",
    "    - Calcula el promedio de los elementos del array.\n",
    "    - Encuentra el valor máximo y el valor mínimo del array."
   ]
  },
  {
   "cell_type": "code",
   "execution_count": null,
   "metadata": {
    "vscode": {
     "languageId": "plaintext"
    }
   },
   "outputs": [],
   "source": [
    "import numpy as np\n",
    "\n",
    "# Tu código aquí"
   ]
  },
  {
   "cell_type": "markdown",
   "metadata": {},
   "source": [
    "### Nivel 3: Desafío con Arrays\n",
    "5. Búsqueda y filtrado:\n",
    "\n",
    "    - Crea un array con números aleatorios (puedes usar np.random.randint()).\n",
    "    - Escribe una función que reciba el array y un número como argumento.\n",
    "    - La función debe retornar una nueva lista con todos los elementos del array que sean mayores que el número dado.\n",
    "    - Adicionalmente, la función debe imprimir la posición (índice) de cada elemento encontrado."
   ]
  },
  {
   "cell_type": "code",
   "execution_count": null,
   "metadata": {
    "vscode": {
     "languageId": "plaintext"
    }
   },
   "outputs": [],
   "source": [
    "import numpy as np\n",
    "\n",
    "def buscar_y_filtrar(array, numero):\n",
    "    # Tu código aquí\n",
    "\n",
    "# Ejemplo de uso\n",
    "mi_array = np.random.randint(0, 100, 20)  # Array de 20 números entre 0 y 99\n",
    "numero_busqueda = 50\n",
    "resultado = buscar_y_filtrar(mi_array, numero_busqueda)\n",
    "print(f\"Elementos mayores que {numero_busqueda}: {resultado}\")"
   ]
  },
  {
   "cell_type": "markdown",
   "metadata": {},
   "source": [
    "#### ¡No te rindas!\n",
    "Recuerda que la clave para dominar los arrays está en la práctica constante. Intenta resolver los ejercicios por tu cuenta y, si te encuentras con alguna dificultad, no dudes en consultar la documentación de Python o buscar ejemplos en línea. ¡Mucho éxito en tu aprendizaje!"
   ]
  },
  {
   "cell_type": "code",
   "execution_count": null,
   "metadata": {
    "vscode": {
     "languageId": "plaintext"
    }
   },
   "outputs": [],
   "source": [
    "import array\n",
    "\n",
    "# Tu código aquí"
   ]
  },
  {
   "cell_type": "markdown",
   "metadata": {},
   "source": [
    "2. Operaciones básicas:\n",
    "\n",
    "    - Crea un array de tipo 'f' (flotante) con los números 2.5, 3.7, 1.1 y 4.9.\n",
    "    - Agrega el número 5.2 al final del array.\n",
    "    - Inserta el número 3.0 en la segunda posición del array.\n",
    "    - Elimina el primer elemento del array.\n",
    "    - Imprime el array modificado."
   ]
  },
  {
   "cell_type": "code",
   "execution_count": null,
   "metadata": {
    "vscode": {
     "languageId": "plaintext"
    }
   },
   "outputs": [],
   "source": [
    "import array\n",
    "\n",
    "# Tu código aquí"
   ]
  },
  {
   "cell_type": "markdown",
   "metadata": {},
   "source": [
    "### Nivel 2: Arrays Multidimensionales con NumPy\n",
    "3. Creación y acceso:\n",
    "\n",
    "    - Crea un array bidimensional (matriz) de 3x3 con los números del 1 al 9.\n",
    "    - Imprime la matriz completa.\n",
    "    - Accede e imprime el elemento que está en la segunda fila y tercera columna.\n",
    "    - Accede e imprime la primera fila completa."
   ]
  },
  {
   "cell_type": "code",
   "execution_count": null,
   "metadata": {
    "vscode": {
     "languageId": "plaintext"
    }
   },
   "outputs": [],
   "source": [
    "import numpy as np\n",
    "\n",
    "# Tu código aquí"
   ]
  },
  {
   "cell_type": "markdown",
   "metadata": {},
   "source": [
    "4. Operaciones con NumPy:\n",
    "\n",
    "    - Crea un array unidimensional con los números del 10 al 20.\n",
    "    - Calcula la suma de todos los elementos del array.\n",
    "    - Calcula el promedio de los elementos del array.\n",
    "    - Encuentra el valor máximo y el valor mínimo del array."
   ]
  },
  {
   "cell_type": "code",
   "execution_count": null,
   "metadata": {
    "vscode": {
     "languageId": "plaintext"
    }
   },
   "outputs": [],
   "source": [
    "import numpy as np\n",
    "\n",
    "# Tu código aquí"
   ]
  },
  {
   "cell_type": "markdown",
   "metadata": {},
   "source": [
    "### Nivel 3: Desafío con Arrays\n",
    "5. Búsqueda y filtrado:\n",
    "\n",
    "    - Crea un array con números aleatorios (puedes usar np.random.randint()).\n",
    "    - Escribe una función que reciba el array y un número como argumento.\n",
    "    - La función debe retornar una nueva lista con todos los elementos del array que sean mayores que el número dado.\n",
    "    - Adicionalmente, la función debe imprimir la posición (índice) de cada elemento encontrado."
   ]
  },
  {
   "cell_type": "code",
   "execution_count": null,
   "metadata": {
    "vscode": {
     "languageId": "plaintext"
    }
   },
   "outputs": [],
   "source": [
    "import numpy as np\n",
    "\n",
    "def buscar_y_filtrar(array, numero):\n",
    "    # Tu código aquí\n",
    "\n",
    "# Ejemplo de uso\n",
    "mi_array = np.random.randint(0, 100, 20)  # Array de 20 números entre 0 y 99\n",
    "numero_busqueda = 50\n",
    "resultado = buscar_y_filtrar(mi_array, numero_busqueda)\n",
    "print(f\"Elementos mayores que {numero_busqueda}: {resultado}\")"
   ]
  },
  {
   "cell_type": "markdown",
   "metadata": {},
   "source": [
    "#### ¡No te rindas!\n",
    "Recuerda que la clave para dominar los arrays está en la práctica constante. Intenta resolver los ejercicios por tu cuenta y, si te encuentras con alguna dificultad, no dudes en consultar la documentación de Python o buscar ejemplos en línea. ¡Mucho éxito en tu aprendizaje!"
   ]
  }
 ],
 "metadata": {
  "language_info": {
   "name": "python"
  }
 },
 "nbformat": 4,
 "nbformat_minor": 2
}
