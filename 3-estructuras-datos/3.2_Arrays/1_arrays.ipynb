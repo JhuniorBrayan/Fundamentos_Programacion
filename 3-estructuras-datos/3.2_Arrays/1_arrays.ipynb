{
 "cells": [
  {
   "cell_type": "markdown",
   "metadata": {},
   "source": [
    "## 3. Estructura de Datos \n",
    "\n",
    "# **📌 Arrays**\n",
    "Los **arrays** son estructuras de datos utilizadas para almacenar colecciones de elementos del mismo tipo. Son muy útiles cuando se necesita trabajar con grandes volúmenes de datos de manera eficiente, ya que permiten acceder a los elementos mediante índices.\n",
    "\n",
    "Python no tiene un tipo de dato **array** nativo como otros lenguajes (C, Java), pero proporciona el módulo `array` y la biblioteca `NumPy`, que ofrecen funcionalidades similares.\n",
    "\n",
    "---\n",
    "### 🎯 Objetivo\n",
    "En esta lección aprenderás:\n",
    "- Qué son los arrays y para qué se utilizan.\n",
    "- Cómo acceder a elementos por índice.\n",
    "- Cómo trabajar con arrays multidimensionales.\n",
    "\n",
    "---\n",
    "## 📌 Creación y Uso de Arrays en Python\n",
    "Para trabajar con arrays en Python, se puede usar el módulo `array`:"
   ]
  },
  {
   "cell_type": "code",
   "execution_count": 11,
   "metadata": {},
   "outputs": [
    {
     "name": "stdout",
     "output_type": "stream",
     "text": [
      "array('i', [1, 2, 3, 4, 5])\n"
     ]
    }
   ],
   "source": [
    "import array\n",
    "\n",
    "# Crear un array de enteros\n",
    "a = array.array('i', [1, 2, 3, 4, 5])\n",
    "print(a)"
   ]
  },
  {
   "cell_type": "markdown",
   "metadata": {},
   "source": [
    "📌 **Nota**: El primer argumento `'i'` indica que el array almacenará enteros. Otros tipos incluyen:\n",
    "- `'f'` para flotantes\n",
    "- `'d'` para dobles\n",
    "\n",
    "---\n",
    "## 🔍 Acceso a Elementos por Índice\n",
    "Los elementos de un array se pueden acceder mediante su índice (empezando desde 0)."
   ]
  },
  {
   "cell_type": "code",
   "execution_count": 12,
   "metadata": {},
   "outputs": [
    {
     "name": "stdout",
     "output_type": "stream",
     "text": [
      "1\n",
      "5\n"
     ]
    }
   ],
   "source": [
    "print(a[0])  # Primer elemento\n",
    "print(a[-1])  # Último elemento"
   ]
  },
  {
   "cell_type": "markdown",
   "metadata": {},
   "source": [
    "📌 **Nota**: Se pueden usar índices negativos para acceder desde el final."
   ]
  },
  {
   "cell_type": "markdown",
   "metadata": {},
   "source": [
    "---\n",
    "## 🔄 Operaciones Comunes con Arrays\n",
    "### 1️⃣ Agregar elementos"
   ]
  },
  {
   "cell_type": "code",
   "execution_count": 13,
   "metadata": {},
   "outputs": [
    {
     "name": "stdout",
     "output_type": "stream",
     "text": [
      "array('i', [1, 2, 3, 4, 5, 6])\n"
     ]
    }
   ],
   "source": [
    "\n",
    "a.append(6)  # Agregar un elemento al final\n",
    "print(a)\n"
   ]
  },
  {
   "cell_type": "markdown",
   "metadata": {},
   "source": [
    "\n",
    "\n",
    "### 2️⃣ Insertar elementos en una posición específica\n",
    "\n",
    "\n",
    "\n"
   ]
  },
  {
   "cell_type": "code",
   "execution_count": 14,
   "metadata": {},
   "outputs": [
    {
     "name": "stdout",
     "output_type": "stream",
     "text": [
      "array('i', [1, 2, 10, 3, 4, 5, 6])\n"
     ]
    }
   ],
   "source": [
    "a.insert(2, 10)  # Insertar 10 en la posición 2\n",
    "print(a)"
   ]
  },
  {
   "cell_type": "markdown",
   "metadata": {},
   "source": [
    "### 3️⃣ Eliminar elementos\n",
    "\n",
    "a.remove(3)  # Eliminar el valor 3 del array\n",
    "print(a)"
   ]
  },
  {
   "cell_type": "code",
   "execution_count": 15,
   "metadata": {},
   "outputs": [
    {
     "name": "stdout",
     "output_type": "stream",
     "text": [
      "array('i', [1, 2, 10, 4, 5, 6])\n"
     ]
    }
   ],
   "source": [
    "a.remove(3)  # Eliminar el valor 3 del array\n",
    "print(a)"
   ]
  },
  {
   "cell_type": "markdown",
   "metadata": {},
   "source": [
    "### 4️⃣ Buscar elementos\n",
    "\n",
    "print(a.index(4))  # Devuelve la posición del número 4\n"
   ]
  },
  {
   "cell_type": "code",
   "execution_count": 16,
   "metadata": {},
   "outputs": [
    {
     "name": "stdout",
     "output_type": "stream",
     "text": [
      "3\n"
     ]
    }
   ],
   "source": [
    "\n",
    "print(a.index(4))  # Devuelve la posición del número 4"
   ]
  },
  {
   "cell_type": "markdown",
   "metadata": {},
   "source": [
    "---\n",
    "## 📌 Arrays Multidimensionales con NumPy\n",
    "Para trabajar con arrays multidimensionales, utilizamos `NumPy`.\n"
   ]
  },
  {
   "cell_type": "code",
   "execution_count": null,
   "metadata": {},
   "outputs": [
    {
     "name": "stdout",
     "output_type": "stream",
     "text": [
      "[[1 2 3]\n",
      " [4 5 6]]\n"
     ]
    }
   ],
   "source": [
    "# pip install numpy\n",
    "\n",
    "import numpy as np\n",
    "\n",
    "# Crear un array bidimensional\n",
    "arr = np.array([[1, 2, 3], [4, 5, 6]])\n",
    "print(arr)"
   ]
  },
  {
   "cell_type": "markdown",
   "metadata": {},
   "source": [
    "### 🔍 Acceso a Elementos en Arrays Multidimensionales"
   ]
  },
  {
   "cell_type": "code",
   "execution_count": 18,
   "metadata": {},
   "outputs": [
    {
     "name": "stdout",
     "output_type": "stream",
     "text": [
      "2\n"
     ]
    }
   ],
   "source": [
    "print(arr[0, 1])  # Acceder al elemento en fila 0, columna 1 (valor 2)"
   ]
  },
  {
   "cell_type": "markdown",
   "metadata": {},
   "source": [
    "📌 **Nota**: En `NumPy`, los arrays son más eficientes que las listas de Python."
   ]
  },
  {
   "cell_type": "markdown",
   "metadata": {},
   "source": [
    "---\n",
    "## ✅ Conclusión\n",
    "- Los **arrays** permiten almacenar colecciones de datos de un mismo tipo y acceder a ellos de manera eficiente.\n",
    "- Se puede usar el módulo `array` para arrays básicos y `NumPy` para estructuras más avanzadas.\n",
    "- El acceso a los elementos se hace mediante índices.\n",
    "- Los arrays multidimensionales son útiles para trabajar con datos estructurados.\n",
    "\n",
    "🔹 **Reflexión**: ¿Cuándo usarías un array en lugar de una lista en Python? 🤔"
   ]
  }
 ],
 "metadata": {
  "kernelspec": {
   "display_name": "venvc",
   "language": "python",
   "name": "python3"
  },
  "language_info": {
   "codemirror_mode": {
    "name": "ipython",
    "version": 3
   },
   "file_extension": ".py",
   "mimetype": "text/x-python",
   "name": "python",
   "nbconvert_exporter": "python",
   "pygments_lexer": "ipython3",
   "version": "3.12.8"
  }
 },
 "nbformat": 4,
 "nbformat_minor": 2
}
