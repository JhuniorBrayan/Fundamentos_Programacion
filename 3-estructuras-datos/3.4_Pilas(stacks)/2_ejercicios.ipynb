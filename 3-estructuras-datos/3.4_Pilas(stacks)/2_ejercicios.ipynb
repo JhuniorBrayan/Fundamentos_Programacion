{
 "cells": [
  {
   "cell_type": "markdown",
   "metadata": {},
   "source": [
    "## Ejercicios: Estructura de Datos - Listas \n",
    "\n",
    "### Nivel 1: Introducción a Pilas\n",
    "1. Creación y push:\n",
    "\n",
    "    - Crea una pila vacía utilizando una lista.\n",
    "    - Agrega (push) los siguientes elementos: 10, 20, 30.\n",
    "    - Imprime la pila resultante."
   ]
  },
  {
   "cell_type": "code",
   "execution_count": null,
   "metadata": {
    "vscode": {
     "languageId": "plaintext"
    }
   },
   "outputs": [],
   "source": []
  },
  {
   "cell_type": "markdown",
   "metadata": {},
   "source": [
    "2. Pop y peek:\n",
    "\n",
    "    - Utiliza la pila del ejercicio anterior.\n",
    "    - Realiza un pop (eliminar el último elemento) e imprime el elemento eliminado.\n",
    "    - Realiza un peek (ver el último elemento sin eliminarlo) e imprime el elemento en la cima."
   ]
  },
  {
   "cell_type": "code",
   "execution_count": null,
   "metadata": {
    "vscode": {
     "languageId": "plaintext"
    }
   },
   "outputs": [],
   "source": []
  },
  {
   "cell_type": "markdown",
   "metadata": {},
   "source": [
    "### Nivel 2: Implementación con LifoQueue\n",
    "3. Uso de LifoQueue:\n",
    "\n",
    "    - Importa la clase LifoQueue del módulo queue.\n",
    "    - Crea una pila utilizando LifoQueue.\n",
    "    - Agrega los elementos \"a\", \"b\", \"c\" a la pila.\n",
    "    - Imprime la pila."
   ]
  },
  {
   "cell_type": "code",
   "execution_count": null,
   "metadata": {
    "vscode": {
     "languageId": "plaintext"
    }
   },
   "outputs": [],
   "source": []
  },
  {
   "cell_type": "markdown",
   "metadata": {},
   "source": [
    "4. Operaciones con LifoQueue:\n",
    "\n",
    "    - Utiliza la pila del ejercicio anterior.\n",
    "    - Realiza un get (pop) e imprime el elemento obtenido.\n",
    "    - Verifica si la pila está vacía utilizando el método empty()."
   ]
  },
  {
   "cell_type": "code",
   "execution_count": null,
   "metadata": {
    "vscode": {
     "languageId": "plaintext"
    }
   },
   "outputs": [],
   "source": []
  },
  {
   "cell_type": "markdown",
   "metadata": {},
   "source": [
    "### Nivel 3: Aplicaciones Básicas\n",
    "5. Revertir una cadena:\n",
    "\n",
    "    - Escribe una función que reciba una cadena como entrada y utilice una pila para revertirla."
   ]
  },
  {
   "cell_type": "code",
   "execution_count": null,
   "metadata": {
    "vscode": {
     "languageId": "plaintext"
    }
   },
   "outputs": [],
   "source": []
  },
  {
   "cell_type": "markdown",
   "metadata": {},
   "source": [
    "6. Verificar paréntesis balanceados:\n",
    "\n",
    "    - Escribe una función que reciba una cadena con paréntesis (redondos, cuadrados, llaves) y determine si los paréntesis están balanceados (cada apertura tiene su cierre correspondiente)."
   ]
  },
  {
   "cell_type": "code",
   "execution_count": null,
   "metadata": {
    "vscode": {
     "languageId": "plaintext"
    }
   },
   "outputs": [],
   "source": []
  },
  {
   "cell_type": "markdown",
   "metadata": {},
   "source": [
    "### Nivel 4: Desafíos con Pilas\n",
    "7. Simulador de pila:\n",
    "\n",
    "    - Crea un programa que simule una pila.\n",
    "    - Permite al usuario ingresar comandos: \"push\" (agregar), \"pop\" (eliminar), \"peek\" (ver cima), \"mostrar\" (imprimir pila)."
   ]
  },
  {
   "cell_type": "code",
   "execution_count": null,
   "metadata": {
    "vscode": {
     "languageId": "plaintext"
    }
   },
   "outputs": [],
   "source": []
  },
  {
   "cell_type": "markdown",
   "metadata": {},
   "source": [
    "8. Conversión de base decimal a binaria:\n",
    "\n",
    "    - Escribe una función que reciba un número decimal y lo convierta a su representación binaria utilizando una pila."
   ]
  },
  {
   "cell_type": "code",
   "execution_count": null,
   "metadata": {
    "vscode": {
     "languageId": "plaintext"
    }
   },
   "outputs": [],
   "source": []
  },
  {
   "cell_type": "markdown",
   "metadata": {},
   "source": [
    "### Nivel 5: Pilas y Recursión\n",
    "9. Torres de Hanói (iterativo):\n",
    "\n",
    "    - Implementa el juego de las Torres de Hanói utilizando pilas para representar las torres."
   ]
  },
  {
   "cell_type": "code",
   "execution_count": null,
   "metadata": {
    "vscode": {
     "languageId": "plaintext"
    }
   },
   "outputs": [],
   "source": []
  },
  {
   "cell_type": "markdown",
   "metadata": {},
   "source": [
    "10. Evaluación de expresiones postfix:\n",
    "\n",
    "    - Escribe una función que reciba una expresión en notación postfix (donde los operadores siguen a los operandos) y la evalúe utilizando una pila."
   ]
  },
  {
   "cell_type": "code",
   "execution_count": null,
   "metadata": {
    "vscode": {
     "languageId": "plaintext"
    }
   },
   "outputs": [],
   "source": []
  },
  {
   "cell_type": "markdown",
   "metadata": {},
   "source": [
    "### ¡No te rindas!\n",
    "Recuerda que la clave para dominar las pilas está en la práctica constante. Intenta resolver los ejercicios por tu cuenta y, si te encuentras con alguna dificultad, no dudes en consultar la documentación de Python o buscar ejemplos en línea. ¡Mucho éxito en tu aprendizaje!"
   ]
  }
 ],
 "metadata": {
  "language_info": {
   "name": "python"
  }
 },
 "nbformat": 4,
 "nbformat_minor": 2
}
