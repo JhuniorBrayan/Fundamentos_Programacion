{
 "cells": [
  {
   "cell_type": "markdown",
   "metadata": {},
   "source": [
    "## 3. Estructura de Datos \n",
    "\n",
    "# **📌 Pilas(Stacks)**\n",
    "Las **pilas (stacks)** son estructuras de datos que siguen el principio **LIFO** (*Last In, First Out*), es decir, el último elemento en ingresar es el primero en salir. \n",
    "\n",
    "Son utilizadas en múltiples aplicaciones, como la gestión de llamadas en una pila de ejecución, el control de operaciones en editores de texto (*deshacer/rehacer*), entre otras.\n",
    "\n",
    "---\n",
    "### 🎯 Objetivo\n",
    "En esta lección aprenderás:\n",
    "- Qué es una pila y cómo funciona.\n",
    "- Las operaciones básicas de una pila (*push, pop, peek*).\n",
    "- Cómo implementar una pila en Python.\n",
    "- Aplicaciones prácticas de las pilas.\n",
    "\n",
    "---\n",
    "## 🔹 Implementación de Pilas en Python\n",
    "En Python, podemos implementar una pila utilizando una **lista (`list`)** o la clase **`LifoQueue`** del módulo `queue`.\n",
    "\n",
    "### 1️⃣ Implementación con Listas"
   ]
  },
  {
   "cell_type": "code",
   "execution_count": 1,
   "metadata": {},
   "outputs": [
    {
     "name": "stdout",
     "output_type": "stream",
     "text": [
      "Pila actual: ['A', 'B', 'C']\n",
      "Elemento eliminado: C\n",
      "Pila después del pop: ['A', 'B']\n",
      "Elemento en la cima: B\n"
     ]
    }
   ],
   "source": [
    "stack = []  # Crear una pila vacía\n",
    "\n",
    "# Operación PUSH (agregar elemento)\n",
    "stack.append(\"A\")  # Pila: ['A']\n",
    "stack.append(\"B\")  # Pila: ['A', 'B']\n",
    "stack.append(\"C\")  # Pila: ['A', 'B', 'C']\n",
    "\n",
    "print(\"Pila actual:\", stack)  # ['A', 'B', 'C']\n",
    "\n",
    "# Operación POP (eliminar el último elemento)\n",
    "elemento = stack.pop()\n",
    "print(\"Elemento eliminado:\", elemento)  # 'C'\n",
    "print(\"Pila después del pop:\", stack)  # ['A', 'B']\n",
    "\n",
    "# Operación PEEK (ver el tope de la pila)\n",
    "tope = stack[-1]\n",
    "print(\"Elemento en la cima:\", tope)  # 'B'"
   ]
  },
  {
   "cell_type": "markdown",
   "metadata": {},
   "source": [
    "📌 **Nota**: `append()` agrega elementos al final, y `pop()` los elimina siguiendo el principio **LIFO**.\n",
    "\n",
    "---\n",
    "### 2️⃣ Implementación con `queue.LifoQueue`\n",
    "Otra forma de implementar pilas en Python es usando la clase `LifoQueue` del módulo `queue`."
   ]
  },
  {
   "cell_type": "code",
   "execution_count": 2,
   "metadata": {},
   "outputs": [
    {
     "name": "stdout",
     "output_type": "stream",
     "text": [
      "Elemento en la cima: 30\n",
      "Nueva cima: 20\n"
     ]
    }
   ],
   "source": [
    "from queue import LifoQueue\n",
    "\n",
    "stack = LifoQueue()\n",
    "stack.put(10)\n",
    "stack.put(20)\n",
    "stack.put(30)\n",
    "\n",
    "print(\"Elemento en la cima:\", stack.queue[-1])  # 30\n",
    "\n",
    "stack.get()  # Elimina 30\n",
    "print(\"Nueva cima:\", stack.queue[-1])  # 20"
   ]
  },
  {
   "cell_type": "markdown",
   "metadata": {},
   "source": [
    "📌 **Nota**: `put()` agrega elementos y `get()` los elimina siguiendo **LIFO**.\n",
    "\n",
    "---\n",
    "## 📌 Aplicaciones de Pilas\n",
    "🔹 **Gestión de llamadas en un programa**: Cuando una función llama a otra, se apilan las llamadas hasta que se resuelven."
   ]
  },
  {
   "cell_type": "code",
   "execution_count": 3,
   "metadata": {},
   "outputs": [
    {
     "name": "stdout",
     "output_type": "stream",
     "text": [
      "Inicio A\n",
      "Inicio B\n",
      "Fin B\n",
      "Fin A\n"
     ]
    }
   ],
   "source": [
    "def funcion_a():\n",
    "    print(\"Inicio A\")\n",
    "    funcion_b()\n",
    "    print(\"Fin A\")\n",
    "\n",
    "def funcion_b():\n",
    "    print(\"Inicio B\")\n",
    "    print(\"Fin B\")\n",
    "\n",
    "funcion_a()"
   ]
  },
  {
   "cell_type": "markdown",
   "metadata": {},
   "source": [
    "📌 **Explicación**: `funcion_a` llama a `funcion_b`, esta se ejecuta y luego `funcion_a` finaliza.\n",
    "\n",
    "🔹 **Historial en navegadores**: Al retroceder, el navegador usa una pila para almacenar las páginas visitadas.\n"
   ]
  },
  {
   "cell_type": "code",
   "execution_count": 4,
   "metadata": {},
   "outputs": [
    {
     "name": "stdout",
     "output_type": "stream",
     "text": [
      "Última página visitada: Página 3\n",
      "Volver a: Página 2\n"
     ]
    }
   ],
   "source": [
    "historial = []\n",
    "historial.append(\"Página 1\")\n",
    "historial.append(\"Página 2\")\n",
    "historial.append(\"Página 3\")\n",
    "\n",
    "print(\"Última página visitada:\", historial.pop())  # Página 3\n",
    "print(\"Volver a:\", historial[-1])  # Página 2"
   ]
  },
  {
   "cell_type": "markdown",
   "metadata": {},
   "source": [
    "---\n",
    "## ✅ Conclusión\n",
    "- Una **pila** sigue el principio **LIFO** (*Último en entrar, primero en salir*).\n",
    "- Se pueden implementar con listas (`list`) o con `queue.LifoQueue`.\n",
    "- Se utilizan en múltiples aplicaciones como control de ejecución, navegadores, editores de texto, etc.\n",
    "\n",
    "🔹 **Reflexión**: ¿En qué situaciones de la vida cotidiana crees que se usan pilas? 🤔\n"
   ]
  }
 ],
 "metadata": {
  "kernelspec": {
   "display_name": "venvc",
   "language": "python",
   "name": "python3"
  },
  "language_info": {
   "codemirror_mode": {
    "name": "ipython",
    "version": 3
   },
   "file_extension": ".py",
   "mimetype": "text/x-python",
   "name": "python",
   "nbconvert_exporter": "python",
   "pygments_lexer": "ipython3",
   "version": "3.12.8"
  }
 },
 "nbformat": 4,
 "nbformat_minor": 2
}
