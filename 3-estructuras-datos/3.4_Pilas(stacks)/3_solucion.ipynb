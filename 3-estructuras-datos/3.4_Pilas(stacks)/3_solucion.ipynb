{
 "cells": [
  {
   "cell_type": "markdown",
   "metadata": {},
   "source": [
    "## Ejercicios: Estructura de Datos - Pilas\n",
    "\n",
    "### Nivel 1: Introducción a Pilas\n",
    "1. Creación y push:\n",
    "\n",
    "    - Crea una pila vacía utilizando una lista.\n",
    "    - Agrega (push) los siguientes elementos: 10, 20, 30.\n",
    "    - Imprime la pila resultante."
   ]
  },
  {
   "cell_type": "code",
   "execution_count": null,
   "metadata": {
    "vscode": {
     "languageId": "plaintext"
    }
   },
   "outputs": [],
   "source": [
    "stack = []  # Crear una pila vacía\n",
    "\n",
    "stack.append(10)  # Agregar 10\n",
    "stack.append(20)  # Agregar 20\n",
    "stack.append(30)  # Agregar 30\n",
    "\n",
    "print(stack)  # Salida: [10, 20, 30]"
   ]
  },
  {
   "cell_type": "markdown",
   "metadata": {},
   "source": [
    "2. Pop y peek:\n",
    "\n",
    "    - Utiliza la pila del ejercicio anterior.\n",
    "    - Realiza un pop (eliminar el último elemento) e imprime el elemento eliminado.\n",
    "    - Realiza un peek (ver el último elemento sin eliminarlo) e imprime el elemento en la cima."
   ]
  },
  {
   "cell_type": "code",
   "execution_count": null,
   "metadata": {
    "vscode": {
     "languageId": "plaintext"
    }
   },
   "outputs": [],
   "source": [
    "stack = [10, 20, 30]  # Usamos la pila del ejercicio anterior\n",
    "\n",
    "elemento_eliminado = stack.pop()  # Eliminar el último elemento (30)\n",
    "print(f\"Elemento eliminado: {elemento_eliminado}\")  # Salida: Elemento eliminado: 30\n",
    "\n",
    "elemento_cima = stack[-1]  # Ver el último elemento sin eliminarlo (20)\n",
    "print(f\"Elemento en la cima: {elemento_cima}\")  # Salida: Elemento en la cima: 20\n",
    "\n",
    "print(stack)  # Salida: [10, 20] (la pila se modificó con el pop)"
   ]
  },
  {
   "cell_type": "markdown",
   "metadata": {},
   "source": [
    "### Nivel 2: Implementación con LifoQueue\n",
    "3. Uso de LifoQueue:\n",
    "\n",
    "    - Importa la clase LifoQueue del módulo queue.\n",
    "    - Crea una pila utilizando LifoQueue.\n",
    "    - Agrega los elementos \"a\", \"b\", \"c\" a la pila.\n",
    "    - Imprime la pila."
   ]
  },
  {
   "cell_type": "code",
   "execution_count": null,
   "metadata": {
    "vscode": {
     "languageId": "plaintext"
    }
   },
   "outputs": [],
   "source": [
    "from queue import LifoQueue\n",
    "\n",
    "stack = LifoQueue()\n",
    "\n",
    "stack.put(\"a\")  # Agregar \"a\"\n",
    "stack.put(\"b\")  # Agregar \"b\"\n",
    "stack.put(\"c\")  # Agregar \"c\"\n",
    "\n",
    "print(stack.queue)  # Salida: ['a', 'b', 'c'] (la lista interna de LifoQueue)"
   ]
  },
  {
   "cell_type": "markdown",
   "metadata": {},
   "source": [
    "4. Operaciones con LifoQueue:\n",
    "\n",
    "    - Utiliza la pila del ejercicio anterior.\n",
    "    - Realiza un get (pop) e imprime el elemento obtenido.\n",
    "    - Verifica si la pila está vacía utilizando el método empty()."
   ]
  },
  {
   "cell_type": "code",
   "execution_count": null,
   "metadata": {
    "vscode": {
     "languageId": "plaintext"
    }
   },
   "outputs": [],
   "source": [
    "from queue import LifoQueue\n",
    "\n",
    "stack = LifoQueue()\n",
    "stack.put(\"a\")\n",
    "stack.put(\"b\")\n",
    "stack.put(\"c\")\n",
    "\n",
    "elemento_obtenido = stack.get()  # Obtener (y eliminar) el último elemento (\"c\")\n",
    "print(f\"Elemento obtenido: {elemento_obtenido}\")  # Salida: Elemento obtenido: c\n",
    "\n",
    "esta_vacia = stack.empty()  # Verificar si la pila está vacía\n",
    "print(f\"¿La pila está vacía?: {esta_vacia}\")  # Salida: ¿La pila está vacía?: False"
   ]
  },
  {
   "cell_type": "markdown",
   "metadata": {},
   "source": [
    "### Nivel 3: Aplicaciones Básicas\n",
    "5. Revertir una cadena:\n",
    "\n",
    "    - Escribe una función que reciba una cadena como entrada y utilice una pila para revertirla."
   ]
  },
  {
   "cell_type": "code",
   "execution_count": null,
   "metadata": {
    "vscode": {
     "languageId": "plaintext"
    }
   },
   "outputs": [],
   "source": [
    "def revertir_cadena(cadena):\n",
    "    pila = []\n",
    "    for caracter in cadena:\n",
    "        pila.append(caracter)  # Apilar cada caracter\n",
    "    cadena_revertida = \"\"\n",
    "    while pila:\n",
    "        cadena_revertida += pila.pop()  # Desapilar y concatenar\n",
    "    return cadena_revertida\n",
    "\n",
    "cadena = \"hola\"\n",
    "revertida = revertir_cadena(cadena)\n",
    "print(f\"Cadena original: {cadena}\")  # Salida: Cadena original: hola\n",
    "print(f\"Cadena revertida: {revertida}\")  # Salida: Cadena revertida: aloh"
   ]
  },
  {
   "cell_type": "markdown",
   "metadata": {},
   "source": [
    "6. Verificar paréntesis balanceados:\n",
    "\n",
    "    - Escribe una función que reciba una cadena con paréntesis (redondos, cuadrados, llaves) y determine si los paréntesis están balanceados (cada apertura tiene su cierre correspondiente)."
   ]
  },
  {
   "cell_type": "code",
   "execution_count": null,
   "metadata": {
    "vscode": {
     "languageId": "plaintext"
    }
   },
   "outputs": [],
   "source": [
    "def verificar_parentesis(cadena):\n",
    "    pila = []\n",
    "    pares = {\")\": \"(\", \"]\": \"[\", \"}\": \"{\"}  # Diccionario de pares\n",
    "\n",
    "    for caracter in cadena:\n",
    "        if caracter in \"({[\":  # Si es un paréntesis de apertura\n",
    "            pila.append(caracter)  # Apilar\n",
    "        elif caracter in \")}]\":  # Si es un paréntesis de cierre\n",
    "            if not pila or pila[-1] != pares[caracter]:  # No hay apertura o no coincide\n",
    "                return False  # No están balanceados\n",
    "            pila.pop()  # Desapilar si coincide\n",
    "    return not pila  # Si la pila está vacía al final, están balanceados\n",
    "\n",
    "print(verificar_parentesis(\"()[]{}\"))  # Salida: True\n",
    "print(verificar_parentesis(\"([)]\"))  # Salida: False"
   ]
  },
  {
   "cell_type": "markdown",
   "metadata": {},
   "source": [
    "### Nivel 4: Desafíos con Pilas\n",
    "7. Simulador de pila:\n",
    "\n",
    "    - Crea un programa que simule una pila.\n",
    "    - Permite al usuario ingresar comandos: \"push\" (agregar), \"pop\" (eliminar), \"peek\" (ver cima), \"mostrar\" (imprimir pila)."
   ]
  },
  {
   "cell_type": "code",
   "execution_count": null,
   "metadata": {
    "vscode": {
     "languageId": "plaintext"
    }
   },
   "outputs": [],
   "source": [
    "pila = []\n",
    "\n",
    "while True:\n",
    "    comando = input(\"Ingrese un comando (push, pop, peek, mostrar, salir): \")\n",
    "\n",
    "    if comando == \"push\":\n",
    "        elemento = input(\"Ingrese el elemento a agregar: \")\n",
    "        pila.append(elemento)\n",
    "    elif comando == \"pop\":\n",
    "        if pila:\n",
    "            elemento_eliminado = pila.pop()\n",
    "            print(f\"Elemento eliminado: {elemento_eliminado}\")\n",
    "        else:\n",
    "            print(\"La pila está vacía.\")\n",
    "    elif comando == \"peek\":\n",
    "        if pila:\n",
    "            elemento_cima = pila[-1]\n",
    "            print(f\"Elemento en la cima: {elemento_cima}\")\n",
    "        else:\n",
    "            print(\"La pila está vacía.\")\n",
    "    elif comando == \"mostrar\":\n",
    "        print(pila)\n",
    "    elif comando == \"salir\":\n",
    "        break\n",
    "    else:\n",
    "        print(\"Comando inválido.\")"
   ]
  },
  {
   "cell_type": "markdown",
   "metadata": {},
   "source": [
    "8. Conversión de base decimal a binaria:\n",
    "\n",
    "    - Escribe una función que reciba un número decimal y lo convierta a su representación binaria utilizando una pila."
   ]
  },
  {
   "cell_type": "code",
   "execution_count": null,
   "metadata": {
    "vscode": {
     "languageId": "plaintext"
    }
   },
   "outputs": [],
   "source": [
    "def decimal_a_binario(decimal):\n",
    "    pila = []\n",
    "    if decimal == 0:\n",
    "        return \"0\"  # Caso especial para el número 0\n",
    "    while decimal > 0:\n",
    "        residuo = decimal % 2  # Obtener el residuo (0 o 1)\n",
    "        pila.append(str(residuo))  # Apilar el residuo (convertido a cadena)\n",
    "        decimal //= 2  # División entera para seguir obteniendo los dígitos\n",
    "    binario = \"\"\n",
    "    while pila:\n",
    "        binario += pila.pop()  # Desapilar y concatenar los residuos\n",
    "    return binario\n",
    "\n",
    "print(decimal_a_binario(10))  # Salida: 1010\n",
    "print(decimal_a_binario(0))  # Salida: 0"
   ]
  },
  {
   "cell_type": "markdown",
   "metadata": {},
   "source": [
    "### Nivel 5: Pilas y Recursión\n",
    "9. Torres de Hanói (iterativo):\n",
    "\n",
    "    - Implementa el juego de las Torres de Hanói utilizando pilas para representar las torres."
   ]
  },
  {
   "cell_type": "code",
   "execution_count": null,
   "metadata": {
    "vscode": {
     "languageId": "plaintext"
    }
   },
   "outputs": [],
   "source": [
    "def torres_hanoi(n, origen, destino, auxiliar):\n",
    "    pila = [(n, origen, destino, auxiliar)]  # Pila para simular la recursión\n",
    "    while pila:\n",
    "        n, origen, destino, auxiliar = pila.pop()  # Simular la llamada recursiva\n",
    "        if n == 1:\n",
    "            print(f\"Mover disco 1 de {origen} a {destino}\")\n",
    "        else:\n",
    "            pila.append((n - 1, auxiliar, destino, origen))  # Llamada recursiva 1\n",
    "            pila.append((1, origen, destino, auxiliar))  # Mover el disco n\n",
    "            pila.append((n - 1, origen, auxiliar, destino))  # Llamada recursiva 2\n",
    "\n",
    "torres_hanoi(3, \"A\", \"C\", \"B\")  # Ejemplo con 3 discos y torres A, B, C"
   ]
  },
  {
   "cell_type": "markdown",
   "metadata": {},
   "source": [
    "10. Evaluación de expresiones postfix:\n",
    "\n",
    "    - Escribe una función que reciba una expresión en notación postfix (donde los operadores siguen a los operandos) y la evalúe utilizando una pila."
   ]
  },
  {
   "cell_type": "code",
   "execution_count": null,
   "metadata": {
    "vscode": {
     "languageId": "plaintext"
    }
   },
   "outputs": [],
   "source": [
    "def evaluar_postfix(expresion):\n",
    "    pila = []\n",
    "    operadores = {\"+\": lambda x, y: x + y, \"-\": lambda x, y: x - y,\n",
    "                  \"*\": lambda x, y: x * y, \"/\": lambda x, y: x / y}\n",
    "\n",
    "    for token in expresion.split():  # Dividir la expresión en tokens\n",
    "        if token in operadores:  # Si es un operador\n",
    "            operando2 = pila.pop()  # Obtener el segundo operando\n",
    "            operando1 = pila.pop()  # Obtener el primer operando\n",
    "            resultado = operadores[token](operando1, operando2)  # Evaluar la operación\n",
    "            pila.append(resultado)  # Apilar el resultado\n",
    "        else:  # Si es un operando\n",
    "            pila.append(float(token))  # Apilar el operando (convertido a float)\n",
    "    return pila.pop()  # El resultado final queda en la pila\n",
    "\n",
    "expresion = \"2 3 + 4 *\"  # Ejemplo: (2 + 3) * 4\n",
    "resultado = evaluar_postfix(expresion)\n",
    "print(f\"Resultado de la expresión postfix: {resultado}\")  # Salida: 20.0"
   ]
  },
  {
   "cell_type": "markdown",
   "metadata": {},
   "source": [
    "### ¡No te rindas!\n",
    "Recuerda que la clave para dominar las pilas está en la práctica constante. Intenta resolver los ejercicios por tu cuenta y, si te encuentras con alguna dificultad, no dudes en consultar la documentación de Python o buscar ejemplos en línea. ¡Mucho éxito en tu aprendizaje!"
   ]
  }
 ],
 "metadata": {
  "language_info": {
   "name": "python"
  }
 },
 "nbformat": 4,
 "nbformat_minor": 2
}
