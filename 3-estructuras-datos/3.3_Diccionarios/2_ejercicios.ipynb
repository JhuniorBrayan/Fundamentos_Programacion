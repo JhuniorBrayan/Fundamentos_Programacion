{
 "cells": [
  {
   "cell_type": "markdown",
   "metadata": {},
   "source": [
    "## Ejercicios: Estructura de Datos - Listas \n",
    "### Nivel 1: Introducción a Diccionarios\n",
    "1. Creación y acceso:\n",
    "\n",
    "    - Crea un diccionario llamado informacion_personal con tu nombre, edad y ciudad.    \n",
    "    - Imprime el diccionario completo.\n",
    "    - Accede e imprime tu edad usando la clave correspondiente."
   ]
  },
  {
   "cell_type": "code",
   "execution_count": null,
   "metadata": {
    "vscode": {
     "languageId": "plaintext"
    }
   },
   "outputs": [],
   "source": []
  },
  {
   "cell_type": "markdown",
   "metadata": {},
   "source": [
    "2. Añadir y modificar:\n",
    "\n",
    "    - Crea un diccionario vacío llamado contactos.\n",
    "    - Agrega un contacto con la clave \"Juan\" y el valor \"123-4567\".\n",
    "    - Modifica el valor del contacto \"Juan\" a \"987-6543\".\n",
    "    - Agrega otro contacto con la clave \"Maria\" y el valor \"555-5555\".\n",
    "    - Imprime el diccionario actualizado."
   ]
  },
  {
   "cell_type": "code",
   "execution_count": null,
   "metadata": {
    "vscode": {
     "languageId": "plaintext"
    }
   },
   "outputs": [],
   "source": []
  },
  {
   "cell_type": "markdown",
   "metadata": {},
   "source": [
    "### Nivel 2: Operaciones con Diccionarios\n",
    "3. Verificar existencia:\n",
    "\n",
    "    - Crea un diccionario llamado productos con algunos productos y sus precios.\n",
    "    - Escribe un código que verifique si el producto \"Camisa\" está en el diccionario.\n",
    "    - Si está, imprime su precio; si no, imprime \"Producto no encontrado\"."
   ]
  },
  {
   "cell_type": "code",
   "execution_count": null,
   "metadata": {
    "vscode": {
     "languageId": "plaintext"
    }
   },
   "outputs": [],
   "source": []
  },
  {
   "cell_type": "markdown",
   "metadata": {},
   "source": [
    "4. Eliminar elementos:\n",
    "\n",
    "    - Usa el diccionario productos del ejercicio anterior.\n",
    "    - Elimina el producto \"Zapatos\" del diccionario (si existe).\n",
    "    - Imprime el diccionario después de la eliminación."
   ]
  },
  {
   "cell_type": "code",
   "execution_count": null,
   "metadata": {
    "vscode": {
     "languageId": "plaintext"
    }
   },
   "outputs": [],
   "source": []
  },
  {
   "cell_type": "markdown",
   "metadata": {},
   "source": [
    "### Nivel 3: Bucles y Diccionarios\n",
    "5. Iterar claves y valores:\n",
    "\n",
    "- Crea un diccionario llamado calificaciones con nombres de estudiantes y sus notas.\n",
    "- Usa un bucle for para iterar sobre las claves (nombres) e imprimir cada nombre y su nota  \n",
    "- correspondiente."
   ]
  },
  {
   "cell_type": "code",
   "execution_count": null,
   "metadata": {
    "vscode": {
     "languageId": "plaintext"
    }
   },
   "outputs": [],
   "source": []
  },
  {
   "cell_type": "markdown",
   "metadata": {},
   "source": [
    "6. Diccionarios anidados:\n",
    "\n",
    "    - Crea un diccionario llamado libros donde las claves son títulos de libros y los valores son \n",
    "    - diccionarios con información del libro (autor, año de publicación, etc.).\n",
    "    - Accede e imprime el autor del libro \"El Señor de los Anillos\"."
   ]
  },
  {
   "cell_type": "code",
   "execution_count": null,
   "metadata": {
    "vscode": {
     "languageId": "plaintext"
    }
   },
   "outputs": [],
   "source": []
  },
  {
   "cell_type": "markdown",
   "metadata": {},
   "source": [
    "### Nivel 4: Desafíos con Diccionarios\n",
    "7. Contar frecuencias:\n",
    "\n",
    "    - Escribe una función que reciba una cadena de texto y devuelva un diccionario donde las claves  son las palabras de la cadena y los valores son la frecuencia con la que aparecen."
   ]
  },
  {
   "cell_type": "code",
   "execution_count": null,
   "metadata": {
    "vscode": {
     "languageId": "plaintext"
    }
   },
   "outputs": [],
   "source": []
  },
  {
   "cell_type": "markdown",
   "metadata": {},
   "source": [
    "8. Combinar diccionarios:\n",
    "\n",
    "    - Escribe una función que reciba dos diccionarios y devuelva un nuevo diccionario que contenga todos los pares clave-valor de ambos diccionarios. Si hay claves repetidas, puedes quedarte con el valor del primer diccionario."
   ]
  },
  {
   "cell_type": "code",
   "execution_count": null,
   "metadata": {
    "vscode": {
     "languageId": "plaintext"
    }
   },
   "outputs": [],
   "source": []
  },
  {
   "cell_type": "markdown",
   "metadata": {},
   "source": [
    "### Nivel 5: Diccionarios y Listas\n",
    "9. Lista de diccionarios:\n",
    "\n",
    "    - Crea una lista donde cada elemento sea un diccionario con información de una persona (nombre, edad, ciudad).\n",
    "    - Itera sobre la lista e imprime el nombre y la ciudad de cada persona."
   ]
  },
  {
   "cell_type": "code",
   "execution_count": null,
   "metadata": {
    "vscode": {
     "languageId": "plaintext"
    }
   },
   "outputs": [],
   "source": []
  },
  {
   "cell_type": "markdown",
   "metadata": {},
   "source": [
    "10. Diccionario de listas:\n",
    "\n",
    "- Crea un diccionario donde las claves sean nombres de países y los valores sean listas de ciudades de ese país.\n",
    "- Imprime todas las ciudades de un país específico (por ejemplo, \"España\")."
   ]
  },
  {
   "cell_type": "code",
   "execution_count": null,
   "metadata": {
    "vscode": {
     "languageId": "plaintext"
    }
   },
   "outputs": [],
   "source": []
  },
  {
   "cell_type": "markdown",
   "metadata": {},
   "source": [
    "## ¡No te rindas!\n",
    "Recuerda que la clave para dominar los diccionarios está en la práctica constante. Intenta resolver los ejercicios por tu cuenta y, si te encuentras con alguna dificultad, no dudes en consultar la documentación de Python o buscar ejemplos en línea. ¡Mucho éxito en tu aprendizaje!"
   ]
  }
 ],
 "metadata": {
  "language_info": {
   "name": "python"
  }
 },
 "nbformat": 4,
 "nbformat_minor": 2
}
