{
 "cells": [
  {
   "cell_type": "markdown",
   "metadata": {},
   "source": [
    "## Ejercicios: Estructura de Datos - Listas \n",
    "### Nivel 1: Introducción a Diccionarios\n",
    "1. Creación y acceso:\n",
    "\n",
    "    - Crea un diccionario llamado informacion_personal con tu nombre, edad y ciudad.    \n",
    "    - Imprime el diccionario completo.\n",
    "    - Accede e imprime tu edad usando la clave correspondiente."
   ]
  },
  {
   "cell_type": "code",
   "execution_count": 10,
   "metadata": {},
   "outputs": [
    {
     "name": "stdout",
     "output_type": "stream",
     "text": [
      "{'nombre': 'Jhunior', 'edad': 22, 'ciudad': 'Bagua Grande'}\n",
      "22\n"
     ]
    }
   ],
   "source": [
    "informacion_personal = {\n",
    "    \"nombre\": \"Jhunior\",  # Reemplaza con tu nombre\n",
    "    \"edad\": 22,          # Reemplaza con tu edad\n",
    "    \"ciudad\": \"Bagua Grande\"   # Reemplaza con tu ciudad\n",
    "}\n",
    "\n",
    "print(informacion_personal)\n",
    "print(informacion_personal[\"edad\"])"
   ]
  },
  {
   "cell_type": "markdown",
   "metadata": {},
   "source": [
    "2. Añadir y modificar:\n",
    "\n",
    "    - Crea un diccionario vacío llamado contactos.\n",
    "    - Agrega un contacto con la clave \"Juan\" y el valor \"123-4567\".\n",
    "    - Modifica el valor del contacto \"Juan\" a \"987-6543\".\n",
    "    - Agrega otro contacto con la clave \"Maria\" y el valor \"555-5555\".\n",
    "    - Imprime el diccionario actualizado."
   ]
  },
  {
   "cell_type": "code",
   "execution_count": 1,
   "metadata": {},
   "outputs": [
    {
     "name": "stdout",
     "output_type": "stream",
     "text": [
      "{'Juan': '987-6543', 'Maria': '555-5555'}\n"
     ]
    }
   ],
   "source": [
    "contactos = {}\n",
    "\n",
    "contactos[\"Juan\"] = \"123-4567\"\n",
    "contactos[\"Juan\"] = \"987-6543\"  # Se modifica el valor\n",
    "contactos[\"Maria\"] = \"555-5555\"\n",
    "\n",
    "print(contactos)"
   ]
  },
  {
   "cell_type": "markdown",
   "metadata": {},
   "source": [
    "### Nivel 2: Operaciones con Diccionarios\n",
    "3. Verificar existencia:\n",
    "\n",
    "    - Crea un diccionario llamado productos con algunos productos y sus precios.\n",
    "    - Escribe un código que verifique si el producto \"Camisa\" está en el diccionario.\n",
    "    - Si está, imprime su precio; si no, imprime \"Producto no encontrado\"."
   ]
  },
  {
   "cell_type": "code",
   "execution_count": 2,
   "metadata": {},
   "outputs": [
    {
     "name": "stdout",
     "output_type": "stream",
     "text": [
      "El precio de la camisa es: 25\n"
     ]
    }
   ],
   "source": [
    "productos = {\n",
    "    \"Camisa\": 25,\n",
    "    \"Pantalón\": 40,\n",
    "    \"Zapatos\": 60\n",
    "}\n",
    "\n",
    "if \"Camisa\" in productos:\n",
    "    print(f\"El precio de la camisa es: {productos['Camisa']}\")\n",
    "else:\n",
    "    print(\"Producto no encontrado\")"
   ]
  },
  {
   "cell_type": "markdown",
   "metadata": {},
   "source": [
    "4. Eliminar elementos:\n",
    "\n",
    "    - Usa el diccionario productos del ejercicio anterior.\n",
    "    - Elimina el producto \"Zapatos\" del diccionario (si existe).\n",
    "    - Imprime el diccionario después de la eliminación."
   ]
  },
  {
   "cell_type": "code",
   "execution_count": 3,
   "metadata": {},
   "outputs": [
    {
     "name": "stdout",
     "output_type": "stream",
     "text": [
      "{'Camisa': 25, 'Pantalón': 40}\n"
     ]
    }
   ],
   "source": [
    "productos = {  # Usamos el diccionario del ejercicio anterior\n",
    "    \"Camisa\": 25,\n",
    "    \"Pantalón\": 40,\n",
    "    \"Zapatos\": 60\n",
    "}\n",
    "\n",
    "if \"Zapatos\" in productos:\n",
    "    del productos[\"Zapatos\"]\n",
    "\n",
    "print(productos)"
   ]
  },
  {
   "cell_type": "markdown",
   "metadata": {},
   "source": [
    "### Nivel 3: Bucles y Diccionarios\n",
    "5. Iterar claves y valores:\n",
    "\n",
    "- Crea un diccionario llamado calificaciones con nombres de estudiantes y sus notas.\n",
    "- Usa un bucle for para iterar sobre las claves (nombres) e imprimir cada nombre y su nota  \n",
    "- correspondiente."
   ]
  },
  {
   "cell_type": "code",
   "execution_count": 4,
   "metadata": {},
   "outputs": [
    {
     "name": "stdout",
     "output_type": "stream",
     "text": [
      "Ana: 95\n",
      "Juan: 80\n",
      "Maria: 90\n"
     ]
    }
   ],
   "source": [
    "calificaciones = {\n",
    "    \"Ana\": 95,\n",
    "    \"Juan\": 80,\n",
    "    \"Maria\": 90\n",
    "}\n",
    "\n",
    "for nombre, nota in calificaciones.items():\n",
    "    print(f\"{nombre}: {nota}\")"
   ]
  },
  {
   "cell_type": "markdown",
   "metadata": {},
   "source": [
    "6. Diccionarios anidados:\n",
    "\n",
    "    - Crea un diccionario llamado libros donde las claves son títulos de libros y los valores son \n",
    "    - diccionarios con información del libro (autor, año de publicación, etc.).\n",
    "    - Accede e imprime el autor del libro \"El Señor de los Anillos\"."
   ]
  },
  {
   "cell_type": "code",
   "execution_count": 5,
   "metadata": {},
   "outputs": [
    {
     "name": "stdout",
     "output_type": "stream",
     "text": [
      "J.R.R. Tolkien\n"
     ]
    }
   ],
   "source": [
    "libros = {\n",
    "    \"El Señor de los Anillos\": {\"autor\": \"J.R.R. Tolkien\", \"año\": 1954},\n",
    "    \"1984\": {\"autor\": \"George Orwell\", \"año\": 1949},\n",
    "    \"Cien años de soledad\": {\"autor\": \"Gabriel García Márquez\", \"año\": 1967}\n",
    "}\n",
    "\n",
    "print(libros[\"El Señor de los Anillos\"][\"autor\"])"
   ]
  },
  {
   "cell_type": "markdown",
   "metadata": {},
   "source": [
    "### Nivel 4: Desafíos con Diccionarios\n",
    "7. Contar frecuencias:\n",
    "\n",
    "    - Escribe una función que reciba una cadena de texto y devuelva un diccionario donde las claves  son las palabras de la cadena y los valores son la frecuencia con la que aparecen."
   ]
  },
  {
   "cell_type": "code",
   "execution_count": 6,
   "metadata": {},
   "outputs": [
    {
     "name": "stdout",
     "output_type": "stream",
     "text": [
      "{'este': 1, 'es': 1, 'un': 1, 'ejemplo': 1, 'de': 2, 'texto': 1, 'para': 1, 'contar': 1, 'frecuencias': 1, 'palabras': 1}\n"
     ]
    }
   ],
   "source": [
    "def contar_frecuencias(texto):\n",
    "    palabras = texto.split()  # Divide el texto en palabras\n",
    "    frecuencias = {}\n",
    "    for palabra in palabras:\n",
    "        if palabra in frecuencias:\n",
    "            frecuencias[palabra] += 1\n",
    "        else:\n",
    "            frecuencias[palabra] = 1\n",
    "    return frecuencias\n",
    "\n",
    "texto = \"este es un ejemplo de texto para contar frecuencias de palabras\"\n",
    "resultado = contar_frecuencias(texto)\n",
    "print(resultado)"
   ]
  },
  {
   "cell_type": "markdown",
   "metadata": {},
   "source": [
    "8. Combinar diccionarios:\n",
    "\n",
    "    - Escribe una función que reciba dos diccionarios y devuelva un nuevo diccionario que contenga todos los pares clave-valor de ambos diccionarios. Si hay claves repetidas, puedes quedarte con el valor del primer diccionario."
   ]
  },
  {
   "cell_type": "code",
   "execution_count": 7,
   "metadata": {},
   "outputs": [
    {
     "name": "stdout",
     "output_type": "stream",
     "text": [
      "{'a': 1, 'b': 3, 'c': 4}\n"
     ]
    }
   ],
   "source": [
    "def combinar_diccionarios(dic1, dic2):\n",
    "    combinado = dic1.copy()  # Hacemos una copia para no modificar el original\n",
    "    combinado.update(dic2)  # Agrega los elementos de dic2 (sobrescribe si hay claves repetidas)\n",
    "    return combinado\n",
    "\n",
    "dic1 = {\"a\": 1, \"b\": 2}\n",
    "dic2 = {\"b\": 3, \"c\": 4}\n",
    "resultado = combinar_diccionarios(dic1, dic2)\n",
    "print(resultado)"
   ]
  },
  {
   "cell_type": "markdown",
   "metadata": {},
   "source": [
    "### Nivel 5: Diccionarios y Listas\n",
    "9. Lista de diccionarios:\n",
    "\n",
    "    - Crea una lista donde cada elemento sea un diccionario con información de una persona (nombre, edad, ciudad).\n",
    "    - Itera sobre la lista e imprime el nombre y la ciudad de cada persona."
   ]
  },
  {
   "cell_type": "code",
   "execution_count": 8,
   "metadata": {},
   "outputs": [
    {
     "name": "stdout",
     "output_type": "stream",
     "text": [
      "Nombre: Ana, Ciudad: Madrid\n",
      "Nombre: Carlos, Ciudad: Barcelona\n",
      "Nombre: Sofía, Ciudad: Valencia\n"
     ]
    }
   ],
   "source": [
    "personas = [\n",
    "    {\"nombre\": \"Ana\", \"edad\": 30, \"ciudad\": \"Madrid\"},\n",
    "    {\"nombre\": \"Carlos\", \"edad\": 25, \"ciudad\": \"Barcelona\"},\n",
    "    {\"nombre\": \"Sofía\", \"edad\": 28, \"ciudad\": \"Valencia\"}\n",
    "]\n",
    "\n",
    "for persona in personas:\n",
    "    print(f\"Nombre: {persona['nombre']}, Ciudad: {persona['ciudad']}\")"
   ]
  },
  {
   "cell_type": "markdown",
   "metadata": {},
   "source": [
    "10. Diccionario de listas:\n",
    "\n",
    "- Crea un diccionario donde las claves sean nombres de países y los valores sean listas de ciudades de ese país.\n",
    "- Imprime todas las ciudades de un país específico (por ejemplo, \"España\")."
   ]
  },
  {
   "cell_type": "code",
   "execution_count": 9,
   "metadata": {},
   "outputs": [
    {
     "name": "stdout",
     "output_type": "stream",
     "text": [
      "Ciudades de España: ['Madrid', 'Barcelona', 'Valencia']\n"
     ]
    }
   ],
   "source": [
    "paises = {\n",
    "    \"España\": [\"Madrid\", \"Barcelona\", \"Valencia\"],\n",
    "    \"México\": [\"Ciudad de México\", \"Guadalajara\", \"Monterrey\"],\n",
    "    \"Argentina\": [\"Buenos Aires\", \"Córdoba\", \"Rosario\"]\n",
    "}\n",
    "\n",
    "pais = \"España\"\n",
    "if pais in paises:\n",
    "    print(f\"Ciudades de {pais}: {paises[pais]}\")"
   ]
  },
  {
   "cell_type": "markdown",
   "metadata": {},
   "source": [
    "## ¡No te rindas!\n",
    "Recuerda que la clave para dominar los diccionarios está en la práctica constante. Intenta resolver los ejercicios por tu cuenta y, si te encuentras con alguna dificultad, no dudes en consultar la documentación de Python o buscar ejemplos en línea. ¡Mucho éxito en tu aprendizaje!"
   ]
  }
 ],
 "metadata": {
  "kernelspec": {
   "display_name": "venvc",
   "language": "python",
   "name": "python3"
  },
  "language_info": {
   "codemirror_mode": {
    "name": "ipython",
    "version": 3
   },
   "file_extension": ".py",
   "mimetype": "text/x-python",
   "name": "python",
   "nbconvert_exporter": "python",
   "pygments_lexer": "ipython3",
   "version": "3.12.8"
  }
 },
 "nbformat": 4,
 "nbformat_minor": 2
}
