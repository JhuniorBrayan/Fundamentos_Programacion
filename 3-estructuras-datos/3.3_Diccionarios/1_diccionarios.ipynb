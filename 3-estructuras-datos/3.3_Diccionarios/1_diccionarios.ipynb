{
 "cells": [
  {
   "cell_type": "markdown",
   "metadata": {},
   "source": [
    "## 3. Estructura de Datos \n",
    "\n",
    "# **📌 Diccionarios**\n",
    "\n",
    "Los **diccionarios** son estructuras de datos en Python que permiten almacenar información en pares **clave-valor**. Son extremadamente útiles cuando se necesita acceder a valores de manera rápida sin recorrer una lista o array.\n",
    "\n",
    "A diferencia de listas o arrays, donde los elementos se acceden mediante un índice numérico, en los diccionarios cada elemento está asociado a una clave única, lo que facilita la organización y recuperación de datos.\n",
    "\n",
    "---\n",
    "### 🎯 Objetivo\n",
    "En esta lección aprenderás:\n",
    "- Qué son los diccionarios y cómo funcionan.\n",
    "- Cómo agregar, eliminar y buscar elementos en un diccionario.\n",
    "- Cómo utilizar diccionarios para organizar información de manera eficiente.\n",
    "\n",
    "---\n",
    "## 📌 Creación y Uso de Diccionarios\n",
    "Para definir un diccionario en Python, utilizamos llaves `{}` y pares clave-valor separados por `:`."
   ]
  },
  {
   "cell_type": "code",
   "execution_count": 2,
   "metadata": {},
   "outputs": [
    {
     "name": "stdout",
     "output_type": "stream",
     "text": [
      "{'nombre': 'Carlos', 'edad': 25, 'ciudad': 'Madrid'}\n"
     ]
    }
   ],
   "source": [
    "# Crear un diccionario\n",
    "persona = {\n",
    "    \"nombre\": \"Carlos\",\n",
    "    \"edad\": 25,\n",
    "    \"ciudad\": \"Madrid\"\n",
    "}\n",
    "print(persona)"
   ]
  },
  {
   "cell_type": "markdown",
   "metadata": {},
   "source": [
    "Cada clave en un diccionario debe ser **única** y puede ser de tipo `str`, `int`, `float` o `tuple`, mientras que los valores pueden ser de cualquier tipo."
   ]
  },
  {
   "cell_type": "markdown",
   "metadata": {},
   "source": [
    "---\n",
    "## 🔍 Acceso a Elementos\n",
    "Para acceder a los valores de un diccionario, usamos la clave asociada."
   ]
  },
  {
   "cell_type": "code",
   "execution_count": 3,
   "metadata": {},
   "outputs": [
    {
     "name": "stdout",
     "output_type": "stream",
     "text": [
      "Carlos\n"
     ]
    }
   ],
   "source": [
    "print(persona[\"nombre\"])  # Accede al valor de la clave \"nombre\""
   ]
  },
  {
   "cell_type": "markdown",
   "metadata": {},
   "source": [
    "📌 **Nota**: Si una clave no existe, se generará un error `KeyError`. Para evitarlo, se puede usar `.get()`:"
   ]
  },
  {
   "cell_type": "code",
   "execution_count": 4,
   "metadata": {},
   "outputs": [
    {
     "name": "stdout",
     "output_type": "stream",
     "text": [
      "No especificado\n"
     ]
    }
   ],
   "source": [
    "print(persona.get(\"profesion\", \"No especificado\"))  # Si no existe, devuel"
   ]
  },
  {
   "cell_type": "markdown",
   "metadata": {},
   "source": [
    "---\n",
    "## 🔄 Operaciones Comunes con Diccionarios\n",
    "### 1️⃣ Agregar o Modificar Elementos"
   ]
  },
  {
   "cell_type": "code",
   "execution_count": 5,
   "metadata": {},
   "outputs": [
    {
     "name": "stdout",
     "output_type": "stream",
     "text": [
      "{'nombre': 'Carlos', 'edad': 26, 'ciudad': 'Madrid', 'profesion': 'Ingeniero'}\n"
     ]
    }
   ],
   "source": [
    "persona[\"profesion\"] = \"Ingeniero\"  # Agregar nueva clave-valor\n",
    "persona[\"edad\"] = 26  # Modificar valor existente\n",
    "print(persona)"
   ]
  },
  {
   "cell_type": "markdown",
   "metadata": {},
   "source": [
    "### 2️⃣ Eliminar Elementos"
   ]
  },
  {
   "cell_type": "code",
   "execution_count": 6,
   "metadata": {},
   "outputs": [
    {
     "name": "stdout",
     "output_type": "stream",
     "text": [
      "{'nombre': 'Carlos', 'edad': 26, 'profesion': 'Ingeniero'}\n"
     ]
    }
   ],
   "source": [
    "del persona[\"ciudad\"]  # Eliminar un elemento por clave\n",
    "print(persona)"
   ]
  },
  {
   "cell_type": "markdown",
   "metadata": {},
   "source": [
    "### 3️⃣ Buscar Elementos\n",
    "Para verificar si una clave existe en un diccionario:\n",
    "\n"
   ]
  },
  {
   "cell_type": "code",
   "execution_count": 7,
   "metadata": {},
   "outputs": [
    {
     "name": "stdout",
     "output_type": "stream",
     "text": [
      "La clave 'nombre' existe en el diccionario.\n"
     ]
    }
   ],
   "source": [
    "if \"nombre\" in persona:\n",
    "    print(\"La clave 'nombre' existe en el diccionario.\")"
   ]
  },
  {
   "cell_type": "markdown",
   "metadata": {},
   "source": [
    "### 4️⃣ Recorrer un Diccionario"
   ]
  },
  {
   "cell_type": "code",
   "execution_count": 8,
   "metadata": {},
   "outputs": [
    {
     "name": "stdout",
     "output_type": "stream",
     "text": [
      "nombre: Carlos\n",
      "edad: 26\n",
      "profesion: Ingeniero\n"
     ]
    }
   ],
   "source": [
    "for clave, valor in persona.items():\n",
    "    print(f\"{clave}: {valor}\")"
   ]
  },
  {
   "cell_type": "markdown",
   "metadata": {},
   "source": [
    "---\n",
    "## 📌 Uso de Diccionarios en Organización de Datos\n",
    "Los diccionarios son muy útiles para representar datos estructurados. Por ejemplo, un catálogo de productos:"
   ]
  },
  {
   "cell_type": "code",
   "execution_count": null,
   "metadata": {},
   "outputs": [
    {
     "name": "stdout",
     "output_type": "stream",
     "text": [
      "Mouse\n"
     ]
    }
   ],
   "source": [
    "productos = {\n",
    "    \"001\": {\"nombre\": \"Laptop\", \"precio\": 800},\n",
    "    \"002\": {\"nombre\": \"Mouse\", \"precio\": 20},\n",
    "    \"003\": {\"nombre\": \"Teclado\", \"precio\": 45}\n",
    "}\n",
    "print(productos[\"002\"][\"nombre\"])  # Acceder al nombre del producto con ID 002"
   ]
  },
  {
   "cell_type": "markdown",
   "metadata": {},
   "source": [
    "📌 **Nota**: Se pueden anidar diccionarios para representar estructuras más complejas."
   ]
  },
  {
   "cell_type": "markdown",
   "metadata": {},
   "source": [
    "---\n",
    "## ✅ Conclusión\n",
    "- Los **diccionarios** almacenan información en pares clave-valor, lo que los hace ideales para búsquedas rápidas.\n",
    "- Se pueden modificar fácilmente agregando, eliminando o actualizando elementos.\n",
    "- Son ampliamente utilizados para organizar y recuperar datos de manera eficiente.\n",
    "\n",
    "🔹 **Reflexión**: ¿En qué situaciones preferirías usar un diccionario en lugar de una lista o array? 🤔"
   ]
  }
 ],
 "metadata": {
  "kernelspec": {
   "display_name": "venvc",
   "language": "python",
   "name": "python3"
  },
  "language_info": {
   "codemirror_mode": {
    "name": "ipython",
    "version": 3
   },
   "file_extension": ".py",
   "mimetype": "text/x-python",
   "name": "python",
   "nbconvert_exporter": "python",
   "pygments_lexer": "ipython3",
   "version": "3.12.8"
  }
 },
 "nbformat": 4,
 "nbformat_minor": 2
}
