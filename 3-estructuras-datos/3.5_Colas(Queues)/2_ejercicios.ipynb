{
 "cells": [
  {
   "cell_type": "markdown",
   "metadata": {},
   "source": [
    "## Ejercicios: Estructura de Datos - Listas \n",
    "### Nivel 1: Introducción a Colas\n",
    "1. Creación y Enqueue:\n",
    "\n",
    "    - Crea una cola vacía utilizando collections.deque.\n",
    "    - Agrega (enqueue) los siguientes elementos: 10, 20, 30.\n",
    "    - Imprime la cola resultante."
   ]
  },
  {
   "cell_type": "code",
   "execution_count": null,
   "metadata": {
    "vscode": {
     "languageId": "plaintext"
    }
   },
   "outputs": [],
   "source": []
  },
  {
   "cell_type": "markdown",
   "metadata": {},
   "source": [
    "2. Dequeue y Peek:\n",
    "\n",
    "    - Utiliza la cola del ejercicio anterior.\n",
    "    - Realiza un dequeue (eliminar el primer elemento) e imprime el elemento eliminado.\n",
    "    - Realiza un peek (ver el primer elemento sin eliminarlo) e imprime el elemento en el frente."
   ]
  },
  {
   "cell_type": "code",
   "execution_count": null,
   "metadata": {
    "vscode": {
     "languageId": "plaintext"
    }
   },
   "outputs": [],
   "source": []
  },
  {
   "cell_type": "markdown",
   "metadata": {},
   "source": [
    "### Nivel 2: Implementación con Clases\n",
    "3. Uso de la clase Cola:\n",
    "\n",
    "    - Utiliza la clase Cola proporcionada en el texto.\n",
    "    - Crea una instancia de la clase.\n",
    "    - Agrega los elementos \"a\", \"b\", \"c\" a la cola.\n",
    "    - Imprime la cola (puedes agregar un método mostrar a la clase para esto)."
   ]
  },
  {
   "cell_type": "code",
   "execution_count": null,
   "metadata": {
    "vscode": {
     "languageId": "plaintext"
    }
   },
   "outputs": [],
   "source": []
  },
  {
   "cell_type": "markdown",
   "metadata": {},
   "source": [
    "4. Operaciones con la clase Cola:\n",
    "\n",
    "    - Utiliza la cola del ejercicio anterior.\n",
    "    - Realiza un dequeue e imprime el elemento obtenido.\n",
    "    - Verifica si la cola está vacía utilizando el método is_empty().\n",
    "    - Imprime el tamaño de la cola utilizando el método size()."
   ]
  },
  {
   "cell_type": "code",
   "execution_count": null,
   "metadata": {
    "vscode": {
     "languageId": "plaintext"
    }
   },
   "outputs": [],
   "source": []
  },
  {
   "cell_type": "markdown",
   "metadata": {},
   "source": [
    "### Nivel 3: Aplicaciones Básicas\n",
    "5. Simulación de una cola de impresión:\n",
    "\n",
    "    - Crea una cola para simular una cola de impresión.\n",
    "    - Agrega trabajos de impresión (cadenas) a la cola.\n",
    "    - Simula la impresión de los trabajos (dequeue) e imprime el trabajo que se está imprimiendo."
   ]
  },
  {
   "cell_type": "code",
   "execution_count": null,
   "metadata": {
    "vscode": {
     "languageId": "plaintext"
    }
   },
   "outputs": [],
   "source": []
  },
  {
   "cell_type": "markdown",
   "metadata": {},
   "source": [
    "6. Gestión de turnos:\n",
    "\n",
    "    - Crea una cola para gestionar turnos en una oficina.\n",
    "    - Agrega nombres de personas a la cola.\n",
    "    - Simula la atención de personas (dequeue) e imprime el nombre de la persona que está siendo atendida."
   ]
  },
  {
   "cell_type": "code",
   "execution_count": null,
   "metadata": {
    "vscode": {
     "languageId": "plaintext"
    }
   },
   "outputs": [],
   "source": []
  },
  {
   "cell_type": "markdown",
   "metadata": {},
   "source": [
    "### Nivel 4: Desafíos con Colas\n",
    "7. Implementación de una cola con dos pilas:\n",
    "\n",
    "    - Implementa una cola utilizando dos pilas (puedes usar listas de Python para las pilas).\n",
    "    - Las pilas te ayudarán a simular el comportamiento FIFO de una cola."
   ]
  },
  {
   "cell_type": "code",
   "execution_count": null,
   "metadata": {
    "vscode": {
     "languageId": "plaintext"
    }
   },
   "outputs": [],
   "source": []
  },
  {
   "cell_type": "markdown",
   "metadata": {},
   "source": [
    "8. Verificación de palíndromos:\n",
    "\n",
    "    - Escribe una función que reciba una cadena como entrada y utilice una cola (y una pila) para verificar si es un palíndromo (se lee igual de izquierda a derecha que de derecha a izquierda)."
   ]
  },
  {
   "cell_type": "code",
   "execution_count": null,
   "metadata": {
    "vscode": {
     "languageId": "plaintext"
    }
   },
   "outputs": [],
   "source": []
  },
  {
   "cell_type": "markdown",
   "metadata": {},
   "source": [
    "### Nivel 5: Colas y Recursión (opcional)\n",
    "9. Búsqueda en anchura (BFS) en un árbol binario:\n",
    "\n",
    "    - Implementa el algoritmo de búsqueda en anchura (BFS) en un árbol binario utilizando una cola."
   ]
  },
  {
   "cell_type": "code",
   "execution_count": null,
   "metadata": {
    "vscode": {
     "languageId": "plaintext"
    }
   },
   "outputs": [],
   "source": []
  },
  {
   "cell_type": "markdown",
   "metadata": {},
   "source": [
    "10. Simulación de una cola de espera en un supermercado:\n",
    "\n",
    "    - Simula la cola de espera en un supermercado utilizando una cola.\n",
    "    - Los clientes llegan en intervalos de tiempo aleatorios y se agregan a la cola.\n",
    "    - Los cajeros atienden a los clientes en orden FIFO.\n",
    "    - Calcula el tiempo promedio de espera de los clientes."
   ]
  },
  {
   "cell_type": "code",
   "execution_count": null,
   "metadata": {
    "vscode": {
     "languageId": "plaintext"
    }
   },
   "outputs": [],
   "source": []
  },
  {
   "cell_type": "markdown",
   "metadata": {},
   "source": [
    "### ¡No te rindas!\n",
    "Recuerda que la clave para dominar las colas está en la práctica constante. Intenta resolver los ejercicios por tu cuenta y, si te encuentras con alguna dificultad, no dudes en consultar la documentación de Python o buscar ejemplos en línea. ¡Mucho éxito en tu aprendizaje!"
   ]
  }
 ],
 "metadata": {
  "language_info": {
   "name": "python"
  }
 },
 "nbformat": 4,
 "nbformat_minor": 2
}
