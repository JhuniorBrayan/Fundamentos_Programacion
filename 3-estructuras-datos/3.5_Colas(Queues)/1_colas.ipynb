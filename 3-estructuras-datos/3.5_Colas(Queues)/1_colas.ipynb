{
 "cells": [
  {
   "cell_type": "markdown",
   "metadata": {},
   "source": [
    "## 3. Conceptos Básicos \n",
    "\n",
    "# **📌 Colas(Queues)**\n",
    "\n",
    "Las **colas (queues)** son estructuras de datos fundamentales en informática que siguen el principio **FIFO (First In, First Out)**, lo que significa que el primer elemento en ingresar es el primero en salir. Se utilizan en múltiples aplicaciones, como la gestión de procesos en sistemas operativos, la impresión de documentos y la transmisión de datos en redes.\n",
    "\n",
    "---\n",
    "\n",
    "## 🎯 Objetivo\n",
    "\n",
    "En esta lección aprenderás:\n",
    "\n",
    "- Qué son las colas y cómo funcionan.\n",
    "- Operaciones principales: `enqueue`, `dequeue` y `peek`.\n",
    "- Cómo implementar colas en Python.\n",
    "- Aplicaciones prácticas de las colas.\n",
    "\n",
    "---\n",
    "\n",
    "## 📌 Concepto de Colas\n",
    "\n",
    "Una cola es una estructura lineal en la que los elementos se añaden en un extremo (**final**) y se eliminan del otro (**frente**).\n",
    "\n",
    "🔹 **Ejemplo gráfico de una cola:**\n",
    "\n",
    "```\n",
    "[10] <- [20] <- [30] <- [40]\n",
    " ^                          ^\n",
    " |                          |\n",
    " Frente                  Final\n",
    "```\n",
    "\n",
    "🔹 **FIFO (First In, First Out)**: el `10` fue el primero en entrar y será el primero en salir.\n",
    "\n",
    "---\n",
    "\n",
    "## 🔄 Operaciones con Colas\n",
    "\n",
    "### 1️⃣ **Agregar un elemento (Enqueue)**\n",
    "\n",
    "Se añade un elemento al final de la cola."
   ]
  },
  {
   "cell_type": "code",
   "execution_count": 1,
   "metadata": {},
   "outputs": [
    {
     "name": "stdout",
     "output_type": "stream",
     "text": [
      "deque([10, 20, 30])\n"
     ]
    }
   ],
   "source": [
    "from collections import deque\n",
    "\n",
    "cola = deque()\n",
    "cola.append(10)\n",
    "cola.append(20)\n",
    "cola.append(30)\n",
    "print(cola)  # Salida: deque([10, 20, 30])"
   ]
  },
  {
   "cell_type": "markdown",
   "metadata": {},
   "source": [
    "### 2️⃣ **Eliminar un elemento (Dequeue)**\n",
    "\n",
    "Se elimina el elemento en el frente de la cola."
   ]
  },
  {
   "cell_type": "code",
   "execution_count": 2,
   "metadata": {},
   "outputs": [
    {
     "name": "stdout",
     "output_type": "stream",
     "text": [
      "10\n",
      "deque([20, 30])\n"
     ]
    }
   ],
   "source": [
    "primero = cola.popleft()\n",
    "print(primero)  # Salida: 10\n",
    "print(cola)  # Salida: deque([20, 30])"
   ]
  },
  {
   "cell_type": "markdown",
   "metadata": {},
   "source": [
    "### 3️⃣ **Consultar el primer elemento (Peek)**\n",
    "\n",
    "Se obtiene el primer elemento sin eliminarlo.\n"
   ]
  },
  {
   "cell_type": "code",
   "execution_count": 3,
   "metadata": {},
   "outputs": [
    {
     "name": "stdout",
     "output_type": "stream",
     "text": [
      "20\n"
     ]
    }
   ],
   "source": [
    "frente = cola[0]\n",
    "print(frente)  # Salida: 20"
   ]
  },
  {
   "cell_type": "markdown",
   "metadata": {},
   "source": [
    "---\n",
    "\n",
    "## 📌 Implementación con Clases en Python\n",
    "\n",
    "También podemos implementar una cola con clases para un mejor control:"
   ]
  },
  {
   "cell_type": "code",
   "execution_count": 4,
   "metadata": {},
   "outputs": [
    {
     "name": "stdout",
     "output_type": "stream",
     "text": [
      "A\n",
      "B\n"
     ]
    }
   ],
   "source": [
    "class Cola:\n",
    "    def __init__(self):\n",
    "        self.items = []\n",
    "    \n",
    "    def enqueue(self, item):\n",
    "        self.items.append(item)\n",
    "    \n",
    "    def dequeue(self):\n",
    "        if not self.is_empty():\n",
    "            return self.items.pop(0)\n",
    "        return None\n",
    "    \n",
    "    def peek(self):\n",
    "        return self.items[0] if not self.is_empty() else None\n",
    "    \n",
    "    def is_empty(self):\n",
    "        return len(self.items) == 0\n",
    "    \n",
    "    def size(self):\n",
    "        return len(self.items)\n",
    "\n",
    "# Uso de la clase\n",
    "cola = Cola()\n",
    "cola.enqueue(\"A\")\n",
    "cola.enqueue(\"B\")\n",
    "cola.enqueue(\"C\")\n",
    "print(cola.dequeue())  # Salida: A\n",
    "print(cola.peek())  # Salida: B"
   ]
  },
  {
   "cell_type": "markdown",
   "metadata": {},
   "source": [
    "---\n",
    "\n",
    "## 🏆 Aplicaciones de las Colas\n",
    "\n",
    "📌 **Algunas aplicaciones prácticas:**\n",
    "\n",
    "- 📜 **Impresoras**: gestión de trabajos de impresión.\n",
    "- 🚦 **Sistemas de tráfico**: manejo de turnos en semáforos.\n",
    "- 📶 **Transmisión de datos en redes**: paquetes enviados en orden FIFO.\n",
    "\n",
    "---\n",
    "\n",
    "## ✅ Conclusión\n",
    "\n",
    "- Las **colas** siguen el principio **FIFO**.\n",
    "- Se pueden implementar en Python con `deque` o clases personalizadas.\n",
    "- Tienen muchas aplicaciones en la vida real, desde la administración de procesos hasta la transmisión de datos.\n",
    "\n",
    "🔹 **Reflexión**: ¿En qué situaciones cotidianas podrías aplicar una cola? 🤔"
   ]
  }
 ],
 "metadata": {
  "kernelspec": {
   "display_name": "venvc",
   "language": "python",
   "name": "python3"
  },
  "language_info": {
   "codemirror_mode": {
    "name": "ipython",
    "version": 3
   },
   "file_extension": ".py",
   "mimetype": "text/x-python",
   "name": "python",
   "nbconvert_exporter": "python",
   "pygments_lexer": "ipython3",
   "version": "3.12.8"
  }
 },
 "nbformat": 4,
 "nbformat_minor": 2
}
