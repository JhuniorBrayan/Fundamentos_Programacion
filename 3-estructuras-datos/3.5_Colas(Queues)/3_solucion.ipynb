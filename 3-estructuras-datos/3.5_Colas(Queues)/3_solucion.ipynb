{
 "cells": [
  {
   "cell_type": "markdown",
   "metadata": {},
   "source": [
    "## Ejercicios: Estructura de Datos - Listas \n",
    "### Nivel 1: Introducción a Colas\n",
    "1. Creación y Enqueue:\n",
    "\n",
    "    - Crea una cola vacía utilizando collections.deque.\n",
    "    - Agrega (enqueue) los siguientes elementos: 10, 20, 30.\n",
    "    - Imprime la cola resultante."
   ]
  },
  {
   "cell_type": "code",
   "execution_count": null,
   "metadata": {
    "vscode": {
     "languageId": "plaintext"
    }
   },
   "outputs": [],
   "source": [
    "from collections import deque\n",
    "\n",
    "cola = deque()  # Crear una cola vacía\n",
    "\n",
    "cola.append(10)  # Agregar 10 al final\n",
    "cola.append(20)  # Agregar 20 al final\n",
    "cola.append(30)  # Agregar 30 al final\n",
    "\n",
    "print(cola)  # Salida: deque([10, 20, 30])"
   ]
  },
  {
   "cell_type": "markdown",
   "metadata": {},
   "source": [
    "2. Dequeue y Peek:\n",
    "\n",
    "    - Utiliza la cola del ejercicio anterior.\n",
    "    - Realiza un dequeue (eliminar el primer elemento) e imprime el elemento eliminado.\n",
    "    - Realiza un peek (ver el primer elemento sin eliminarlo) e imprime el elemento en el frente."
   ]
  },
  {
   "cell_type": "code",
   "execution_count": null,
   "metadata": {
    "vscode": {
     "languageId": "plaintext"
    }
   },
   "outputs": [],
   "source": [
    "from collections import deque\n",
    "\n",
    "cola = deque([10, 20, 30])  # Usamos la cola del ejercicio anterior\n",
    "\n",
    "elemento_eliminado = cola.popleft()  # Eliminar el primer elemento (10)\n",
    "print(f\"Elemento eliminado: {elemento_eliminado}\")  # Salida: Elemento eliminado: 10\n",
    "\n",
    "elemento_frente = cola[0]  # Ver el primer elemento sin eliminarlo (20)\n",
    "print(f\"Elemento en el frente: {elemento_frente}\")  # Salida: Elemento en el frente: 20\n",
    "\n",
    "print(cola)  # Salida: deque([20, 30]) (la cola se modificó con el popleft)"
   ]
  },
  {
   "cell_type": "markdown",
   "metadata": {},
   "source": [
    "### Nivel 2: Implementación con Clases\n",
    "3. Uso de la clase Cola:\n",
    "\n",
    "    - Utiliza la clase Cola proporcionada en el texto.\n",
    "    - Crea una instancia de la clase.\n",
    "    - Agrega los elementos \"a\", \"b\", \"c\" a la cola.\n",
    "    - Imprime la cola (puedes agregar un método mostrar a la clase para esto)."
   ]
  },
  {
   "cell_type": "code",
   "execution_count": null,
   "metadata": {
    "vscode": {
     "languageId": "plaintext"
    }
   },
   "outputs": [],
   "source": [
    "class Cola:\n",
    "    def __init__(self):\n",
    "        self.items = []\n",
    "    \n",
    "    def enqueue(self, item):\n",
    "        self.items.append(item)\n",
    "    \n",
    "    def dequeue(self):\n",
    "        if not self.is_empty():\n",
    "            return self.items.pop(0)\n",
    "        return None\n",
    "    \n",
    "    def peek(self):\n",
    "        return self.items[0] if not self.is_empty() else None\n",
    "    \n",
    "    def is_empty(self):\n",
    "        return len(self.items) == 0\n",
    "    \n",
    "    def size(self):\n",
    "        return len(self.items)\n",
    "\n",
    "    def mostrar(self):  # Método para imprimir la cola\n",
    "        print(self.items)\n",
    "\n",
    "cola = Cola()\n",
    "cola.enqueue(\"a\")\n",
    "cola.enqueue(\"b\")\n",
    "cola.enqueue(\"c\")\n",
    "\n",
    "cola.mostrar()  # Salida: ['a', 'b', 'c']"
   ]
  },
  {
   "cell_type": "markdown",
   "metadata": {},
   "source": [
    "4. Operaciones con la clase Cola:\n",
    "\n",
    "    - Utiliza la cola del ejercicio anterior.\n",
    "    - Realiza un dequeue e imprime el elemento obtenido.\n",
    "    - Verifica si la cola está vacía utilizando el método is_empty().\n",
    "    - Imprime el tamaño de la cola utilizando el método size()."
   ]
  },
  {
   "cell_type": "code",
   "execution_count": null,
   "metadata": {
    "vscode": {
     "languageId": "plaintext"
    }
   },
   "outputs": [],
   "source": [
    "cola = Cola()  # Usamos la cola del ejercicio anterior\n",
    "cola.enqueue(\"a\")\n",
    "cola.enqueue(\"b\")\n",
    "cola.enqueue(\"c\")\n",
    "\n",
    "elemento_obtenido = cola.dequeue()\n",
    "print(f\"Elemento obtenido: {elemento_obtenido}\")  # Salida: Elemento obtenido: a\n",
    "\n",
    "esta_vacia = cola.is_empty()\n",
    "print(f\"¿La cola está vacía?: {esta_vacia}\")  # Salida: ¿La cola está vacía?: False\n",
    "\n",
    "tamano = cola.size()\n",
    "print(f\"Tamaño de la cola: {tamano}\")  # Salida: Tamaño de la cola: 2"
   ]
  },
  {
   "cell_type": "markdown",
   "metadata": {},
   "source": [
    "### Nivel 3: Aplicaciones Básicas\n",
    "5. Simulación de una cola de impresión:\n",
    "\n",
    "    - Crea una cola para simular una cola de impresión.\n",
    "    - Agrega trabajos de impresión (cadenas) a la cola.\n",
    "    - Simula la impresión de los trabajos (dequeue) e imprime el trabajo que se está imprimiendo."
   ]
  },
  {
   "cell_type": "code",
   "execution_count": null,
   "metadata": {
    "vscode": {
     "languageId": "plaintext"
    }
   },
   "outputs": [],
   "source": [
    "from collections import deque\n",
    "\n",
    "cola_impresion = deque()\n",
    "\n",
    "cola_impresion.append(\"Documento 1\")\n",
    "cola_impresion.append(\"Imagen 2\")\n",
    "cola_impresion.append(\"Informe 3\")\n",
    "\n",
    "while cola_impresion:\n",
    "    trabajo_actual = cola_impresion.popleft()\n",
    "    print(f\"Imprimiendo: {trabajo_actual}\")"
   ]
  },
  {
   "cell_type": "markdown",
   "metadata": {},
   "source": [
    "6. Gestión de turnos:\n",
    "\n",
    "    - Crea una cola para gestionar turnos en una oficina.\n",
    "    - Agrega nombres de personas a la cola.\n",
    "    - Simula la atención de personas (dequeue) e imprime el nombre de la persona que está siendo atendida."
   ]
  },
  {
   "cell_type": "code",
   "execution_count": null,
   "metadata": {
    "vscode": {
     "languageId": "plaintext"
    }
   },
   "outputs": [],
   "source": [
    "from collections import deque\n",
    "\n",
    "cola_turnos = deque()\n",
    "\n",
    "cola_turnos.append(\"Ana\")\n",
    "cola_turnos.append(\"Carlos\")\n",
    "cola_turnos.append(\"Sofía\")\n",
    "\n",
    "while cola_turnos:\n",
    "    persona_atendida = cola_turnos.popleft()\n",
    "    print(f\"Atendiendo a: {persona_atendida}\")"
   ]
  },
  {
   "cell_type": "markdown",
   "metadata": {},
   "source": [
    "### Nivel 4: Desafíos con Colas\n",
    "7. Implementación de una cola con dos pilas:\n",
    "\n",
    "    - Implementa una cola utilizando dos pilas (puedes usar listas de Python para las pilas).\n",
    "    - Las pilas te ayudarán a simular el comportamiento FIFO de una cola."
   ]
  },
  {
   "cell_type": "code",
   "execution_count": null,
   "metadata": {
    "vscode": {
     "languageId": "plaintext"
    }
   },
   "outputs": [],
   "source": [
    "class ColaConPilas:\n",
    "    def __init__(self):\n",
    "        self.pila_entrada = []\n",
    "        self.pila_salida = []\n",
    "\n",
    "    def enqueue(self, elemento):\n",
    "        self.pila_entrada.append(elemento)\n",
    "\n",
    "    def dequeue(self):\n",
    "        if not self.pila_salida:  # Si la pila de salida está vacía\n",
    "            while self.pila_entrada:  # Transferir todos los elementos a la pila de salida\n",
    "                self.pila_salida.append(self.pila_entrada.pop())\n",
    "        return self.pila_salida.pop()\n",
    "\n",
    "    def peek(self):\n",
    "        if not self.pila_salida:\n",
    "            while self.pila_entrada:\n",
    "                self.pila_salida.append(self.pila_entrada.pop())\n",
    "        return self.pila_salida[-1]\n",
    "\n",
    "    def is_empty(self):\n",
    "        return not self.pila_entrada and not self.pila_salida  # Ambas pilas vacías\n",
    "\n",
    "    def size(self):\n",
    "        return len(self.pila_entrada) + len(self.pila_salida)"
   ]
  },
  {
   "cell_type": "markdown",
   "metadata": {},
   "source": [
    "8. Verificación de palíndromos:\n",
    "\n",
    "    - Escribe una función que reciba una cadena como entrada y utilice una cola (y una pila) para verificar si es un palíndromo (se lee igual de izquierda a derecha que de derecha a izquierda)."
   ]
  },
  {
   "cell_type": "code",
   "execution_count": null,
   "metadata": {
    "vscode": {
     "languageId": "plaintext"
    }
   },
   "outputs": [],
   "source": [
    "from collections import deque\n",
    "\n",
    "def verificar_palindromo(cadena):\n",
    "    cola = deque()\n",
    "    pila = []\n",
    "\n",
    "    for caracter in cadena:\n",
    "        if caracter.isalnum():  # Considerar solo caracteres alfanuméricos\n",
    "            caracter = caracter.lower()  # Convertir a minúscula\n",
    "            cola.append(caracter)\n",
    "            pila.append(caracter)\n",
    "\n",
    "    while cola:\n",
    "        if cola.popleft() != pila.pop():  # Comparar el frente de la cola con la cima de la pila\n",
    "            return False\n",
    "    return True"
   ]
  },
  {
   "cell_type": "markdown",
   "metadata": {},
   "source": [
    "### Nivel 5: Colas y Recursión (opcional)\n",
    "9. Búsqueda en anchura (BFS) en un árbol binario:\n",
    "\n",
    "    - Implementa el algoritmo de búsqueda en anchura (BFS) en un árbol binario utilizando una cola."
   ]
  },
  {
   "cell_type": "code",
   "execution_count": null,
   "metadata": {
    "vscode": {
     "languageId": "plaintext"
    }
   },
   "outputs": [],
   "source": [
    "from collections import deque\n",
    "\n",
    "def bfs(arbol):  # Se asume que 'arbol' es un nodo raíz con atributos 'izquierda' y 'derecha'\n",
    "    if not arbol:\n",
    "        return\n",
    "\n",
    "    cola = deque([arbol])  # Empezar con la raíz en la cola\n",
    "\n",
    "    while cola:\n",
    "        nodo_actual = cola.popleft()\n",
    "        print(nodo_actual.valor)  # Procesar el nodo actual\n",
    "\n",
    "        if nodo_actual.izquierda:\n",
    "            cola.append(nodo_actual.izquierda)  # Encolar el hijo izquierdo\n",
    "        if nodo_actual.derecha:\n",
    "            cola.append(nodo_actual.derecha)  # Encolar el hijo derecho"
   ]
  },
  {
   "cell_type": "markdown",
   "metadata": {},
   "source": [
    "10. Simulación de una cola de espera en un supermercado:\n",
    "\n",
    "    - Simula la cola de espera en un supermercado utilizando una cola.\n",
    "    - Los clientes llegan en intervalos de tiempo aleatorios y se agregan a la cola.\n",
    "    - Los cajeros atienden a los clientes en orden FIFO.\n",
    "    - Calcula el tiempo promedio de espera de los clientes."
   ]
  },
  {
   "cell_type": "code",
   "execution_count": null,
   "metadata": {
    "vscode": {
     "languageId": "plaintext"
    }
   },
   "outputs": [],
   "source": [
    "import random\n",
    "import time\n",
    "from collections import deque\n",
    "\n",
    "cola_supermercado = deque()\n",
    "tiempo_llegada_promedio = 5  # Segundos\n",
    "tiempo_atencion_promedio = 10  # Segundos\n",
    "tiempo_inicio = time.time()\n",
    "\n",
    "for i in range(10):  # Simular 10 clientes\n",
    "    tiempo_llegada = random.expovariate(1 / tiempo_llegada_promedio)  # Tiempo entre llegadas\n",
    "    time.sleep(tiempo_llegada)  # Esperar hasta la llegada del cliente\n",
    "    cola_supermercado.append(f\"Cliente {i+1}\")\n",
    "    print(f\"Cliente {i+1} llegó (tiempo: {time.time() - tiempo_inicio:.2f}s)\")\n",
    "\n",
    "while cola_supermercado:\n",
    "    cliente_actual = cola_supermercado.popleft()\n",
    "    tiempo_atencion = random.expovariate(1 / tiempo_atencion_promedio)\n",
    "    tiempo_espera = time.time() - tiempo_inicio - tiempo_atencion  # Tiempo total transcurrido - tiempo de atención\n",
    "    print(f\"Atendiendo a {cliente_actual} (tiempo de espera: {tiempo_espera:.2f}s)\")\n",
    "    time.sleep(tiempo_atencion)\n",
    "\n",
    "print(\"Simulación completada.\")"
   ]
  },
  {
   "cell_type": "markdown",
   "metadata": {},
   "source": [
    "### ¡No te rindas!\n",
    "Recuerda que la clave para dominar las colas está en la práctica constante. Intenta resolver los ejercicios por tu cuenta y, si te encuentras con alguna dificultad, no dudes en consultar la documentación de Python o buscar ejemplos en línea. ¡Mucho éxito en tu aprendizaje!"
   ]
  }
 ],
 "metadata": {
  "language_info": {
   "name": "python"
  }
 },
 "nbformat": 4,
 "nbformat_minor": 2
}
