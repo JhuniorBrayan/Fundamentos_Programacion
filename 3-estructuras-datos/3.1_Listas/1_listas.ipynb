{
 "cells": [
  {
   "cell_type": "markdown",
   "metadata": {},
   "source": [
    "## 3. Estructura de Datos \n",
    "\n",
    "# **📌 Listas en Python**\n",
    "\n",
    "Las **listas** son una de las estructuras de datos más utilizadas en programación. Nos permiten almacenar colecciones de elementos, que pueden ser del mismo tipo o de tipos diferentes. Son versátiles y ofrecen una gran cantidad de métodos para manipular sus datos.\n",
    "\n",
    "💡 En Python, las listas son mutables, lo que significa que podemos modificar sus elementos después de crearlas.\n",
    "\n",
    "### 🎯 Objetivo\n",
    "En este apartado aprenderás:\n",
    "\n",
    "✅ Qué son las listas y cómo se utilizan.\n",
    "\n",
    "✅ Cómo realizar operaciones comunes como agregar, eliminar y buscar elementos.\n",
    "\n",
    "✅ Un concepto básico sobre listas enlazadas.\n",
    "\n",
    "---\n",
    "\n",
    "## 1️⃣ ¿Qué es una Lista?\n",
    "Una **lista** es una estructura de datos que almacena una secuencia ordenada de elementos dentro de corchetes `[]`. Los elementos pueden ser de cualquier tipo (enteros, cadenas, booleanos, etc.).\n",
    "\n",
    "**🔍 Ejemplo de lista en Python:**\n",
    "\n"
   ]
  },
  {
   "cell_type": "code",
   "execution_count": 2,
   "metadata": {},
   "outputs": [
    {
     "name": "stdout",
     "output_type": "stream",
     "text": [
      "[1, 2, 3, 4, 5]\n",
      "[10, 'Hola', True, 3.14]\n"
     ]
    }
   ],
   "source": [
    "### 🔍 Ejemplo de lista en Python:\n",
    "\n",
    "# Lista de números\n",
    "numeros = [1, 2, 3, 4, 5]\n",
    "\n",
    "# Lista de diferentes tipos de datos\n",
    "mi_lista = [10, \"Hola\", True, 3.14]\n",
    "\n",
    "print(numeros)\n",
    "print(mi_lista)"
   ]
  },
  {
   "cell_type": "markdown",
   "metadata": {},
   "source": [
    "📌 **Nota**: Las listas pueden contener elementos repetidos y su orden se mantiene.\n"
   ]
  },
  {
   "cell_type": "markdown",
   "metadata": {},
   "source": [
    "## 2️⃣ Operaciones Básicas con Listas\n",
    "### ✨ Agregar Elementos\n",
    "Podemos añadir elementos a una lista con `append()` y `insert()`."
   ]
  },
  {
   "cell_type": "code",
   "execution_count": 3,
   "metadata": {},
   "outputs": [
    {
     "name": "stdout",
     "output_type": "stream",
     "text": [
      "[1, 99, 2, 3, 4]\n"
     ]
    }
   ],
   "source": [
    "mi_lista = [1, 2, 3]\n",
    "mi_lista.append(4)  # Agrega al final\n",
    "mi_lista.insert(1, 99)  # Inserta en el índice 1\n",
    "print(mi_lista)  # [1, 99, 2, 3, 4]"
   ]
  },
  {
   "cell_type": "markdown",
   "metadata": {},
   "source": [
    "### 🗑️ Eliminar Elementos\n",
    "Podemos eliminar elementos con `remove()`, `pop()` y `del`.\n"
   ]
  },
  {
   "cell_type": "code",
   "execution_count": 4,
   "metadata": {},
   "outputs": [
    {
     "name": "stdout",
     "output_type": "stream",
     "text": [
      "[10, 40]\n"
     ]
    }
   ],
   "source": [
    "mi_lista = [10, 20, 30, 40]\n",
    "mi_lista.remove(20)  # Elimina el primer 20\n",
    "mi_lista.pop(1)  # Elimina el elemento en el índice 1\n",
    "print(mi_lista)  # [10, 40]"
   ]
  },
  {
   "cell_type": "markdown",
   "metadata": {},
   "source": [
    "### 🔎 Buscar Elementos\n",
    "Podemos verificar si un elemento está en la lista con `in` y obtener su índice con `index()`.\n",
    "\n"
   ]
  },
  {
   "cell_type": "code",
   "execution_count": 5,
   "metadata": {},
   "outputs": [
    {
     "name": "stdout",
     "output_type": "stream",
     "text": [
      "True\n",
      "2\n"
     ]
    }
   ],
   "source": [
    "mi_lista = [\"manzana\", \"pera\", \"uva\"]\n",
    "print(\"pera\" in mi_lista)  # True\n",
    "print(mi_lista.index(\"uva\"))  # 2"
   ]
  },
  {
   "cell_type": "markdown",
   "metadata": {},
   "source": [
    "### 🔄 Recorrer una Lista"
   ]
  },
  {
   "cell_type": "code",
   "execution_count": 6,
   "metadata": {},
   "outputs": [
    {
     "name": "stdout",
     "output_type": "stream",
     "text": [
      "manzana\n",
      "banana\n",
      "cereza\n"
     ]
    }
   ],
   "source": [
    "frutas = [\"manzana\", \"banana\", \"cereza\"]\n",
    "for fruta in frutas:\n",
    "    print(fruta)"
   ]
  },
  {
   "cell_type": "markdown",
   "metadata": {},
   "source": [
    "---\n",
    "\n",
    "## 3️⃣ Listas Enlazadas (Concepto Básico)\n",
    "Las **listas enlazadas** son una estructura de datos donde cada elemento (nodo) contiene un valor y una referencia al siguiente nodo. A diferencia de las listas de Python, no están almacenadas en posiciones consecutivas de memoria.\n",
    "\n",
    "📌 **Ejemplo de una lista enlazada simple en Python:**\n"
   ]
  },
  {
   "cell_type": "code",
   "execution_count": 11,
   "metadata": {},
   "outputs": [
    {
     "name": "stdout",
     "output_type": "stream",
     "text": [
      "1 -> 2 -> 3 -> 4 -> None\n"
     ]
    }
   ],
   "source": [
    "class Nodo:\n",
    "    def __init__(self, dato):\n",
    "        self.dato = dato\n",
    "        self.siguiente = None\n",
    "\n",
    "class ListaEnlazada:\n",
    "    def __init__(self):\n",
    "        self.cabeza = None\n",
    "\n",
    "    def agregar(self, dato):\n",
    "        nuevo_nodo = Nodo(dato)\n",
    "        nuevo_nodo.siguiente = self.cabeza\n",
    "        self.cabeza = nuevo_nodo\n",
    "\n",
    "    def mostrar(self):\n",
    "        actual = self.cabeza\n",
    "        while actual:\n",
    "            print(actual.dato, end=\" -> \")\n",
    "            actual = actual.siguiente\n",
    "        print(\"None\")\n",
    "\n",
    "lista = ListaEnlazada()\n",
    "lista.agregar(4)\n",
    "lista.agregar(3)\n",
    "lista.agregar(2)\n",
    "lista.agregar(1)\n",
    "lista.mostrar()  # 1 -> 2 -> 3 -> None"
   ]
  },
  {
   "cell_type": "markdown",
   "metadata": {},
   "source": [
    "📌 **Diferencia con las listas de Python:**\n",
    "\n",
    "✔ Las listas enlazadas no usan índices.\n",
    "\n",
    "✔ Son más eficientes para insertar o eliminar elementos en el medio."
   ]
  },
  {
   "cell_type": "markdown",
   "metadata": {},
   "source": [
    "---\n",
    "\n",
    "## 🔚 Conclusión\n",
    "Las listas son una herramienta fundamental en programación y ofrecen una gran flexibilidad para almacenar y manipular datos. Además, aunque en Python no es común usarlas, las listas enlazadas son una estructura clave en otros lenguajes y para resolver problemas de estructuras de datos.\n",
    "\n",
    "🤔 **Pregunta para reflexionar:** ¿En qué situaciones crees que sería mejor usar una lista enlazada en lugar de una lista tradicional? 🤓\n"
   ]
  }
 ],
 "metadata": {
  "kernelspec": {
   "display_name": "venvc",
   "language": "python",
   "name": "python3"
  },
  "language_info": {
   "codemirror_mode": {
    "name": "ipython",
    "version": 3
   },
   "file_extension": ".py",
   "mimetype": "text/x-python",
   "name": "python",
   "nbconvert_exporter": "python",
   "pygments_lexer": "ipython3",
   "version": "3.12.8"
  }
 },
 "nbformat": 4,
 "nbformat_minor": 2
}
