{
 "cells": [
  {
   "cell_type": "markdown",
   "metadata": {},
   "source": [
    "## Ejercicios: Estructura de Datos - Listas \n",
    "### Nivel 1: Introducción a Listas\n",
    "\n",
    "1. Sumar elementos: Crea una lista de números y calcula la suma de todos sus elementos."
   ]
  },
  {
   "cell_type": "code",
   "execution_count": null,
   "metadata": {},
   "outputs": [
    {
     "name": "stdout",
     "output_type": "stream",
     "text": [
      "15\n"
     ]
    }
   ],
   "source": [
    "numeros = [1, 2, 3, 4, 5]\n",
    "suma = sum(numeros)  # Función sum() para sumar los elementos\n",
    "print(f\"La suma es: {suma}\")  # Salida: La suma es: 15"
   ]
  },
  {
   "cell_type": "markdown",
   "metadata": {},
   "source": [
    "2. Encontrar el mayor: Escribe un programa que encuentre el número más grande en una lista."
   ]
  },
  {
   "cell_type": "code",
   "execution_count": null,
   "metadata": {},
   "outputs": [],
   "source": [
    "numeros = [10, 5, 20, 8, 15]\n",
    "mayor = max(numeros)  # Función max() para encontrar el valor máximo\n",
    "print(f\"El número mayor es: {mayor}\")  # Salida: El número mayor es: 20"
   ]
  },
  {
   "cell_type": "markdown",
   "metadata": {},
   "source": [
    "3. Eliminar duplicados: Crea una función que tome una lista y devuelva una nueva lista sin elementos duplicados."
   ]
  },
  {
   "cell_type": "code",
   "execution_count": null,
   "metadata": {},
   "outputs": [],
   "source": [
    "def eliminar_duplicados(lista):\n",
    "    return list(set(lista))  # set() elimina duplicados, list() convierte a lista\n",
    "\n",
    "mi_lista = [1, 2, 2, 3, 4, 4, 5]\n",
    "nueva_lista = eliminar_duplicados(mi_lista)\n",
    "print(nueva_lista)  # Salida: [1, 2, 3, 4, 5]"
   ]
  },
  {
   "cell_type": "markdown",
   "metadata": {},
   "source": [
    "### Nivel 2: Manipulación de Listas\n",
    "4. Ordenar lista: Ordena una lista de números de forma ascendente o descendente."
   ]
  },
  {
   "cell_type": "code",
   "execution_count": null,
   "metadata": {},
   "outputs": [],
   "source": [
    "numeros = [5, 2, 8, 1, 9]\n",
    "\n",
    "numeros.sort()  # Orden ascendente (por defecto)\n",
    "print(f\"Orden ascendente: {numeros}\")  # Salida: Orden ascendente: [1, 2, 5, 8, 9]\n",
    "\n",
    "numeros.sort(reverse=True)  # Orden descendente\n",
    "print(f\"Orden descendente: {numeros}\")  # Salida: Orden descendente: [9, 8, 5, 2, 1]"
   ]
  },
  {
   "cell_type": "markdown",
   "metadata": {},
   "source": [
    "5. Buscar elemento: Escribe un programa que busque un elemento específico en una lista y devuelva su índice (o -1 si no lo encuentra)."
   ]
  },
  {
   "cell_type": "code",
   "execution_count": null,
   "metadata": {},
   "outputs": [],
   "source": [
    "def buscar_elemento(lista, elemento):\n",
    "    if elemento in lista:\n",
    "        return lista.index(elemento)  # Devuelve el índice\n",
    "    else:\n",
    "        return -1  # No se encontró el elemento\n",
    "\n",
    "mi_lista = [\"manzana\", \"banana\", \"cereza\"]\n",
    "indice = buscar_elemento(mi_lista, \"banana\")\n",
    "print(f\"El índice de 'banana' es: {indice}\")  # Salida: El índice de 'banana' es: 1"
   ]
  },
  {
   "cell_type": "markdown",
   "metadata": {},
   "source": [
    "6. Concatenar listas: Crea dos listas y concaténalas en una nueva lista."
   ]
  },
  {
   "cell_type": "code",
   "execution_count": null,
   "metadata": {},
   "outputs": [],
   "source": [
    "lista1 = [1, 2, 3]\n",
    "lista2 = [4, 5, 6]\n",
    "\n",
    "lista_concatenada = lista1 + lista2  # Usando el operador +\n",
    "print(f\"Lista concatenada: {lista_concatenada}\")  # Salida: Lista concatenada: [1, 2, 3, 4, 5, 6]\n",
    "\n",
    "# Otra forma (extend())\n",
    "lista1.extend(lista2)\n",
    "print(f\"Lista 1 extendida: {lista1}\")  # Salida: Lista 1 extendida: [1, 2, 3, 4, 5, 6]"
   ]
  },
  {
   "cell_type": "markdown",
   "metadata": {},
   "source": [
    "### Nivel 3: Listas y Bucles\n",
    "7. Filtrar elementos: Crea una función que filtre los elementos de una lista según una condición dada (por ejemplo, números pares).\n",
    "\n"
   ]
  },
  {
   "cell_type": "code",
   "execution_count": null,
   "metadata": {},
   "outputs": [],
   "source": [
    "def filtrar_pares(lista):\n",
    "    pares = []\n",
    "    for numero in lista:\n",
    "        if numero % 2 == 0:  # Si el residuo al dividir por 2 es 0, es par\n",
    "            pares.append(numero)\n",
    "    return pares\n",
    "\n",
    "numeros = [1, 2, 3, 4, 5, 6]\n",
    "pares = filtrar_pares(numeros)\n",
    "print(f\"Números pares: {pares}\")  # Salida: Números pares: [2, 4, 6]"
   ]
  },
  {
   "cell_type": "markdown",
   "metadata": {},
   "source": [
    "8. Listas anidadas: Crea una lista que contenga otras listas (listas anidadas) y accede a sus elementos."
   ]
  },
  {
   "cell_type": "code",
   "execution_count": null,
   "metadata": {},
   "outputs": [],
   "source": [
    "mi_lista = [[1, 2, 3], [4, 5, 6], [7, 8, 9]]\n",
    "\n",
    "# Acceder a un elemento específico\n",
    "print(mi_lista[0][1])  # Salida: 2 (fila 0, columna 1)\n",
    "\n",
    "# Recorrer la lista anidada\n",
    "for fila in mi_lista:\n",
    "    for elemento in fila:\n",
    "        print(elemento, end=\" \")  # Imprime cada elemento\n",
    "    print()  # Salto de línea después de cada fila"
   ]
  },
  {
   "cell_type": "markdown",
   "metadata": {},
   "source": [
    "### Nivel 4: Listas Enlazadas (Concepto Básico)\n",
    "9. Implementación básica: Implementa una lista enlazada simple con nodos que contengan un valor y un puntero al siguiente nodo."
   ]
  },
  {
   "cell_type": "code",
   "execution_count": null,
   "metadata": {},
   "outputs": [],
   "source": [
    "class Nodo:\n",
    "    def __init__(self, dato):\n",
    "        self.dato = dato\n",
    "        self.siguiente = None\n",
    "\n",
    "class ListaEnlazada:\n",
    "    def __init__(self):\n",
    "        self.cabeza = None\n",
    "\n",
    "    def agregar(self, dato):\n",
    "        nuevo_nodo = Nodo(dato)\n",
    "        nuevo_nodo.siguiente = self.cabeza\n",
    "        self.cabeza = nuevo_nodo\n",
    "\n",
    "    def mostrar(self):\n",
    "        actual = self.cabeza\n",
    "        while actual:\n",
    "            print(actual.dato, end=\" -> \")\n",
    "            actual = actual.siguiente\n",
    "        print(\"None\")"
   ]
  },
  {
   "cell_type": "markdown",
   "metadata": {},
   "source": [
    "10. Operaciones enlazadas: Agrega métodos para insertar y eliminar nodos en una lista enlazada."
   ]
  },
  {
   "cell_type": "code",
   "execution_count": 7,
   "metadata": {},
   "outputs": [],
   "source": [
    "class ListaEnlazada:\n",
    "    # ... (código anterior)\n",
    "\n",
    "    def insertar(self, posicion, dato):\n",
    "        nuevo_nodo = Nodo(dato)\n",
    "        if posicion == 0:\n",
    "            nuevo_nodo.siguiente = self.cabeza\n",
    "            self.cabeza = nuevo_nodo\n",
    "        else:\n",
    "            actual = self.cabeza\n",
    "            contador = 0\n",
    "            while actual and contador < posicion - 1:\n",
    "                actual = actual.siguiente\n",
    "                contador += 1\n",
    "            if actual:\n",
    "                nuevo_nodo.siguiente = actual.siguiente\n",
    "                actual.siguiente = nuevo_nodo\n",
    "\n",
    "    def eliminar(self, posicion):\n",
    "        if posicion == 0:\n",
    "            if self.cabeza:\n",
    "                self.cabeza = self.cabeza.siguiente\n",
    "        else:\n",
    "            actual = self.cabeza\n",
    "            contador = 0\n",
    "            while actual and contador < posicion - 1:\n",
    "                actual = actual.siguiente\n",
    "                contador += 1\n",
    "            if actual and actual.siguiente:\n",
    "                actual.siguiente = actual.siguiente.siguiente"
   ]
  },
  {
   "cell_type": "markdown",
   "metadata": {},
   "source": [
    "## Desafío Adicional!\n",
    "- Listas por comprensión: Investiga y practica el uso de listas por comprensión (list comprehensions) para crear listas de forma concisa y eficiente.\n",
    "\n",
    "¡Espero que estos ejercicios te sean útiles para practicar y mejorar tus habilidades con listas en Python! Recuerda que la clave está en la práctica constante. Si tienes alguna pregunta o necesitas ayuda con algún ejercicio, no dudes en preguntar."
   ]
  }
 ],
 "metadata": {
  "kernelspec": {
   "display_name": "venvc",
   "language": "python",
   "name": "python3"
  },
  "language_info": {
   "codemirror_mode": {
    "name": "ipython",
    "version": 3
   },
   "file_extension": ".py",
   "mimetype": "text/x-python",
   "name": "python",
   "nbconvert_exporter": "python",
   "pygments_lexer": "ipython3",
   "version": "3.12.8"
  }
 },
 "nbformat": 4,
 "nbformat_minor": 2
}
