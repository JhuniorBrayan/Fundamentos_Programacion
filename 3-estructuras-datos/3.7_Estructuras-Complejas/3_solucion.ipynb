{
 "cells": [
  {
   "cell_type": "markdown",
   "metadata": {},
   "source": [
    "## Ejercicios: Estructura de Datos - Estructuras Complejas\n",
    "\n",
    "### Nivel 1: Introducción a Estructuras\n",
    "1. Listas enlazadas: Creación y recorrido:\n",
    "\n",
    "    - Implementa una clase Nodo para representar un nodo en una lista enlazada.\n",
    "    - Implementa una clase ListaEnlazada con métodos para agregar nodos al final y recorrer la lista.\n",
    "    - Crea una lista enlazada con los valores 1, 2 y 3.\n",
    "    - Recorre la lista e imprime cada valor."
   ]
  },
  {
   "cell_type": "code",
   "execution_count": 27,
   "metadata": {},
   "outputs": [
    {
     "name": "stdout",
     "output_type": "stream",
     "text": [
      "3\n",
      "2\n",
      "1\n"
     ]
    }
   ],
   "source": [
    "class Nodo:\n",
    "    def __init__(self, valor):\n",
    "        self.valor = valor\n",
    "        self.siguiente = None\n",
    "\n",
    "class ListaEnlazada:\n",
    "    def __init__(self):\n",
    "        self.cabeza = None\n",
    "\n",
    "    def agregar(self, valor):\n",
    "        nuevo_nodo = Nodo(valor)\n",
    "        nuevo_nodo.siguiente = self.cabeza\n",
    "        self.cabeza = nuevo_nodo\n",
    "\n",
    "    def recorrer(self):\n",
    "        actual = self.cabeza\n",
    "        while actual:\n",
    "            print(actual.valor)\n",
    "            actual = actual.siguiente\n",
    "\n",
    "lista = ListaEnlazada()\n",
    "lista.agregar(1)\n",
    "lista.agregar(2)\n",
    "lista.agregar(3)\n",
    "\n",
    "lista.recorrer()  # Salida: 3 2 1"
   ]
  },
  {
   "cell_type": "markdown",
   "metadata": {},
   "source": [
    "2. Grafos: Representación con diccionarios:\n",
    "\n",
    "    - Crea un diccionario para representar un grafo con al menos 5 nodos y algunas aristas.\n",
    "    - Imprime el grafo.\n",
    "    - Escribe una función que reciba el grafo y un nodo como entrada, y devuelva la lista de nodos - adyacentes a ese nodo."
   ]
  },
  {
   "cell_type": "code",
   "execution_count": 28,
   "metadata": {},
   "outputs": [
    {
     "name": "stdout",
     "output_type": "stream",
     "text": [
      "{'A': ['B', 'C'], 'B': ['A', 'D', 'E'], 'C': ['A', 'F'], 'D': ['B'], 'E': ['B', 'F'], 'F': ['C', 'E']}\n",
      "['A', 'D', 'E']\n"
     ]
    }
   ],
   "source": [
    "grafo = {\n",
    "    'A': ['B', 'C'],\n",
    "    'B': ['A', 'D', 'E'],\n",
    "    'C': ['A', 'F'],\n",
    "    'D': ['B'],\n",
    "    'E': ['B', 'F'],\n",
    "    'F': ['C', 'E']\n",
    "}\n",
    "\n",
    "def nodos_adyacentes(grafo, nodo):\n",
    "    return grafo.get(nodo, [])  # Devuelve la lista de adyacentes o una lista vacía si no tiene\n",
    "\n",
    "print(grafo)\n",
    "print(nodos_adyacentes(grafo, 'B'))  # Salida: ['A', 'D', 'E']"
   ]
  },
  {
   "cell_type": "markdown",
   "metadata": {},
   "source": [
    "### Nivel 2: Operaciones Básicas\n",
    "3. Árboles: Creación y recorrido in-order:\n",
    "\n",
    "    - Implementa una clase NodoArbol para representar un nodo en un árbol binario.\n",
    "    - Crea un árbol binario con algunos nodos.\n",
    "    - Escribe una función para realizar un recorrido in-order del árbol e imprimir los valores de los nodos."
   ]
  },
  {
   "cell_type": "code",
   "execution_count": 29,
   "metadata": {},
   "outputs": [
    {
     "name": "stdout",
     "output_type": "stream",
     "text": [
      "4\n",
      "2\n",
      "1\n",
      "3\n"
     ]
    }
   ],
   "source": [
    "class NodoArbol:\n",
    "    def __init__(self, valor):\n",
    "        self.valor = valor\n",
    "        self.izquierda = None\n",
    "        self.derecha = None\n",
    "\n",
    "def recorrido_inorder(nodo):\n",
    "    if nodo:\n",
    "        recorrido_inorder(nodo.izquierda)\n",
    "        print(nodo.valor)\n",
    "        recorrido_inorder(nodo.derecha)\n",
    "\n",
    "# Crear un árbol de ejemplo\n",
    "raiz = NodoArbol(1)\n",
    "raiz.izquierda = NodoArbol(2)\n",
    "raiz.derecha = NodoArbol(3)\n",
    "raiz.izquierda.izquierda = NodoArbol(4)\n",
    "\n",
    "recorrido_inorder(raiz)  # Salida: 4 2 1 3"
   ]
  },
  {
   "cell_type": "markdown",
   "metadata": {},
   "source": [
    "4. Colas de prioridad: Uso de heapq:\n",
    "\n",
    "    - Utiliza el módulo heapq para crear una cola de prioridad.\n",
    "    - Agrega elementos con diferentes prioridades (por ejemplo, tuplas con un número de prioridad y un valor).\n",
    "    - Extrae el elemento con la prioridad más alta e imprímelo."
   ]
  },
  {
   "cell_type": "code",
   "execution_count": 30,
   "metadata": {},
   "outputs": [
    {
     "name": "stdout",
     "output_type": "stream",
     "text": [
      "(1, 'Tarea urgente')\n"
     ]
    }
   ],
   "source": [
    "import heapq\n",
    "\n",
    "cola_prioridad = []\n",
    "\n",
    "heapq.heappush(cola_prioridad, (2, \"Tarea importante\"))\n",
    "heapq.heappush(cola_prioridad, (1, \"Tarea urgente\"))\n",
    "heapq.heappush(cola_prioridad, (3, \"Tarea normal\"))\n",
    "\n",
    "elemento_mas_prioritario = heapq.heappop(cola_prioridad)\n",
    "print(elemento_mas_prioritario)  # Salida: (1, 'Tarea urgente')"
   ]
  },
  {
   "cell_type": "markdown",
   "metadata": {},
   "source": [
    "### Nivel 3: Aplicaciones\n",
    "5. Listas enlazadas: Inserción y eliminación:\n",
    "\n",
    "    - Agrega métodos a la clase ListaEnlazada para insertar un nodo en una posición específica y eliminar un nodo por valor.\n",
    "    - Prueba los métodos insertando y eliminando nodos en diferentes posiciones."
   ]
  },
  {
   "cell_type": "code",
   "execution_count": 31,
   "metadata": {},
   "outputs": [
    {
     "name": "stdout",
     "output_type": "stream",
     "text": [
      "3\n",
      "4\n",
      "1\n"
     ]
    }
   ],
   "source": [
    "class Nodo:\n",
    "    def __init__(self, valor):\n",
    "        self.valor = valor\n",
    "        self.siguiente = None\n",
    "\n",
    "class ListaEnlazada:  # (Clase definida en el ejercicio 1)\n",
    "\n",
    "    def __init__(self):\n",
    "        self.cabeza = None\n",
    "\n",
    "    def insertar(self, posicion, valor):\n",
    "        nuevo_nodo = Nodo(valor)\n",
    "        if posicion == 0:\n",
    "            nuevo_nodo.siguiente = self.cabeza\n",
    "            self.cabeza = nuevo_nodo\n",
    "        else:\n",
    "            actual = self.cabeza\n",
    "            contador = 0\n",
    "            while actual and contador < posicion - 1:\n",
    "                actual = actual.siguiente\n",
    "                contador += 1\n",
    "            if actual:\n",
    "                nuevo_nodo.siguiente = actual.siguiente\n",
    "                actual.siguiente = nuevo_nodo\n",
    "    \n",
    "    def agregar(self, valor):\n",
    "        nuevo_nodo = Nodo(valor)\n",
    "        nuevo_nodo.siguiente = self.cabeza\n",
    "        self.cabeza = nuevo_nodo\n",
    "\n",
    "    def recorrer(self):  \n",
    "        actual = self.cabeza     \n",
    "        while actual: \n",
    "            print(actual.valor)\n",
    "            actual = actual.siguiente \n",
    "\n",
    "\n",
    "    def eliminar(self, valor):\n",
    "        actual = self.cabeza\n",
    "        anterior = None\n",
    "        while actual and actual.valor != valor:\n",
    "            anterior = actual\n",
    "            actual = actual.siguiente\n",
    "        if actual:\n",
    "            if anterior:\n",
    "                anterior.siguiente = actual.siguiente\n",
    "            else:\n",
    "                self.cabeza = actual.siguiente\n",
    "\n",
    "lista = ListaEnlazada()\n",
    "lista.agregar(1)\n",
    "lista.agregar(2)\n",
    "lista.agregar(3)\n",
    "\n",
    "lista.insertar(1, 4)\n",
    "lista.eliminar(2)\n",
    "\n",
    "lista.recorrer()  # Salida: 3 4 1"
   ]
  },
  {
   "cell_type": "markdown",
   "metadata": {},
   "source": [
    "6. Grafos: Búsqueda en profundidad (DFS):\n",
    "\n",
    "    - Implementa un algoritmo de búsqueda en profundidad (DFS) para recorrer un grafo representado con diccionarios.\n",
    "    - El algoritmo debe imprimir los nodos visitados en el orden en que se visitan."
   ]
  },
  {
   "cell_type": "code",
   "execution_count": 32,
   "metadata": {},
   "outputs": [
    {
     "name": "stdout",
     "output_type": "stream",
     "text": [
      "A\n",
      "B\n",
      "D\n",
      "E\n",
      "F\n",
      "C\n"
     ]
    }
   ],
   "source": [
    "def dfs(grafo, nodo, visitados=None):\n",
    "    if visitados is None:\n",
    "        visitados = set()\n",
    "    visitados.add(nodo)\n",
    "    print(nodo)\n",
    "    for vecino in grafo.get(nodo, []):\n",
    "        if vecino not in visitados:\n",
    "            dfs(grafo, vecino, visitados)\n",
    "\n",
    "grafo = {  # (Grafo definido en el ejercicio 2)\n",
    "    'A': ['B', 'C'],\n",
    "    'B': ['A', 'D', 'E'],\n",
    "    'C': ['A', 'F'],\n",
    "    'D': ['B'],\n",
    "    'E': ['B', 'F'],\n",
    "    'F': ['C', 'E']\n",
    "}\n",
    "\n",
    "dfs(grafo, 'A')  # Salida: A B D E F C"
   ]
  },
  {
   "cell_type": "markdown",
   "metadata": {},
   "source": [
    "### Nivel 4: Desafíos\n",
    "7. Árboles: Búsqueda en un árbol binario de búsqueda (BST):\n",
    "\n",
    "    - Implementa un árbol binario de búsqueda (BST).\n",
    "    - Agrega nodos con valores numéricos al árbol.\n",
    "    - Escribe una función para buscar un valor específico en el BST."
   ]
  },
  {
   "cell_type": "code",
   "execution_count": 33,
   "metadata": {},
   "outputs": [
    {
     "name": "stdout",
     "output_type": "stream",
     "text": [
      "True\n",
      "True\n",
      "False\n"
     ]
    }
   ],
   "source": [
    "class NodoArbol:\n",
    "    def __init__(self, valor):\n",
    "        self.valor = valor\n",
    "        self.izquierda = None\n",
    "        self.derecha = None\n",
    "\n",
    "class ArbolBinarioBusqueda:\n",
    "    def __init__(self):\n",
    "        self.raiz = None\n",
    "\n",
    "    def insertar(self, valor):\n",
    "        nuevo_nodo = NodoArbol(valor)\n",
    "        if not self.raiz:\n",
    "            self.raiz = nuevo_nodo\n",
    "        else:\n",
    "            actual = self.raiz\n",
    "            while True:\n",
    "                if valor < actual.valor:\n",
    "                    if actual.izquierda:\n",
    "                        actual = actual.izquierda\n",
    "                    else:\n",
    "                        actual.izquierda = nuevo_nodo\n",
    "                        break\n",
    "                elif valor > actual.valor:\n",
    "                    if actual.derecha:\n",
    "                        actual = actual.derecha\n",
    "                    else:\n",
    "                        actual.derecha = nuevo_nodo\n",
    "                        break\n",
    "                else:  # El valor ya existe, no se hace nada\n",
    "                    break\n",
    "\n",
    "    def buscar(self, valor):\n",
    "        actual = self.raiz\n",
    "        while actual:\n",
    "            if valor == actual.valor:\n",
    "                return True  # Se encontró el valor\n",
    "            elif valor < actual.valor:\n",
    "                actual = actual.izquierda\n",
    "            else:\n",
    "                actual = actual.derecha\n",
    "        return False  # No se encontró el valor\n",
    "\n",
    "# Crear un BST y probar la búsqueda\n",
    "arbol = ArbolBinarioBusqueda()\n",
    "arbol.insertar(5)\n",
    "arbol.insertar(3)\n",
    "arbol.insertar(7)\n",
    "arbol.insertar(2)\n",
    "arbol.insertar(4)\n",
    "arbol.insertar(6)\n",
    "arbol.insertar(8)\n",
    "\n",
    "print(arbol.buscar(3))  # Salida: True\n",
    "print(arbol.buscar(6))  # Salida: True\n",
    "print(arbol.buscar(10))  # Salida: False"
   ]
  },
  {
   "cell_type": "markdown",
   "metadata": {},
   "source": [
    "8. Colas de prioridad: Implementación con una lista:\n",
    "\n",
    "    - Implementa una cola de prioridad utilizando una lista en Python.\n",
    "    - Los elementos deben ser tuplas con un número de prioridad y un valor.\n",
    "    - Implementa las operaciones de insertar y extraer el elemento con la prioridad más alta."
   ]
  },
  {
   "cell_type": "code",
   "execution_count": 34,
   "metadata": {},
   "outputs": [
    {
     "name": "stdout",
     "output_type": "stream",
     "text": [
      "(1, 'Tarea urgente')\n"
     ]
    }
   ],
   "source": [
    "class ColaPrioridad:\n",
    "    def __init__(self):\n",
    "        self.cola = []\n",
    "\n",
    "    def insertar(self, prioridad, valor):\n",
    "        heapq.heappush(self.cola, (prioridad, valor))  # Usar heapq para mantener el orden\n",
    "\n",
    "    def extraer_maxima_prioridad(self):\n",
    "        if self.cola:\n",
    "            return heapq.heappop(self.cola)\n",
    "        return None\n",
    "\n",
    "cola = ColaPrioridad()\n",
    "cola.insertar(2, \"Tarea importante\")\n",
    "cola.insertar(1, \"Tarea urgente\")\n",
    "cola.insertar(3, \"Tarea normal\")\n",
    "\n",
    "print(cola.extraer_maxima_prioridad())  # Salida: (1, 'Tarea urgente')"
   ]
  },
  {
   "cell_type": "markdown",
   "metadata": {},
   "source": [
    "### Nivel 5: Problemas Complejos\n",
    "9. Grafos: Algoritmo de Dijkstra:\n",
    "\n",
    "    - Implementa el algoritmo de Dijkstra para encontrar el camino más corto entre dos nodos en un grafo ponderado."
   ]
  },
  {
   "cell_type": "code",
   "execution_count": 35,
   "metadata": {},
   "outputs": [
    {
     "name": "stdout",
     "output_type": "stream",
     "text": [
      "Distancias más cortas desde A: {'A': 0, 'B': 4, 'C': 2, 'D': 9, 'E': 14, 'F': 12}\n"
     ]
    }
   ],
   "source": [
    "import heapq\n",
    "\n",
    "def dijkstra(grafo, inicio):\n",
    "    distancias = {nodo: float('inf') for nodo in grafo}  # Distancias iniciales infinitas\n",
    "    distancias[inicio] = 0  # Distancia al nodo inicial es 0\n",
    "    cola_prioridad = [(0, inicio)]  # Cola de prioridad con tuplas (distancia, nodo)\n",
    "\n",
    "    while cola_prioridad:\n",
    "        distancia_actual, nodo_actual = heapq.heappop(cola_prioridad)\n",
    "\n",
    "        if distancia_actual > distancias[nodo_actual]:  # Si ya encontramos un camino más corto\n",
    "            continue\n",
    "\n",
    "        for vecino, peso in grafo.get(nodo_actual, {}).items():\n",
    "            distancia = distancia_actual + peso  # Calcular la distancia al vecino\n",
    "            if distancia < distancias[vecino]:  # Si encontramos un camino más corto al vecino\n",
    "                distancias[vecino] = distancia  # Actualizar la distancia\n",
    "                heapq.heappush(cola_prioridad, (distancia, vecino))  # Agregar el vecino a la cola\n",
    "\n",
    "    return distancias\n",
    "\n",
    "grafo = {  # Grafo ponderado de ejemplo\n",
    "    'A': {'B': 4, 'C': 2},\n",
    "    'B': {'A': 4, 'D': 5, 'E': 12},\n",
    "    'C': {'A': 2, 'F': 10},\n",
    "    'D': {'B': 5},\n",
    "    'E': {'B': 12, 'F': 2},\n",
    "    'F': {'C': 10, 'E': 2}\n",
    "}\n",
    "\n",
    "inicio = 'A'\n",
    "distancias = dijkstra(grafo, inicio)\n",
    "print(f\"Distancias más cortas desde {inicio}: {distancias}\")"
   ]
  },
  {
   "cell_type": "markdown",
   "metadata": {},
   "source": [
    "10. Árboles: Implementación de un diccionario con un árbol binario de búsqueda:\n",
    "\n",
    "    - Implementa un diccionario utilizando un árbol binario de búsqueda.\n",
    "    - Los nodos del árbol deben almacenar claves y valores.\n",
    "    - Implementa las operaciones de insertar, buscar y eliminar elementos."
   ]
  },
  {
   "cell_type": "code",
   "execution_count": 36,
   "metadata": {},
   "outputs": [
    {
     "name": "stdout",
     "output_type": "stream",
     "text": [
      "2\n",
      "None\n"
     ]
    }
   ],
   "source": [
    "class NodoArbol:\n",
    "    def __init__(self, clave, valor):\n",
    "        self.clave = clave\n",
    "        self.valor = valor\n",
    "        self.izquierda = None\n",
    "        self.derecha = None\n",
    "\n",
    "class DiccionarioConArbol:\n",
    "    def __init__(self):\n",
    "        self.raiz = None\n",
    "\n",
    "    def insertar(self, clave, valor):\n",
    "        nuevo_nodo = NodoArbol(clave, valor)\n",
    "        if not self.raiz:\n",
    "            self.raiz = nuevo_nodo\n",
    "        else:\n",
    "            actual = self.raiz\n",
    "            while True:\n",
    "                if clave < actual.clave:\n",
    "                    if actual.izquierda:\n",
    "                        actual = actual.izquierda\n",
    "                    else:\n",
    "                        actual.izquierda = nuevo_nodo\n",
    "                        break\n",
    "                elif clave > actual.clave:\n",
    "                    if actual.derecha:\n",
    "                        actual = actual.derecha\n",
    "                    else:\n",
    "                        actual.derecha = nuevo_nodo\n",
    "                        break\n",
    "                else:  # La clave ya existe, actualizar el valor\n",
    "                    actual.valor = valor\n",
    "                    break\n",
    "\n",
    "    def buscar(self, clave):\n",
    "        actual = self.raiz\n",
    "        while actual:\n",
    "            if clave == actual.clave:\n",
    "                return actual.valor\n",
    "            elif clave < actual.clave:\n",
    "                actual = actual.izquierda\n",
    "            else:\n",
    "                actual = actual.derecha\n",
    "        return None  # La clave no se encontró\n",
    "\n",
    "    def eliminar(self, clave):\n",
    "        # (Implementación de eliminación en BST, un poco más compleja)\n",
    "        pass  # (Se deja como ejercicio adicional)\n",
    "\n",
    "# Ejemplo de uso\n",
    "diccionario = DiccionarioConArbol()\n",
    "diccionario.insertar(\"manzana\", 1)\n",
    "diccionario.insertar(\"banana\", 2)\n",
    "diccionario.insertar(\"naranja\", 3)\n",
    "\n",
    "print(diccionario.buscar(\"banana\"))  # Salida: 2\n",
    "print(diccionario.buscar(\"uva\"))  # Salida: None"
   ]
  },
  {
   "cell_type": "markdown",
   "metadata": {},
   "source": [
    "### ¡No te rindas!\n",
    "Recuerda que la clave para dominar las estructuras de datos complejas está en la práctica constante. Intenta resolver los ejercicios por tu cuenta y, si te encuentras con alguna dificultad, no dudes en consultar la documentación de Python o buscar ejemplos en línea. ¡Mucho éxito en tu aprendizaje!"
   ]
  }
 ],
 "metadata": {
  "kernelspec": {
   "display_name": "venvc",
   "language": "python",
   "name": "python3"
  },
  "language_info": {
   "codemirror_mode": {
    "name": "ipython",
    "version": 3
   },
   "file_extension": ".py",
   "mimetype": "text/x-python",
   "name": "python",
   "nbconvert_exporter": "python",
   "pygments_lexer": "ipython3",
   "version": "3.12.8"
  }
 },
 "nbformat": 4,
 "nbformat_minor": 2
}
