{
 "cells": [
  {
   "cell_type": "markdown",
   "metadata": {},
   "source": [
    "## Ejercicios: Estructura de Datos - Estructuras Complejas \n",
    "\n",
    "### Nivel 1: Introducción a Estructuras\n",
    "1. Listas enlazadas: Creación y recorrido:\n",
    "\n",
    "    - Implementa una clase Nodo para representar un nodo en una lista enlazada.\n",
    "    - Implementa una clase ListaEnlazada con métodos para agregar nodos al final y recorrer la lista.\n",
    "    - Crea una lista enlazada con los valores 1, 2 y 3.\n",
    "    - Recorre la lista e imprime cada valor."
   ]
  },
  {
   "cell_type": "code",
   "execution_count": null,
   "metadata": {
    "vscode": {
     "languageId": "plaintext"
    }
   },
   "outputs": [],
   "source": []
  },
  {
   "cell_type": "markdown",
   "metadata": {},
   "source": [
    "2. Grafos: Representación con diccionarios:\n",
    "\n",
    "    - Crea un diccionario para representar un grafo con al menos 5 nodos y algunas aristas.\n",
    "    - Imprime el grafo.\n",
    "    - Escribe una función que reciba el grafo y un nodo como entrada, y devuelva la lista de nodos - adyacentes a ese nodo."
   ]
  },
  {
   "cell_type": "code",
   "execution_count": null,
   "metadata": {
    "vscode": {
     "languageId": "plaintext"
    }
   },
   "outputs": [],
   "source": []
  },
  {
   "cell_type": "markdown",
   "metadata": {},
   "source": [
    "### Nivel 2: Operaciones Básicas\n",
    "3. Árboles: Creación y recorrido in-order:\n",
    "\n",
    "    - Implementa una clase NodoArbol para representar un nodo en un árbol binario.\n",
    "    - Crea un árbol binario con algunos nodos.\n",
    "    - Escribe una función para realizar un recorrido in-order del árbol e imprimir los valores de los nodos."
   ]
  },
  {
   "cell_type": "code",
   "execution_count": null,
   "metadata": {
    "vscode": {
     "languageId": "plaintext"
    }
   },
   "outputs": [],
   "source": []
  },
  {
   "cell_type": "markdown",
   "metadata": {},
   "source": [
    "4. Colas de prioridad: Uso de heapq:\n",
    "\n",
    "    - Utiliza el módulo heapq para crear una cola de prioridad.\n",
    "    - Agrega elementos con diferentes prioridades (por ejemplo, tuplas con un número de prioridad y un valor).\n",
    "    - Extrae el elemento con la prioridad más alta e imprímelo."
   ]
  },
  {
   "cell_type": "code",
   "execution_count": null,
   "metadata": {
    "vscode": {
     "languageId": "plaintext"
    }
   },
   "outputs": [],
   "source": []
  },
  {
   "cell_type": "markdown",
   "metadata": {},
   "source": [
    "### Nivel 3: Aplicaciones\n",
    "5. Listas enlazadas: Inserción y eliminación:\n",
    "\n",
    "    - Agrega métodos a la clase ListaEnlazada para insertar un nodo en una posición específica y eliminar un nodo por valor.\n",
    "    - Prueba los métodos insertando y eliminando nodos en diferentes posiciones."
   ]
  },
  {
   "cell_type": "code",
   "execution_count": null,
   "metadata": {
    "vscode": {
     "languageId": "plaintext"
    }
   },
   "outputs": [],
   "source": []
  },
  {
   "cell_type": "markdown",
   "metadata": {},
   "source": [
    "6. Grafos: Búsqueda en profundidad (DFS):\n",
    "\n",
    "    - Implementa un algoritmo de búsqueda en profundidad (DFS) para recorrer un grafo representado con diccionarios.\n",
    "    - El algoritmo debe imprimir los nodos visitados en el orden en que se visitan."
   ]
  },
  {
   "cell_type": "code",
   "execution_count": null,
   "metadata": {
    "vscode": {
     "languageId": "plaintext"
    }
   },
   "outputs": [],
   "source": []
  },
  {
   "cell_type": "markdown",
   "metadata": {},
   "source": [
    "### Nivel 4: Desafíos\n",
    "7. Árboles: Búsqueda en un árbol binario de búsqueda (BST):\n",
    "\n",
    "    - Implementa un árbol binario de búsqueda (BST).\n",
    "    - Agrega nodos con valores numéricos al árbol.\n",
    "    - Escribe una función para buscar un valor específico en el BST."
   ]
  },
  {
   "cell_type": "code",
   "execution_count": null,
   "metadata": {
    "vscode": {
     "languageId": "plaintext"
    }
   },
   "outputs": [],
   "source": []
  },
  {
   "cell_type": "markdown",
   "metadata": {},
   "source": [
    "8. Colas de prioridad: Implementación con una lista:\n",
    "\n",
    "    - Implementa una cola de prioridad utilizando una lista en Python.\n",
    "    - Los elementos deben ser tuplas con un número de prioridad y un valor.\n",
    "    - Implementa las operaciones de insertar y extraer el elemento con la prioridad más alta."
   ]
  },
  {
   "cell_type": "code",
   "execution_count": null,
   "metadata": {
    "vscode": {
     "languageId": "plaintext"
    }
   },
   "outputs": [],
   "source": []
  },
  {
   "cell_type": "markdown",
   "metadata": {},
   "source": [
    "### Nivel 5: Problemas Complejos\n",
    "9. Grafos: Algoritmo de Dijkstra:\n",
    "\n",
    "    - Implementa el algoritmo de Dijkstra para encontrar el camino más corto entre dos nodos en un grafo ponderado."
   ]
  },
  {
   "cell_type": "code",
   "execution_count": null,
   "metadata": {
    "vscode": {
     "languageId": "plaintext"
    }
   },
   "outputs": [],
   "source": []
  },
  {
   "cell_type": "markdown",
   "metadata": {},
   "source": [
    "10. Árboles: Implementación de un diccionario con un árbol binario de búsqueda:\n",
    "\n",
    "    - Implementa un diccionario utilizando un árbol binario de búsqueda.\n",
    "    - Los nodos del árbol deben almacenar claves y valores.\n",
    "    - Implementa las operaciones de insertar, buscar y eliminar elementos."
   ]
  },
  {
   "cell_type": "code",
   "execution_count": null,
   "metadata": {
    "vscode": {
     "languageId": "plaintext"
    }
   },
   "outputs": [],
   "source": []
  },
  {
   "cell_type": "markdown",
   "metadata": {},
   "source": [
    "### ¡No te rindas!\n",
    "Recuerda que la clave para dominar las estructuras de datos complejas está en la práctica constante. Intenta resolver los ejercicios por tu cuenta y, si te encuentras con alguna dificultad, no dudes en consultar la documentación de Python o buscar ejemplos en línea. ¡Mucho éxito en tu aprendizaje!"
   ]
  }
 ],
 "metadata": {
  "language_info": {
   "name": "python"
  }
 },
 "nbformat": 4,
 "nbformat_minor": 2
}
