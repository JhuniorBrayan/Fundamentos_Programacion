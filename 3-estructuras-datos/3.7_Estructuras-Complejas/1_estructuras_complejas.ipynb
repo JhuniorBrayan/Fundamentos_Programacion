{
 "cells": [
  {
   "cell_type": "markdown",
   "metadata": {},
   "source": [
    "## 3. Conceptos Básicos \n",
    "# 📌  Estructuras complejas \n",
    "\n",
    "Las **estructuras de datos complejas** combinan y amplían las estructuras básicas para resolver problemas más sofisticados. Son fundamentales en algoritmos avanzados y en la optimización del rendimiento de los programas.\n",
    "\n",
    "---\n",
    "\n",
    "## 🎯 Objetivo\n",
    "\n",
    "En esta lección aprenderás:\n",
    "\n",
    "- Cuáles son las estructuras de datos complejas.\n",
    "- Cuándo y por qué utilizarlas.\n",
    "- Ejemplos prácticos de implementación en Python.\n",
    "\n",
    "---\n",
    "\n",
    "## 📌 Tipos de Estructuras de Datos Complejas\n",
    "\n",
    "### 1️⃣ **Listas Enlazadas**\n",
    "\n",
    "Son estructuras en las que cada elemento (**nodo**) contiene un valor y una referencia al siguiente nodo en la secuencia. Se asemejan a una cadena de eslabones donde cada eslabón (nodo) lleva información y un enlace al siguiente.\n",
    "\n",
    "🔹 **Ejemplo en la vida real:** Imagina una fila de fichas de dominó en la que cada ficha apunta a la siguiente. Si quitas una ficha, las siguientes aún pueden conectarse.\n",
    "\n",
    "🔹 **Ejemplo de implementación en Python:**\n",
    "\n",
    "\n",
    "\n",
    "\n",
    "\n",
    "\n",
    "\n",
    "\n"
   ]
  },
  {
   "cell_type": "code",
   "execution_count": null,
   "metadata": {
    "vscode": {
     "languageId": "plaintext"
    }
   },
   "outputs": [],
   "source": [
    "class Nodo:\n",
    "    def __init__(self, valor):\n",
    "        self.valor = valor\n",
    "        self.siguiente = None\n",
    "\n",
    "class ListaEnlazada:\n",
    "    def __init__(self):\n",
    "        self.cabeza = None\n",
    "\n",
    "    def agregar(self, valor):\n",
    "        nuevo_nodo = Nodo(valor)\n",
    "        nuevo_nodo.siguiente = self.cabeza\n",
    "        self.cabeza = nuevo_nodo"
   ]
  },
  {
   "cell_type": "markdown",
   "metadata": {},
   "source": [
    "---\n",
    "\n",
    "### 2️⃣ **Grafos**\n",
    "\n",
    "Estructuras formadas por nodos (**vértices**) y conexiones entre ellos (**aristas**). Se utilizan en redes de comunicación, mapas y algoritmos de búsqueda.\n",
    "\n",
    "🔹 **Ejemplo en la vida real:** Piensa en un mapa de metro donde cada estación es un nodo y las líneas que las conectan son las aristas. Para viajar de un punto a otro, debes seguir las conexiones correctas.\n",
    "\n",
    "🔹 **Ejemplo de representación de un grafo con diccionarios:**"
   ]
  },
  {
   "cell_type": "code",
   "execution_count": null,
   "metadata": {
    "vscode": {
     "languageId": "plaintext"
    }
   },
   "outputs": [],
   "source": [
    "grafo = {\n",
    "    'A': ['B', 'C'],\n",
    "    'B': ['A', 'D', 'E'],\n",
    "    'C': ['A', 'F'],\n",
    "    'D': ['B'],\n",
    "    'E': ['B', 'F'],\n",
    "    'F': ['C', 'E']\n",
    "}"
   ]
  },
  {
   "cell_type": "markdown",
   "metadata": {},
   "source": [
    "---\n",
    "\n",
    "### 3️⃣ **Árboles**\n",
    "\n",
    "Estructuras jerárquicas donde cada nodo tiene un nodo padre y puede tener varios hijos. Un caso especial es el **árbol binario de búsqueda (BST)**, que optimiza la búsqueda y almacenamiento de datos.\n",
    "\n",
    "🔹 **Ejemplo en la vida real:** Imagina un árbol genealógico donde cada persona tiene un padre y puede tener varios hijos. Desde cualquier punto, puedes rastrear ancestros o descendientes.\n",
    "\n",
    "🔹 **Ejemplo de un nodo de un árbol binario:**\n"
   ]
  },
  {
   "cell_type": "code",
   "execution_count": null,
   "metadata": {
    "vscode": {
     "languageId": "plaintext"
    }
   },
   "outputs": [],
   "source": [
    "class Nodo:\n",
    "    def __init__(self, valor):\n",
    "        self.valor = valor\n",
    "        self.izquierda = None\n",
    "        self.derecha = None"
   ]
  },
  {
   "cell_type": "markdown",
   "metadata": {},
   "source": [
    "---\n",
    "\n",
    "### 4️⃣ **Colas de Prioridad**\n",
    "\n",
    "Son colas en las que cada elemento tiene una prioridad y los elementos con mayor prioridad se procesan primero.\n",
    "\n",
    "🔹 **Ejemplo en la vida real:** Piensa en una sala de emergencias donde los pacientes más graves son atendidos antes que los que tienen afecciones menores.\n",
    "\n",
    "🔹 **Ejemplo con `heapq` en Python:**"
   ]
  },
  {
   "cell_type": "code",
   "execution_count": null,
   "metadata": {
    "vscode": {
     "languageId": "plaintext"
    }
   },
   "outputs": [],
   "source": [
    "import heapq\n",
    "\n",
    "cola_prioridad = []\n",
    "heapq.heappush(cola_prioridad, (1, \"Tarea urgente\"))\n",
    "heapq.heappush(cola_prioridad, (3, \"Tarea normal\"))\n",
    "heapq.heappush(cola_prioridad, (2, \"Tarea importante\"))\n",
    "\n",
    "print(heapq.heappop(cola_prioridad))  # Salida: (1, 'Tarea urgente')"
   ]
  },
  {
   "cell_type": "markdown",
   "metadata": {},
   "source": [
    "\n",
    " \n",
    "\n",
    "### 5️⃣ **Tablas Hash**\n",
    "\n",
    "Son estructuras de datos que almacenan pares clave-valor y permiten acceso rápido a los datos mediante una función hash.\n",
    "\n",
    "🔹 **Ejemplo en la vida real:** Imagina una agenda telefónica donde los nombres de las personas (claves) están asociados a sus números de teléfono (valores). En lugar de revisar toda la agenda, una función hash permite acceder rápidamente a un contacto.\n",
    "\n",
    "🔹 **Ejemplo de implementación en Python con un diccionario:**\n",
    "\n",
    "\n",
    "\n"
   ]
  },
  {
   "cell_type": "code",
   "execution_count": null,
   "metadata": {
    "vscode": {
     "languageId": "plaintext"
    }
   },
   "outputs": [],
   "source": [
    "agenda = {\n",
    "    \"Carlos\": \"123-4567\",\n",
    "    \"Ana\": \"987-6543\",\n",
    "    \"Luis\": \"555-7890\"\n",
    "}\n",
    "\n",
    "print(agenda[\"Ana\"])  # Salida: 987-6543"
   ]
  },
  {
   "cell_type": "markdown",
   "metadata": {},
   "source": [
    "**Las tablas hash son utilizadas en bases de datos, almacenamiento en caché y detección de duplicados debido a su eficiencia en búsqueda y almacenamiento de datos.**"
   ]
  },
  {
   "cell_type": "markdown",
   "metadata": {},
   "source": [
    "---\n",
    "\n",
    "## 🏆 Aplicaciones Prácticas\n",
    "\n",
    "📌 **Ejemplos de uso cotidiano:**\n",
    "\n",
    "- 🌐 **Listas enlazadas**: Cuando editas un documento de texto, el editor utiliza listas enlazadas para gestionar el texto.\n",
    "- 🗺️ **Grafos**:  Las aplicaciones de mapas (como Google Maps) utilizan grafos para calcular rutas.\n",
    "- 🌳 **Árboles**: Los sistemas de archivos de tu computadora están organizados como árboles.\n",
    "- ⚡ **Colas de prioridad**: Los hospitales utilizan colas de prioridad para atender a los pacientes.\n",
    "- 🔑**Tablas de hash**: Las bases de datos utilizan tablas hash para indexar y buscar registros rápidamente.\n",
    "\n",
    "---\n",
    "\n",
    "## ✅ Conclusión\n",
    "\n",
    "- Las **estructuras complejas** permiten organizar y procesar datos eficientemente.\n",
    "- Cada estructura tiene aplicaciones específicas dependiendo del problema a resolver.\n",
    "- Python ofrece librerías y módulos que facilitan su implementación.\n",
    "\n",
    "🔹 **Reflexión**: ¿Cuándo has usado alguna de estas estructuras sin darte cuenta? 🤔"
   ]
  }
 ],
 "metadata": {
  "language_info": {
   "name": "python"
  }
 },
 "nbformat": 4,
 "nbformat_minor": 2
}
